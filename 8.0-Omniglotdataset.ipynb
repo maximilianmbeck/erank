{
 "cells": [
  {
   "cell_type": "code",
   "execution_count": 1,
   "metadata": {},
   "outputs": [
    {
     "name": "stderr",
     "output_type": "stream",
     "text": [
      "/home/max/anaconda3/envs/erank/lib/python3.8/site-packages/tqdm/auto.py:22: TqdmWarning: IProgress not found. Please update jupyter and ipywidgets. See https://ipywidgets.readthedocs.io/en/stable/user_install.html\n",
      "  from .autonotebook import tqdm as notebook_tqdm\n"
     ]
    }
   ],
   "source": [
    "%load_ext autoreload\n",
    "%autoreload 2\n",
    "import sys\n",
    "import torch\n",
    "import math\n",
    "import numpy as np\n",
    "from torch import nn\n",
    "sys.path.append('..')\n",
    "from pathlib import Path\n",
    "from typing import Union\n",
    "from erank.data import get_metadataset_class\n",
    "from omegaconf import OmegaConf\n",
    "from torch.utils import data\n",
    "from erank.utils import load_directions_matrix_from_task_sweep\n",
    "import matplotlib.pyplot as plt\n",
    "from erank.data.omniglotdataset import OmniglotDataset\n",
    "from ml_utilities.data_utils import show_images, Normalizer\n",
    "gpu_id = 0"
   ]
  },
  {
   "cell_type": "markdown",
   "metadata": {},
   "source": [
    "## Specify dataset directory etc."
   ]
  },
  {
   "cell_type": "code",
   "execution_count": 2,
   "metadata": {},
   "outputs": [],
   "source": [
    "data_dir = '/home/max/phd/data'\n",
    "dataset_name = 'omniglot'\n",
    "top_level_folders = [\n",
    "    'images_background',  # original train data \n",
    "    'images_evaluation',  # original test data\n",
    "]\n",
    "dataset_split_toplevel_folders = {\n",
    "    'train': 'images_background',\n",
    "    'val': 'images_background',\n",
    "    'test': 'images_evaluation'\n",
    "}"
   ]
  },
  {
   "cell_type": "markdown",
   "metadata": {},
   "source": [
    "## Check file directory"
   ]
  },
  {
   "cell_type": "code",
   "execution_count": 3,
   "metadata": {},
   "outputs": [
    {
     "data": {
      "text/plain": [
       "True"
      ]
     },
     "execution_count": 3,
     "metadata": {},
     "output_type": "execute_result"
    }
   ],
   "source": [
    "# check folders\n",
    "dataset_dir = Path(data_dir) / dataset_name\n",
    "toplevel_folders_disk = [d.stem for d in dataset_dir.iterdir() if d.is_dir()]\n",
    "set(top_level_folders).issubset(set(toplevel_folders_disk))"
   ]
  },
  {
   "cell_type": "code",
   "execution_count": 4,
   "metadata": {},
   "outputs": [
    {
     "data": {
      "text/plain": [
       "(30, 20)"
      ]
     },
     "execution_count": 4,
     "metadata": {},
     "output_type": "execute_result"
    }
   ],
   "source": [
    "# check num alphabets\n",
    "background_alphabets = [a.stem for a in (dataset_dir/ 'images_background').iterdir()]\n",
    "evaluation_alphabets = [a.stem for a in (dataset_dir/ 'images_evaluation').iterdir()]\n",
    "len(background_alphabets), len(evaluation_alphabets)"
   ]
  },
  {
   "cell_type": "markdown",
   "metadata": {},
   "source": [
    "## Dataset initialization + data loading"
   ]
  },
  {
   "cell_type": "code",
   "execution_count": 5,
   "metadata": {},
   "outputs": [
    {
     "name": "stdout",
     "output_type": "stream",
     "text": [
      "Loading Omniglot Alphabets: 100%|██████████| 25/25 [00:04<00:00,  5.44it/s]\n"
     ]
    }
   ],
   "source": [
    "ogds = OmniglotDataset(data_root_path=data_dir,\n",
    "                       n_way_classification=5,\n",
    "                       support_size=5,\n",
    "                       query_size=10,\n",
    "                       num_tasks=5,\n",
    "                       split='train',\n",
    "                       dataset_layout='metadataset',\n",
    "                       seed=0)"
   ]
  },
  {
   "cell_type": "code",
   "execution_count": 6,
   "metadata": {},
   "outputs": [
    {
     "data": {
      "text/plain": [
       "883"
      ]
     },
     "execution_count": 6,
     "metadata": {},
     "output_type": "execute_result"
    }
   ],
   "source": [
    "# number of classes\n",
    "classes = list(ogds._data.keys())\n",
    "len(classes)"
   ]
  },
  {
   "cell_type": "code",
   "execution_count": 7,
   "metadata": {},
   "outputs": [
    {
     "data": {
      "text/plain": [
       "(20, 1, 28, 28)"
      ]
     },
     "execution_count": 7,
     "metadata": {},
     "output_type": "execute_result"
    }
   ],
   "source": [
    "# shape of data stored in dataset\n",
    "imgs = ogds._data[classes[0]]\n",
    "imgs.shape"
   ]
  },
  {
   "cell_type": "code",
   "execution_count": 8,
   "metadata": {},
   "outputs": [
    {
     "data": {
      "image/png": "[encoded data removed]",
      "text/plain": [
       "<Figure size 900x360 with 10 Axes>"
      ]
     },
     "metadata": {
      "needs_background": "light"
     },
     "output_type": "display_data"
    }
   ],
   "source": [
    "show_images(imgs, num_images=10, n_cols=5)"
   ]
  },
  {
   "cell_type": "markdown",
   "metadata": {},
   "source": [
    "## Task generation"
   ]
  },
  {
   "cell_type": "code",
   "execution_count": 9,
   "metadata": {},
   "outputs": [
    {
     "name": "stdout",
     "output_type": "stream",
     "text": [
      "Anglo-Saxon_Futhorc--character05#Bengali--character28#Greek--character05#Latin--character16#Malay_(Jawi_-_Arabic)--character07\n",
      "Arcadian--character25#Armenian--character32#Hebrew--character03#N_Ko--character10#N_Ko--character20\n",
      "Asomtavruli_(Georgian)--character27#Braille--character22#Japanese_(katakana)--character32#Korean--character20#Malay_(Jawi_-_Arabic)--character19\n",
      "Bengali--character09#Grantha--character42#Korean--character11#Korean--character19#Mkhedruli_(Georgian)--character16\n",
      "Braille--character12#Grantha--character31#Japanese_(katakana)--character32#Syriac_(Estrangelo)--character01#Syriac_(Estrangelo)--character04\n"
     ]
    }
   ],
   "source": [
    "ogds.create_pregen_tasks()\n",
    "for t in ogds.pregen_tasks:\n",
    "    print(t.name)"
   ]
  },
  {
   "cell_type": "code",
   "execution_count": 10,
   "metadata": {},
   "outputs": [
    {
     "name": "stdout",
     "output_type": "stream",
     "text": [
      "Loading Omniglot Alphabets: 100%|██████████| 25/25 [00:04<00:00,  5.47it/s]\n",
      "Anglo-Saxon_Futhorc--character05#Bengali--character28#Greek--character05#Latin--character16#Malay_(Jawi_-_Arabic)--character07\n",
      "Arcadian--character25#Armenian--character32#Hebrew--character03#N_Ko--character10#N_Ko--character20\n",
      "Asomtavruli_(Georgian)--character27#Braille--character22#Japanese_(katakana)--character32#Korean--character20#Malay_(Jawi_-_Arabic)--character19\n",
      "Bengali--character09#Grantha--character42#Korean--character11#Korean--character19#Mkhedruli_(Georgian)--character16\n",
      "Braille--character12#Grantha--character31#Japanese_(katakana)--character32#Syriac_(Estrangelo)--character01#Syriac_(Estrangelo)--character04\n"
     ]
    }
   ],
   "source": [
    "# different seed -> must sample other tasks, same seed -> same tasks OK\n",
    "ogds1 = OmniglotDataset(data_root_path=data_dir,\n",
    "                       n_way_classification=5,\n",
    "                       support_size=5,\n",
    "                       query_size=10,\n",
    "                       num_tasks=5,\n",
    "                       split='train',\n",
    "                       dataset_layout='metadataset',\n",
    "                       seed=0)\n",
    "\n",
    "ogds1.create_pregen_tasks()\n",
    "for t in ogds1.pregen_tasks:\n",
    "    print(t.name)"
   ]
  },
  {
   "cell_type": "code",
   "execution_count": 11,
   "metadata": {},
   "outputs": [
    {
     "data": {
      "text/plain": [
       "('Anglo-Saxon_Futhorc--character05#Bengali--character28#Greek--character05#Latin--character16#Malay_(Jawi_-_Arabic)--character07',\n",
       " 'Anglo-Saxon_Futhorc--character05#Bengali--character28#Greek--character05#Latin--character16#Malay_(Jawi_-_Arabic)--character07')"
      ]
     },
     "execution_count": 11,
     "metadata": {},
     "output_type": "execute_result"
    }
   ],
   "source": [
    "ogds.get_tasks(num_tasks=1)[0].name, ogds1.get_tasks(num_tasks=1)[0].name"
   ]
  },
  {
   "cell_type": "markdown",
   "metadata": {},
   "source": [
    "## Task support and query set sampling"
   ]
  },
  {
   "cell_type": "code",
   "execution_count": 12,
   "metadata": {},
   "outputs": [
    {
     "name": "stdout",
     "output_type": "stream",
     "text": [
      "Loading Omniglot Alphabets: 100%|██████████| 25/25 [00:04<00:00,  5.38it/s]\n",
      "Arcadian--character05#Bengali--character19#Grantha--character07#Mkhedruli_(Georgian)--character03#Mkhedruli_(Georgian)--character06 2\n",
      "Arcadian--character18#Bengali--character02#Bengali--character28#Gujarati--character28#Latin--character08 2\n",
      "Armenian--character03#Cyrillic--character05#Grantha--character12#Korean--character04#Latin--character01 2\n",
      "Asomtavruli_(Georgian)--character38#Bengali--character06#Early_Aramaic--character01#Greek--character05#Japanese_(katakana)--character33 2\n",
      "Cyrillic--character28#Futurama--character08#Latin--character13#Syriac_(Estrangelo)--character14#Tifinagh--character53 2\n"
     ]
    }
   ],
   "source": [
    "ogds = OmniglotDataset(data_root_path=data_dir,\n",
    "                       n_way_classification=5,\n",
    "                       support_size=5,\n",
    "                       query_size=10,\n",
    "                       num_tasks=5,\n",
    "                       split='train',\n",
    "                       dataset_layout='metadataset',\n",
    "                       regenerate_task_support_set=True,\n",
    "                       regenerate_task_query_set=False,\n",
    "                       seed=0)\n",
    "for task in ogds.get_tasks(num_tasks=5):\n",
    "    print(task.name, len(task.support_set))"
   ]
  },
  {
   "cell_type": "code",
   "execution_count": 13,
   "metadata": {},
   "outputs": [
    {
     "data": {
      "text/plain": [
       "('Arcadian--character05#Bengali--character19#Grantha--character07#Mkhedruli_(Georgian)--character03#Mkhedruli_(Georgian)--character06',\n",
       " 2)"
      ]
     },
     "execution_count": 13,
     "metadata": {},
     "output_type": "execute_result"
    }
   ],
   "source": [
    "task = ogds.get_tasks(num_tasks=1)[0]\n",
    "task.name, len(task.support_set)"
   ]
  },
  {
   "cell_type": "code",
   "execution_count": 14,
   "metadata": {},
   "outputs": [
    {
     "data": {
      "text/plain": [
       "(torch.Size([25, 1, 28, 28]), torch.Size([25, 1]))"
      ]
     },
     "execution_count": 14,
     "metadata": {},
     "output_type": "execute_result"
    }
   ],
   "source": [
    "x_, y_ = task.support_set\n",
    "x_.shape, y_.shape"
   ]
  },
  {
   "cell_type": "code",
   "execution_count": 15,
   "metadata": {},
   "outputs": [
    {
     "data": {
      "image/png": "[encoded data removed]",
      "text/plain": [
       "<Figure size 720x720 with 16 Axes>"
      ]
     },
     "metadata": {
      "needs_background": "light"
     },
     "output_type": "display_data"
    }
   ],
   "source": [
    "show_images((x_, y_), num_images=16)"
   ]
  },
  {
   "cell_type": "code",
   "execution_count": 16,
   "metadata": {},
   "outputs": [
    {
     "data": {
      "text/plain": [
       "(array([19, 18, 13,  6,  4]), array([ 9,  5, 12,  8,  0, 15, 17,  3, 16, 11]))"
      ]
     },
     "execution_count": 16,
     "metadata": {},
     "output_type": "execute_result"
    }
   ],
   "source": [
    "task._support_idxes[task.task_classes[0]], task._query_idxes[task.task_classes[0]]"
   ]
  },
  {
   "cell_type": "code",
   "execution_count": 17,
   "metadata": {},
   "outputs": [
    {
     "name": "stdout",
     "output_type": "stream",
     "text": [
      "[]\n",
      "[]\n",
      "[]\n",
      "[]\n",
      "[]\n"
     ]
    }
   ],
   "source": [
    "for t_cls in task.task_classes:\n",
    "    supp_idxes = task._support_idxes[t_cls]\n",
    "    query_idxes = task._query_idxes[t_cls]\n",
    "    intersect = np.intersect1d(supp_idxes, query_idxes)\n",
    "    print(intersect)\n",
    "    # assert len(intersect) == 0"
   ]
  },
  {
   "cell_type": "markdown",
   "metadata": {},
   "source": [
    "## Dataset Normalization"
   ]
  },
  {
   "cell_type": "code",
   "execution_count": 18,
   "metadata": {},
   "outputs": [
    {
     "name": "stdout",
     "output_type": "stream",
     "text": [
      "Loading Omniglot Alphabets: 100%|██████████| 25/25 [00:04<00:00,  5.29it/s]\n"
     ]
    },
    {
     "data": {
      "text/plain": [
       "{'mean': [0.9213101208773438],\n",
       " 'std': [0.2628733349463854],\n",
       " 'num_dataset_samples': 17660}"
      ]
     },
     "execution_count": 18,
     "metadata": {},
     "output_type": "execute_result"
    }
   ],
   "source": [
    "ogds = OmniglotDataset(data_root_path=data_dir,\n",
    "                       n_way_classification=5,\n",
    "                       support_size=5,\n",
    "                       query_size=10,\n",
    "                       num_tasks=5,\n",
    "                       split='train',\n",
    "                       dataset_layout='metadataset',\n",
    "                       regenerate_task_support_set=True,\n",
    "                       regenerate_task_query_set=False,\n",
    "                       seed=0, \n",
    "                       normalizer=None)\n",
    "normalizer_values = ogds.compute_normalizer()\n",
    "normalizer_values"
   ]
  },
  {
   "cell_type": "code",
   "execution_count": 19,
   "metadata": {},
   "outputs": [],
   "source": [
    "tasks = ogds.sample_tasks(num_tasks=1)"
   ]
  },
  {
   "cell_type": "code",
   "execution_count": 20,
   "metadata": {},
   "outputs": [
    {
     "data": {
      "text/plain": [
       "('Anglo-Saxon_Futhorc--character05#Bengali--character28#Greek--character05#Latin--character16#Malay_(Jawi_-_Arabic)--character07',\n",
       " torch.Size([25, 1, 28, 28]),\n",
       " torch.Size([25, 1]))"
      ]
     },
     "execution_count": 20,
     "metadata": {},
     "output_type": "execute_result"
    }
   ],
   "source": [
    "task = tasks[0]\n",
    "support_x = task.support_set[0]\n",
    "task.name, support_x.shape, task.support_set[1].shape"
   ]
  },
  {
   "cell_type": "code",
   "execution_count": 21,
   "metadata": {},
   "outputs": [
    {
     "data": {
      "text/plain": [
       "torch.Size([25, 1, 28, 28])"
      ]
     },
     "execution_count": 21,
     "metadata": {},
     "output_type": "execute_result"
    }
   ],
   "source": [
    "normalizer = Normalizer(scaler_values=normalizer_values)\n",
    "normalizer(support_x).shape"
   ]
  },
  {
   "cell_type": "code",
   "execution_count": 22,
   "metadata": {},
   "outputs": [
    {
     "data": {
      "text/plain": [
       "torch.Size([5, 1, 28, 28])"
      ]
     },
     "execution_count": 22,
     "metadata": {},
     "output_type": "execute_result"
    }
   ],
   "source": [
    "s = torch.randn(size=(5,1,28,28))\n",
    "normalizer(s).shape"
   ]
  },
  {
   "cell_type": "code",
   "execution_count": 23,
   "metadata": {},
   "outputs": [
    {
     "name": "stdout",
     "output_type": "stream",
     "text": [
      "Loading Omniglot Alphabets: 100%|██████████| 25/25 [00:04<00:00,  5.35it/s]\n"
     ]
    }
   ],
   "source": [
    "ogds2 = OmniglotDataset(data_root_path=data_dir,\n",
    "                       n_way_classification=5,\n",
    "                       support_size=5,\n",
    "                       query_size=10,\n",
    "                       num_tasks=5,\n",
    "                       split='train',\n",
    "                       dataset_layout='metadataset',\n",
    "                       regenerate_task_support_set=True,\n",
    "                       regenerate_task_query_set=False,\n",
    "                       seed=0)\n",
    "tasks = ogds2.sample_tasks(num_tasks=10000)"
   ]
  },
  {
   "cell_type": "code",
   "execution_count": 24,
   "metadata": {},
   "outputs": [
    {
     "data": {
      "text/plain": [
       "Normalizer(mean=[0.9213101208773438], std=[0.2628733349463854])"
      ]
     },
     "execution_count": 24,
     "metadata": {},
     "output_type": "execute_result"
    }
   ],
   "source": [
    "ogds2.normalizer"
   ]
  },
  {
   "cell_type": "code",
   "execution_count": 25,
   "metadata": {},
   "outputs": [
    {
     "data": {
      "text/plain": [
       "(tensor([0.0005]), tensor([0.9997]))"
      ]
     },
     "execution_count": 25,
     "metadata": {},
     "output_type": "execute_result"
    }
   ],
   "source": [
    "# calculate mean and std of task support sets\n",
    "# should have mean 0 and std 1\n",
    "mean = 0. \n",
    "std = 0.\n",
    "num_samples = 0\n",
    "for task in tasks:\n",
    "    support_x = task.support_set[0]\n",
    "    data_ = support_x.view(len(support_x), 1, -1)\n",
    "    mean += data_.mean(dim=2).sum(dim=0)\n",
    "    std += data_.std(dim=2).sum(dim=0)\n",
    "    num_samples += len(support_x)\n",
    "mean /= num_samples\n",
    "std /= num_samples\n",
    "mean, std"
   ]
  },
  {
   "cell_type": "markdown",
   "metadata": {},
   "source": [
    "## Use Dataloader for task loading"
   ]
  },
  {
   "cell_type": "code",
   "execution_count": null,
   "metadata": {},
   "outputs": [],
   "source": []
  }
 ],
 "metadata": {
  "kernelspec": {
   "display_name": "Python 3.8.13 ('erank')",
   "language": "python",
   "name": "python3"
  },
  "language_info": {
   "codemirror_mode": {
    "name": "ipython",
    "version": 3
   },
   "file_extension": ".py",
   "mimetype": "text/x-python",
   "name": "python",
   "nbconvert_exporter": "python",
   "pygments_lexer": "ipython3",
   "version": "3.8.13"
  },
  "orig_nbformat": 4,
  "vscode": {
   "interpreter": {
    "hash": "b1e300651644b4a5ccc8598fb3da49325ec88b18d4f380e9c939826d448ae9e4"
   }
  }
 },
 "nbformat": 4,
 "nbformat_minor": 2
}
