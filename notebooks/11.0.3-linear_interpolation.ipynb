{
 "cells": [
  {
   "cell_type": "code",
   "execution_count": 64,
   "metadata": {},
   "outputs": [
    {
     "name": "stdout",
     "output_type": "stream",
     "text": [
      "The autoreload extension is already loaded. To reload it, use:\n",
      "  %reload_ext autoreload\n"
     ]
    }
   ],
   "source": [
    "%load_ext autoreload\n",
    "%autoreload 2\n",
    "import sys\n",
    "import torch\n",
    "from torch import nn\n",
    "sys.path.append('..')\n",
    "# sys.path.append('/system/user/beck/pwbeck/projects/regularization/ml_utilities')\n",
    "from pathlib import Path\n",
    "from typing import Union\n",
    "from pprint import pprint\n",
    "from ml_utilities.torch_models.base_model import BaseModel\n",
    "from ml_utilities.torch_models.fc import FC\n",
    "from ml_utilities.torch_models import get_model_class\n",
    "from ml_utilities.output_loader.repo import Repo\n",
    "from ml_utilities.output_loader.job_output import JobResult, SweepResult\n",
    "from omegaconf import OmegaConf\n",
    "\n",
    "from erank.data.datasetgenerator import DatasetGenerator\n",
    "\n",
    "import matplotlib.pyplot as plt\n",
    "gpu_id = 0\n",
    "REPO = Repo(dir=Path('../../erank'), hydra_defaults=OmegaConf.load('../configs/hydra/jobname_outputdir_format.yaml'))"
   ]
  },
  {
   "attachments": {},
   "cell_type": "markdown",
   "metadata": {},
   "source": [
    "# Linear interpolation debug notebook\n",
    "This notebook is used to implement linear interplation of models. \n",
    "\n",
    "Do linear interpolation with on MNIST. Use data from Experiment 11.7.3. \n",
    "\n",
    "Start from pretrained model with 100 steps."
   ]
  },
  {
   "attachments": {},
   "cell_type": "markdown",
   "metadata": {},
   "source": [
    "#### Setup"
   ]
  },
  {
   "cell_type": "code",
   "execution_count": 58,
   "metadata": {},
   "outputs": [],
   "source": [
    "config_yaml = \"\"\"\n",
    "run_config:\n",
    "  exec_type: parallel # sequential\n",
    "  hostname: gorilla\n",
    "  gpu_ids: [0,1,2,3,4,5,6,7]\n",
    "  runs_per_gpu: 3\n",
    "\n",
    "  wandb: # wandb config for run_handler, if \"wandb: null\" then logging to wandb is disabled for run_handler\n",
    "    init:\n",
    "      tags:\n",
    "        - ${config.experiment_data.experiment_tag}_exps\n",
    "        - run_handler\n",
    "      notes: #\n",
    "      group: ${config.experiment_data.experiment_tag}\n",
    "      job_type: run_handler\n",
    "\n",
    "seeds: [1,2,3]\n",
    "\n",
    "sweep:\n",
    "  type: grid\n",
    "  axes:\n",
    "    - parameter: trainer.init_model_step\n",
    "      vals: [0, 5, 10, 15, 20, 25, 30, 35, 40, 45, 50, 55, 60, 65, 70, 75, 80, 85, 90, 95, 100, 125, 150, 175, 200, 225, 250, 275, 300, 325, 350, 375, 400, 425, 450, 475]\n",
    "    - parameter: data.dataset_kwargs.rotation_angle\n",
    "      vals: linspace(0,180,50,endpoint=True)\n",
    "    - parameter: data.dataset_split.restrict_n_samples_train_task\n",
    "      vals: [300] #[5, 20, 50, 100, 500, 1000, 10000, 48000]\n",
    "\n",
    "start_num: 3 # use this to count how often this config is run\n",
    "###\n",
    "config:\n",
    "  experiment_data:\n",
    "    entity: jkuiml-fsl\n",
    "    project_name: sparsity\n",
    "    experiment_tag: \"11.7\"\n",
    "    experiment_type: startnum_${start_num}\n",
    "    experiment_name: mnist-${config.experiment_data.experiment_tag}.${start_num}-lenet_rottasks_ft\n",
    "    experiment_dir: null\n",
    "    experiment_notes: Hyperparameter search.\n",
    "    job_name: null\n",
    "    seed: 0\n",
    "    hostname: null # the server on which the run is run, will be filled by run_handler\n",
    "    gpu_id: 0\n",
    "\n",
    "  # wandb:\n",
    "  #   init:\n",
    "  #     tags: # list(), used to tag wandblogger\n",
    "  #       - ${config.experiment_data.experiment_tag}_exps\n",
    "  #     notes: ${config.experiment_data.experiment_notes} # str, used to make notes to wandblogger\n",
    "  #     group: ${config.experiment_data.experiment_tag} # null\n",
    "  #     job_type: ${config.experiment_data.experiment_type} # examples: hypsearch, pretrain, eval, etc.\n",
    "\n",
    "  #   watch:\n",
    "  #     log: null #parameters #null #all\n",
    "  #     log_freq: 5000\n",
    "\n",
    "  model:\n",
    "    name: fc\n",
    "    model_kwargs:\n",
    "      input_size: 784\n",
    "      hidden_sizes:\n",
    "        - 300\n",
    "        - 100\n",
    "      output_size: 10\n",
    "      flatten_input: True\n",
    "      dropout: null\n",
    "      act_fn: relu\n",
    "\n",
    "  trainer:\n",
    "    training_setup: supervised\n",
    "    n_steps: 2000\n",
    "    log_train_step_every: 1\n",
    "    log_additional_train_step_every_multiplier: 1\n",
    "    log_additional_logs: True\n",
    "    val_every: 5\n",
    "    save_every: 5 #500\n",
    "    early_stopping_patience: 200 #500\n",
    "    batch_size: 128\n",
    "    optimizer_scheduler:\n",
    "      optimizer_name: adamw #sgd #adamw\n",
    "      optimizer_kwargs:\n",
    "        lr: 0.001\n",
    "        weight_decay: 0.0\n",
    "    \n",
    "    init_model_step: XXX\n",
    "    init_model: /system/user/beck/pwbeck/projects/regularization/erank/outputs/mnist-11.5.0-lenet--221015_122552/model_step_${config.trainer.init_model_step}.p\n",
    "\n",
    "    loss: crossentropy\n",
    "\n",
    "    metrics:\n",
    "      - Accuracy\n",
    "    num_workers: 4\n",
    "    verbose: False\n",
    "\n",
    "  data:\n",
    "    dataset: rotatedvision\n",
    "    dataset_kwargs:\n",
    "      data_root_path: /system/user/beck/pwbeck/data\n",
    "      dataset: mnist\n",
    "      rotation_angle: XXX\n",
    "    dataset_split:\n",
    "      train_val_split: 0.8\n",
    "      restrict_n_samples_train_task: XXX\n",
    "\n",
    "\"\"\"\n",
    "cfg = OmegaConf.create(config_yaml)"
   ]
  },
  {
   "attachments": {},
   "cell_type": "markdown",
   "metadata": {},
   "source": [
    "### Load model"
   ]
  },
  {
   "cell_type": "code",
   "execution_count": 3,
   "metadata": {},
   "outputs": [
    {
     "name": "stdout",
     "output_type": "stream",
     "text": [
      "Exp. Tag(start_num): 11.7(3)\n",
      "Exp. Name: mnist-11.7.3-lenet_rottasks_ft\n",
      "Training setup: supervised\n",
      "Model name: fc\n",
      "Dataset name: rotatedvision\n",
      "Sweep type: grid\n",
      "  trainer.init_model_step: [0, 5, 10, 15, 20, 25, 30, 35, 40, 45, 50, 55, 60, 65, 70, 75, 80, 85, 90, 95, 100, 125, 150, 175, 200, 225, 250, 275, 300, 325, 350, 375, 400, 425, 450, 475]\n",
      "  data.dataset_kwargs.rotation_angle: linspace(0,180,50,endpoint=True)\n",
      "  data.dataset_split.restrict_n_samples_train_task: [300]\n",
      "Num. jobs: 5400\n",
      "Config updated: 2022-11-25 12:34:14\n",
      "Sweep started:  2022-11-25 12:36:51\n",
      "\n"
     ]
    }
   ],
   "source": [
    "sweepr = REPO.get_output_loader(cfg)\n",
    "print(sweepr)"
   ]
  },
  {
   "cell_type": "code",
   "execution_count": 11,
   "metadata": {},
   "outputs": [
    {
     "name": "stderr",
     "output_type": "stream",
     "text": [
      "100%|██████████| 5400/5400 [01:17<00:00, 69.33it/s] \n"
     ]
    }
   ],
   "source": [
    "sw_summary = sweepr.get_summary()"
   ]
  },
  {
   "cell_type": "code",
   "execution_count": 25,
   "metadata": {},
   "outputs": [],
   "source": [
    "pv_df = sw_summary[(sw_summary['trainer.init_model_step'] == 100) & sw_summary['data.dataset_kwargs.rotation_angle'].between(0,30)]"
   ]
  },
  {
   "cell_type": "code",
   "execution_count": 26,
   "metadata": {},
   "outputs": [
    {
     "data": {
      "text/html": [
       "<div>\n",
       "<style scoped>\n",
       "    .dataframe tbody tr th:only-of-type {\n",
       "        vertical-align: middle;\n",
       "    }\n",
       "\n",
       "    .dataframe tbody tr th {\n",
       "        vertical-align: top;\n",
       "    }\n",
       "\n",
       "    .dataframe thead th {\n",
       "        text-align: right;\n",
       "    }\n",
       "</style>\n",
       "<table border=\"1\" class=\"dataframe\">\n",
       "  <thead>\n",
       "    <tr style=\"text-align: right;\">\n",
       "      <th></th>\n",
       "      <th>best_step</th>\n",
       "      <th>best_val_score</th>\n",
       "      <th>trainer.init_model_step</th>\n",
       "      <th>data.dataset_kwargs.rotation_angle</th>\n",
       "      <th>data.dataset_split.restrict_n_samples_train_task</th>\n",
       "      <th>seed</th>\n",
       "    </tr>\n",
       "  </thead>\n",
       "  <tbody>\n",
       "    <tr>\n",
       "      <th>mnist-11.7.3-lenet_rottasks_ft--init_model_step-100-rotation_angle-0-restrict_n_samples_train_task-300-seed-1--221128_013358</th>\n",
       "      <td>0</td>\n",
       "      <td>0.913250</td>\n",
       "      <td>100</td>\n",
       "      <td>0.000000</td>\n",
       "      <td>300</td>\n",
       "      <td>1</td>\n",
       "    </tr>\n",
       "    <tr>\n",
       "      <th>mnist-11.7.3-lenet_rottasks_ft--init_model_step-100-rotation_angle-0-restrict_n_samples_train_task-300-seed-2--221126_064717</th>\n",
       "      <td>0</td>\n",
       "      <td>0.913250</td>\n",
       "      <td>100</td>\n",
       "      <td>0.000000</td>\n",
       "      <td>300</td>\n",
       "      <td>2</td>\n",
       "    </tr>\n",
       "    <tr>\n",
       "      <th>mnist-11.7.3-lenet_rottasks_ft--init_model_step-100-rotation_angle-0-restrict_n_samples_train_task-300-seed-3--221126_203316</th>\n",
       "      <td>0</td>\n",
       "      <td>0.913250</td>\n",
       "      <td>100</td>\n",
       "      <td>0.000000</td>\n",
       "      <td>300</td>\n",
       "      <td>3</td>\n",
       "    </tr>\n",
       "    <tr>\n",
       "      <th>mnist-11.7.3-lenet_rottasks_ft--init_model_step-100-rotation_angle-3.67347-restrict_n_samples_train_task-300-seed-1--221126_080453</th>\n",
       "      <td>0</td>\n",
       "      <td>0.908750</td>\n",
       "      <td>100</td>\n",
       "      <td>3.673469</td>\n",
       "      <td>300</td>\n",
       "      <td>1</td>\n",
       "    </tr>\n",
       "    <tr>\n",
       "      <th>mnist-11.7.3-lenet_rottasks_ft--init_model_step-100-rotation_angle-3.67347-restrict_n_samples_train_task-300-seed-2--221126_132409</th>\n",
       "      <td>0</td>\n",
       "      <td>0.908750</td>\n",
       "      <td>100</td>\n",
       "      <td>3.673469</td>\n",
       "      <td>300</td>\n",
       "      <td>2</td>\n",
       "    </tr>\n",
       "    <tr>\n",
       "      <th>mnist-11.7.3-lenet_rottasks_ft--init_model_step-100-rotation_angle-3.67347-restrict_n_samples_train_task-300-seed-3--221126_104706</th>\n",
       "      <td>0</td>\n",
       "      <td>0.908750</td>\n",
       "      <td>100</td>\n",
       "      <td>3.673469</td>\n",
       "      <td>300</td>\n",
       "      <td>3</td>\n",
       "    </tr>\n",
       "    <tr>\n",
       "      <th>mnist-11.7.3-lenet_rottasks_ft--init_model_step-100-rotation_angle-7.34694-restrict_n_samples_train_task-300-seed-1--221128_022832</th>\n",
       "      <td>20</td>\n",
       "      <td>0.901667</td>\n",
       "      <td>100</td>\n",
       "      <td>7.346939</td>\n",
       "      <td>300</td>\n",
       "      <td>1</td>\n",
       "    </tr>\n",
       "    <tr>\n",
       "      <th>mnist-11.7.3-lenet_rottasks_ft--init_model_step-100-rotation_angle-7.34694-restrict_n_samples_train_task-300-seed-2--221127_103518</th>\n",
       "      <td>20</td>\n",
       "      <td>0.901250</td>\n",
       "      <td>100</td>\n",
       "      <td>7.346939</td>\n",
       "      <td>300</td>\n",
       "      <td>2</td>\n",
       "    </tr>\n",
       "    <tr>\n",
       "      <th>mnist-11.7.3-lenet_rottasks_ft--init_model_step-100-rotation_angle-7.34694-restrict_n_samples_train_task-300-seed-3--221126_003932</th>\n",
       "      <td>15</td>\n",
       "      <td>0.900250</td>\n",
       "      <td>100</td>\n",
       "      <td>7.346939</td>\n",
       "      <td>300</td>\n",
       "      <td>3</td>\n",
       "    </tr>\n",
       "    <tr>\n",
       "      <th>mnist-11.7.3-lenet_rottasks_ft--init_model_step-100-rotation_angle-11.0204-restrict_n_samples_train_task-300-seed-1--221127_133713</th>\n",
       "      <td>20</td>\n",
       "      <td>0.895833</td>\n",
       "      <td>100</td>\n",
       "      <td>11.020408</td>\n",
       "      <td>300</td>\n",
       "      <td>1</td>\n",
       "    </tr>\n",
       "    <tr>\n",
       "      <th>mnist-11.7.3-lenet_rottasks_ft--init_model_step-100-rotation_angle-11.0204-restrict_n_samples_train_task-300-seed-2--221127_132745</th>\n",
       "      <td>20</td>\n",
       "      <td>0.894167</td>\n",
       "      <td>100</td>\n",
       "      <td>11.020408</td>\n",
       "      <td>300</td>\n",
       "      <td>2</td>\n",
       "    </tr>\n",
       "    <tr>\n",
       "      <th>mnist-11.7.3-lenet_rottasks_ft--init_model_step-100-rotation_angle-11.0204-restrict_n_samples_train_task-300-seed-3--221127_091938</th>\n",
       "      <td>50</td>\n",
       "      <td>0.893667</td>\n",
       "      <td>100</td>\n",
       "      <td>11.020408</td>\n",
       "      <td>300</td>\n",
       "      <td>3</td>\n",
       "    </tr>\n",
       "    <tr>\n",
       "      <th>mnist-11.7.3-lenet_rottasks_ft--init_model_step-100-rotation_angle-14.6939-restrict_n_samples_train_task-300-seed-1--221126_025759</th>\n",
       "      <td>20</td>\n",
       "      <td>0.890417</td>\n",
       "      <td>100</td>\n",
       "      <td>14.693878</td>\n",
       "      <td>300</td>\n",
       "      <td>1</td>\n",
       "    </tr>\n",
       "    <tr>\n",
       "      <th>mnist-11.7.3-lenet_rottasks_ft--init_model_step-100-rotation_angle-14.6939-restrict_n_samples_train_task-300-seed-2--221126_172454</th>\n",
       "      <td>55</td>\n",
       "      <td>0.887917</td>\n",
       "      <td>100</td>\n",
       "      <td>14.693878</td>\n",
       "      <td>300</td>\n",
       "      <td>2</td>\n",
       "    </tr>\n",
       "    <tr>\n",
       "      <th>mnist-11.7.3-lenet_rottasks_ft--init_model_step-100-rotation_angle-14.6939-restrict_n_samples_train_task-300-seed-3--221127_191933</th>\n",
       "      <td>90</td>\n",
       "      <td>0.889833</td>\n",
       "      <td>100</td>\n",
       "      <td>14.693878</td>\n",
       "      <td>300</td>\n",
       "      <td>3</td>\n",
       "    </tr>\n",
       "    <tr>\n",
       "      <th>mnist-11.7.3-lenet_rottasks_ft--init_model_step-100-rotation_angle-18.3673-restrict_n_samples_train_task-300-seed-1--221127_211630</th>\n",
       "      <td>175</td>\n",
       "      <td>0.883417</td>\n",
       "      <td>100</td>\n",
       "      <td>18.367347</td>\n",
       "      <td>300</td>\n",
       "      <td>1</td>\n",
       "    </tr>\n",
       "    <tr>\n",
       "      <th>mnist-11.7.3-lenet_rottasks_ft--init_model_step-100-rotation_angle-18.3673-restrict_n_samples_train_task-300-seed-2--221126_124658</th>\n",
       "      <td>875</td>\n",
       "      <td>0.883250</td>\n",
       "      <td>100</td>\n",
       "      <td>18.367347</td>\n",
       "      <td>300</td>\n",
       "      <td>2</td>\n",
       "    </tr>\n",
       "    <tr>\n",
       "      <th>mnist-11.7.3-lenet_rottasks_ft--init_model_step-100-rotation_angle-18.3673-restrict_n_samples_train_task-300-seed-3--221126_221515</th>\n",
       "      <td>335</td>\n",
       "      <td>0.884583</td>\n",
       "      <td>100</td>\n",
       "      <td>18.367347</td>\n",
       "      <td>300</td>\n",
       "      <td>3</td>\n",
       "    </tr>\n",
       "    <tr>\n",
       "      <th>mnist-11.7.3-lenet_rottasks_ft--init_model_step-100-rotation_angle-22.0408-restrict_n_samples_train_task-300-seed-1--221126_010602</th>\n",
       "      <td>1690</td>\n",
       "      <td>0.879750</td>\n",
       "      <td>100</td>\n",
       "      <td>22.040816</td>\n",
       "      <td>300</td>\n",
       "      <td>1</td>\n",
       "    </tr>\n",
       "    <tr>\n",
       "      <th>mnist-11.7.3-lenet_rottasks_ft--init_model_step-100-rotation_angle-22.0408-restrict_n_samples_train_task-300-seed-2--221127_093121</th>\n",
       "      <td>470</td>\n",
       "      <td>0.878333</td>\n",
       "      <td>100</td>\n",
       "      <td>22.040816</td>\n",
       "      <td>300</td>\n",
       "      <td>2</td>\n",
       "    </tr>\n",
       "    <tr>\n",
       "      <th>mnist-11.7.3-lenet_rottasks_ft--init_model_step-100-rotation_angle-22.0408-restrict_n_samples_train_task-300-seed-3--221127_094605</th>\n",
       "      <td>125</td>\n",
       "      <td>0.879250</td>\n",
       "      <td>100</td>\n",
       "      <td>22.040816</td>\n",
       "      <td>300</td>\n",
       "      <td>3</td>\n",
       "    </tr>\n",
       "    <tr>\n",
       "      <th>mnist-11.7.3-lenet_rottasks_ft--init_model_step-100-rotation_angle-25.7143-restrict_n_samples_train_task-300-seed-1--221125_232309</th>\n",
       "      <td>735</td>\n",
       "      <td>0.876167</td>\n",
       "      <td>100</td>\n",
       "      <td>25.714286</td>\n",
       "      <td>300</td>\n",
       "      <td>1</td>\n",
       "    </tr>\n",
       "    <tr>\n",
       "      <th>mnist-11.7.3-lenet_rottasks_ft--init_model_step-100-rotation_angle-25.7143-restrict_n_samples_train_task-300-seed-2--221127_232024</th>\n",
       "      <td>515</td>\n",
       "      <td>0.874250</td>\n",
       "      <td>100</td>\n",
       "      <td>25.714286</td>\n",
       "      <td>300</td>\n",
       "      <td>2</td>\n",
       "    </tr>\n",
       "    <tr>\n",
       "      <th>mnist-11.7.3-lenet_rottasks_ft--init_model_step-100-rotation_angle-25.7143-restrict_n_samples_train_task-300-seed-3--221126_021736</th>\n",
       "      <td>380</td>\n",
       "      <td>0.875167</td>\n",
       "      <td>100</td>\n",
       "      <td>25.714286</td>\n",
       "      <td>300</td>\n",
       "      <td>3</td>\n",
       "    </tr>\n",
       "    <tr>\n",
       "      <th>mnist-11.7.3-lenet_rottasks_ft--init_model_step-100-rotation_angle-29.3878-restrict_n_samples_train_task-300-seed-1--221127_013141</th>\n",
       "      <td>1865</td>\n",
       "      <td>0.872750</td>\n",
       "      <td>100</td>\n",
       "      <td>29.387755</td>\n",
       "      <td>300</td>\n",
       "      <td>1</td>\n",
       "    </tr>\n",
       "    <tr>\n",
       "      <th>mnist-11.7.3-lenet_rottasks_ft--init_model_step-100-rotation_angle-29.3878-restrict_n_samples_train_task-300-seed-2--221127_222435</th>\n",
       "      <td>1415</td>\n",
       "      <td>0.868583</td>\n",
       "      <td>100</td>\n",
       "      <td>29.387755</td>\n",
       "      <td>300</td>\n",
       "      <td>2</td>\n",
       "    </tr>\n",
       "    <tr>\n",
       "      <th>mnist-11.7.3-lenet_rottasks_ft--init_model_step-100-rotation_angle-29.3878-restrict_n_samples_train_task-300-seed-3--221126_195806</th>\n",
       "      <td>1470</td>\n",
       "      <td>0.872667</td>\n",
       "      <td>100</td>\n",
       "      <td>29.387755</td>\n",
       "      <td>300</td>\n",
       "      <td>3</td>\n",
       "    </tr>\n",
       "  </tbody>\n",
       "</table>\n",
       "</div>"
      ],
      "text/plain": [
       "                                                    best_step  best_val_score  \\\n",
       "mnist-11.7.3-lenet_rottasks_ft--init_model_step...          0        0.913250   \n",
       "mnist-11.7.3-lenet_rottasks_ft--init_model_step...          0        0.913250   \n",
       "mnist-11.7.3-lenet_rottasks_ft--init_model_step...          0        0.913250   \n",
       "mnist-11.7.3-lenet_rottasks_ft--init_model_step...          0        0.908750   \n",
       "mnist-11.7.3-lenet_rottasks_ft--init_model_step...          0        0.908750   \n",
       "mnist-11.7.3-lenet_rottasks_ft--init_model_step...          0        0.908750   \n",
       "mnist-11.7.3-lenet_rottasks_ft--init_model_step...         20        0.901667   \n",
       "mnist-11.7.3-lenet_rottasks_ft--init_model_step...         20        0.901250   \n",
       "mnist-11.7.3-lenet_rottasks_ft--init_model_step...         15        0.900250   \n",
       "mnist-11.7.3-lenet_rottasks_ft--init_model_step...         20        0.895833   \n",
       "mnist-11.7.3-lenet_rottasks_ft--init_model_step...         20        0.894167   \n",
       "mnist-11.7.3-lenet_rottasks_ft--init_model_step...         50        0.893667   \n",
       "mnist-11.7.3-lenet_rottasks_ft--init_model_step...         20        0.890417   \n",
       "mnist-11.7.3-lenet_rottasks_ft--init_model_step...         55        0.887917   \n",
       "mnist-11.7.3-lenet_rottasks_ft--init_model_step...         90        0.889833   \n",
       "mnist-11.7.3-lenet_rottasks_ft--init_model_step...        175        0.883417   \n",
       "mnist-11.7.3-lenet_rottasks_ft--init_model_step...        875        0.883250   \n",
       "mnist-11.7.3-lenet_rottasks_ft--init_model_step...        335        0.884583   \n",
       "mnist-11.7.3-lenet_rottasks_ft--init_model_step...       1690        0.879750   \n",
       "mnist-11.7.3-lenet_rottasks_ft--init_model_step...        470        0.878333   \n",
       "mnist-11.7.3-lenet_rottasks_ft--init_model_step...        125        0.879250   \n",
       "mnist-11.7.3-lenet_rottasks_ft--init_model_step...        735        0.876167   \n",
       "mnist-11.7.3-lenet_rottasks_ft--init_model_step...        515        0.874250   \n",
       "mnist-11.7.3-lenet_rottasks_ft--init_model_step...        380        0.875167   \n",
       "mnist-11.7.3-lenet_rottasks_ft--init_model_step...       1865        0.872750   \n",
       "mnist-11.7.3-lenet_rottasks_ft--init_model_step...       1415        0.868583   \n",
       "mnist-11.7.3-lenet_rottasks_ft--init_model_step...       1470        0.872667   \n",
       "\n",
       "                                                    trainer.init_model_step  \\\n",
       "mnist-11.7.3-lenet_rottasks_ft--init_model_step...                      100   \n",
       "mnist-11.7.3-lenet_rottasks_ft--init_model_step...                      100   \n",
       "mnist-11.7.3-lenet_rottasks_ft--init_model_step...                      100   \n",
       "mnist-11.7.3-lenet_rottasks_ft--init_model_step...                      100   \n",
       "mnist-11.7.3-lenet_rottasks_ft--init_model_step...                      100   \n",
       "mnist-11.7.3-lenet_rottasks_ft--init_model_step...                      100   \n",
       "mnist-11.7.3-lenet_rottasks_ft--init_model_step...                      100   \n",
       "mnist-11.7.3-lenet_rottasks_ft--init_model_step...                      100   \n",
       "mnist-11.7.3-lenet_rottasks_ft--init_model_step...                      100   \n",
       "mnist-11.7.3-lenet_rottasks_ft--init_model_step...                      100   \n",
       "mnist-11.7.3-lenet_rottasks_ft--init_model_step...                      100   \n",
       "mnist-11.7.3-lenet_rottasks_ft--init_model_step...                      100   \n",
       "mnist-11.7.3-lenet_rottasks_ft--init_model_step...                      100   \n",
       "mnist-11.7.3-lenet_rottasks_ft--init_model_step...                      100   \n",
       "mnist-11.7.3-lenet_rottasks_ft--init_model_step...                      100   \n",
       "mnist-11.7.3-lenet_rottasks_ft--init_model_step...                      100   \n",
       "mnist-11.7.3-lenet_rottasks_ft--init_model_step...                      100   \n",
       "mnist-11.7.3-lenet_rottasks_ft--init_model_step...                      100   \n",
       "mnist-11.7.3-lenet_rottasks_ft--init_model_step...                      100   \n",
       "mnist-11.7.3-lenet_rottasks_ft--init_model_step...                      100   \n",
       "mnist-11.7.3-lenet_rottasks_ft--init_model_step...                      100   \n",
       "mnist-11.7.3-lenet_rottasks_ft--init_model_step...                      100   \n",
       "mnist-11.7.3-lenet_rottasks_ft--init_model_step...                      100   \n",
       "mnist-11.7.3-lenet_rottasks_ft--init_model_step...                      100   \n",
       "mnist-11.7.3-lenet_rottasks_ft--init_model_step...                      100   \n",
       "mnist-11.7.3-lenet_rottasks_ft--init_model_step...                      100   \n",
       "mnist-11.7.3-lenet_rottasks_ft--init_model_step...                      100   \n",
       "\n",
       "                                                    data.dataset_kwargs.rotation_angle  \\\n",
       "mnist-11.7.3-lenet_rottasks_ft--init_model_step...                            0.000000   \n",
       "mnist-11.7.3-lenet_rottasks_ft--init_model_step...                            0.000000   \n",
       "mnist-11.7.3-lenet_rottasks_ft--init_model_step...                            0.000000   \n",
       "mnist-11.7.3-lenet_rottasks_ft--init_model_step...                            3.673469   \n",
       "mnist-11.7.3-lenet_rottasks_ft--init_model_step...                            3.673469   \n",
       "mnist-11.7.3-lenet_rottasks_ft--init_model_step...                            3.673469   \n",
       "mnist-11.7.3-lenet_rottasks_ft--init_model_step...                            7.346939   \n",
       "mnist-11.7.3-lenet_rottasks_ft--init_model_step...                            7.346939   \n",
       "mnist-11.7.3-lenet_rottasks_ft--init_model_step...                            7.346939   \n",
       "mnist-11.7.3-lenet_rottasks_ft--init_model_step...                           11.020408   \n",
       "mnist-11.7.3-lenet_rottasks_ft--init_model_step...                           11.020408   \n",
       "mnist-11.7.3-lenet_rottasks_ft--init_model_step...                           11.020408   \n",
       "mnist-11.7.3-lenet_rottasks_ft--init_model_step...                           14.693878   \n",
       "mnist-11.7.3-lenet_rottasks_ft--init_model_step...                           14.693878   \n",
       "mnist-11.7.3-lenet_rottasks_ft--init_model_step...                           14.693878   \n",
       "mnist-11.7.3-lenet_rottasks_ft--init_model_step...                           18.367347   \n",
       "mnist-11.7.3-lenet_rottasks_ft--init_model_step...                           18.367347   \n",
       "mnist-11.7.3-lenet_rottasks_ft--init_model_step...                           18.367347   \n",
       "mnist-11.7.3-lenet_rottasks_ft--init_model_step...                           22.040816   \n",
       "mnist-11.7.3-lenet_rottasks_ft--init_model_step...                           22.040816   \n",
       "mnist-11.7.3-lenet_rottasks_ft--init_model_step...                           22.040816   \n",
       "mnist-11.7.3-lenet_rottasks_ft--init_model_step...                           25.714286   \n",
       "mnist-11.7.3-lenet_rottasks_ft--init_model_step...                           25.714286   \n",
       "mnist-11.7.3-lenet_rottasks_ft--init_model_step...                           25.714286   \n",
       "mnist-11.7.3-lenet_rottasks_ft--init_model_step...                           29.387755   \n",
       "mnist-11.7.3-lenet_rottasks_ft--init_model_step...                           29.387755   \n",
       "mnist-11.7.3-lenet_rottasks_ft--init_model_step...                           29.387755   \n",
       "\n",
       "                                                    data.dataset_split.restrict_n_samples_train_task  \\\n",
       "mnist-11.7.3-lenet_rottasks_ft--init_model_step...                                               300   \n",
       "mnist-11.7.3-lenet_rottasks_ft--init_model_step...                                               300   \n",
       "mnist-11.7.3-lenet_rottasks_ft--init_model_step...                                               300   \n",
       "mnist-11.7.3-lenet_rottasks_ft--init_model_step...                                               300   \n",
       "mnist-11.7.3-lenet_rottasks_ft--init_model_step...                                               300   \n",
       "mnist-11.7.3-lenet_rottasks_ft--init_model_step...                                               300   \n",
       "mnist-11.7.3-lenet_rottasks_ft--init_model_step...                                               300   \n",
       "mnist-11.7.3-lenet_rottasks_ft--init_model_step...                                               300   \n",
       "mnist-11.7.3-lenet_rottasks_ft--init_model_step...                                               300   \n",
       "mnist-11.7.3-lenet_rottasks_ft--init_model_step...                                               300   \n",
       "mnist-11.7.3-lenet_rottasks_ft--init_model_step...                                               300   \n",
       "mnist-11.7.3-lenet_rottasks_ft--init_model_step...                                               300   \n",
       "mnist-11.7.3-lenet_rottasks_ft--init_model_step...                                               300   \n",
       "mnist-11.7.3-lenet_rottasks_ft--init_model_step...                                               300   \n",
       "mnist-11.7.3-lenet_rottasks_ft--init_model_step...                                               300   \n",
       "mnist-11.7.3-lenet_rottasks_ft--init_model_step...                                               300   \n",
       "mnist-11.7.3-lenet_rottasks_ft--init_model_step...                                               300   \n",
       "mnist-11.7.3-lenet_rottasks_ft--init_model_step...                                               300   \n",
       "mnist-11.7.3-lenet_rottasks_ft--init_model_step...                                               300   \n",
       "mnist-11.7.3-lenet_rottasks_ft--init_model_step...                                               300   \n",
       "mnist-11.7.3-lenet_rottasks_ft--init_model_step...                                               300   \n",
       "mnist-11.7.3-lenet_rottasks_ft--init_model_step...                                               300   \n",
       "mnist-11.7.3-lenet_rottasks_ft--init_model_step...                                               300   \n",
       "mnist-11.7.3-lenet_rottasks_ft--init_model_step...                                               300   \n",
       "mnist-11.7.3-lenet_rottasks_ft--init_model_step...                                               300   \n",
       "mnist-11.7.3-lenet_rottasks_ft--init_model_step...                                               300   \n",
       "mnist-11.7.3-lenet_rottasks_ft--init_model_step...                                               300   \n",
       "\n",
       "                                                    seed  \n",
       "mnist-11.7.3-lenet_rottasks_ft--init_model_step...     1  \n",
       "mnist-11.7.3-lenet_rottasks_ft--init_model_step...     2  \n",
       "mnist-11.7.3-lenet_rottasks_ft--init_model_step...     3  \n",
       "mnist-11.7.3-lenet_rottasks_ft--init_model_step...     1  \n",
       "mnist-11.7.3-lenet_rottasks_ft--init_model_step...     2  \n",
       "mnist-11.7.3-lenet_rottasks_ft--init_model_step...     3  \n",
       "mnist-11.7.3-lenet_rottasks_ft--init_model_step...     1  \n",
       "mnist-11.7.3-lenet_rottasks_ft--init_model_step...     2  \n",
       "mnist-11.7.3-lenet_rottasks_ft--init_model_step...     3  \n",
       "mnist-11.7.3-lenet_rottasks_ft--init_model_step...     1  \n",
       "mnist-11.7.3-lenet_rottasks_ft--init_model_step...     2  \n",
       "mnist-11.7.3-lenet_rottasks_ft--init_model_step...     3  \n",
       "mnist-11.7.3-lenet_rottasks_ft--init_model_step...     1  \n",
       "mnist-11.7.3-lenet_rottasks_ft--init_model_step...     2  \n",
       "mnist-11.7.3-lenet_rottasks_ft--init_model_step...     3  \n",
       "mnist-11.7.3-lenet_rottasks_ft--init_model_step...     1  \n",
       "mnist-11.7.3-lenet_rottasks_ft--init_model_step...     2  \n",
       "mnist-11.7.3-lenet_rottasks_ft--init_model_step...     3  \n",
       "mnist-11.7.3-lenet_rottasks_ft--init_model_step...     1  \n",
       "mnist-11.7.3-lenet_rottasks_ft--init_model_step...     2  \n",
       "mnist-11.7.3-lenet_rottasks_ft--init_model_step...     3  \n",
       "mnist-11.7.3-lenet_rottasks_ft--init_model_step...     1  \n",
       "mnist-11.7.3-lenet_rottasks_ft--init_model_step...     2  \n",
       "mnist-11.7.3-lenet_rottasks_ft--init_model_step...     3  \n",
       "mnist-11.7.3-lenet_rottasks_ft--init_model_step...     1  \n",
       "mnist-11.7.3-lenet_rottasks_ft--init_model_step...     2  \n",
       "mnist-11.7.3-lenet_rottasks_ft--init_model_step...     3  "
      ]
     },
     "execution_count": 26,
     "metadata": {},
     "output_type": "execute_result"
    }
   ],
   "source": [
    "pv_df.sort_values(by=['data.dataset_kwargs.rotation_angle', 'seed'])"
   ]
  },
  {
   "cell_type": "code",
   "execution_count": 27,
   "metadata": {},
   "outputs": [
    {
     "data": {
      "text/plain": [
       "['/system/user/publicwork/beck/projects/regularization/erank/outputs/mnist-11.7.3-lenet_rottasks_ft--221125_123651/outputs/mnist-11.7.3-lenet_rottasks_ft--init_model_step-100-rotation_angle-25.7143-restrict_n_samples_train_task-300-seed-2--221127_232024',\n",
       " '/system/user/publicwork/beck/projects/regularization/erank/outputs/mnist-11.7.3-lenet_rottasks_ft--221125_123651/outputs/mnist-11.7.3-lenet_rottasks_ft--init_model_step-100-rotation_angle-25.7143-restrict_n_samples_train_task-300-seed-3--221126_021736',\n",
       " '/system/user/publicwork/beck/projects/regularization/erank/outputs/mnist-11.7.3-lenet_rottasks_ft--221125_123651/outputs/mnist-11.7.3-lenet_rottasks_ft--init_model_step-100-rotation_angle-25.7143-restrict_n_samples_train_task-300-seed-1--221125_232309']"
      ]
     },
     "execution_count": 27,
     "metadata": {},
     "output_type": "execute_result"
    }
   ],
   "source": [
    "sweepr.find_jobs('init_model_step-100-rotation_angle-25')"
   ]
  },
  {
   "cell_type": "code",
   "execution_count": 28,
   "metadata": {},
   "outputs": [],
   "source": [
    "jobs_pretrainsteps100_rotangle25 = sweepr.get_jobs('init_model_step-100-rotation_angle-25')"
   ]
  },
  {
   "cell_type": "code",
   "execution_count": 31,
   "metadata": {},
   "outputs": [],
   "source": [
    "# select best models trained by 3 different seeds \n",
    "# these should all be linear mode connected\n",
    "model_a = jobs_pretrainsteps100_rotangle25[0].best_model\n",
    "model_b = jobs_pretrainsteps100_rotangle25[1].best_model\n",
    "model_c = jobs_pretrainsteps100_rotangle25[2].best_model"
   ]
  },
  {
   "cell_type": "code",
   "execution_count": 32,
   "metadata": {},
   "outputs": [
    {
     "data": {
      "text/plain": [
       "FC(\n",
       "  (fc): Sequential(\n",
       "    (0): Flatten(start_dim=1, end_dim=-1)\n",
       "    (1): Linear(in_features=784, out_features=300, bias=True)\n",
       "    (2): ReLU(inplace=True)\n",
       "    (3): Linear(in_features=300, out_features=100, bias=True)\n",
       "    (4): ReLU(inplace=True)\n",
       "    (5): Linear(in_features=100, out_features=10, bias=True)\n",
       "  )\n",
       ")"
      ]
     },
     "execution_count": 32,
     "metadata": {},
     "output_type": "execute_result"
    }
   ],
   "source": [
    "model_a"
   ]
  },
  {
   "cell_type": "code",
   "execution_count": 35,
   "metadata": {},
   "outputs": [],
   "source": [
    "# sanity check: values should not be the same\n",
    "# model_a.state_dict()['fc.1.weight'], model_b.state_dict()['fc.1.weight'] # check successful"
   ]
  },
  {
   "attachments": {},
   "cell_type": "markdown",
   "metadata": {},
   "source": [
    "### Load dataset"
   ]
  },
  {
   "cell_type": "code",
   "execution_count": 37,
   "metadata": {},
   "outputs": [
    {
     "data": {
      "text/plain": [
       "{'trainer.init_model_step': 100,\n",
       " 'data.dataset_kwargs.rotation_angle': 25.714285714285715,\n",
       " 'data.dataset_split.restrict_n_samples_train_task': 300}"
      ]
     },
     "execution_count": 37,
     "metadata": {},
     "output_type": "execute_result"
    }
   ],
   "source": [
    "jobs_pretrainsteps100_rotangle25[0].override_hpparams"
   ]
  },
  {
   "cell_type": "code",
   "execution_count": 59,
   "metadata": {},
   "outputs": [],
   "source": [
    "data_cfg = cfg.config.data"
   ]
  },
  {
   "cell_type": "code",
   "execution_count": 62,
   "metadata": {},
   "outputs": [],
   "source": [
    "OmegaConf.update(data_cfg, 'dataset_kwargs.rotation_angle', 25.714285714285715)\n",
    "OmegaConf.update(data_cfg, 'dataset_split.restrict_n_samples_train_task', 300)"
   ]
  },
  {
   "cell_type": "code",
   "execution_count": 63,
   "metadata": {},
   "outputs": [
    {
     "name": "stdout",
     "output_type": "stream",
     "text": [
      "dataset: rotatedvision\n",
      "dataset_kwargs:\n",
      "  data_root_path: /system/user/beck/pwbeck/data\n",
      "  dataset: mnist\n",
      "  rotation_angle: 25.714285714285715\n",
      "dataset_split:\n",
      "  train_val_split: 0.8\n",
      "  restrict_n_samples_train_task: 300\n",
      "\n"
     ]
    }
   ],
   "source": [
    "print(OmegaConf.to_yaml(data_cfg))"
   ]
  },
  {
   "cell_type": "code",
   "execution_count": 65,
   "metadata": {},
   "outputs": [],
   "source": [
    "ds_generator = DatasetGenerator(**data_cfg)\n",
    "ds_generator.generate_dataset()"
   ]
  },
  {
   "cell_type": "code",
   "execution_count": 67,
   "metadata": {},
   "outputs": [
    {
     "data": {
      "text/plain": [
       "(300, 12000)"
      ]
     },
     "execution_count": 67,
     "metadata": {},
     "output_type": "execute_result"
    }
   ],
   "source": [
    "len(ds_generator.train_split), len(ds_generator.val_split)"
   ]
  },
  {
   "attachments": {},
   "cell_type": "markdown",
   "metadata": {},
   "source": [
    "## Model interpolation"
   ]
  },
  {
   "cell_type": "code",
   "execution_count": 69,
   "metadata": {},
   "outputs": [],
   "source": [
    "%autoreload 2\n",
    "from erank.mode_connectivity import interpolate_linear"
   ]
  },
  {
   "cell_type": "code",
   "execution_count": 76,
   "metadata": {},
   "outputs": [],
   "source": [
    "score_fn = nn.CrossEntropyLoss()"
   ]
  },
  {
   "cell_type": "code",
   "execution_count": 77,
   "metadata": {},
   "outputs": [
    {
     "data": {
      "text/plain": [
       "tensor([0.0000, 0.2000, 0.4000, 0.6000, 0.8000, 1.0000])"
      ]
     },
     "execution_count": 77,
     "metadata": {},
     "output_type": "execute_result"
    }
   ],
   "source": [
    "weights = torch.linspace(0, 1.0, 6)\n",
    "weights"
   ]
  },
  {
   "cell_type": "code",
   "execution_count": 82,
   "metadata": {},
   "outputs": [
    {
     "name": "stdout",
     "output_type": "stream",
     "text": [
      "cuda:0\n",
      "Done.\n"
     ]
    }
   ],
   "source": [
    "interpolate_linear(model_a, model_b, ds_generator.train_split, score_fn, weights, {'val': ds_generator.val_split})"
   ]
  },
  {
   "cell_type": "code",
   "execution_count": null,
   "metadata": {},
   "outputs": [],
   "source": [
    "score_fn.device()"
   ]
  }
 ],
 "metadata": {
  "kernelspec": {
   "display_name": "subspaces",
   "language": "python",
   "name": "python3"
  },
  "language_info": {
   "codemirror_mode": {
    "name": "ipython",
    "version": 3
   },
   "file_extension": ".py",
   "mimetype": "text/x-python",
   "name": "python",
   "nbconvert_exporter": "python",
   "pygments_lexer": "ipython3",
   "version": "3.10.4"
  },
  "orig_nbformat": 4,
  "vscode": {
   "interpreter": {
    "hash": "ac019f01eb2a0970f066d5e193a84f30bb43215eeeface9d3d8db32241c79700"
   }
  }
 },
 "nbformat": 4,
 "nbformat_minor": 2
}
