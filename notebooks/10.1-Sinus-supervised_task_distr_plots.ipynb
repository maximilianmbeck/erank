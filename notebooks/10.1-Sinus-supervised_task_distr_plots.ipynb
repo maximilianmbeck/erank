{
 "cells": [
  {
   "cell_type": "code",
   "execution_count": 13,
   "metadata": {},
   "outputs": [
    {
     "name": "stdout",
     "output_type": "stream",
     "text": [
      "The autoreload extension is already loaded. To reload it, use:\n",
      "  %reload_ext autoreload\n"
     ]
    }
   ],
   "source": [
    "%load_ext autoreload\n",
    "%autoreload 2\n",
    "import sys\n",
    "import torch\n",
    "import pickle\n",
    "from torch import nn\n",
    "sys.path.append('..')\n",
    "# sys.path.append('/system/user/beck/pwbeck/projects/regularization/ml_utilities')\n",
    "from pathlib import Path\n",
    "import matplotlib.pyplot as plt\n",
    "from ml_utilities.torch_models.fc import FC\n",
    "from erank.utils import load_model_from_epoch, load_directions_matrix_from_task_sweep, load_multiple_dir_matrices_from_sweep\n",
    "from erank.plot import plot_models_erank\n",
    "from erank.analyses import create_model_erank_df\n",
    "\n",
    "gpu_id = 0"
   ]
  },
  {
   "cell_type": "markdown",
   "metadata": {},
   "source": [
    "## Erank plots"
   ]
  },
  {
   "cell_type": "markdown",
   "metadata": {},
   "source": [
    "### Create model dict"
   ]
  },
  {
   "cell_type": "code",
   "execution_count": 2,
   "metadata": {},
   "outputs": [],
   "source": [
    "sweep_dir = '/system/user/beck/pwbeck/projects/regularization/erank/outputs/sl-sine-10.0.1-sl-randinit-ampl-XXX-ph-XXX-taskidx-XXX_220912_234805'\n",
    "sweep_output_path = Path(sweep_dir) / 'outputs'\n",
    "num_vectors=1900"
   ]
  },
  {
   "cell_type": "code",
   "execution_count": 3,
   "metadata": {},
   "outputs": [],
   "source": [
    "# check for missing best_epoch_files\n",
    "# for p in sweep_output_path.iterdir():\n",
    "#     bepf = p / 'best_epoch.txt'\n",
    "#     if not bepf.exists():\n",
    "#         print(str(p))"
   ]
  },
  {
   "cell_type": "code",
   "execution_count": 4,
   "metadata": {},
   "outputs": [],
   "source": [
    "sine_task_distr = {'normal': '*ampl-0.1_5.0-ph-0_3.141592654*', \n",
    "                    'wide': '*ampl-0.1_10.0-ph-0_3.141592654*',\n",
    "                    'narrow': '*ampl-0.1_2.5-ph-0_1.5*',\n",
    "                    'almost_point': '*ampl-1.0_1.1-ph-0_0.1*'}"
   ]
  },
  {
   "cell_type": "code",
   "execution_count": 5,
   "metadata": {},
   "outputs": [
    {
     "data": {
      "text/plain": [
       "4"
      ]
     },
     "execution_count": 5,
     "metadata": {},
     "output_type": "execute_result"
    }
   ],
   "source": [
    "len(sine_task_distr)"
   ]
  },
  {
   "cell_type": "code",
   "execution_count": 6,
   "metadata": {},
   "outputs": [],
   "source": [
    "# load a model\n",
    "# run = next(iter(sweep_output_path.iterdir()))\n",
    "# init_model = load_model_from_epoch(run, epoch=0, device='cpu')"
   ]
  },
  {
   "cell_type": "code",
   "execution_count": 7,
   "metadata": {},
   "outputs": [],
   "source": [
    "# load model matrices\n",
    "# model_dict = load_multiple_dir_matrices_from_sweep(path_to_runs=sweep_output_path,\n",
    "#                                                    name_run_glob_pattern_dict=sine_task_distr,\n",
    "#                                                    num_runs=num_vectors,\n",
    "#                                                    device='cpu')\n",
    "# with open(f'model_dict_num_vecs{num_vectors}.p', 'wb') as savefile:\n",
    "#     pickle.dump(model_dict, savefile, protocol=pickle.HIGHEST_PROTOCOL)"
   ]
  },
  {
   "cell_type": "markdown",
   "metadata": {},
   "source": [
    "### Load model dict"
   ]
  },
  {
   "cell_type": "code",
   "execution_count": 15,
   "metadata": {},
   "outputs": [],
   "source": [
    "model_dict_path = './../tmp/model_dict_num_vecs1900.p'\n",
    "model_dict_path = Path(model_dict_path)\n",
    "init_model_path = './../tmp/init_model.p'\n",
    "init_model_path = Path(init_model_path)"
   ]
  },
  {
   "cell_type": "code",
   "execution_count": 20,
   "metadata": {},
   "outputs": [
    {
     "data": {
      "text/plain": [
       "(FC(\n",
       "   (fc): Sequential(\n",
       "     (0): Flatten(start_dim=1, end_dim=-1)\n",
       "     (1): Linear(in_features=1, out_features=40, bias=True)\n",
       "     (2): ReLU(inplace=True)\n",
       "     (3): Linear(in_features=40, out_features=40, bias=True)\n",
       "     (4): ReLU(inplace=True)\n",
       "     (5): Linear(in_features=40, out_features=1, bias=True)\n",
       "   )\n",
       " ),\n",
       " device(type='cuda', index=0))"
      ]
     },
     "execution_count": 20,
     "metadata": {},
     "output_type": "execute_result"
    }
   ],
   "source": [
    "# load init model\n",
    "init_model = FC.load(init_model_path, device=gpu_id)\n",
    "init_model, init_model.device"
   ]
  },
  {
   "cell_type": "code",
   "execution_count": 18,
   "metadata": {},
   "outputs": [],
   "source": [
    "# unpickle model dict\n",
    "with open(model_dict_path, 'rb') as loadfile:\n",
    "    model_dict = pickle.load(loadfile)"
   ]
  },
  {
   "cell_type": "code",
   "execution_count": 19,
   "metadata": {},
   "outputs": [
    {
     "data": {
      "text/plain": [
       "(['normal#*ampl-0.1_5.0-ph-0_3.141592654*',\n",
       "  'wide#*ampl-0.1_10.0-ph-0_3.141592654*',\n",
       "  'narrow#*ampl-0.1_2.5-ph-0_1.5*',\n",
       "  'almost_point#*ampl-1.0_1.1-ph-0_0.1*'],\n",
       " dict)"
      ]
     },
     "execution_count": 19,
     "metadata": {},
     "output_type": "execute_result"
    }
   ],
   "source": [
    "list(model_dict.keys()), type(model_dict)"
   ]
  },
  {
   "cell_type": "markdown",
   "metadata": {},
   "source": [
    "### Generate erank plot"
   ]
  },
  {
   "cell_type": "code",
   "execution_count": 21,
   "metadata": {},
   "outputs": [
    {
     "name": "stdout",
     "output_type": "stream",
     "text": [
      "Generate random initializations: 100%|██████████| 1900/1900 [00:00<00:00, 3647.99it/s]\n",
      "Calculate eranks:  75%|███████▌  | 144/191 [05:42<06:14,  7.97s/it]"
     ]
    }
   ],
   "source": [
    "erank_ = create_model_erank_df(models=model_dict, random_init_model=init_model, device=gpu_id)"
   ]
  },
  {
   "cell_type": "code",
   "execution_count": 11,
   "metadata": {},
   "outputs": [
    {
     "ename": "NameError",
     "evalue": "name 'init_model' is not defined",
     "output_type": "error",
     "traceback": [
      "\u001b[0;31m---------------------------------------------------------------------------\u001b[0m",
      "\u001b[0;31mNameError\u001b[0m                                 Traceback (most recent call last)",
      "\u001b[1;32m/home/max/phd/projects/regularization/erank/notebooks/10.1-Sinus-supervised_task_distr_plots.ipynb Cell 16\u001b[0m in \u001b[0;36m<cell line: 1>\u001b[0;34m()\u001b[0m\n\u001b[0;32m----> <a href='vscode-notebook-cell:/home/max/phd/projects/regularization/erank/notebooks/10.1-Sinus-supervised_task_distr_plots.ipynb#X14sZmlsZQ%3D%3D?line=0'>1</a>\u001b[0m fig, ax \u001b[39m=\u001b[39m plot_models_erank(models\u001b[39m=\u001b[39mmodel_dict, random_init_model\u001b[39m=\u001b[39minit_model, device\u001b[39m=\u001b[39m\u001b[39m'\u001b[39m\u001b[39mcuda\u001b[39m\u001b[39m'\u001b[39m)\n",
      "\u001b[0;31mNameError\u001b[0m: name 'init_model' is not defined"
     ]
    }
   ],
   "source": [
    "fig, ax = plot_models_erank(models=model_dict, random_init_model=init_model, device='cuda')"
   ]
  },
  {
   "cell_type": "code",
   "execution_count": null,
   "metadata": {},
   "outputs": [],
   "source": [
    "fig.savefig(f'sinus_erank_varying_task_distribution_num_vecs{num_vectors}.pdf', bbox_inches='tight')"
   ]
  },
  {
   "cell_type": "code",
   "execution_count": null,
   "metadata": {},
   "outputs": [],
   "source": [
    "fig.savefig(f'sinus_erank_varying_task_distribution_num_vecs{num_vectors}.png', dpi=300, bbox_inches='tight')"
   ]
  },
  {
   "cell_type": "code",
   "execution_count": null,
   "metadata": {},
   "outputs": [],
   "source": []
  }
 ],
 "metadata": {
  "kernelspec": {
   "display_name": "Python 3.8.13 ('erank')",
   "language": "python",
   "name": "python3"
  },
  "language_info": {
   "codemirror_mode": {
    "name": "ipython",
    "version": 3
   },
   "file_extension": ".py",
   "mimetype": "text/x-python",
   "name": "python",
   "nbconvert_exporter": "python",
   "pygments_lexer": "ipython3",
   "version": "3.8.13"
  },
  "orig_nbformat": 4,
  "vscode": {
   "interpreter": {
    "hash": "b1e300651644b4a5ccc8598fb3da49325ec88b18d4f380e9c939826d448ae9e4"
   }
  }
 },
 "nbformat": 4,
 "nbformat_minor": 2
}
