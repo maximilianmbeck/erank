{
 "cells": [
  {
   "cell_type": "code",
   "execution_count": 10,
   "metadata": {},
   "outputs": [
    {
     "name": "stdout",
     "output_type": "stream",
     "text": [
      "The autoreload extension is already loaded. To reload it, use:\n",
      "  %reload_ext autoreload\n"
     ]
    }
   ],
   "source": [
    "%load_ext autoreload\n",
    "%autoreload 2\n",
    "import sys\n",
    "import torch\n",
    "import itertools\n",
    "import copy\n",
    "import numpy as np\n",
    "from torch import nn\n",
    "import torchmetrics\n",
    "import pandas as pd\n",
    "sys.path.append('..')\n",
    "# sys.path.append('/system/user/beck/pwbeck/projects/regularization/ml_utilities')\n",
    "from pathlib import Path\n",
    "from typing import Union\n",
    "from pprint import pprint\n",
    "from ml_utilities.torch_models.base_model import BaseModel\n",
    "from ml_utilities.torch_models.fc import FC\n",
    "from ml_utilities.torch_models import get_model_class\n",
    "from ml_utilities.output_loader.repo import Repo\n",
    "from ml_utilities.output_loader.job_output import JobResult, SweepResult\n",
    "from ml_utilities.torch_utils.metrics import TAccuracy\n",
    "from ml_utilities.utils import match_number_list_to_interval, flatten_hierarchical_dict, convert_listofdicts_to_dictoflists, hyp_param_cfg_to_str\n",
    "from ml_utilities.run_utils.sweep import Sweeper\n",
    "from omegaconf import OmegaConf\n",
    "\n",
    "from erank.data.datasetgenerator import DatasetGenerator\n",
    "from erank.mode_connectivity import interpolate_linear, interpolate_linear_runs, interpolation_result2series, InstabilityAnalyzer\n",
    "\n",
    "import matplotlib.pyplot as plt\n",
    "gpu_id = 0\n",
    "REPO = Repo(dir=Path('../../erank'), hydra_defaults=OmegaConf.load('../configs/hydra/jobname_outputdir_format.yaml'))"
   ]
  },
  {
   "attachments": {},
   "cell_type": "markdown",
   "metadata": {},
   "source": [
    "# Instability analysis debug notebook\n",
    "This notebook is used to implement linear interplation of models. \n",
    "\n",
    "Do linear interpolation with on MNIST. Use data from Experiment 11.7.4. \n",
    "\n",
    "Start from pretrained model with 100 steps."
   ]
  },
  {
   "cell_type": "code",
   "execution_count": 2,
   "metadata": {},
   "outputs": [],
   "source": [
    "# some constants\n",
    "score_fn = TAccuracy()"
   ]
  },
  {
   "attachments": {},
   "cell_type": "markdown",
   "metadata": {},
   "source": [
    "## Instability Analysis on Experiment 11.7.3"
   ]
  },
  {
   "cell_type": "code",
   "execution_count": 26,
   "metadata": {},
   "outputs": [],
   "source": [
    "config_yaml = \"\"\"\n",
    "run_config:\n",
    "  exec_type: parallel # sequential\n",
    "  hostname: gorilla\n",
    "  gpu_ids: [0,1,2,3,4,5,6,7]\n",
    "  runs_per_gpu: 3\n",
    "\n",
    "  wandb: # wandb config for run_handler, if \"wandb: null\" then logging to wandb is disabled for run_handler\n",
    "    init:\n",
    "      tags:\n",
    "        - ${config.experiment_data.experiment_tag}_exps\n",
    "        - run_handler\n",
    "      notes: #\n",
    "      group: ${config.experiment_data.experiment_tag}\n",
    "      job_type: run_handler\n",
    "\n",
    "seeds: [1,2,3]\n",
    "\n",
    "sweep:\n",
    "  type: grid\n",
    "  axes:\n",
    "    - parameter: trainer.init_model_step\n",
    "      vals: [0, 5, 10, 15, 20, 25, 30, 35, 40, 45, 50, 55, 60, 65, 70, 75, 80, 85, 90, 95, 100, 125, 150, 175, 200, 225, 250, 275, 300, 325, 350, 375, 400, 425, 450, 475]\n",
    "    - parameter: data.dataset_kwargs.rotation_angle\n",
    "      vals: linspace(0,180,50,endpoint=True)\n",
    "    - parameter: data.dataset_split.restrict_n_samples_train_task\n",
    "      vals: [300] #[5, 20, 50, 100, 500, 1000, 10000, 48000]\n",
    "\n",
    "start_num: 3 # use this to count how often this config is run\n",
    "###\n",
    "config:\n",
    "  experiment_data:\n",
    "    entity: jkuiml-fsl\n",
    "    project_name: sparsity\n",
    "    experiment_tag: \"11.7\"\n",
    "    experiment_type: startnum_${start_num}\n",
    "    experiment_name: mnist-${config.experiment_data.experiment_tag}.${start_num}-lenet_rottasks_ft\n",
    "    experiment_dir: null\n",
    "    experiment_notes: Hyperparameter search.\n",
    "    job_name: null\n",
    "    seed: 0\n",
    "    hostname: null # the server on which the run is run, will be filled by run_handler\n",
    "    gpu_id: 0\n",
    "\n",
    "  # wandb:\n",
    "  #   init:\n",
    "  #     tags: # list(), used to tag wandblogger\n",
    "  #       - ${config.experiment_data.experiment_tag}_exps\n",
    "  #     notes: ${config.experiment_data.experiment_notes} # str, used to make notes to wandblogger\n",
    "  #     group: ${config.experiment_data.experiment_tag} # null\n",
    "  #     job_type: ${config.experiment_data.experiment_type} # examples: hypsearch, pretrain, eval, etc.\n",
    "\n",
    "  #   watch:\n",
    "  #     log: null #parameters #null #all\n",
    "  #     log_freq: 5000\n",
    "\n",
    "  model:\n",
    "    name: fc\n",
    "    model_kwargs:\n",
    "      input_size: 784\n",
    "      hidden_sizes:\n",
    "        - 300\n",
    "        - 100\n",
    "      output_size: 10\n",
    "      flatten_input: True\n",
    "      dropout: null\n",
    "      act_fn: relu\n",
    "\n",
    "  trainer:\n",
    "    training_setup: supervised\n",
    "    n_steps: 2000\n",
    "    log_train_step_every: 1\n",
    "    log_additional_train_step_every_multiplier: 1\n",
    "    log_additional_logs: True\n",
    "    val_every: 5\n",
    "    save_every: 5 #500\n",
    "    early_stopping_patience: 200 #500\n",
    "    batch_size: 128\n",
    "    optimizer_scheduler:\n",
    "      optimizer_name: adamw #sgd #adamw\n",
    "      optimizer_kwargs:\n",
    "        lr: 0.001\n",
    "        weight_decay: 0.0\n",
    "    \n",
    "    init_model_step: XXX\n",
    "    init_model: /system/user/beck/pwbeck/projects/regularization/erank/outputs/mnist-11.5.0-lenet--221015_122552/model_step_${config.trainer.init_model_step}.p\n",
    "\n",
    "    loss: crossentropy\n",
    "\n",
    "    metrics:\n",
    "      - Accuracy\n",
    "    num_workers: 4\n",
    "    verbose: False\n",
    "\n",
    "  data:\n",
    "    dataset: rotatedvision\n",
    "    dataset_kwargs:\n",
    "      data_root_path: /system/user/beck/pwbeck/data\n",
    "      dataset: mnist\n",
    "      rotation_angle: XXX\n",
    "    dataset_split:\n",
    "      train_val_split: 0.8\n",
    "      restrict_n_samples_train_task: XXX\n",
    "\n",
    "\"\"\"\n",
    "cfg = OmegaConf.create(config_yaml)"
   ]
  },
  {
   "cell_type": "code",
   "execution_count": 27,
   "metadata": {},
   "outputs": [
    {
     "name": "stdout",
     "output_type": "stream",
     "text": [
      "Exp. Tag(start_num): 11.7(3)\n",
      "Exp. Name: mnist-11.7.3-lenet_rottasks_ft\n",
      "Training setup: supervised\n",
      "Model name: fc\n",
      "Dataset name: rotatedvision\n",
      "Sweep type: grid\n",
      "  trainer.init_model_step: [0, 5, 10, 15, 20, 25, 30, 35, 40, 45, 50, 55, 60, 65, 70, 75, 80, 85, 90, 95, 100, 125, 150, 175, 200, 225, 250, 275, 300, 325, 350, 375, 400, 425, 450, 475]\n",
      "  data.dataset_kwargs.rotation_angle: linspace(0,180,50,endpoint=True)\n",
      "  data.dataset_split.restrict_n_samples_train_task: [300]\n",
      "Seeds: [1, 2, 3]\n",
      "Num. jobs: 5400\n",
      "Config updated: 2022-11-25 12:34:14\n",
      "Sweep started:  2022-11-25 12:36:51\n",
      "\n"
     ]
    }
   ],
   "source": [
    "sweepr = REPO.get_output_loader(cfg)\n",
    "print(sweepr)"
   ]
  },
  {
   "cell_type": "code",
   "execution_count": 28,
   "metadata": {},
   "outputs": [
    {
     "data": {
      "text/plain": [
       "3.673469387755102"
      ]
     },
     "execution_count": 28,
     "metadata": {},
     "output_type": "execute_result"
    }
   ],
   "source": [
    "np.linspace(0,180,50, endpoint=True)[1]"
   ]
  },
  {
   "cell_type": "code",
   "execution_count": 29,
   "metadata": {},
   "outputs": [
    {
     "data": {
      "text/plain": [
       "['trainer.init_model_step',\n",
       " 'data.dataset_kwargs.rotation_angle',\n",
       " 'data.dataset_split.restrict_n_samples_train_task']"
      ]
     },
     "execution_count": 29,
     "metadata": {},
     "output_type": "execute_result"
    }
   ],
   "source": [
    "sweepr.sweep_params"
   ]
  },
  {
   "cell_type": "code",
   "execution_count": 30,
   "metadata": {},
   "outputs": [
    {
     "name": "stderr",
     "output_type": "stream",
     "text": [
      "Collecting summaries: 100%|██████████| 5400/5400 [00:46<00:00, 117.38it/s]\n"
     ]
    }
   ],
   "source": [
    "qdict = {'trainer.init_model_step': 0,\n",
    "    'data.dataset_kwargs.rotation_angle':np.linspace(0,180,50, endpoint=True)[1]}\n",
    "qdict = {'trainer.init_model_step': 0,\n",
    "    'data.dataset_kwargs.rotation_angle':3.673}\n",
    "ret = sweepr.query_jobs(qdict, float_eps=1e-3)"
   ]
  },
  {
   "cell_type": "code",
   "execution_count": 31,
   "metadata": {},
   "outputs": [
    {
     "data": {
      "text/plain": [
       "True"
      ]
     },
     "execution_count": 31,
     "metadata": {},
     "output_type": "execute_result"
    }
   ],
   "source": [
    "isinstance(qdict['data.dataset_kwargs.rotation_angle'], (float))"
   ]
  },
  {
   "cell_type": "code",
   "execution_count": 32,
   "metadata": {},
   "outputs": [
    {
     "data": {
      "text/html": [
       "<div>\n",
       "<style scoped>\n",
       "    .dataframe tbody tr th:only-of-type {\n",
       "        vertical-align: middle;\n",
       "    }\n",
       "\n",
       "    .dataframe tbody tr th {\n",
       "        vertical-align: top;\n",
       "    }\n",
       "\n",
       "    .dataframe thead th {\n",
       "        text-align: right;\n",
       "    }\n",
       "</style>\n",
       "<table border=\"1\" class=\"dataframe\">\n",
       "  <thead>\n",
       "    <tr style=\"text-align: right;\">\n",
       "      <th></th>\n",
       "      <th>best_step</th>\n",
       "      <th>best_val_score</th>\n",
       "      <th>trainer.init_model_step</th>\n",
       "      <th>data.dataset_kwargs.rotation_angle</th>\n",
       "      <th>data.dataset_split.restrict_n_samples_train_task</th>\n",
       "      <th>seed</th>\n",
       "    </tr>\n",
       "  </thead>\n",
       "  <tbody>\n",
       "    <tr>\n",
       "      <th>mnist-11.7.3-lenet_rottasks_ft--init_model_step-0-rotation_angle-3.67347-restrict_n_samples_train_task-300-seed-1--221127_112533</th>\n",
       "      <td>110</td>\n",
       "      <td>0.850417</td>\n",
       "      <td>0</td>\n",
       "      <td>3.673469</td>\n",
       "      <td>300</td>\n",
       "      <td>1</td>\n",
       "    </tr>\n",
       "    <tr>\n",
       "      <th>mnist-11.7.3-lenet_rottasks_ft--init_model_step-0-rotation_angle-3.67347-restrict_n_samples_train_task-300-seed-2--221128_003316</th>\n",
       "      <td>160</td>\n",
       "      <td>0.847500</td>\n",
       "      <td>0</td>\n",
       "      <td>3.673469</td>\n",
       "      <td>300</td>\n",
       "      <td>2</td>\n",
       "    </tr>\n",
       "    <tr>\n",
       "      <th>mnist-11.7.3-lenet_rottasks_ft--init_model_step-0-rotation_angle-3.67347-restrict_n_samples_train_task-300-seed-3--221127_122758</th>\n",
       "      <td>355</td>\n",
       "      <td>0.851250</td>\n",
       "      <td>0</td>\n",
       "      <td>3.673469</td>\n",
       "      <td>300</td>\n",
       "      <td>3</td>\n",
       "    </tr>\n",
       "  </tbody>\n",
       "</table>\n",
       "</div>"
      ],
      "text/plain": [
       "                                                    best_step  best_val_score  \\\n",
       "mnist-11.7.3-lenet_rottasks_ft--init_model_step...        110        0.850417   \n",
       "mnist-11.7.3-lenet_rottasks_ft--init_model_step...        160        0.847500   \n",
       "mnist-11.7.3-lenet_rottasks_ft--init_model_step...        355        0.851250   \n",
       "\n",
       "                                                    trainer.init_model_step  \\\n",
       "mnist-11.7.3-lenet_rottasks_ft--init_model_step...                        0   \n",
       "mnist-11.7.3-lenet_rottasks_ft--init_model_step...                        0   \n",
       "mnist-11.7.3-lenet_rottasks_ft--init_model_step...                        0   \n",
       "\n",
       "                                                    data.dataset_kwargs.rotation_angle  \\\n",
       "mnist-11.7.3-lenet_rottasks_ft--init_model_step...                            3.673469   \n",
       "mnist-11.7.3-lenet_rottasks_ft--init_model_step...                            3.673469   \n",
       "mnist-11.7.3-lenet_rottasks_ft--init_model_step...                            3.673469   \n",
       "\n",
       "                                                    data.dataset_split.restrict_n_samples_train_task  \\\n",
       "mnist-11.7.3-lenet_rottasks_ft--init_model_step...                                               300   \n",
       "mnist-11.7.3-lenet_rottasks_ft--init_model_step...                                               300   \n",
       "mnist-11.7.3-lenet_rottasks_ft--init_model_step...                                               300   \n",
       "\n",
       "                                                    seed  \n",
       "mnist-11.7.3-lenet_rottasks_ft--init_model_step...     1  \n",
       "mnist-11.7.3-lenet_rottasks_ft--init_model_step...     2  \n",
       "mnist-11.7.3-lenet_rottasks_ft--init_model_step...     3  "
      ]
     },
     "execution_count": 32,
     "metadata": {},
     "output_type": "execute_result"
    }
   ],
   "source": [
    "ret[0]"
   ]
  },
  {
   "cell_type": "code",
   "execution_count": 33,
   "metadata": {},
   "outputs": [
    {
     "name": "stdout",
     "output_type": "stream",
     "text": [
      "type: grid\n",
      "axes:\n",
      "- parameter: trainer.init_model_step\n",
      "  vals:\n",
      "  - 0\n",
      "  - 5\n",
      "  - 10\n",
      "  - 15\n",
      "  - 20\n",
      "  - 25\n",
      "  - 30\n",
      "  - 35\n",
      "  - 40\n",
      "  - 45\n",
      "  - 50\n",
      "  - 55\n",
      "  - 60\n",
      "  - 65\n",
      "  - 70\n",
      "  - 75\n",
      "  - 80\n",
      "  - 85\n",
      "  - 90\n",
      "  - 95\n",
      "  - 100\n",
      "  - 125\n",
      "  - 150\n",
      "  - 175\n",
      "  - 200\n",
      "  - 225\n",
      "  - 250\n",
      "  - 275\n",
      "  - 300\n",
      "  - 325\n",
      "  - 350\n",
      "  - 375\n",
      "  - 400\n",
      "  - 425\n",
      "  - 450\n",
      "  - 475\n",
      "- parameter: data.dataset_kwargs.rotation_angle\n",
      "  vals: linspace(0,180,50,endpoint=True)\n",
      "- parameter: data.dataset_split.restrict_n_samples_train_task\n",
      "  vals:\n",
      "  - 300\n",
      "\n"
     ]
    }
   ],
   "source": [
    "print(OmegaConf.to_yaml(sweepr.sweep_cfg))"
   ]
  },
  {
   "cell_type": "code",
   "execution_count": 35,
   "metadata": {},
   "outputs": [
    {
     "data": {
      "text/plain": [
       "['trainer.init_model_step',\n",
       " 'data.dataset_kwargs.rotation_angle',\n",
       " 'data.dataset_split.restrict_n_samples_train_task']"
      ]
     },
     "execution_count": 35,
     "metadata": {},
     "output_type": "execute_result"
    }
   ],
   "source": [
    "sw = Sweeper.create(sweep_config=copy.deepcopy(sweepr.sweep_cfg))\n",
    "sw.sweep_params"
   ]
  },
  {
   "cell_type": "code",
   "execution_count": 36,
   "metadata": {},
   "outputs": [
    {
     "data": {
      "text/plain": [
       "[{'parameter': 'trainer.init_model_step', 'vals': [0, 5, 10, 15, 20, 25, 30, 35, 40, 45, 50, 55, 60, 65, 70, 75, 80, 85, 90, 95, 100, 125, 150, 175, 200, 225, 250, 275, 300, 325, 350, 375, 400, 425, 450, 475]}]"
      ]
     },
     "execution_count": 36,
     "metadata": {},
     "output_type": "execute_result"
    }
   ],
   "source": [
    "sw.drop_axes(['trainer.init_model_step', 'experiment_data.seed'])"
   ]
  },
  {
   "cell_type": "code",
   "execution_count": 37,
   "metadata": {},
   "outputs": [
    {
     "data": {
      "text/plain": [
       "['data.dataset_kwargs.rotation_angle',\n",
       " 'data.dataset_split.restrict_n_samples_train_task']"
      ]
     },
     "execution_count": 37,
     "metadata": {},
     "output_type": "execute_result"
    }
   ],
   "source": [
    "sw.sweep_params"
   ]
  },
  {
   "cell_type": "code",
   "execution_count": 39,
   "metadata": {},
   "outputs": [
    {
     "data": {
      "text/plain": [
       "['data.dataset_kwargs.rotation_angle',\n",
       " 'data.dataset_split.restrict_n_samples_train_task']"
      ]
     },
     "execution_count": 39,
     "metadata": {},
     "output_type": "execute_result"
    }
   ],
   "source": [
    "sw.drop_axes(['trainer.init_model_step', 'experiment_data.seed'])\n",
    "sw.sweep_params"
   ]
  },
  {
   "attachments": {},
   "cell_type": "markdown",
   "metadata": {},
   "source": [
    "### Instability analysis"
   ]
  },
  {
   "cell_type": "code",
   "execution_count": 5,
   "metadata": {},
   "outputs": [
    {
     "name": "stdout",
     "output_type": "stream",
     "text": [
      "Exp. Tag(start_num): 11.7(3)\n",
      "Exp. Name: mnist-11.7.3-lenet_rottasks_ft\n",
      "Training setup: supervised\n",
      "Model name: fc\n",
      "Dataset name: rotatedvision\n",
      "Sweep type: grid\n",
      "  trainer.init_model_step: [0, 5, 10, 15, 20, 25, 30, 35, 40, 45, 50, 55, 60, 65, 70, 75, 80, 85, 90, 95, 100, 125, 150, 175, 200, 225, 250, 275, 300, 325, 350, 375, 400, 425, 450, 475]\n",
      "  data.dataset_kwargs.rotation_angle: linspace(0,180,50,endpoint=True)\n",
      "  data.dataset_split.restrict_n_samples_train_task: [300]\n",
      "Seeds: [1, 2, 3]\n",
      "Num. jobs: 5400\n",
      "Config updated: 2022-11-25 12:34:14\n",
      "Sweep started:  2022-11-25 12:36:51\n",
      "\n"
     ]
    }
   ],
   "source": [
    "print(sweepr)"
   ]
  },
  {
   "cell_type": "code",
   "execution_count": 6,
   "metadata": {},
   "outputs": [
    {
     "data": {
      "text/plain": [
       "PosixPath('/system/user/publicwork/beck/projects/regularization/erank/outputs/mnist-11.7.3-lenet_rottasks_ft--221125_123651')"
      ]
     },
     "execution_count": 6,
     "metadata": {},
     "output_type": "execute_result"
    }
   ],
   "source": [
    "sweepr.directory"
   ]
  },
  {
   "cell_type": "code",
   "execution_count": 7,
   "metadata": {},
   "outputs": [],
   "source": [
    "cfg_instability_yaml = f\"\"\"\n",
    "instability_sweep: /system/user/publicwork/beck/projects/regularization/erank/outputs/mnist-11.7.3-lenet_rottasks_ft--221125_123651\n",
    "score_fn: TAccuracy\n",
    "interpolation_factors: [0.0000, 0.2500, 0.5000, 0.7500, 1.0000]\n",
    "init_model_idxes_ks_or_every: 15\n",
    "train_model_idxes: [-1]\n",
    "device: {gpu_id}\n",
    "interpolate_linear_kwargs: \n",
    "  interpolation_on_train_data: False\n",
    "  dataloader_kwargs:\n",
    "    batch_size: 1024\n",
    "  compute_model_distances: True\n",
    "hpparam_sweep:\n",
    "  type: grid\n",
    "  axes:\n",
    "    - parameter: data.dataset_kwargs.rotation_angle\n",
    "      vals: [180.] #linspace(0,180,50,endpoint=True)\n",
    "    - parameter: data.dataset_split.restrict_n_samples_train_task\n",
    "      vals:\n",
    "      - 300\n",
    "\"\"\"\n",
    "cfg_instability = OmegaConf.create(cfg_instability_yaml)"
   ]
  },
  {
   "cell_type": "code",
   "execution_count": 8,
   "metadata": {},
   "outputs": [
    {
     "name": "stdout",
     "output_type": "stream",
     "text": [
      "[2022-12-21 11:13:21,512][ml_utilities.utils][INFO] - Logging to /system/user/publicwork/beck/projects/regularization/erank/outputs/mnist-11.7.3-lenet_rottasks_ft--221125_123651/instability_analysis/output--221221_111321.log initialized.\n",
      "[2022-12-21 11:13:21,528][erank.mode_connectivity][INFO] - Setup instability analysis with config: \n",
      "instability_sweep: /system/user/publicwork/beck/projects/regularization/erank/outputs/mnist-11.7.3-lenet_rottasks_ft--221125_123651\n",
      "score_fn: TAccuracy\n",
      "interpolation_factors:\n",
      "- 0.0\n",
      "- 0.25\n",
      "- 0.5\n",
      "- 0.75\n",
      "- 1.0\n",
      "interpolate_linear_kwargs:\n",
      "  interpolation_on_train_data: false\n",
      "  dataloader_kwargs:\n",
      "    batch_size: 1024\n",
      "  compute_model_distances: true\n",
      "init_model_idx_k_param_name: trainer.init_model_step\n",
      "device: 0\n",
      "save_results_to_disc: true\n",
      "override_files: false\n",
      "num_seed_combinations: 1\n",
      "init_model_idxes_ks_or_every: 15\n",
      "train_model_idxes:\n",
      "- -1\n",
      "hpparam_sweep:\n",
      "  type: grid\n",
      "  axes:\n",
      "  - parameter: data.dataset_kwargs.rotation_angle\n",
      "    vals:\n",
      "    - 180.0\n",
      "  - parameter: data.dataset_split.restrict_n_samples_train_task\n",
      "    vals:\n",
      "    - 300\n",
      "\n",
      "[2022-12-21 11:13:21,529][erank.mode_connectivity][INFO] - Loading variables from sweep.\n"
     ]
    },
    {
     "name": "stderr",
     "output_type": "stream",
     "text": [
      "Collecting failed jobs: 100%|██████████| 5400/5400 [00:48<00:00, 112.29it/s]\n"
     ]
    },
    {
     "name": "stdout",
     "output_type": "stream",
     "text": [
      "[2022-12-21 11:14:10,130][erank.mode_connectivity][INFO] - Using init_model_idxes / k parameters: [0, 75, 350]\n",
      "[2022-12-21 11:14:10,131][erank.mode_connectivity][INFO] - Finding seed combinations..\n",
      "[2022-12-21 11:14:10,132][erank.mode_connectivity][INFO] - Using seed combinations: [(1, 2)]\n"
     ]
    }
   ],
   "source": [
    "insta = InstabilityAnalyzer(**cfg_instability)"
   ]
  },
  {
   "cell_type": "code",
   "execution_count": 9,
   "metadata": {},
   "outputs": [
    {
     "name": "stdout",
     "output_type": "stream",
     "text": [
      "[2022-12-21 11:15:10,190][erank.mode_connectivity][INFO] - Starting instability analysis..\n",
      "[2022-12-21 11:15:10,195][ml_utilities.run_utils.sweep][INFO] - Generating sweep type: grid\n",
      "[2022-12-21 11:15:10,202][erank.mode_connectivity][INFO] - Number of hyperparameter combinations for instability analysis: 1\n",
      "HP combinations:   0%|          | 0/1 [00:00<?, ?it/s][2022-12-21 11:15:18,748][erank.mode_connectivity][INFO] - Params `rotation_angle-180-restrict_n_samples_train_task-300`: compute\n"
     ]
    },
    {
     "name": "stderr",
     "output_type": "stream",
     "text": [
      "Collecting summaries: 100%|██████████| 5400/5400 [00:21<00:00, 247.10it/s]\n"
     ]
    },
    {
     "name": "stdout",
     "output_type": "stream",
     "text": [
      "[2022-12-21 11:15:44,437][erank.data.datasetgenerator][INFO] - Generating dataset: rotatedvision\n",
      "[2022-12-21 11:15:44,440][erank.data.rotatedvisiondataset][INFO] - Rotated vision dataset with mnist and rotation 180.0.\n",
      "[2022-12-21 11:16:21,567][erank.data.datasetgenerator][INFO] - Generating dataset: rotatedvision\n",
      "[2022-12-21 11:16:21,569][erank.data.rotatedvisiondataset][INFO] - Rotated vision dataset with mnist and rotation 180.0.\n",
      "[2022-12-21 11:16:56,195][erank.data.datasetgenerator][INFO] - Generating dataset: rotatedvision\n",
      "[2022-12-21 11:16:56,197][erank.data.rotatedvisiondataset][INFO] - Rotated vision dataset with mnist and rotation 180.0.\n",
      "HP combinations: 100%|██████████| 1/1 [03:28<00:00, 208.23s/it]\n",
      "[2022-12-21 11:18:47,035][erank.mode_connectivity][INFO] - Done. \n",
      "Combined results in file `/system/user/publicwork/beck/projects/regularization/erank/outputs/mnist-11.7.3-lenet_rottasks_ft--221125_123651/instability_analysis/combined_results/combined_result--221221_111321.p`.\n"
     ]
    }
   ],
   "source": [
    "res_ret = insta.instability_analysis(override_files=True)"
   ]
  },
  {
   "cell_type": "code",
   "execution_count": 14,
   "metadata": {},
   "outputs": [
    {
     "data": {
      "text/plain": [
       "[0.0,\n",
       " 18.367346938775512,\n",
       " 36.734693877551024,\n",
       " 55.10204081632653,\n",
       " 73.46938775510205,\n",
       " 91.83673469387756,\n",
       " 110.20408163265306,\n",
       " 128.57142857142858,\n",
       " 146.9387755102041,\n",
       " 165.3061224489796]"
      ]
     },
     "execution_count": 14,
     "metadata": {},
     "output_type": "execute_result"
    }
   ],
   "source": [
    "np.linspace(0,180,50,endpoint=True)[::5].tolist()"
   ]
  },
  {
   "cell_type": "code",
   "execution_count": 15,
   "metadata": {},
   "outputs": [
    {
     "data": {
      "text/plain": [
       "array([  0.        ,   3.67346939,   7.34693878,  11.02040816,\n",
       "        14.69387755,  18.36734694,  22.04081633,  25.71428571,\n",
       "        29.3877551 ,  33.06122449,  36.73469388,  40.40816327,\n",
       "        44.08163265,  47.75510204,  51.42857143,  55.10204082,\n",
       "        58.7755102 ,  62.44897959,  66.12244898,  69.79591837,\n",
       "        73.46938776,  77.14285714,  80.81632653,  84.48979592,\n",
       "        88.16326531,  91.83673469,  95.51020408,  99.18367347,\n",
       "       102.85714286, 106.53061224, 110.20408163, 113.87755102,\n",
       "       117.55102041, 121.2244898 , 124.89795918, 128.57142857,\n",
       "       132.24489796, 135.91836735, 139.59183673, 143.26530612,\n",
       "       146.93877551, 150.6122449 , 154.28571429, 157.95918367,\n",
       "       161.63265306, 165.30612245, 168.97959184, 172.65306122,\n",
       "       176.32653061, 180.        ])"
      ]
     },
     "execution_count": 15,
     "metadata": {},
     "output_type": "execute_result"
    }
   ],
   "source": [
    "np.linspace(0,180,50,endpoint=True)"
   ]
  },
  {
   "cell_type": "code",
   "execution_count": null,
   "metadata": {},
   "outputs": [],
   "source": []
  }
 ],
 "metadata": {
  "kernelspec": {
   "display_name": "subspaces",
   "language": "python",
   "name": "python3"
  },
  "language_info": {
   "codemirror_mode": {
    "name": "ipython",
    "version": 3
   },
   "file_extension": ".py",
   "mimetype": "text/x-python",
   "name": "python",
   "nbconvert_exporter": "python",
   "pygments_lexer": "ipython3",
   "version": "3.10.4"
  },
  "orig_nbformat": 4,
  "vscode": {
   "interpreter": {
    "hash": "ac019f01eb2a0970f066d5e193a84f30bb43215eeeface9d3d8db32241c79700"
   }
  }
 },
 "nbformat": 4,
 "nbformat_minor": 2
}
