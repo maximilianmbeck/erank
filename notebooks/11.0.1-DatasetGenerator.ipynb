{
 "cells": [
  {
   "cell_type": "code",
   "execution_count": 8,
   "metadata": {},
   "outputs": [
    {
     "name": "stdout",
     "output_type": "stream",
     "text": [
      "The autoreload extension is already loaded. To reload it, use:\n",
      "  %reload_ext autoreload\n"
     ]
    }
   ],
   "source": [
    "%load_ext autoreload\n",
    "%autoreload 2\n",
    "import sys\n",
    "import torch\n",
    "from torch import nn\n",
    "sys.path.append('..')\n",
    "# sys.path.append('/system/user/beck/pwbeck/projects/regularization/ml_utilities')\n",
    "from pathlib import Path\n",
    "from typing import Union\n",
    "from ml_utilities.torch_models.base_model import BaseModel\n",
    "from ml_utilities.torch_models.fc import FC\n",
    "from ml_utilities.torch_models import get_model_class\n",
    "from omegaconf import OmegaConf\n",
    "import matplotlib.pyplot as plt\n",
    "import torchvision\n",
    "import torchvision.transforms as transforms\n",
    "\n",
    "from erank.data.datasetgenerator import DatasetGenerator\n",
    "from erank.utils import load_directions_matrix_from_task_sweep\n",
    "from ml_utilities.data_utils import calculate_dataset_mean_std, show_images\n",
    "from ml_utilities.utils import convert_dict_to_python_types\n",
    "\n",
    "gpu_id = 0"
   ]
  },
  {
   "cell_type": "code",
   "execution_count": 9,
   "metadata": {},
   "outputs": [],
   "source": [
    "data_dir = '/home/max/phd/data'"
   ]
  },
  {
   "cell_type": "code",
   "execution_count": 10,
   "metadata": {},
   "outputs": [
    {
     "name": "stdout",
     "output_type": "stream",
     "text": [
      "dataset: mnist\n",
      "dataset_kwargs:\n",
      "  data_root_path: /home/max/phd/data\n",
      "dataset_split:\n",
      "  train_val_split: 0.8\n",
      "\n"
     ]
    }
   ],
   "source": [
    "data_cfg = f\"\"\"\n",
    "data:\n",
    "  dataset: mnist \n",
    "  dataset_kwargs:\n",
    "    data_root_path: {data_dir}\n",
    "  dataset_split:\n",
    "    train_val_split: 0.8\n",
    "\"\"\"\n",
    "data_cfg = OmegaConf.create(data_cfg)\n",
    "data_cfg = data_cfg.data\n",
    "print(OmegaConf.to_yaml(data_cfg))"
   ]
  },
  {
   "cell_type": "code",
   "execution_count": 11,
   "metadata": {},
   "outputs": [],
   "source": [
    "dataset_generator = DatasetGenerator(dataset=data_cfg.dataset,\n",
    "                                     dataset_kwargs=data_cfg.dataset_kwargs,\n",
    "                                     dataset_split=data_cfg.dataset_split)\n",
    "dataset_generator.generate_dataset()\n",
    "train_set, val_set = dataset_generator.train_split, dataset_generator.val_split"
   ]
  },
  {
   "cell_type": "code",
   "execution_count": 12,
   "metadata": {},
   "outputs": [
    {
     "data": {
      "text/plain": [
       "(48000, 12000)"
      ]
     },
     "execution_count": 12,
     "metadata": {},
     "output_type": "execute_result"
    }
   ],
   "source": [
    "len(train_set), len(val_set)"
   ]
  },
  {
   "cell_type": "code",
   "execution_count": 17,
   "metadata": {},
   "outputs": [
    {
     "data": {
      "image/png": "[encoded data removed]",
      "text/plain": [
       "<Figure size 720x360 with 8 Axes>"
      ]
     },
     "metadata": {
      "needs_background": "light"
     },
     "output_type": "display_data"
    }
   ],
   "source": [
    "show_images(train_set, 10, 4, cmap='gray')"
   ]
  },
  {
   "cell_type": "code",
   "execution_count": null,
   "metadata": {},
   "outputs": [],
   "source": []
  }
 ],
 "metadata": {
  "kernelspec": {
   "display_name": "Python 3.8.13 ('erank')",
   "language": "python",
   "name": "python3"
  },
  "language_info": {
   "codemirror_mode": {
    "name": "ipython",
    "version": 3
   },
   "file_extension": ".py",
   "mimetype": "text/x-python",
   "name": "python",
   "nbconvert_exporter": "python",
   "pygments_lexer": "ipython3",
   "version": "3.8.13"
  },
  "orig_nbformat": 4,
  "vscode": {
   "interpreter": {
    "hash": "b1e300651644b4a5ccc8598fb3da49325ec88b18d4f380e9c939826d448ae9e4"
   }
  }
 },
 "nbformat": 4,
 "nbformat_minor": 2
}
