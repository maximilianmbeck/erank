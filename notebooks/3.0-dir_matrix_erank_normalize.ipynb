{
 "cells": [
  {
   "cell_type": "code",
   "execution_count": 1,
   "metadata": {},
   "outputs": [
    {
     "name": "stderr",
     "output_type": "stream",
     "text": [
      "/system/apps/userenv/beck/erank/lib/python3.8/site-packages/tqdm/auto.py:22: TqdmWarning: IProgress not found. Please update jupyter and ipywidgets. See https://ipywidgets.readthedocs.io/en/stable/user_install.html\n",
      "  from .autonotebook import tqdm as notebook_tqdm\n"
     ]
    }
   ],
   "source": [
    "%load_ext autoreload\n",
    "%autoreload 2\n",
    "import sys\n",
    "import torch\n",
    "from torch import nn\n",
    "sys.path.append('..')\n",
    "# sys.path.append('/system/user/beck/pwbeck/projects/regularization/ml_utilities')\n",
    "from pathlib import Path\n",
    "from typing import Union\n",
    "from ml_utilities.torch_models.base_model import BaseModel\n",
    "from ml_utilities.torch_models.fc import FC\n",
    "from ml_utilities.torch_models import get_model_class\n",
    "from omegaconf import OmegaConf\n",
    "\n",
    "from erank.utils import load_directions_matrix_from_task_sweep\n",
    "import matplotlib.pyplot as plt\n",
    "gpu_id = 0"
   ]
  },
  {
   "cell_type": "markdown",
   "metadata": {},
   "source": [
    "## Load matrix"
   ]
  },
  {
   "cell_type": "code",
   "execution_count": 2,
   "metadata": {},
   "outputs": [
    {
     "name": "stderr",
     "output_type": "stream",
     "text": [
      "Loading /system/user/beck/pwbeck/projects/regularization/erank/outputs/f_mnist-2.0-taskidxXXX_260622_110634/outputs/f_mnist-2.0-taskidx3-seed0_260622_110648: 100%|██████████| 10/10 [00:02<00:00,  3.45it/s]\n"
     ]
    },
    {
     "data": {
      "text/plain": [
       "tensor([[-0.0005, -0.0005, -0.0004,  ..., -0.0032,  0.0077, -0.0123],\n",
       "        [-0.0044, -0.0045, -0.0043,  ..., -0.0023,  0.0065, -0.0126],\n",
       "        [-0.0035, -0.0035, -0.0034,  ...,  0.0005,  0.0075, -0.0096],\n",
       "        ...,\n",
       "        [-0.0034, -0.0034, -0.0034,  ..., -0.0009,  0.0030, -0.0107],\n",
       "        [-0.0011, -0.0011, -0.0012,  ..., -0.0041,  0.0075, -0.0082],\n",
       "        [-0.0046, -0.0046, -0.0050,  ..., -0.0013,  0.0027, -0.0132]],\n",
       "       device='cuda:0', requires_grad=True)"
      ]
     },
     "execution_count": 2,
     "metadata": {},
     "output_type": "execute_result"
    }
   ],
   "source": [
    "p = '/system/user/beck/pwbeck/projects/regularization/erank/outputs/f_mnist-2.0-taskidxXXX_260622_110634/outputs'\n",
    "dir_matrix = load_directions_matrix_from_task_sweep(p, device=gpu_id)\n",
    "dir_matrix.requires_grad_(True)"
   ]
  },
  {
   "cell_type": "code",
   "execution_count": 3,
   "metadata": {},
   "outputs": [
    {
     "data": {
      "text/plain": [
       "(torch.Size([10, 669706]), device(type='cuda', index=0), True)"
      ]
     },
     "execution_count": 3,
     "metadata": {},
     "output_type": "execute_result"
    }
   ],
   "source": [
    "dir_matrix.shape, dir_matrix.device, dir_matrix.requires_grad"
   ]
  },
  {
   "cell_type": "markdown",
   "metadata": {},
   "source": [
    "## erank function"
   ]
  },
  {
   "cell_type": "code",
   "execution_count": 4,
   "metadata": {},
   "outputs": [],
   "source": [
    "def erank(matrix_A: torch.Tensor, center_matrix_A: bool=False) -> torch.Tensor:\n",
    "        \"\"\"Calculates the effective rank of a matrix.\n",
    "\n",
    "        Args:\n",
    "            matrix_A (torch.Tensor): Matrix of shape m x n. \n",
    "            center_matrix_A (bool): Center the matrix \n",
    "\n",
    "        Returns:\n",
    "            torch.Tensor: Effective rank of matrix_A\n",
    "        \"\"\"\n",
    "        assert matrix_A.ndim == 2\n",
    "        _, s, _ = torch.pca_lowrank(matrix_A, center=center_matrix_A, niter=1, q=min(matrix_A.shape[0], matrix_A.shape[1]))\n",
    "        # s = torch.square(s) / (s.shape[0] - 1)\n",
    "\n",
    "        # normalizes input s -> scale independent!\n",
    "        return torch.exp(torch.distributions.Categorical(s).entropy())"
   ]
  },
  {
   "cell_type": "code",
   "execution_count": 5,
   "metadata": {},
   "outputs": [
    {
     "data": {
      "text/plain": [
       "tensor(9.1032, device='cuda:0', grad_fn=<ExpBackward>)"
      ]
     },
     "execution_count": 5,
     "metadata": {},
     "output_type": "execute_result"
    }
   ],
   "source": [
    "er = erank(dir_matrix)\n",
    "er"
   ]
  },
  {
   "cell_type": "code",
   "execution_count": 6,
   "metadata": {},
   "outputs": [],
   "source": [
    "# er.backward()"
   ]
  },
  {
   "cell_type": "markdown",
   "metadata": {},
   "source": [
    "## What happens to the effective rank of the directions matrix, if we normalize the matrix?\n",
    "\n",
    "The effective rank changes barely. \n",
    "Reason: The vectors in the matrix have about the same norm. \n",
    "Directions of vectors do not change"
   ]
  },
  {
   "cell_type": "code",
   "execution_count": 7,
   "metadata": {},
   "outputs": [],
   "source": [
    "norm_dir_matrix = dir_matrix / torch.linalg.norm(dir_matrix, ord=2, dim=1, keepdim=True)"
   ]
  },
  {
   "cell_type": "code",
   "execution_count": 8,
   "metadata": {},
   "outputs": [],
   "source": [
    "# torch.linalg.norm(dir_matrix, ord=2, dim=1, keepdim=True), torch.linalg.norm(norm_dir_matrix, ord=2, dim=1, keepdim=True)"
   ]
  },
  {
   "cell_type": "code",
   "execution_count": 9,
   "metadata": {},
   "outputs": [
    {
     "data": {
      "text/plain": [
       "(tensor(9.1032, device='cuda:0', grad_fn=<ExpBackward>),\n",
       " tensor(9.1280, device='cuda:0', grad_fn=<ExpBackward>))"
      ]
     },
     "execution_count": 9,
     "metadata": {},
     "output_type": "execute_result"
    }
   ],
   "source": [
    "erank(dir_matrix), erank(norm_dir_matrix)"
   ]
  },
  {
   "cell_type": "markdown",
   "metadata": {},
   "source": [
    "## How sensitive is the erank to changes in the update vector? Specifically, the norm:\n",
    "\n",
    "Here the erank and the singular values of the matrix = cat([pretrain_diffs, [norm_vec, 0,0, ...]]) is calculated.\n",
    "\n",
    "Conclusion: The effective rank is highly dependent on the norms of the vectors in the directions matrix, i.e. the effective rank more influenced by vectors with larger norms (i.e. longer vectors). \n",
    "\n",
    "When the vectors have about the same norm, the effective rank is close to the \"real rank\".\n",
    "\n",
    "This needs to be considered in construction of the erank matrix!\n",
    "\n",
    "If we want to constrain the update directions to directions of pretrained models the update vector should have about the same norm as the pretrain_diffs. \n",
    "However, the norm of the pretraindiffs vectors is much larger, since they were updated by many gradient descent steps. \n"
   ]
  },
  {
   "cell_type": "code",
   "execution_count": 10,
   "metadata": {},
   "outputs": [
    {
     "data": {
      "text/plain": [
       "(tensor([8.1837e+03, 2.5216e+01, 9.5901e+00, 8.6241e+00, 8.3973e+00, 8.0420e+00],\n",
       "        device='cuda:0', grad_fn=<SvdHelperBackward>),\n",
       " tensor(1.0975, device='cuda:0', grad_fn=<ExpBackward>))"
      ]
     },
     "execution_count": 10,
     "metadata": {},
     "output_type": "execute_result"
    }
   ],
   "source": [
    "norm_update_vec = 10\n",
    "\n",
    "delta = torch.zeros(size=(1,dir_matrix.shape[1])).to(dir_matrix)\n",
    "delta[0] = norm_update_vec\n",
    "matrix1 = torch.cat([delta, dir_matrix], dim=0)\n",
    "_, s, _ = torch.svd_lowrank(matrix1)\n",
    "s, erank(matrix1)"
   ]
  },
  {
   "cell_type": "code",
   "execution_count": 11,
   "metadata": {},
   "outputs": [
    {
     "data": {
      "text/plain": [
       "(tensor([25.2208,  9.5065,  8.9819,  8.7194,  8.6148,  8.2036], device='cuda:0',\n",
       "        grad_fn=<SvdHelperBackward>),\n",
       " tensor(9.3705, device='cuda:0', grad_fn=<ExpBackward>))"
      ]
     },
     "execution_count": 11,
     "metadata": {},
     "output_type": "execute_result"
    }
   ],
   "source": [
    "norm_update_vec = 1e-3\n",
    "\n",
    "delta = torch.zeros(size=(1,dir_matrix.shape[1])).to(dir_matrix)\n",
    "delta[0] = norm_update_vec\n",
    "matrix1 = torch.cat([delta, dir_matrix], dim=0)\n",
    "_, s, _ = torch.svd_lowrank(matrix1)\n",
    "s, erank(matrix1)"
   ]
  },
  {
   "cell_type": "markdown",
   "metadata": {},
   "source": [
    "The erank is sensitive to length of update vectors."
   ]
  },
  {
   "cell_type": "code",
   "execution_count": 12,
   "metadata": {},
   "outputs": [],
   "source": [
    "# This generates values for erank plots.\n",
    "# It analyzes the erank of a matrix if the norm of one vector is increased.\n",
    "\n",
    "# I use the directions matrix (i.e. concatenated models) and concatenate one vector which has only one entry. \n",
    "# This vector spans a one-dimensional space (a line). The value of this entry is increased.\n",
    "\n",
    "def erank_sv_norm_update_vector_sweep(dir_matrix, normalize_dir_matrix: bool = False, xlim_logscale=[-4,1], n_points=20):\n",
    "    erank_vals = []\n",
    "    singular_vals = []\n",
    "    vec_norms = torch.logspace(xlim_logscale[0], xlim_logscale[1], n_points)\n",
    "    for n in vec_norms:\n",
    "        delta = torch.zeros(size=(1, dir_matrix.shape[1])).to(dir_matrix)\n",
    "        delta[0] = n\n",
    "        matrix1 = torch.cat([delta, dir_matrix], dim=0)\n",
    "        if normalize_dir_matrix:\n",
    "            # normalize matrix\n",
    "            matrix1 = matrix1 / torch.linalg.norm(matrix1, ord=2, dim=1, keepdim=True)\n",
    "        erank_vals.append(erank(matrix1).item())\n",
    "        _, s, _ = torch.svd_lowrank(matrix1)\n",
    "        singular_vals.append(s.detach().cpu().numpy())\n",
    "    return vec_norms, erank_vals, singular_vals\n"
   ]
  },
  {
   "cell_type": "code",
   "execution_count": 13,
   "metadata": {},
   "outputs": [],
   "source": [
    "# make plot erank vs. appended vector norm\n",
    "# def erank_vs_update_step_norm(dir_matrix, vals=20)\n",
    "vec_norms, erank_vals, singular_vals = erank_sv_norm_update_vector_sweep(dir_matrix, normalize_dir_matrix=False)"
   ]
  },
  {
   "cell_type": "code",
   "execution_count": 14,
   "metadata": {},
   "outputs": [
    {
     "data": {
      "text/plain": [
       "(5, 60)"
      ]
     },
     "execution_count": 14,
     "metadata": {},
     "output_type": "execute_result"
    },
    {
     "data": {
      "image/png": "[encoded data removed]",
      "text/plain": [
       "<Figure size 1080x360 with 2 Axes>"
      ]
     },
     "metadata": {
      "needs_background": "light"
     },
     "output_type": "display_data"
    }
   ],
   "source": [
    "plt.figure(figsize=(15,5))\n",
    "plt.subplot(1,2,1)\n",
    "plt.plot(vec_norms, erank_vals, 'o-')\n",
    "plt.xscale('log')\n",
    "plt.ylabel('erank')\n",
    "plt.xlabel('norm update vector')\n",
    "plt.title('erank of unnormalized matrix')\n",
    "\n",
    "plt.subplot(1,2,2)\n",
    "plt.plot(vec_norms, singular_vals, 'o-')\n",
    "plt.xscale('log')\n",
    "plt.yscale('log')\n",
    "plt.ylabel('singular value')\n",
    "plt.xlabel('norm update vector')\n",
    "plt.title('singular values of unnormalized matrix')\n",
    "plt.ylim(5, 60)"
   ]
  },
  {
   "cell_type": "code",
   "execution_count": 26,
   "metadata": {},
   "outputs": [],
   "source": [
    "# make same plot of normalized matrix\n",
    "vec_norms, erank_vals, singular_vals = erank_sv_norm_update_vector_sweep(dir_matrix, normalize_dir_matrix=True)"
   ]
  },
  {
   "cell_type": "code",
   "execution_count": 27,
   "metadata": {},
   "outputs": [
    {
     "data": {
      "text/plain": [
       "Text(0.5, 1.0, 'singular values of normalized matrix')"
      ]
     },
     "execution_count": 27,
     "metadata": {},
     "output_type": "execute_result"
    },
    {
     "data": {
      "image/png": "[encoded data removed]",
      "text/plain": [
       "<Figure size 1080x360 with 2 Axes>"
      ]
     },
     "metadata": {
      "needs_background": "light"
     },
     "output_type": "display_data"
    }
   ],
   "source": [
    "plt.figure(figsize=(15,5))\n",
    "plt.subplot(1,2,1)\n",
    "plt.plot(vec_norms, erank_vals, 'o-')\n",
    "plt.xscale('log')\n",
    "plt.ylim(1,12)\n",
    "plt.ylabel('erank')\n",
    "plt.xlabel('norm update vector')\n",
    "plt.title('erank of normalized matrix')\n",
    "\n",
    "plt.subplot(1,2,2)\n",
    "plt.plot(vec_norms, singular_vals, 'o-')\n",
    "plt.xscale('log')\n",
    "plt.ylabel('singular value')\n",
    "plt.xlabel('norm update vector')\n",
    "plt.title('singular values of normalized matrix')\n"
   ]
  },
  {
   "cell_type": "markdown",
   "metadata": {},
   "source": [
    "## Same analysis with unit direction matrix\n",
    "\n",
    "This is just a sanity check if we observe the same behavior as above in a controlled setting. \n",
    "\n",
    "dir_matrix = cat([identity, [norm_vec,0,0,...]])"
   ]
  },
  {
   "cell_type": "code",
   "execution_count": 17,
   "metadata": {},
   "outputs": [],
   "source": [
    "diag = torch.eye(10)\n",
    "vec_norms, erank_vals, singular_vals = erank_sv_norm_update_vector_sweep(diag, normalize_dir_matrix=False)"
   ]
  },
  {
   "cell_type": "code",
   "execution_count": 18,
   "metadata": {},
   "outputs": [
    {
     "data": {
      "text/plain": [
       "(0.0, 3.0)"
      ]
     },
     "execution_count": 18,
     "metadata": {},
     "output_type": "execute_result"
    },
    {
     "data": {
      "image/png": "[encoded data removed]",
      "text/plain": [
       "<Figure size 1080x360 with 2 Axes>"
      ]
     },
     "metadata": {
      "needs_background": "light"
     },
     "output_type": "display_data"
    }
   ],
   "source": [
    "plt.figure(figsize=(15,5))\n",
    "plt.subplot(1,2,1)\n",
    "plt.plot(vec_norms, erank_vals, 'o-')\n",
    "plt.xscale('log')\n",
    "plt.ylabel('erank')\n",
    "plt.xlabel('norm update vector')\n",
    "plt.title('erank of unnormalized matrix')\n",
    "\n",
    "plt.subplot(1,2,2)\n",
    "plt.plot(vec_norms, singular_vals, 'o-')\n",
    "plt.xscale('log')\n",
    "# plt.yscale('log')\n",
    "plt.ylabel('singular value')\n",
    "plt.xlabel('norm update vector')\n",
    "plt.title('singular values of unnormalized matrix')\n",
    "plt.ylim(0, 3)"
   ]
  },
  {
   "cell_type": "code",
   "execution_count": 19,
   "metadata": {},
   "outputs": [],
   "source": [
    "diag = torch.eye(10)\n",
    "vec_norms, erank_vals, singular_vals = erank_sv_norm_update_vector_sweep(diag, normalize_dir_matrix=True)"
   ]
  },
  {
   "cell_type": "code",
   "execution_count": 20,
   "metadata": {},
   "outputs": [
    {
     "data": {
      "text/plain": [
       "Text(0.5, 1.0, 'singular values of normalized matrix')"
      ]
     },
     "execution_count": 20,
     "metadata": {},
     "output_type": "execute_result"
    },
    {
     "data": {
      "image/png": "[encoded data removed]",
      "text/plain": [
       "<Figure size 1080x360 with 2 Axes>"
      ]
     },
     "metadata": {
      "needs_background": "light"
     },
     "output_type": "display_data"
    }
   ],
   "source": [
    "plt.figure(figsize=(15,5))\n",
    "plt.subplot(1,2,1)\n",
    "plt.plot(vec_norms, erank_vals, 'o-')\n",
    "plt.xscale('log')\n",
    "plt.ylim(1,15)\n",
    "plt.ylabel('erank')\n",
    "plt.xlabel('norm update vector')\n",
    "plt.title('erank of normalized matrix')\n",
    "\n",
    "plt.subplot(1,2,2)\n",
    "plt.plot(vec_norms, singular_vals, 'o-')\n",
    "plt.xscale('log')\n",
    "plt.ylabel('singular value')\n",
    "plt.xlabel('norm update vector')\n",
    "plt.title('singular values of normalized matrix')"
   ]
  },
  {
   "cell_type": "code",
   "execution_count": 21,
   "metadata": {},
   "outputs": [
    {
     "data": {
      "text/plain": [
       "tensor(10.0000)"
      ]
     },
     "execution_count": 21,
     "metadata": {},
     "output_type": "execute_result"
    }
   ],
   "source": [
    "# Effective rank of a diagonal matrix:\n",
    "erank(diag)"
   ]
  },
  {
   "cell_type": "markdown",
   "metadata": {},
   "source": [
    "## Remedy to constant erank with normalized directions\n",
    "\n",
    "We need an operation that contains the vector norm distribution and at the same time brings the update step vector in about the same length.\n",
    "\n",
    "Option 1: Rescale update direction to average length of direction vectors. Drawback: Steepness of loss landscape gets lost.\n",
    "\n",
    "Option 2: Log step length during pretraining\n",
    "\n",
    "Option 3: Use update steps in matrix (not feasible matrix too large)\n",
    "\n",
    "**Normalization does the same! Just normalize vectors in matrix!**"
   ]
  },
  {
   "cell_type": "code",
   "execution_count": 22,
   "metadata": {},
   "outputs": [],
   "source": [
    "# load update step\n",
    "steps_path = Path('/system/user/beck/pwbeck/projects/regularization/erank/tmp/model_steps_for_exp_notebook')\n",
    "# step0_model = FC.load(steps_path, 'step0')\n",
    "# step1_model = FC.load(steps_path, 'step1')\n",
    "step0 = nn.utils.parameters_to_vector(FC.load(steps_path, 'step0').parameters()).detach()\n",
    "step1 = nn.utils.parameters_to_vector(FC.load(steps_path, 'step1').parameters()).detach()"
   ]
  },
  {
   "cell_type": "code",
   "execution_count": 23,
   "metadata": {},
   "outputs": [],
   "source": [
    "step = step0 - step1"
   ]
  },
  {
   "cell_type": "code",
   "execution_count": 24,
   "metadata": {},
   "outputs": [
    {
     "data": {
      "text/plain": [
       "(tensor(0.4612, device='cuda:0'), tensor(0.4612, device='cuda:0'))"
      ]
     },
     "execution_count": 24,
     "metadata": {},
     "output_type": "execute_result"
    }
   ],
   "source": [
    "torch.linalg.norm(step, ord=2), step.norm(p=2)"
   ]
  },
  {
   "cell_type": "code",
   "execution_count": 25,
   "metadata": {},
   "outputs": [],
   "source": [
    "mean_norm = torch.linalg.norm(dir_matrix, ord=2, dim=1, keepdim=True).mean().detach()"
   ]
  },
  {
   "cell_type": "code",
   "execution_count": null,
   "metadata": {},
   "outputs": [],
   "source": []
  }
 ],
 "metadata": {
  "kernelspec": {
   "display_name": "Python 3.8.13 ('erank')",
   "language": "python",
   "name": "python3"
  },
  "language_info": {
   "codemirror_mode": {
    "name": "ipython",
    "version": 3
   },
   "file_extension": ".py",
   "mimetype": "text/x-python",
   "name": "python",
   "nbconvert_exporter": "python",
   "pygments_lexer": "ipython3",
   "version": "3.8.13"
  },
  "orig_nbformat": 4,
  "vscode": {
   "interpreter": {
    "hash": "81702ae7af1d99f924e4fcf69b863cbbc0fe7ec5ade4b2efa58fe35273e76278"
   }
  }
 },
 "nbformat": 4,
 "nbformat_minor": 2
}
