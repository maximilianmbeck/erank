{
 "cells": [
  {
   "cell_type": "code",
   "execution_count": 7,
   "metadata": {},
   "outputs": [],
   "source": [
    "import sys\n",
    "import torch\n",
    "import numpy as np\n",
    "sys.path.append('..')\n",
    "from pathlib import Path\n",
    "from typing import Union\n",
    "from ml_utilities.torch_models.base_model import BaseModel\n",
    "from ml_utilities.torch_models import get_model_class\n",
    "from omegaconf import OmegaConf\n",
    "from erank.regularization import EffectiveRankRegularization\n",
    "import matplotlib.pyplot as plt"
   ]
  },
  {
   "cell_type": "code",
   "execution_count": 8,
   "metadata": {},
   "outputs": [],
   "source": [
    "def erank_np(matrix_A: np.ndarray):\n",
    "    s = np.linalg.svd(matrix_A, compute_uv=False)\n",
    "    probs = s / s.sum()\n",
    "    entropy = (- probs * np.log(probs)).sum()\n",
    "    return np.exp(entropy)"
   ]
  },
  {
   "cell_type": "code",
   "execution_count": 9,
   "metadata": {},
   "outputs": [],
   "source": [
    "def erank_torch(matrix_A: torch.Tensor, center_matrix_A: bool=False) -> torch.Tensor:\n",
    "    \"\"\"Calculates the effective rank of a matrix.\n",
    "    Args:\n",
    "        matrix_A (torch.Tensor): Matrix of shape m x n. \n",
    "        center_matrix_A (bool): Center the matrix \n",
    "    Returns:\n",
    "        torch.Tensor: Effective rank of matrix_A\n",
    "    \"\"\"\n",
    "    assert matrix_A.ndim == 2\n",
    "    _, s, _ = torch.pca_lowrank(matrix_A, center=center_matrix_A, niter=1, q=min(matrix_A.shape[0], matrix_A.shape[1]))\n",
    "    # normalizes input s -> scale independent!\n",
    "    return torch.exp(torch.distributions.Categorical(s).entropy())"
   ]
  },
  {
   "cell_type": "code",
   "execution_count": 35,
   "metadata": {},
   "outputs": [
    {
     "data": {
      "text/plain": [
       "array([[ 0.27748275,  0.29311095,  0.33319707],\n",
       "       [-0.02326997,  0.27713841, -1.31620778]])"
      ]
     },
     "execution_count": 35,
     "metadata": {},
     "output_type": "execute_result"
    }
   ],
   "source": [
    "matrix_A = np.random.normal(size=(2,3))\n",
    "v = np.random.normal(size=(1,3))\n",
    "matrix_A"
   ]
  },
  {
   "cell_type": "code",
   "execution_count": 32,
   "metadata": {},
   "outputs": [
    {
     "data": {
      "text/plain": [
       "(1.8610527199527092, tensor(1.8611, dtype=torch.float64))"
      ]
     },
     "execution_count": 32,
     "metadata": {},
     "output_type": "execute_result"
    }
   ],
   "source": [
    "erank_np(matrix_A), erank_torch(torch.from_numpy(matrix_A))"
   ]
  },
  {
   "cell_type": "code",
   "execution_count": 33,
   "metadata": {},
   "outputs": [],
   "source": [
    "cov_A = np.cov(matrix_A)"
   ]
  },
  {
   "cell_type": "code",
   "execution_count": 34,
   "metadata": {},
   "outputs": [
    {
     "data": {
      "text/plain": [
       "(1.9290512871992447, 2)"
      ]
     },
     "execution_count": 34,
     "metadata": {},
     "output_type": "execute_result"
    }
   ],
   "source": [
    "erank_np(cov_A), np.linalg.matrix_rank(cov_A)"
   ]
  },
  {
   "cell_type": "code",
   "execution_count": null,
   "metadata": {},
   "outputs": [],
   "source": []
  }
 ],
 "metadata": {
  "kernelspec": {
   "display_name": "Python 3.8.13 ('erank')",
   "language": "python",
   "name": "python3"
  },
  "language_info": {
   "codemirror_mode": {
    "name": "ipython",
    "version": 3
   },
   "file_extension": ".py",
   "mimetype": "text/x-python",
   "name": "python",
   "nbconvert_exporter": "python",
   "pygments_lexer": "ipython3",
   "version": "3.8.13"
  },
  "orig_nbformat": 4,
  "vscode": {
   "interpreter": {
    "hash": "81702ae7af1d99f924e4fcf69b863cbbc0fe7ec5ade4b2efa58fe35273e76278"
   }
  }
 },
 "nbformat": 4,
 "nbformat_minor": 2
}
