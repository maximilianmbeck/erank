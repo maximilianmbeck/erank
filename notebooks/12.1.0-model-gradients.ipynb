{
 "cells": [
  {
   "cell_type": "code",
   "execution_count": 1,
   "metadata": {},
   "outputs": [],
   "source": [
    "%load_ext autoreload\n",
    "%autoreload 2\n",
    "import sys\n",
    "import torch\n",
    "import copy\n",
    "from torch import nn\n",
    "from torch.utils import data\n",
    "sys.path.append('..')\n",
    "# sys.path.append('/system/user/beck/pwbeck/projects/regularization/ml_utilities')\n",
    "from omegaconf import OmegaConf, DictConfig\n",
    "from ml_utilities.torch_models import get_model_class\n",
    "from ml_utilities.torch_utils import gradients_to_vector\n",
    "from erank.data.datasetgenerator import DatasetGenerator\n",
    "from erank.gradients import GradientCalculator\n",
    "import matplotlib.pyplot as plt\n",
    "import math\n",
    "gpu_id = 3"
   ]
  },
  {
   "cell_type": "markdown",
   "metadata": {},
   "source": [
    "## Setup"
   ]
  },
  {
   "cell_type": "code",
   "execution_count": 2,
   "metadata": {},
   "outputs": [],
   "source": [
    "model_cfg = \"\"\"\n",
    "model:\n",
    "  name: cnn2d\n",
    "  out_channels: 64\n",
    "  out_units: 10\n",
    "  model_kwargs:\n",
    "    image_size: 28\n",
    "    in_channels: 1\n",
    "    act_fn: relu\n",
    "    layer_configs:\n",
    "      - out_channels: ${model.out_channels}\n",
    "        kernel_size: 3\n",
    "        batch_norm: true\n",
    "        stride: 1\n",
    "        padding: 0\n",
    "        max_pool_kernel_size: 2\n",
    "      - out_channels: ${model.out_channels}\n",
    "        kernel_size: 3\n",
    "        batch_norm: true\n",
    "        stride: 1\n",
    "        padding: 0\n",
    "        max_pool_kernel_size: 2\n",
    "      - out_channels: ${model.out_channels}\n",
    "        kernel_size: 3\n",
    "        batch_norm: true\n",
    "        stride: 1\n",
    "        padding: 0\n",
    "      - out_channels: ${model.out_channels}\n",
    "        kernel_size: 3\n",
    "        batch_norm: true\n",
    "        stride: 1\n",
    "        padding: 0\n",
    "    linear_output_units:\n",
    "      - ${model.out_units}\n",
    "\"\"\"\n",
    "model_cfg = OmegaConf.create(model_cfg)\n",
    "cfg = f\"\"\"\n",
    "dataset_generator_kwargs:\n",
    "  dataset: rotatedvision\n",
    "  dataset_kwargs:\n",
    "    data_root_path: /system/user/beck/pwbeck/data #/home/max/phd/data \n",
    "    dataset: mnist\n",
    "    rotation_angle: 0.0\n",
    "  dataset_split:\n",
    "    train_val_split: 0.8\n",
    "\n",
    "run_path: /system/user/beck/pwbeck/projects/regularization/erank/outputs/mnist-11.4.0-conv4--221015_122409\n",
    "model_idx: 20\n",
    "default_loss: crossentropy\n",
    "device: {gpu_id}\n",
    "\"\"\"\n",
    "cfg = OmegaConf.create(cfg)"
   ]
  },
  {
   "cell_type": "code",
   "execution_count": 3,
   "metadata": {},
   "outputs": [],
   "source": [
    "gradient_calculator = GradientCalculator(**cfg)"
   ]
  },
  {
   "cell_type": "markdown",
   "metadata": {},
   "source": [
    "## Playground"
   ]
  },
  {
   "cell_type": "code",
   "execution_count": 4,
   "metadata": {},
   "outputs": [
    {
     "name": "stderr",
     "output_type": "stream",
     "text": [
      " 27%|██▋       | 101/375 [00:09<00:24, 11.01it/s]\n"
     ]
    },
    {
     "ename": "KeyboardInterrupt",
     "evalue": "",
     "output_type": "error",
     "traceback": [
      "\u001b[0;31m---------------------------------------------------------------------------\u001b[0m",
      "\u001b[0;31mKeyboardInterrupt\u001b[0m                         Traceback (most recent call last)",
      "\u001b[1;32m/system/user/beck/pwbeck/projects/regularization/erank/notebooks/12.1.0-model-gradients.ipynb Cell 6\u001b[0m in \u001b[0;36m<cell line: 1>\u001b[0;34m()\u001b[0m\n\u001b[0;32m----> <a href='vscode-notebook-cell://ssh-remote%2Braptor/system/user/beck/pwbeck/projects/regularization/erank/notebooks/12.1.0-model-gradients.ipynb#W5sdnNjb2RlLXJlbW90ZQ%3D%3D?line=0'>1</a>\u001b[0m gradients \u001b[39m=\u001b[39m gradient_calculator\u001b[39m.\u001b[39;49mcompute_gradients(batch_size\u001b[39m=\u001b[39;49m\u001b[39m128\u001b[39;49m)\n",
      "File \u001b[0;32m/system/user/publicwork/beck/projects/regularization/erank/notebooks/../erank/gradients.py:94\u001b[0m, in \u001b[0;36mGradientCalculator.compute_gradients\u001b[0;34m(self, batch_size, num_gradients, loss)\u001b[0m\n\u001b[1;32m     91\u001b[0m data_iter \u001b[39m=\u001b[39m \u001b[39miter\u001b[39m(dataloader)\n\u001b[1;32m     93\u001b[0m \u001b[39mfor\u001b[39;00m batch_idx \u001b[39min\u001b[39;00m tqdm(it):\n\u001b[0;32m---> 94\u001b[0m     batch \u001b[39m=\u001b[39m \u001b[39mnext\u001b[39;49m(data_iter)\n\u001b[1;32m     95\u001b[0m     xs, ys \u001b[39m=\u001b[39m batch\n\u001b[1;32m     96\u001b[0m     xs, ys \u001b[39m=\u001b[39m xs\u001b[39m.\u001b[39mto(\u001b[39mself\u001b[39m\u001b[39m.\u001b[39mdevice), ys\u001b[39m.\u001b[39mto(\u001b[39mself\u001b[39m\u001b[39m.\u001b[39mdevice)\n",
      "File \u001b[0;32m/system/apps/userenv/beck/subspaces/lib/python3.10/site-packages/torch/utils/data/dataloader.py:681\u001b[0m, in \u001b[0;36m_BaseDataLoaderIter.__next__\u001b[0;34m(self)\u001b[0m\n\u001b[1;32m    678\u001b[0m \u001b[39mif\u001b[39;00m \u001b[39mself\u001b[39m\u001b[39m.\u001b[39m_sampler_iter \u001b[39mis\u001b[39;00m \u001b[39mNone\u001b[39;00m:\n\u001b[1;32m    679\u001b[0m     \u001b[39m# TODO(https://github.com/pytorch/pytorch/issues/76750)\u001b[39;00m\n\u001b[1;32m    680\u001b[0m     \u001b[39mself\u001b[39m\u001b[39m.\u001b[39m_reset()  \u001b[39m# type: ignore[call-arg]\u001b[39;00m\n\u001b[0;32m--> 681\u001b[0m data \u001b[39m=\u001b[39m \u001b[39mself\u001b[39;49m\u001b[39m.\u001b[39;49m_next_data()\n\u001b[1;32m    682\u001b[0m \u001b[39mself\u001b[39m\u001b[39m.\u001b[39m_num_yielded \u001b[39m+\u001b[39m\u001b[39m=\u001b[39m \u001b[39m1\u001b[39m\n\u001b[1;32m    683\u001b[0m \u001b[39mif\u001b[39;00m \u001b[39mself\u001b[39m\u001b[39m.\u001b[39m_dataset_kind \u001b[39m==\u001b[39m _DatasetKind\u001b[39m.\u001b[39mIterable \u001b[39mand\u001b[39;00m \\\n\u001b[1;32m    684\u001b[0m         \u001b[39mself\u001b[39m\u001b[39m.\u001b[39m_IterableDataset_len_called \u001b[39mis\u001b[39;00m \u001b[39mnot\u001b[39;00m \u001b[39mNone\u001b[39;00m \u001b[39mand\u001b[39;00m \\\n\u001b[1;32m    685\u001b[0m         \u001b[39mself\u001b[39m\u001b[39m.\u001b[39m_num_yielded \u001b[39m>\u001b[39m \u001b[39mself\u001b[39m\u001b[39m.\u001b[39m_IterableDataset_len_called:\n",
      "File \u001b[0;32m/system/apps/userenv/beck/subspaces/lib/python3.10/site-packages/torch/utils/data/dataloader.py:721\u001b[0m, in \u001b[0;36m_SingleProcessDataLoaderIter._next_data\u001b[0;34m(self)\u001b[0m\n\u001b[1;32m    719\u001b[0m \u001b[39mdef\u001b[39;00m \u001b[39m_next_data\u001b[39m(\u001b[39mself\u001b[39m):\n\u001b[1;32m    720\u001b[0m     index \u001b[39m=\u001b[39m \u001b[39mself\u001b[39m\u001b[39m.\u001b[39m_next_index()  \u001b[39m# may raise StopIteration\u001b[39;00m\n\u001b[0;32m--> 721\u001b[0m     data \u001b[39m=\u001b[39m \u001b[39mself\u001b[39;49m\u001b[39m.\u001b[39;49m_dataset_fetcher\u001b[39m.\u001b[39;49mfetch(index)  \u001b[39m# may raise StopIteration\u001b[39;00m\n\u001b[1;32m    722\u001b[0m     \u001b[39mif\u001b[39;00m \u001b[39mself\u001b[39m\u001b[39m.\u001b[39m_pin_memory:\n\u001b[1;32m    723\u001b[0m         data \u001b[39m=\u001b[39m _utils\u001b[39m.\u001b[39mpin_memory\u001b[39m.\u001b[39mpin_memory(data, \u001b[39mself\u001b[39m\u001b[39m.\u001b[39m_pin_memory_device)\n",
      "File \u001b[0;32m/system/apps/userenv/beck/subspaces/lib/python3.10/site-packages/torch/utils/data/_utils/fetch.py:49\u001b[0m, in \u001b[0;36m_MapDatasetFetcher.fetch\u001b[0;34m(self, possibly_batched_index)\u001b[0m\n\u001b[1;32m     47\u001b[0m \u001b[39mdef\u001b[39;00m \u001b[39mfetch\u001b[39m(\u001b[39mself\u001b[39m, possibly_batched_index):\n\u001b[1;32m     48\u001b[0m     \u001b[39mif\u001b[39;00m \u001b[39mself\u001b[39m\u001b[39m.\u001b[39mauto_collation:\n\u001b[0;32m---> 49\u001b[0m         data \u001b[39m=\u001b[39m [\u001b[39mself\u001b[39m\u001b[39m.\u001b[39mdataset[idx] \u001b[39mfor\u001b[39;00m idx \u001b[39min\u001b[39;00m possibly_batched_index]\n\u001b[1;32m     50\u001b[0m     \u001b[39melse\u001b[39;00m:\n\u001b[1;32m     51\u001b[0m         data \u001b[39m=\u001b[39m \u001b[39mself\u001b[39m\u001b[39m.\u001b[39mdataset[possibly_batched_index]\n",
      "File \u001b[0;32m/system/apps/userenv/beck/subspaces/lib/python3.10/site-packages/torch/utils/data/_utils/fetch.py:49\u001b[0m, in \u001b[0;36m<listcomp>\u001b[0;34m(.0)\u001b[0m\n\u001b[1;32m     47\u001b[0m \u001b[39mdef\u001b[39;00m \u001b[39mfetch\u001b[39m(\u001b[39mself\u001b[39m, possibly_batched_index):\n\u001b[1;32m     48\u001b[0m     \u001b[39mif\u001b[39;00m \u001b[39mself\u001b[39m\u001b[39m.\u001b[39mauto_collation:\n\u001b[0;32m---> 49\u001b[0m         data \u001b[39m=\u001b[39m [\u001b[39mself\u001b[39;49m\u001b[39m.\u001b[39;49mdataset[idx] \u001b[39mfor\u001b[39;00m idx \u001b[39min\u001b[39;00m possibly_batched_index]\n\u001b[1;32m     50\u001b[0m     \u001b[39melse\u001b[39;00m:\n\u001b[1;32m     51\u001b[0m         data \u001b[39m=\u001b[39m \u001b[39mself\u001b[39m\u001b[39m.\u001b[39mdataset[possibly_batched_index]\n",
      "File \u001b[0;32m/system/apps/userenv/beck/subspaces/lib/python3.10/site-packages/torch/utils/data/dataset.py:290\u001b[0m, in \u001b[0;36mSubset.__getitem__\u001b[0;34m(self, idx)\u001b[0m\n\u001b[1;32m    288\u001b[0m \u001b[39mif\u001b[39;00m \u001b[39misinstance\u001b[39m(idx, \u001b[39mlist\u001b[39m):\n\u001b[1;32m    289\u001b[0m     \u001b[39mreturn\u001b[39;00m \u001b[39mself\u001b[39m\u001b[39m.\u001b[39mdataset[[\u001b[39mself\u001b[39m\u001b[39m.\u001b[39mindices[i] \u001b[39mfor\u001b[39;00m i \u001b[39min\u001b[39;00m idx]]\n\u001b[0;32m--> 290\u001b[0m \u001b[39mreturn\u001b[39;00m \u001b[39mself\u001b[39;49m\u001b[39m.\u001b[39;49mdataset[\u001b[39mself\u001b[39;49m\u001b[39m.\u001b[39;49mindices[idx]]\n",
      "File \u001b[0;32m/system/user/publicwork/beck/projects/regularization/erank/notebooks/../erank/data/rotatedvisiondataset.py:56\u001b[0m, in \u001b[0;36mRotatedVisionDataset.__getitem__\u001b[0;34m(self, idx)\u001b[0m\n\u001b[1;32m     55\u001b[0m \u001b[39mdef\u001b[39;00m \u001b[39m__getitem__\u001b[39m(\u001b[39mself\u001b[39m, idx) \u001b[39m-\u001b[39m\u001b[39m>\u001b[39m Tuple[torch\u001b[39m.\u001b[39mTensor, torch\u001b[39m.\u001b[39mTensor]:\n\u001b[0;32m---> 56\u001b[0m     \u001b[39mreturn\u001b[39;00m \u001b[39mself\u001b[39;49m\u001b[39m.\u001b[39;49m_dataset[idx]\n",
      "File \u001b[0;32m/system/apps/userenv/beck/subspaces/lib/python3.10/site-packages/torchvision/datasets/mnist.py:145\u001b[0m, in \u001b[0;36mMNIST.__getitem__\u001b[0;34m(self, index)\u001b[0m\n\u001b[1;32m    142\u001b[0m img \u001b[39m=\u001b[39m Image\u001b[39m.\u001b[39mfromarray(img\u001b[39m.\u001b[39mnumpy(), mode\u001b[39m=\u001b[39m\u001b[39m\"\u001b[39m\u001b[39mL\u001b[39m\u001b[39m\"\u001b[39m)\n\u001b[1;32m    144\u001b[0m \u001b[39mif\u001b[39;00m \u001b[39mself\u001b[39m\u001b[39m.\u001b[39mtransform \u001b[39mis\u001b[39;00m \u001b[39mnot\u001b[39;00m \u001b[39mNone\u001b[39;00m:\n\u001b[0;32m--> 145\u001b[0m     img \u001b[39m=\u001b[39m \u001b[39mself\u001b[39;49m\u001b[39m.\u001b[39;49mtransform(img)\n\u001b[1;32m    147\u001b[0m \u001b[39mif\u001b[39;00m \u001b[39mself\u001b[39m\u001b[39m.\u001b[39mtarget_transform \u001b[39mis\u001b[39;00m \u001b[39mnot\u001b[39;00m \u001b[39mNone\u001b[39;00m:\n\u001b[1;32m    148\u001b[0m     target \u001b[39m=\u001b[39m \u001b[39mself\u001b[39m\u001b[39m.\u001b[39mtarget_transform(target)\n",
      "File \u001b[0;32m/system/apps/userenv/beck/subspaces/lib/python3.10/site-packages/torchvision/transforms/transforms.py:94\u001b[0m, in \u001b[0;36mCompose.__call__\u001b[0;34m(self, img)\u001b[0m\n\u001b[1;32m     92\u001b[0m \u001b[39mdef\u001b[39;00m \u001b[39m__call__\u001b[39m(\u001b[39mself\u001b[39m, img):\n\u001b[1;32m     93\u001b[0m     \u001b[39mfor\u001b[39;00m t \u001b[39min\u001b[39;00m \u001b[39mself\u001b[39m\u001b[39m.\u001b[39mtransforms:\n\u001b[0;32m---> 94\u001b[0m         img \u001b[39m=\u001b[39m t(img)\n\u001b[1;32m     95\u001b[0m     \u001b[39mreturn\u001b[39;00m img\n",
      "File \u001b[0;32m/system/apps/userenv/beck/subspaces/lib/python3.10/site-packages/torchvision/transforms/transforms.py:134\u001b[0m, in \u001b[0;36mToTensor.__call__\u001b[0;34m(self, pic)\u001b[0m\n\u001b[1;32m    126\u001b[0m \u001b[39mdef\u001b[39;00m \u001b[39m__call__\u001b[39m(\u001b[39mself\u001b[39m, pic):\n\u001b[1;32m    127\u001b[0m     \u001b[39m\"\"\"\u001b[39;00m\n\u001b[1;32m    128\u001b[0m \u001b[39m    Args:\u001b[39;00m\n\u001b[1;32m    129\u001b[0m \u001b[39m        pic (PIL Image or numpy.ndarray): Image to be converted to tensor.\u001b[39;00m\n\u001b[0;32m   (...)\u001b[0m\n\u001b[1;32m    132\u001b[0m \u001b[39m        Tensor: Converted image.\u001b[39;00m\n\u001b[1;32m    133\u001b[0m \u001b[39m    \"\"\"\u001b[39;00m\n\u001b[0;32m--> 134\u001b[0m     \u001b[39mreturn\u001b[39;00m F\u001b[39m.\u001b[39;49mto_tensor(pic)\n",
      "File \u001b[0;32m/system/apps/userenv/beck/subspaces/lib/python3.10/site-packages/torchvision/transforms/functional.py:140\u001b[0m, in \u001b[0;36mto_tensor\u001b[0;34m(pic)\u001b[0m\n\u001b[1;32m    137\u001b[0m \u001b[39mif\u001b[39;00m \u001b[39mnot\u001b[39;00m (F_pil\u001b[39m.\u001b[39m_is_pil_image(pic) \u001b[39mor\u001b[39;00m _is_numpy(pic)):\n\u001b[1;32m    138\u001b[0m     \u001b[39mraise\u001b[39;00m \u001b[39mTypeError\u001b[39;00m(\u001b[39mf\u001b[39m\u001b[39m\"\u001b[39m\u001b[39mpic should be PIL Image or ndarray. Got \u001b[39m\u001b[39m{\u001b[39;00m\u001b[39mtype\u001b[39m(pic)\u001b[39m}\u001b[39;00m\u001b[39m\"\u001b[39m)\n\u001b[0;32m--> 140\u001b[0m \u001b[39mif\u001b[39;00m _is_numpy(pic) \u001b[39mand\u001b[39;00m \u001b[39mnot\u001b[39;00m _is_numpy_image(pic):\n\u001b[1;32m    141\u001b[0m     \u001b[39mraise\u001b[39;00m \u001b[39mValueError\u001b[39;00m(\u001b[39mf\u001b[39m\u001b[39m\"\u001b[39m\u001b[39mpic should be 2/3 dimensional. Got \u001b[39m\u001b[39m{\u001b[39;00mpic\u001b[39m.\u001b[39mndim\u001b[39m}\u001b[39;00m\u001b[39m dimensions.\u001b[39m\u001b[39m\"\u001b[39m)\n\u001b[1;32m    143\u001b[0m default_float_dtype \u001b[39m=\u001b[39m torch\u001b[39m.\u001b[39mget_default_dtype()\n",
      "\u001b[0;31mKeyboardInterrupt\u001b[0m: "
     ]
    }
   ],
   "source": [
    "gradients = gradient_calculator.compute_gradients(batch_size=128)"
   ]
  },
  {
   "cell_type": "code",
   "execution_count": 6,
   "metadata": {},
   "outputs": [],
   "source": [
    "gs = torch.stack(gradients)"
   ]
  },
  {
   "cell_type": "code",
   "execution_count": 7,
   "metadata": {},
   "outputs": [
    {
     "data": {
      "text/plain": [
       "(tensor(0.0980, device='cuda:0'),\n",
       " tensor(0.0016, device='cuda:0'),\n",
       " tensor(0.0010, device='cuda:0'),\n",
       " tensor(0.0022, device='cuda:0'))"
      ]
     },
     "execution_count": 7,
     "metadata": {},
     "output_type": "execute_result"
    }
   ],
   "source": [
    "mean_grad = gs.mean(dim=0)\n",
    "mean_abs_grad = mean_grad.abs()\n",
    "mean_abs_grad.max(), mean_abs_grad.mean(), mean_abs_grad.median(), mean_abs_grad.std()"
   ]
  },
  {
   "cell_type": "code",
   "execution_count": 9,
   "metadata": {},
   "outputs": [
    {
     "data": {
      "image/png": "[encoded data removed]",
      "text/plain": [
       "<Figure size 640x480 with 1 Axes>"
      ]
     },
     "metadata": {},
     "output_type": "display_data"
    }
   ],
   "source": [
    "x = plt.hist(mean_abs_grad.cpu().numpy(), range=(0, 0.02), bins=100)"
   ]
  },
  {
   "cell_type": "code",
   "execution_count": 10,
   "metadata": {},
   "outputs": [],
   "source": [
    "std = mean_grad.std().item()\n",
    "r = 3"
   ]
  },
  {
   "cell_type": "code",
   "execution_count": 11,
   "metadata": {},
   "outputs": [
    {
     "data": {
      "image/png": "[encoded data removed]",
      "text/plain": [
       "<Figure size 640x480 with 1 Axes>"
      ]
     },
     "metadata": {},
     "output_type": "display_data"
    }
   ],
   "source": [
    "f = plt.hist(mean_grad.cpu().numpy(), bins=100, range=(-r*std, r*std))"
   ]
  },
  {
   "cell_type": "code",
   "execution_count": 12,
   "metadata": {},
   "outputs": [],
   "source": [
    "med_vals, med_idxs = gs.median(dim=0)"
   ]
  },
  {
   "cell_type": "code",
   "execution_count": 13,
   "metadata": {},
   "outputs": [
    {
     "data": {
      "image/png": "[encoded data removed]",
      "text/plain": [
       "<Figure size 640x480 with 1 Axes>"
      ]
     },
     "metadata": {},
     "output_type": "display_data"
    }
   ],
   "source": [
    "f = plt.hist(med_vals.cpu().numpy(), bins=100, range=(-r*std, r*std))\n"
   ]
  },
  {
   "cell_type": "code",
   "execution_count": 14,
   "metadata": {},
   "outputs": [
    {
     "data": {
      "image/png": "[encoded data removed]",
      "text/plain": [
       "<Figure size 640x480 with 1 Axes>"
      ]
     },
     "metadata": {},
     "output_type": "display_data"
    }
   ],
   "source": [
    "f = plt.hist(med_idxs.cpu().numpy())"
   ]
  },
  {
   "cell_type": "markdown",
   "metadata": {},
   "source": [
    "## Magnitude pruning"
   ]
  },
  {
   "cell_type": "code",
   "execution_count": 30,
   "metadata": {},
   "outputs": [],
   "source": [
    "\n",
    "from typing import Tuple\n",
    "\n",
    "def magnitude_pruning_threshold(vec: torch.Tensor, frac_entries_to_prune: float) -> float:\n",
    "    assert 0. <= frac_entries_to_prune <= 1.\n",
    "    assert vec.ndim == 1\n",
    "    vec_abs = vec.abs()\n",
    "    vec_abs_sorted, _ = vec_abs.sort()\n",
    "    n_elements_to_prune = math.floor(len(vec) * frac_entries_to_prune)\n",
    "    threshold = vec_abs_sorted[n_elements_to_prune].item()\n",
    "    return threshold\n",
    "\n",
    "def magnitude_prune_vector(vec: torch.Tensor, frac_entries_to_prune: float) -> Tuple[torch.Tensor, torch.Tensor, float]:\n",
    "    threshold = magnitude_pruning_threshold(vec, frac_entries_to_prune)\n",
    "    pruning_mask_positive = vec.abs() > threshold\n",
    "    pruned_vec = vec.masked_fill(pruning_mask_positive.logical_not(), 0.0)\n",
    "    return pruned_vec, pruning_mask_positive, threshold"
   ]
  },
  {
   "cell_type": "code",
   "execution_count": 31,
   "metadata": {},
   "outputs": [],
   "source": [
    "v = torch.linspace(0,10,10)\n",
    "v_p, m, t = magnitude_prune_vector(v, 0.2)"
   ]
  },
  {
   "cell_type": "code",
   "execution_count": 32,
   "metadata": {},
   "outputs": [
    {
     "data": {
      "text/plain": [
       "(tensor([ 0.0000,  0.0000,  0.0000,  3.3333,  4.4444,  5.5556,  6.6667,  7.7778,\n",
       "          8.8889, 10.0000]),\n",
       " tensor([False, False, False,  True,  True,  True,  True,  True,  True,  True]),\n",
       " 2.222222328186035)"
      ]
     },
     "execution_count": 32,
     "metadata": {},
     "output_type": "execute_result"
    }
   ],
   "source": [
    "v_p, m, t"
   ]
  },
  {
   "cell_type": "code",
   "execution_count": 33,
   "metadata": {},
   "outputs": [
    {
     "data": {
      "text/plain": [
       "tensor(3.)"
      ]
     },
     "execution_count": 33,
     "metadata": {},
     "output_type": "execute_result"
    }
   ],
   "source": [
    "m.logical_not().float().sum()"
   ]
  },
  {
   "cell_type": "code",
   "execution_count": 37,
   "metadata": {},
   "outputs": [],
   "source": [
    "from typing import Tuple\n",
    "\n",
    "# now vectorized implementation\n",
    "\n",
    "\n",
    "def magnitude_pruning_thresholds(vecs: torch.Tensor, frac_entries_to_prune: float, vec_dim: int = 1) -> torch.Tensor:\n",
    "    assert 0. <= frac_entries_to_prune <= 1.\n",
    "    assert vecs.ndim == 2\n",
    "    vecs_abs = vecs.abs()\n",
    "    # sort entries in the vector \n",
    "    vec_abs_sorted, _ = vecs_abs.sort(dim=vec_dim, descending=False)\n",
    "    n_elements_to_prune = math.floor(vecs.shape[vec_dim] * frac_entries_to_prune)\n",
    "    # thresholds are at the index, given by the fraction to prune\n",
    "    thresholds = vec_abs_sorted.select(dim=vec_dim, index=n_elements_to_prune)\n",
    "    thresholds.unsqueeze_(vec_dim)\n",
    "    return thresholds\n",
    "\n",
    "\n",
    "def magnitude_prune_vectors(vecs: torch.Tensor,\n",
    "                            frac_entries_to_prune: float, vec_dim: int = 0) -> Tuple[torch.Tensor, torch.Tensor, float]:\n",
    "    if vecs.ndim == 1:\n",
    "        vecs = vecs.unsqueeze(0)\n",
    "    thresholds = magnitude_pruning_thresholds(vecs, frac_entries_to_prune)\n",
    "    pruning_mask_positive = vecs.abs() > thresholds\n",
    "    pruned_vec = vecs.masked_fill(pruning_mask_positive.logical_not(), 0.0)\n",
    "    return pruned_vec, pruning_mask_positive, thresholds"
   ]
  },
  {
   "cell_type": "code",
   "execution_count": 38,
   "metadata": {},
   "outputs": [
    {
     "data": {
      "text/plain": [
       "tensor([[ 0.0000,  1.1111,  2.2222,  3.3333,  4.4444,  5.5556,  6.6667,  7.7778,\n",
       "          8.8889, 10.0000],\n",
       "        [ 0.0000,  1.1111,  2.2222,  3.3333,  4.4444,  5.5556,  6.6667,  7.7778,\n",
       "          8.8889, 10.0000],\n",
       "        [ 0.0000,  1.1111,  2.2222,  3.3333,  4.4444,  5.5556,  6.6667,  7.7778,\n",
       "          8.8889, 10.0000]])"
      ]
     },
     "execution_count": 38,
     "metadata": {},
     "output_type": "execute_result"
    }
   ],
   "source": [
    "vs = v.repeat((3,1))\n",
    "vs"
   ]
  },
  {
   "cell_type": "code",
   "execution_count": 39,
   "metadata": {},
   "outputs": [],
   "source": [
    "v_p, m, t = magnitude_prune_vectors(vs, 0.2)"
   ]
  },
  {
   "cell_type": "code",
   "execution_count": 40,
   "metadata": {},
   "outputs": [
    {
     "data": {
      "text/plain": [
       "(tensor([[ 0.0000,  0.0000,  0.0000,  3.3333,  4.4444,  5.5556,  6.6667,  7.7778,\n",
       "           8.8889, 10.0000],\n",
       "         [ 0.0000,  0.0000,  0.0000,  3.3333,  4.4444,  5.5556,  6.6667,  7.7778,\n",
       "           8.8889, 10.0000],\n",
       "         [ 0.0000,  0.0000,  0.0000,  3.3333,  4.4444,  5.5556,  6.6667,  7.7778,\n",
       "           8.8889, 10.0000]]),\n",
       " tensor([[False, False, False,  True,  True,  True,  True,  True,  True,  True],\n",
       "         [False, False, False,  True,  True,  True,  True,  True,  True,  True],\n",
       "         [False, False, False,  True,  True,  True,  True,  True,  True,  True]]),\n",
       " tensor([[2.2222],\n",
       "         [2.2222],\n",
       "         [2.2222]]))"
      ]
     },
     "execution_count": 40,
     "metadata": {},
     "output_type": "execute_result"
    }
   ],
   "source": [
    "v_p, m, t"
   ]
  },
  {
   "cell_type": "code",
   "execution_count": 41,
   "metadata": {},
   "outputs": [
    {
     "ename": "AssertionError",
     "evalue": "",
     "output_type": "error",
     "traceback": [
      "\u001b[0;31m---------------------------------------------------------------------------\u001b[0m",
      "\u001b[0;31mAssertionError\u001b[0m                            Traceback (most recent call last)",
      "\u001b[1;32m/system/user/beck/pwbeck/projects/regularization/erank/notebooks/12.1.0-model-gradients.ipynb Cell 24\u001b[0m in \u001b[0;36m<cell line: 1>\u001b[0;34m()\u001b[0m\n\u001b[0;32m----> <a href='vscode-notebook-cell://ssh-remote%2Braptor/system/user/beck/pwbeck/projects/regularization/erank/notebooks/12.1.0-model-gradients.ipynb#X34sdnNjb2RlLXJlbW90ZQ%3D%3D?line=0'>1</a>\u001b[0m v_p, m, t \u001b[39m=\u001b[39m magnitude_prune_vectors(v, \u001b[39m0.2\u001b[39;49m)\n",
      "\u001b[1;32m/system/user/beck/pwbeck/projects/regularization/erank/notebooks/12.1.0-model-gradients.ipynb Cell 24\u001b[0m in \u001b[0;36mmagnitude_prune_vectors\u001b[0;34m(vecs, frac_entries_to_prune, vec_dim)\u001b[0m\n\u001b[1;32m     <a href='vscode-notebook-cell://ssh-remote%2Braptor/system/user/beck/pwbeck/projects/regularization/erank/notebooks/12.1.0-model-gradients.ipynb#X34sdnNjb2RlLXJlbW90ZQ%3D%3D?line=18'>19</a>\u001b[0m \u001b[39mdef\u001b[39;00m \u001b[39mmagnitude_prune_vectors\u001b[39m(vecs: torch\u001b[39m.\u001b[39mTensor,\n\u001b[1;32m     <a href='vscode-notebook-cell://ssh-remote%2Braptor/system/user/beck/pwbeck/projects/regularization/erank/notebooks/12.1.0-model-gradients.ipynb#X34sdnNjb2RlLXJlbW90ZQ%3D%3D?line=19'>20</a>\u001b[0m                             frac_entries_to_prune: \u001b[39mfloat\u001b[39m, vec_dim: \u001b[39mint\u001b[39m \u001b[39m=\u001b[39m \u001b[39m0\u001b[39m) \u001b[39m-\u001b[39m\u001b[39m>\u001b[39m Tuple[torch\u001b[39m.\u001b[39mTensor, torch\u001b[39m.\u001b[39mTensor, \u001b[39mfloat\u001b[39m]:\n\u001b[0;32m---> <a href='vscode-notebook-cell://ssh-remote%2Braptor/system/user/beck/pwbeck/projects/regularization/erank/notebooks/12.1.0-model-gradients.ipynb#X34sdnNjb2RlLXJlbW90ZQ%3D%3D?line=20'>21</a>\u001b[0m     thresholds \u001b[39m=\u001b[39m magnitude_pruning_thresholds(vecs, frac_entries_to_prune)\n\u001b[1;32m     <a href='vscode-notebook-cell://ssh-remote%2Braptor/system/user/beck/pwbeck/projects/regularization/erank/notebooks/12.1.0-model-gradients.ipynb#X34sdnNjb2RlLXJlbW90ZQ%3D%3D?line=21'>22</a>\u001b[0m     pruning_mask_positive \u001b[39m=\u001b[39m vecs\u001b[39m.\u001b[39mabs() \u001b[39m>\u001b[39m thresholds\n\u001b[1;32m     <a href='vscode-notebook-cell://ssh-remote%2Braptor/system/user/beck/pwbeck/projects/regularization/erank/notebooks/12.1.0-model-gradients.ipynb#X34sdnNjb2RlLXJlbW90ZQ%3D%3D?line=22'>23</a>\u001b[0m     pruned_vec \u001b[39m=\u001b[39m vecs\u001b[39m.\u001b[39mmasked_fill(pruning_mask_positive\u001b[39m.\u001b[39mlogical_not(), \u001b[39m0.0\u001b[39m)\n",
      "\u001b[1;32m/system/user/beck/pwbeck/projects/regularization/erank/notebooks/12.1.0-model-gradients.ipynb Cell 24\u001b[0m in \u001b[0;36mmagnitude_pruning_thresholds\u001b[0;34m(vecs, frac_entries_to_prune, vec_dim)\u001b[0m\n\u001b[1;32m      <a href='vscode-notebook-cell://ssh-remote%2Braptor/system/user/beck/pwbeck/projects/regularization/erank/notebooks/12.1.0-model-gradients.ipynb#X34sdnNjb2RlLXJlbW90ZQ%3D%3D?line=5'>6</a>\u001b[0m \u001b[39mdef\u001b[39;00m \u001b[39mmagnitude_pruning_thresholds\u001b[39m(vecs: torch\u001b[39m.\u001b[39mTensor, frac_entries_to_prune: \u001b[39mfloat\u001b[39m, vec_dim: \u001b[39mint\u001b[39m \u001b[39m=\u001b[39m \u001b[39m1\u001b[39m) \u001b[39m-\u001b[39m\u001b[39m>\u001b[39m torch\u001b[39m.\u001b[39mTensor:\n\u001b[1;32m      <a href='vscode-notebook-cell://ssh-remote%2Braptor/system/user/beck/pwbeck/projects/regularization/erank/notebooks/12.1.0-model-gradients.ipynb#X34sdnNjb2RlLXJlbW90ZQ%3D%3D?line=6'>7</a>\u001b[0m     \u001b[39massert\u001b[39;00m \u001b[39m0.\u001b[39m \u001b[39m<\u001b[39m\u001b[39m=\u001b[39m frac_entries_to_prune \u001b[39m<\u001b[39m\u001b[39m=\u001b[39m \u001b[39m1.\u001b[39m\n\u001b[0;32m----> <a href='vscode-notebook-cell://ssh-remote%2Braptor/system/user/beck/pwbeck/projects/regularization/erank/notebooks/12.1.0-model-gradients.ipynb#X34sdnNjb2RlLXJlbW90ZQ%3D%3D?line=7'>8</a>\u001b[0m     \u001b[39massert\u001b[39;00m vecs\u001b[39m.\u001b[39mndim \u001b[39m==\u001b[39m \u001b[39m2\u001b[39m\n\u001b[1;32m      <a href='vscode-notebook-cell://ssh-remote%2Braptor/system/user/beck/pwbeck/projects/regularization/erank/notebooks/12.1.0-model-gradients.ipynb#X34sdnNjb2RlLXJlbW90ZQ%3D%3D?line=8'>9</a>\u001b[0m     vecs_abs \u001b[39m=\u001b[39m vecs\u001b[39m.\u001b[39mabs()\n\u001b[1;32m     <a href='vscode-notebook-cell://ssh-remote%2Braptor/system/user/beck/pwbeck/projects/regularization/erank/notebooks/12.1.0-model-gradients.ipynb#X34sdnNjb2RlLXJlbW90ZQ%3D%3D?line=9'>10</a>\u001b[0m     \u001b[39m# sort entries in the vector \u001b[39;00m\n",
      "\u001b[0;31mAssertionError\u001b[0m: "
     ]
    }
   ],
   "source": [
    "v_p, m, t = magnitude_prune_vectors(v, 0.2)"
   ]
  },
  {
   "cell_type": "code",
   "execution_count": null,
   "metadata": {},
   "outputs": [],
   "source": []
  }
 ],
 "metadata": {
  "kernelspec": {
   "display_name": "Python 3.10.4 ('subspaces')",
   "language": "python",
   "name": "python3"
  },
  "language_info": {
   "codemirror_mode": {
    "name": "ipython",
    "version": 3
   },
   "file_extension": ".py",
   "mimetype": "text/x-python",
   "name": "python",
   "nbconvert_exporter": "python",
   "pygments_lexer": "ipython3",
   "version": "3.10.4"
  },
  "orig_nbformat": 4,
  "vscode": {
   "interpreter": {
    "hash": "ac019f01eb2a0970f066d5e193a84f30bb43215eeeface9d3d8db32241c79700"
   }
  }
 },
 "nbformat": 4,
 "nbformat_minor": 2
}
