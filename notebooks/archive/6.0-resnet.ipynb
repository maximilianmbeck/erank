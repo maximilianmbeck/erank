{
 "cells": [
  {
   "cell_type": "code",
   "execution_count": 1,
   "metadata": {},
   "outputs": [
    {
     "name": "stderr",
     "output_type": "stream",
     "text": [
      "/home/max/anaconda3/envs/erank/lib/python3.8/site-packages/tqdm/auto.py:22: TqdmWarning: IProgress not found. Please update jupyter and ipywidgets. See https://ipywidgets.readthedocs.io/en/stable/user_install.html\n",
      "  from .autonotebook import tqdm as notebook_tqdm\n"
     ]
    }
   ],
   "source": [
    "%load_ext autoreload\n",
    "%autoreload 2\n",
    "import sys\n",
    "import torch\n",
    "from torch import nn\n",
    "sys.path.append('..')\n",
    "# sys.path.append('/system/user/beck/pwbeck/projects/regularization/ml_utilities')\n",
    "from pathlib import Path\n",
    "from typing import Union\n",
    "from ml_utilities.torch_models.base_model import BaseModel\n",
    "from ml_utilities.torch_models.fc import FC\n",
    "from ml_utilities.torch_models import get_model_class\n",
    "from omegaconf import OmegaConf\n",
    "\n",
    "from erank.utils import load_directions_matrix_from_task_sweep\n",
    "from ml_utilities.torch_models.resnet import create_resnet, Resnet, get_resnet_config\n",
    "import matplotlib.pyplot as plt\n",
    "gpu_id = 0"
   ]
  },
  {
   "cell_type": "code",
   "execution_count": 2,
   "metadata": {},
   "outputs": [],
   "source": [
    "# config for resnet18-imagenet\n",
    "# img_size = 32\n",
    "in_channels = 3\n",
    "resnet18_config = f\"\"\"\n",
    "model:\n",
    "  in_channels: {in_channels}\n",
    "  act_fn: relu\n",
    "  residual_option: B\n",
    "  input_layer_config:\n",
    "    kernel_size: 7\n",
    "    out_channels: 64\n",
    "    batch_norm: true\n",
    "    bias: false\n",
    "    stride: 2\n",
    "    padding: 6\n",
    "    max_pool_kernel_size: 3\n",
    "    max_pool_stride: 2\n",
    "    max_pool_padding: 1\n",
    "  resnet_blocks_config:\n",
    "    - out_channels: 64\n",
    "      num_residual_blocks: 2\n",
    "    - out_channels: 128\n",
    "      num_residual_blocks: 2\n",
    "    - out_channels: 256\n",
    "      num_residual_blocks: 2\n",
    "    - out_channels: 512\n",
    "      num_residual_blocks: 2\n",
    "  linear_output_units:\n",
    "    - 1000\n",
    "\"\"\""
   ]
  },
  {
   "cell_type": "code",
   "execution_count": 3,
   "metadata": {},
   "outputs": [],
   "source": [
    "resnet18_config = OmegaConf.create(resnet18_config)"
   ]
  },
  {
   "cell_type": "code",
   "execution_count": 4,
   "metadata": {},
   "outputs": [],
   "source": [
    "resnet18 = create_resnet(**resnet18_config.model)"
   ]
  },
  {
   "cell_type": "code",
   "execution_count": 5,
   "metadata": {},
   "outputs": [
    {
     "data": {
      "text/plain": [
       "torch.Size([16, 1000])"
      ]
     },
     "execution_count": 5,
     "metadata": {},
     "output_type": "execute_result"
    }
   ],
   "source": [
    "image_batch = torch.randn(16, 3, 224, 224)\n",
    "out_batch = resnet18(image_batch)\n",
    "out_batch.shape"
   ]
  },
  {
   "cell_type": "code",
   "execution_count": 6,
   "metadata": {},
   "outputs": [
    {
     "name": "stdout",
     "output_type": "stream",
     "text": [
      "==========================================================================================\n",
      "Layer (type:depth-idx)                   Output Shape              Param #\n",
      "==========================================================================================\n",
      "├─Sequential: 1-1                        [-1, 64, 58, 58]          --\n",
      "|    └─Conv2d: 2-1                       [-1, 64, 115, 115]        9,408\n",
      "|    └─BatchNorm2d: 2-2                  [-1, 64, 115, 115]        128\n",
      "|    └─ReLU: 2-3                         [-1, 64, 115, 115]        --\n",
      "|    └─MaxPool2d: 2-4                    [-1, 64, 58, 58]          --\n",
      "├─Sequential: 1-2                        [-1, 512, 8, 8]           --\n",
      "|    └─Sequential: 2-5                   [-1, 64, 58, 58]          --\n",
      "|    |    └─_ResidualBlock: 3-1          [-1, 64, 58, 58]          73,984\n",
      "|    |    └─_ResidualBlock: 3-2          [-1, 64, 58, 58]          73,984\n",
      "|    └─Sequential: 2-6                   [-1, 128, 29, 29]         --\n",
      "|    |    └─_ResidualBlock: 3-3          [-1, 128, 29, 29]         230,144\n",
      "|    |    └─_ResidualBlock: 3-4          [-1, 128, 29, 29]         295,424\n",
      "|    └─Sequential: 2-7                   [-1, 256, 15, 15]         --\n",
      "|    |    └─_ResidualBlock: 3-5          [-1, 256, 15, 15]         919,040\n",
      "|    |    └─_ResidualBlock: 3-6          [-1, 256, 15, 15]         1,180,672\n",
      "|    └─Sequential: 2-8                   [-1, 512, 8, 8]           --\n",
      "|    |    └─_ResidualBlock: 3-7          [-1, 512, 8, 8]           3,673,088\n",
      "|    |    └─_ResidualBlock: 3-8          [-1, 512, 8, 8]           4,720,640\n",
      "├─AdaptiveAvgPool2d: 1-3                 [-1, 512, 1, 1]           --\n",
      "├─Sequential: 1-4                        [-1, 1000]                --\n",
      "|    └─Flatten: 2-9                      [-1, 512]                 --\n",
      "|    └─Linear: 2-10                      [-1, 1000]                513,000\n",
      "==========================================================================================\n",
      "Total params: 11,689,512\n",
      "Trainable params: 11,689,512\n",
      "Non-trainable params: 0\n",
      "Total mult-adds (G): 2.08\n",
      "==========================================================================================\n",
      "Input size (MB): 9.19\n",
      "Forward/backward pass size (MB): 38.15\n",
      "Params size (MB): 44.59\n",
      "Estimated Total Size (MB): 91.93\n",
      "==========================================================================================\n"
     ]
    },
    {
     "data": {
      "text/plain": [
       "==========================================================================================\n",
       "Layer (type:depth-idx)                   Output Shape              Param #\n",
       "==========================================================================================\n",
       "├─Sequential: 1-1                        [-1, 64, 58, 58]          --\n",
       "|    └─Conv2d: 2-1                       [-1, 64, 115, 115]        9,408\n",
       "|    └─BatchNorm2d: 2-2                  [-1, 64, 115, 115]        128\n",
       "|    └─ReLU: 2-3                         [-1, 64, 115, 115]        --\n",
       "|    └─MaxPool2d: 2-4                    [-1, 64, 58, 58]          --\n",
       "├─Sequential: 1-2                        [-1, 512, 8, 8]           --\n",
       "|    └─Sequential: 2-5                   [-1, 64, 58, 58]          --\n",
       "|    |    └─_ResidualBlock: 3-1          [-1, 64, 58, 58]          73,984\n",
       "|    |    └─_ResidualBlock: 3-2          [-1, 64, 58, 58]          73,984\n",
       "|    └─Sequential: 2-6                   [-1, 128, 29, 29]         --\n",
       "|    |    └─_ResidualBlock: 3-3          [-1, 128, 29, 29]         230,144\n",
       "|    |    └─_ResidualBlock: 3-4          [-1, 128, 29, 29]         295,424\n",
       "|    └─Sequential: 2-7                   [-1, 256, 15, 15]         --\n",
       "|    |    └─_ResidualBlock: 3-5          [-1, 256, 15, 15]         919,040\n",
       "|    |    └─_ResidualBlock: 3-6          [-1, 256, 15, 15]         1,180,672\n",
       "|    └─Sequential: 2-8                   [-1, 512, 8, 8]           --\n",
       "|    |    └─_ResidualBlock: 3-7          [-1, 512, 8, 8]           3,673,088\n",
       "|    |    └─_ResidualBlock: 3-8          [-1, 512, 8, 8]           4,720,640\n",
       "├─AdaptiveAvgPool2d: 1-3                 [-1, 512, 1, 1]           --\n",
       "├─Sequential: 1-4                        [-1, 1000]                --\n",
       "|    └─Flatten: 2-9                      [-1, 512]                 --\n",
       "|    └─Linear: 2-10                      [-1, 1000]                513,000\n",
       "==========================================================================================\n",
       "Total params: 11,689,512\n",
       "Trainable params: 11,689,512\n",
       "Non-trainable params: 0\n",
       "Total mult-adds (G): 2.08\n",
       "==========================================================================================\n",
       "Input size (MB): 9.19\n",
       "Forward/backward pass size (MB): 38.15\n",
       "Params size (MB): 44.59\n",
       "Estimated Total Size (MB): 91.93\n",
       "=========================================================================================="
      ]
     },
     "execution_count": 6,
     "metadata": {},
     "output_type": "execute_result"
    }
   ],
   "source": [
    "from torchsummary import summary\n",
    "summary(resnet18, image_batch)"
   ]
  },
  {
   "cell_type": "code",
   "execution_count": 7,
   "metadata": {},
   "outputs": [],
   "source": [
    "# config for resnet20-cifar10\n",
    "img_size = 32\n",
    "in_channels = 3\n",
    "resnet20_config = f\"\"\"\n",
    "model:\n",
    "  in_channels: {in_channels}\n",
    "  act_fn: relu\n",
    "  residual_option: A\n",
    "  input_layer_config:\n",
    "    kernel_size: 3\n",
    "    out_channels: 16\n",
    "    bias: false\n",
    "    batch_norm: true\n",
    "    stride: 1\n",
    "    padding: 1\n",
    "  resnet_blocks_config:\n",
    "    - out_channels: 16\n",
    "      num_residual_blocks: 3\n",
    "    - out_channels: 32\n",
    "      num_residual_blocks: 3\n",
    "    - out_channels: 64\n",
    "      num_residual_blocks: 3\n",
    "  linear_output_units:\n",
    "    - 10\n",
    "\"\"\""
   ]
  },
  {
   "cell_type": "code",
   "execution_count": 8,
   "metadata": {},
   "outputs": [],
   "source": [
    "resnet20_config = OmegaConf.create(resnet20_config)"
   ]
  },
  {
   "cell_type": "code",
   "execution_count": 9,
   "metadata": {},
   "outputs": [],
   "source": [
    "resnet20 = create_resnet(**resnet20_config.model)"
   ]
  },
  {
   "cell_type": "code",
   "execution_count": 10,
   "metadata": {},
   "outputs": [
    {
     "data": {
      "text/plain": [
       "torch.Size([16, 10])"
      ]
     },
     "execution_count": 10,
     "metadata": {},
     "output_type": "execute_result"
    }
   ],
   "source": [
    "image_batch = torch.randn(16, 3, 224, 224)\n",
    "out_batch = resnet20(image_batch)\n",
    "out_batch.shape"
   ]
  },
  {
   "cell_type": "code",
   "execution_count": 11,
   "metadata": {},
   "outputs": [
    {
     "name": "stdout",
     "output_type": "stream",
     "text": [
      "==========================================================================================\n",
      "Layer (type:depth-idx)                   Output Shape              Param #\n",
      "==========================================================================================\n",
      "├─Sequential: 1-1                        [-1, 16, 224, 224]        --\n",
      "|    └─Conv2d: 2-1                       [-1, 16, 224, 224]        432\n",
      "|    └─BatchNorm2d: 2-2                  [-1, 16, 224, 224]        32\n",
      "|    └─ReLU: 2-3                         [-1, 16, 224, 224]        --\n",
      "├─Sequential: 1-2                        [-1, 64, 56, 56]          --\n",
      "|    └─Sequential: 2-4                   [-1, 16, 224, 224]        --\n",
      "|    |    └─_ResidualBlock: 3-1          [-1, 16, 224, 224]        4,672\n",
      "|    |    └─_ResidualBlock: 3-2          [-1, 16, 224, 224]        4,672\n",
      "|    |    └─_ResidualBlock: 3-3          [-1, 16, 224, 224]        4,672\n",
      "|    └─Sequential: 2-5                   [-1, 32, 112, 112]        --\n",
      "|    |    └─_ResidualBlock: 3-4          [-1, 32, 112, 112]        13,952\n",
      "|    |    └─_ResidualBlock: 3-5          [-1, 32, 112, 112]        18,560\n",
      "|    |    └─_ResidualBlock: 3-6          [-1, 32, 112, 112]        18,560\n",
      "|    └─Sequential: 2-6                   [-1, 64, 56, 56]          --\n",
      "|    |    └─_ResidualBlock: 3-7          [-1, 64, 56, 56]          55,552\n",
      "|    |    └─_ResidualBlock: 3-8          [-1, 64, 56, 56]          73,984\n",
      "|    |    └─_ResidualBlock: 3-9          [-1, 64, 56, 56]          73,984\n",
      "├─AdaptiveAvgPool2d: 1-3                 [-1, 64, 1, 1]            --\n",
      "├─Sequential: 1-4                        [-1, 10]                  --\n",
      "|    └─Flatten: 2-7                      [-1, 64]                  --\n",
      "|    └─Linear: 2-8                       [-1, 10]                  650\n",
      "==========================================================================================\n",
      "Total params: 269,722\n",
      "Trainable params: 269,722\n",
      "Non-trainable params: 0\n",
      "Total mult-adds (G): 1.99\n",
      "==========================================================================================\n",
      "Input size (MB): 9.19\n",
      "Forward/backward pass size (MB): 140.88\n",
      "Params size (MB): 1.03\n",
      "Estimated Total Size (MB): 151.09\n",
      "==========================================================================================\n"
     ]
    },
    {
     "data": {
      "text/plain": [
       "==========================================================================================\n",
       "Layer (type:depth-idx)                   Output Shape              Param #\n",
       "==========================================================================================\n",
       "├─Sequential: 1-1                        [-1, 16, 224, 224]        --\n",
       "|    └─Conv2d: 2-1                       [-1, 16, 224, 224]        432\n",
       "|    └─BatchNorm2d: 2-2                  [-1, 16, 224, 224]        32\n",
       "|    └─ReLU: 2-3                         [-1, 16, 224, 224]        --\n",
       "├─Sequential: 1-2                        [-1, 64, 56, 56]          --\n",
       "|    └─Sequential: 2-4                   [-1, 16, 224, 224]        --\n",
       "|    |    └─_ResidualBlock: 3-1          [-1, 16, 224, 224]        4,672\n",
       "|    |    └─_ResidualBlock: 3-2          [-1, 16, 224, 224]        4,672\n",
       "|    |    └─_ResidualBlock: 3-3          [-1, 16, 224, 224]        4,672\n",
       "|    └─Sequential: 2-5                   [-1, 32, 112, 112]        --\n",
       "|    |    └─_ResidualBlock: 3-4          [-1, 32, 112, 112]        13,952\n",
       "|    |    └─_ResidualBlock: 3-5          [-1, 32, 112, 112]        18,560\n",
       "|    |    └─_ResidualBlock: 3-6          [-1, 32, 112, 112]        18,560\n",
       "|    └─Sequential: 2-6                   [-1, 64, 56, 56]          --\n",
       "|    |    └─_ResidualBlock: 3-7          [-1, 64, 56, 56]          55,552\n",
       "|    |    └─_ResidualBlock: 3-8          [-1, 64, 56, 56]          73,984\n",
       "|    |    └─_ResidualBlock: 3-9          [-1, 64, 56, 56]          73,984\n",
       "├─AdaptiveAvgPool2d: 1-3                 [-1, 64, 1, 1]            --\n",
       "├─Sequential: 1-4                        [-1, 10]                  --\n",
       "|    └─Flatten: 2-7                      [-1, 64]                  --\n",
       "|    └─Linear: 2-8                       [-1, 10]                  650\n",
       "==========================================================================================\n",
       "Total params: 269,722\n",
       "Trainable params: 269,722\n",
       "Non-trainable params: 0\n",
       "Total mult-adds (G): 1.99\n",
       "==========================================================================================\n",
       "Input size (MB): 9.19\n",
       "Forward/backward pass size (MB): 140.88\n",
       "Params size (MB): 1.03\n",
       "Estimated Total Size (MB): 151.09\n",
       "=========================================================================================="
      ]
     },
     "execution_count": 11,
     "metadata": {},
     "output_type": "execute_result"
    }
   ],
   "source": [
    "from torchsummary import summary\n",
    "summary(resnet20, image_batch)"
   ]
  },
  {
   "cell_type": "code",
   "execution_count": 12,
   "metadata": {},
   "outputs": [],
   "source": [
    "# test get resnet config\n",
    "resnet20_ = Resnet(**get_resnet_config('resnet20-cifar10'))"
   ]
  },
  {
   "cell_type": "code",
   "execution_count": 13,
   "metadata": {},
   "outputs": [
    {
     "data": {
      "text/plain": [
       "Sequential(\n",
       "  (0): Sequential(\n",
       "    (0): Conv2d(3, 16, kernel_size=(3, 3), stride=(1, 1), padding=(1, 1), bias=False)\n",
       "    (1): BatchNorm2d(16, eps=1e-05, momentum=0.1, affine=True, track_running_stats=True)\n",
       "    (2): ReLU(inplace=True)\n",
       "  )\n",
       "  (1): Sequential(\n",
       "    (0): Sequential(\n",
       "      (0): _ResidualBlock(\n",
       "        (conv1): Conv2d(16, 16, kernel_size=(3, 3), stride=(1, 1), padding=(1, 1), bias=False)\n",
       "        (conv2): Conv2d(16, 16, kernel_size=(3, 3), stride=(1, 1), padding=(1, 1), bias=False)\n",
       "        (skip_connect): Identity()\n",
       "        (bn1): BatchNorm2d(16, eps=1e-05, momentum=0.1, affine=True, track_running_stats=True)\n",
       "        (bn2): BatchNorm2d(16, eps=1e-05, momentum=0.1, affine=True, track_running_stats=True)\n",
       "      )\n",
       "      (1): _ResidualBlock(\n",
       "        (conv1): Conv2d(16, 16, kernel_size=(3, 3), stride=(1, 1), padding=(1, 1), bias=False)\n",
       "        (conv2): Conv2d(16, 16, kernel_size=(3, 3), stride=(1, 1), padding=(1, 1), bias=False)\n",
       "        (skip_connect): Identity()\n",
       "        (bn1): BatchNorm2d(16, eps=1e-05, momentum=0.1, affine=True, track_running_stats=True)\n",
       "        (bn2): BatchNorm2d(16, eps=1e-05, momentum=0.1, affine=True, track_running_stats=True)\n",
       "      )\n",
       "      (2): _ResidualBlock(\n",
       "        (conv1): Conv2d(16, 16, kernel_size=(3, 3), stride=(1, 1), padding=(1, 1), bias=False)\n",
       "        (conv2): Conv2d(16, 16, kernel_size=(3, 3), stride=(1, 1), padding=(1, 1), bias=False)\n",
       "        (skip_connect): Identity()\n",
       "        (bn1): BatchNorm2d(16, eps=1e-05, momentum=0.1, affine=True, track_running_stats=True)\n",
       "        (bn2): BatchNorm2d(16, eps=1e-05, momentum=0.1, affine=True, track_running_stats=True)\n",
       "      )\n",
       "    )\n",
       "    (1): Sequential(\n",
       "      (0): _ResidualBlock(\n",
       "        (conv1): Conv2d(16, 32, kernel_size=(3, 3), stride=(2, 2), padding=(1, 1), bias=False)\n",
       "        (conv2): Conv2d(32, 32, kernel_size=(3, 3), stride=(1, 1), padding=(1, 1), bias=False)\n",
       "        (skip_connect): _LambdaLayer()\n",
       "        (bn1): BatchNorm2d(32, eps=1e-05, momentum=0.1, affine=True, track_running_stats=True)\n",
       "        (bn2): BatchNorm2d(32, eps=1e-05, momentum=0.1, affine=True, track_running_stats=True)\n",
       "      )\n",
       "      (1): _ResidualBlock(\n",
       "        (conv1): Conv2d(32, 32, kernel_size=(3, 3), stride=(1, 1), padding=(1, 1), bias=False)\n",
       "        (conv2): Conv2d(32, 32, kernel_size=(3, 3), stride=(1, 1), padding=(1, 1), bias=False)\n",
       "        (skip_connect): Identity()\n",
       "        (bn1): BatchNorm2d(32, eps=1e-05, momentum=0.1, affine=True, track_running_stats=True)\n",
       "        (bn2): BatchNorm2d(32, eps=1e-05, momentum=0.1, affine=True, track_running_stats=True)\n",
       "      )\n",
       "      (2): _ResidualBlock(\n",
       "        (conv1): Conv2d(32, 32, kernel_size=(3, 3), stride=(1, 1), padding=(1, 1), bias=False)\n",
       "        (conv2): Conv2d(32, 32, kernel_size=(3, 3), stride=(1, 1), padding=(1, 1), bias=False)\n",
       "        (skip_connect): Identity()\n",
       "        (bn1): BatchNorm2d(32, eps=1e-05, momentum=0.1, affine=True, track_running_stats=True)\n",
       "        (bn2): BatchNorm2d(32, eps=1e-05, momentum=0.1, affine=True, track_running_stats=True)\n",
       "      )\n",
       "    )\n",
       "    (2): Sequential(\n",
       "      (0): _ResidualBlock(\n",
       "        (conv1): Conv2d(32, 64, kernel_size=(3, 3), stride=(2, 2), padding=(1, 1), bias=False)\n",
       "        (conv2): Conv2d(64, 64, kernel_size=(3, 3), stride=(1, 1), padding=(1, 1), bias=False)\n",
       "        (skip_connect): _LambdaLayer()\n",
       "        (bn1): BatchNorm2d(64, eps=1e-05, momentum=0.1, affine=True, track_running_stats=True)\n",
       "        (bn2): BatchNorm2d(64, eps=1e-05, momentum=0.1, affine=True, track_running_stats=True)\n",
       "      )\n",
       "      (1): _ResidualBlock(\n",
       "        (conv1): Conv2d(64, 64, kernel_size=(3, 3), stride=(1, 1), padding=(1, 1), bias=False)\n",
       "        (conv2): Conv2d(64, 64, kernel_size=(3, 3), stride=(1, 1), padding=(1, 1), bias=False)\n",
       "        (skip_connect): Identity()\n",
       "        (bn1): BatchNorm2d(64, eps=1e-05, momentum=0.1, affine=True, track_running_stats=True)\n",
       "        (bn2): BatchNorm2d(64, eps=1e-05, momentum=0.1, affine=True, track_running_stats=True)\n",
       "      )\n",
       "      (2): _ResidualBlock(\n",
       "        (conv1): Conv2d(64, 64, kernel_size=(3, 3), stride=(1, 1), padding=(1, 1), bias=False)\n",
       "        (conv2): Conv2d(64, 64, kernel_size=(3, 3), stride=(1, 1), padding=(1, 1), bias=False)\n",
       "        (skip_connect): Identity()\n",
       "        (bn1): BatchNorm2d(64, eps=1e-05, momentum=0.1, affine=True, track_running_stats=True)\n",
       "        (bn2): BatchNorm2d(64, eps=1e-05, momentum=0.1, affine=True, track_running_stats=True)\n",
       "      )\n",
       "    )\n",
       "  )\n",
       "  (2): AdaptiveAvgPool2d(output_size=(1, 1))\n",
       "  (3): Sequential(\n",
       "    (0): Flatten(start_dim=1, end_dim=-1)\n",
       "    (1): Linear(in_features=64, out_features=10, bias=True)\n",
       "  )\n",
       ")"
      ]
     },
     "execution_count": 13,
     "metadata": {},
     "output_type": "execute_result"
    }
   ],
   "source": [
    "resnet20"
   ]
  },
  {
   "cell_type": "code",
   "execution_count": null,
   "metadata": {},
   "outputs": [],
   "source": []
  }
 ],
 "metadata": {
  "kernelspec": {
   "display_name": "Python 3.8.13 ('erank')",
   "language": "python",
   "name": "python3"
  },
  "language_info": {
   "codemirror_mode": {
    "name": "ipython",
    "version": 3
   },
   "file_extension": ".py",
   "mimetype": "text/x-python",
   "name": "python",
   "nbconvert_exporter": "python",
   "pygments_lexer": "ipython3",
   "version": "3.8.13"
  },
  "orig_nbformat": 4,
  "vscode": {
   "interpreter": {
    "hash": "b1e300651644b4a5ccc8598fb3da49325ec88b18d4f380e9c939826d448ae9e4"
   }
  }
 },
 "nbformat": 4,
 "nbformat_minor": 2
}
