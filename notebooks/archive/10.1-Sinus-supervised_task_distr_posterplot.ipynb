{
 "cells": [
  {
   "cell_type": "code",
   "execution_count": 1,
   "metadata": {},
   "outputs": [
    {
     "name": "stderr",
     "output_type": "stream",
     "text": [
      "/home/max/anaconda3/envs/erank/lib/python3.8/site-packages/tqdm/auto.py:22: TqdmWarning: IProgress not found. Please update jupyter and ipywidgets. See https://ipywidgets.readthedocs.io/en/stable/user_install.html\n",
      "  from .autonotebook import tqdm as notebook_tqdm\n"
     ]
    }
   ],
   "source": [
    "%load_ext autoreload\n",
    "%autoreload 2\n",
    "import sys\n",
    "import torch\n",
    "import pickle\n",
    "import pandas as pd\n",
    "from torch import nn\n",
    "sys.path.append('..')\n",
    "# sys.path.append('/system/user/beck/pwbeck/projects/regularization/ml_utilities')\n",
    "from pathlib import Path\n",
    "import matplotlib.pyplot as plt\n",
    "from ml_utilities.torch_models.fc import FC\n",
    "from erank.utils import load_model_from_epoch, load_directions_matrix_from_task_sweep, load_multiple_dir_matrices_from_sweep\n",
    "from erank.plot import plot_models_erank\n",
    "from erank.analyses import create_model_erank_df\n",
    "\n",
    "gpu_id = 0"
   ]
  },
  {
   "cell_type": "markdown",
   "metadata": {},
   "source": [
    "## Erank plots"
   ]
  },
  {
   "cell_type": "markdown",
   "metadata": {},
   "source": [
    "### Create model dict"
   ]
  },
  {
   "cell_type": "code",
   "execution_count": 2,
   "metadata": {},
   "outputs": [],
   "source": [
    "sweep_dir = '/system/user/beck/pwbeck/projects/regularization/erank/outputs/sl-sine-10.0.1-sl-randinit-ampl-XXX-ph-XXX-taskidx-XXX_220912_234805'\n",
    "sweep_output_path = Path(sweep_dir) / 'outputs'\n",
    "num_vectors=1900"
   ]
  },
  {
   "cell_type": "code",
   "execution_count": 3,
   "metadata": {},
   "outputs": [],
   "source": [
    "# check for missing best_epoch_files\n",
    "# for p in sweep_output_path.iterdir():\n",
    "#     bepf = p / 'best_epoch.txt'\n",
    "#     if not bepf.exists():\n",
    "#         print(str(p))"
   ]
  },
  {
   "cell_type": "code",
   "execution_count": 4,
   "metadata": {},
   "outputs": [],
   "source": [
    "sine_task_distr = {'normal': '*ampl-0.1_5.0-ph-0_3.141592654*', \n",
    "                    'wide': '*ampl-0.1_10.0-ph-0_3.141592654*',\n",
    "                    'narrow': '*ampl-0.1_2.5-ph-0_1.5*',\n",
    "                    'almost_point': '*ampl-1.0_1.1-ph-0_0.1*'}"
   ]
  },
  {
   "cell_type": "code",
   "execution_count": 5,
   "metadata": {},
   "outputs": [
    {
     "data": {
      "text/plain": [
       "4"
      ]
     },
     "execution_count": 5,
     "metadata": {},
     "output_type": "execute_result"
    }
   ],
   "source": [
    "len(sine_task_distr)"
   ]
  },
  {
   "cell_type": "code",
   "execution_count": 6,
   "metadata": {},
   "outputs": [],
   "source": [
    "# load a model\n",
    "# run = next(iter(sweep_output_path.iterdir()))\n",
    "# init_model = load_model_from_epoch(run, epoch=0, device='cpu')"
   ]
  },
  {
   "cell_type": "code",
   "execution_count": 7,
   "metadata": {},
   "outputs": [],
   "source": [
    "# load model matrices\n",
    "# model_dict = load_multiple_dir_matrices_from_sweep(path_to_runs=sweep_output_path,\n",
    "#                                                    name_run_glob_pattern_dict=sine_task_distr,\n",
    "#                                                    num_runs=num_vectors,\n",
    "#                                                    device='cpu')\n",
    "# with open(f'model_dict_num_vecs{num_vectors}.p', 'wb') as savefile:\n",
    "#     pickle.dump(model_dict, savefile, protocol=pickle.HIGHEST_PROTOcolororor)"
   ]
  },
  {
   "cell_type": "markdown",
   "metadata": {},
   "source": [
    "### Load model dict"
   ]
  },
  {
   "cell_type": "code",
   "execution_count": 8,
   "metadata": {},
   "outputs": [],
   "source": [
    "model_dict_path = './../tmp/erank_plots/model_dict_num_vecs1900.p'\n",
    "model_dict_path = Path(model_dict_path)\n",
    "init_model_path = './../tmp/erank_plots/init_model.p'\n",
    "init_model_path = Path(init_model_path)"
   ]
  },
  {
   "cell_type": "code",
   "execution_count": 9,
   "metadata": {},
   "outputs": [
    {
     "data": {
      "text/plain": [
       "(FC(\n",
       "   (fc): Sequential(\n",
       "     (0): Flatten(start_dim=1, end_dim=-1)\n",
       "     (1): Linear(in_features=1, out_features=40, bias=True)\n",
       "     (2): ReLU(inplace=True)\n",
       "     (3): Linear(in_features=40, out_features=40, bias=True)\n",
       "     (4): ReLU(inplace=True)\n",
       "     (5): Linear(in_features=40, out_features=1, bias=True)\n",
       "   )\n",
       " ),\n",
       " device(type='cuda', index=0))"
      ]
     },
     "execution_count": 9,
     "metadata": {},
     "output_type": "execute_result"
    }
   ],
   "source": [
    "# load init model\n",
    "init_model = FC.load(init_model_path, device=gpu_id)\n",
    "init_model, init_model.device"
   ]
  },
  {
   "cell_type": "code",
   "execution_count": 10,
   "metadata": {},
   "outputs": [],
   "source": [
    "# unpickle model dict\n",
    "with open(model_dict_path, 'rb') as loadfile:\n",
    "    model_dict = pickle.load(loadfile)"
   ]
  },
  {
   "cell_type": "code",
   "execution_count": 11,
   "metadata": {},
   "outputs": [
    {
     "data": {
      "text/plain": [
       "(['normal#*ampl-0.1_5.0-ph-0_3.141592654*',\n",
       "  'wide#*ampl-0.1_10.0-ph-0_3.141592654*',\n",
       "  'narrow#*ampl-0.1_2.5-ph-0_1.5*',\n",
       "  'almost_point#*ampl-1.0_1.1-ph-0_0.1*'],\n",
       " dict)"
      ]
     },
     "execution_count": 11,
     "metadata": {},
     "output_type": "execute_result"
    }
   ],
   "source": [
    "list(model_dict.keys()), type(model_dict)"
   ]
  },
  {
   "cell_type": "markdown",
   "metadata": {},
   "source": [
    "### Generate erank plot"
   ]
  },
  {
   "cell_type": "code",
   "execution_count": 12,
   "metadata": {},
   "outputs": [],
   "source": [
    "# erank_df = create_model_erank_df(models=model_dict, random_init_model=init_model, device=gpu_id)"
   ]
  },
  {
   "cell_type": "code",
   "execution_count": 13,
   "metadata": {},
   "outputs": [],
   "source": []
  },
  {
   "cell_type": "code",
   "execution_count": 14,
   "metadata": {},
   "outputs": [],
   "source": [
    "# erank_df.to_pickle('./erank_df.p')"
   ]
  },
  {
   "cell_type": "code",
   "execution_count": 15,
   "metadata": {},
   "outputs": [],
   "source": [
    "erank_df = pd.read_pickle('./../tmp/erank_plots/erank_df.p')"
   ]
  },
  {
   "cell_type": "code",
   "execution_count": 23,
   "metadata": {},
   "outputs": [],
   "source": [
    "column_name_to_plot_kwargs = {'almost_point#*ampl-1.0_1.1-ph-0_0.1*': {'label': 'Very narrow', 'color':'#ffa600'},\n",
    "                              'narrow#*ampl-0.1_2.5-ph-0_1.5*': {'label': 'Narrow', 'color':'#ff6e54'}, \n",
    "                              'normal#*ampl-0.1_5.0-ph-0_3.141592654*': {'label': 'Regular', 'color':'#dd5182'}, \n",
    "                              'wide#*ampl-0.1_10.0-ph-0_3.141592654*': {'label': 'Wide', 'color':'#955196'}, \n",
    "                              'Random model initializations': {'label': 'Random model initializations', 'color':'#444e86'}, \n",
    "                              'Gaussian random': {'label': 'Gaussian random vectors', 'color':'#003f5c'}, \n",
    "                              }"
   ]
  },
  {
   "cell_type": "code",
   "execution_count": 51,
   "metadata": {},
   "outputs": [
    {
     "data": {
      "image/png": "[encoded data removed]",
      "text/plain": [
       "<Figure size 680.315x283.465 with 1 Axes>"
      ]
     },
     "metadata": {
      "needs_background": "light"
     },
     "output_type": "display_data"
    }
   ],
   "source": [
    "import os\n",
    "from matplotlib import rc\n",
    "os.environ[\"PATH\"] = \"/usr/local/texlive/2022/bin/x86_64-linux/\" + os.pathsep + os.environ[\"PATH\"] \n",
    "rc('text', usetex=True)\n",
    "plt.rcParams.update({'font.size': 14})\n",
    "fig, ax = plot_models_erank(erank_df=erank_df, column_name_to_plot_kwargs=column_name_to_plot_kwargs, legend_columns=3, columnspacing=3.0)"
   ]
  },
  {
   "cell_type": "code",
   "execution_count": 52,
   "metadata": {},
   "outputs": [],
   "source": [
    "fig.savefig(f'sinus_erank_varying_task_distribution_posterplot.pdf', bbox_inches='tight')"
   ]
  },
  {
   "cell_type": "code",
   "execution_count": 53,
   "metadata": {},
   "outputs": [],
   "source": [
    "fig.savefig(f'sinus_erank_varying_task_distribution_posterplot.png', dpi=300, bbox_inches='tight')"
   ]
  },
  {
   "cell_type": "code",
   "execution_count": null,
   "metadata": {},
   "outputs": [],
   "source": []
  }
 ],
 "metadata": {
  "kernelspec": {
   "display_name": "Python 3.8.13 ('erank')",
   "language": "python",
   "name": "python3"
  },
  "language_info": {
   "codemirror_mode": {
    "name": "ipython",
    "version": 3
   },
   "file_extension": ".py",
   "mimetype": "text/x-python",
   "name": "python",
   "nbconvert_exporter": "python",
   "pygments_lexer": "ipython3",
   "version": "3.8.13"
  },
  "orig_nbformat": 4,
  "vscode": {
   "interpreter": {
    "hash": "b1e300651644b4a5ccc8598fb3da49325ec88b18d4f380e9c939826d448ae9e4"
   }
  }
 },
 "nbformat": 4,
 "nbformat_minor": 2
}
