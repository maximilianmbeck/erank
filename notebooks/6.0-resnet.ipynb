{
 "cells": [
  {
   "cell_type": "code",
   "execution_count": 1,
   "metadata": {},
   "outputs": [
    {
     "name": "stderr",
     "output_type": "stream",
     "text": [
      "/home/max/anaconda3/envs/erank/lib/python3.8/site-packages/tqdm/auto.py:22: TqdmWarning: IProgress not found. Please update jupyter and ipywidgets. See https://ipywidgets.readthedocs.io/en/stable/user_install.html\n",
      "  from .autonotebook import tqdm as notebook_tqdm\n"
     ]
    }
   ],
   "source": [
    "%load_ext autoreload\n",
    "%autoreload 2\n",
    "import sys\n",
    "import torch\n",
    "from torch import nn\n",
    "sys.path.append('..')\n",
    "# sys.path.append('/system/user/beck/pwbeck/projects/regularization/ml_utilities')\n",
    "from pathlib import Path\n",
    "from typing import Union\n",
    "from ml_utilities.torch_models.base_model import BaseModel\n",
    "from ml_utilities.torch_models.fc import FC\n",
    "from ml_utilities.torch_models import get_model_class\n",
    "from omegaconf import OmegaConf\n",
    "\n",
    "from erank.utils import load_directions_matrix_from_task_sweep\n",
    "from erank.models.resnet import create_resnet\n",
    "import matplotlib.pyplot as plt\n",
    "gpu_id = 0"
   ]
  },
  {
   "cell_type": "code",
   "execution_count": 2,
   "metadata": {},
   "outputs": [],
   "source": [
    "# config for resnet18-imagenet\n",
    "img_size = 32\n",
    "in_channels = 3\n",
    "resnet_config = f\"\"\"\n",
    "model:\n",
    "  in_channels: {in_channels}\n",
    "  act_fn: relu\n",
    "  residual_option: B\n",
    "  input_layer_config:\n",
    "      kernel_size: 7\n",
    "      batch_norm: true\n",
    "      stride: 2\n",
    "      padding: 6\n",
    "      max_pool_kernel_size: 3\n",
    "      max_pool_stride: 2\n",
    "      max_pool_padding: 1\n",
    "  resnet_blocks_config:\n",
    "    - in_channels: 64\n",
    "      out_channels: 64\n",
    "      num_residual_blocks: 2\n",
    "    - in_channels: 64\n",
    "      out_channels: 128\n",
    "      num_residual_blocks: 2\n",
    "    - in_channels: 128\n",
    "      out_channels: 256\n",
    "      num_residual_blocks: 2\n",
    "    - in_channels: 256\n",
    "      out_channels: 512\n",
    "      num_residual_blocks: 2\n",
    "  linear_output_units:\n",
    "    - 10\n",
    "\"\"\""
   ]
  },
  {
   "cell_type": "code",
   "execution_count": 3,
   "metadata": {},
   "outputs": [],
   "source": [
    "resnet_config = OmegaConf.create(resnet_config)"
   ]
  },
  {
   "cell_type": "code",
   "execution_count": 4,
   "metadata": {},
   "outputs": [],
   "source": [
    "resnet18 = create_resnet(**resnet_config.model)"
   ]
  },
  {
   "cell_type": "code",
   "execution_count": 5,
   "metadata": {},
   "outputs": [
    {
     "data": {
      "text/plain": [
       "torch.Size([16, 10])"
      ]
     },
     "execution_count": 5,
     "metadata": {},
     "output_type": "execute_result"
    }
   ],
   "source": [
    "image_batch = torch.randn(16, 3, 224, 224)\n",
    "out_batch = resnet18(image_batch)\n",
    "out_batch.shape"
   ]
  },
  {
   "cell_type": "code",
   "execution_count": 6,
   "metadata": {},
   "outputs": [
    {
     "name": "stderr",
     "output_type": "stream",
     "text": [
      "/home/max/.local/lib/python3.8/site-packages/torch/cuda/__init__.py:80: UserWarning: CUDA initialization: CUDA unknown error - this may be due to an incorrectly set up environment, e.g. changing env variable CUDA_VISIBLE_DEVICES after program start. Setting the available devices to be zero. (Triggered internally at  ../c10/cuda/CUDAFunctions.cpp:112.)\n",
      "  return torch._C._cuda_getDeviceCount() > 0\n"
     ]
    },
    {
     "name": "stdout",
     "output_type": "stream",
     "text": [
      "==========================================================================================\n",
      "Layer (type:depth-idx)                   Output Shape              Param #\n",
      "==========================================================================================\n",
      "├─Sequential: 1-1                        [-1, 64, 58, 58]          --\n",
      "|    └─Conv2d: 2-1                       [-1, 64, 115, 115]        9,472\n",
      "|    └─BatchNorm2d: 2-2                  [-1, 64, 115, 115]        128\n",
      "|    └─ReLU: 2-3                         [-1, 64, 115, 115]        --\n",
      "|    └─MaxPool2d: 2-4                    [-1, 64, 58, 58]          --\n",
      "├─Sequential: 1-2                        [-1, 512, 8, 8]           --\n",
      "|    └─Sequential: 2-5                   [-1, 64, 58, 58]          --\n",
      "|    |    └─_ResidualBlock: 3-1          [-1, 64, 58, 58]          74,112\n",
      "|    |    └─_ResidualBlock: 3-2          [-1, 64, 58, 58]          74,112\n",
      "|    └─Sequential: 2-6                   [-1, 128, 29, 29]         --\n",
      "|    |    └─_ResidualBlock: 3-3          [-1, 128, 29, 29]         230,528\n",
      "|    |    └─_ResidualBlock: 3-4          [-1, 128, 29, 29]         295,680\n",
      "|    └─Sequential: 2-7                   [-1, 256, 15, 15]         --\n",
      "|    |    └─_ResidualBlock: 3-5          [-1, 256, 15, 15]         919,808\n",
      "|    |    └─_ResidualBlock: 3-6          [-1, 256, 15, 15]         1,181,184\n",
      "|    └─Sequential: 2-8                   [-1, 512, 8, 8]           --\n",
      "|    |    └─_ResidualBlock: 3-7          [-1, 512, 8, 8]           3,674,624\n",
      "|    |    └─_ResidualBlock: 3-8          [-1, 512, 8, 8]           4,721,664\n",
      "├─AdaptiveAvgPool2d: 1-3                 [-1, 512, 1, 1]           --\n",
      "├─Sequential: 1-4                        [-1, 10]                  --\n",
      "|    └─Flatten: 2-9                      [-1, 512]                 --\n",
      "|    └─Linear: 2-10                      [-1, 10]                  5,130\n",
      "==========================================================================================\n",
      "Total params: 11,186,442\n",
      "Trainable params: 11,186,442\n",
      "Non-trainable params: 0\n",
      "Total mult-adds (G): 2.08\n",
      "==========================================================================================\n",
      "Input size (MB): 9.19\n",
      "Forward/backward pass size (MB): 38.14\n",
      "Params size (MB): 42.67\n",
      "Estimated Total Size (MB): 90.00\n",
      "==========================================================================================\n",
      "==========================================================================================\n",
      "Layer (type:depth-idx)                   Output Shape              Param #\n",
      "==========================================================================================\n",
      "├─Sequential: 1-1                        [-1, 64, 58, 58]          --\n",
      "|    └─Conv2d: 2-1                       [-1, 64, 115, 115]        9,472\n",
      "|    └─BatchNorm2d: 2-2                  [-1, 64, 115, 115]        128\n",
      "|    └─ReLU: 2-3                         [-1, 64, 115, 115]        --\n",
      "|    └─MaxPool2d: 2-4                    [-1, 64, 58, 58]          --\n",
      "├─Sequential: 1-2                        [-1, 512, 8, 8]           --\n",
      "|    └─Sequential: 2-5                   [-1, 64, 58, 58]          --\n",
      "|    |    └─_ResidualBlock: 3-1          [-1, 64, 58, 58]          74,112\n",
      "|    |    └─_ResidualBlock: 3-2          [-1, 64, 58, 58]          74,112\n",
      "|    └─Sequential: 2-6                   [-1, 128, 29, 29]         --\n",
      "|    |    └─_ResidualBlock: 3-3          [-1, 128, 29, 29]         230,528\n",
      "|    |    └─_ResidualBlock: 3-4          [-1, 128, 29, 29]         295,680\n",
      "|    └─Sequential: 2-7                   [-1, 256, 15, 15]         --\n",
      "|    |    └─_ResidualBlock: 3-5          [-1, 256, 15, 15]         919,808\n",
      "|    |    └─_ResidualBlock: 3-6          [-1, 256, 15, 15]         1,181,184\n",
      "|    └─Sequential: 2-8                   [-1, 512, 8, 8]           --\n",
      "|    |    └─_ResidualBlock: 3-7          [-1, 512, 8, 8]           3,674,624\n",
      "|    |    └─_ResidualBlock: 3-8          [-1, 512, 8, 8]           4,721,664\n",
      "├─AdaptiveAvgPool2d: 1-3                 [-1, 512, 1, 1]           --\n",
      "├─Sequential: 1-4                        [-1, 10]                  --\n",
      "|    └─Flatten: 2-9                      [-1, 512]                 --\n",
      "|    └─Linear: 2-10                      [-1, 10]                  5,130\n",
      "==========================================================================================\n",
      "Total params: 11,186,442\n",
      "Trainable params: 11,186,442\n",
      "Non-trainable params: 0\n",
      "Total mult-adds (G): 2.08\n",
      "==========================================================================================\n",
      "Input size (MB): 9.19\n",
      "Forward/backward pass size (MB): 38.14\n",
      "Params size (MB): 42.67\n",
      "Estimated Total Size (MB): 90.00\n",
      "==========================================================================================\n"
     ]
    }
   ],
   "source": [
    "from torchsummary import summary\n",
    "print(summary(resnet18, image_batch))"
   ]
  },
  {
   "cell_type": "code",
   "execution_count": null,
   "metadata": {},
   "outputs": [],
   "source": []
  }
 ],
 "metadata": {
  "kernelspec": {
   "display_name": "Python 3.8.13 ('erank')",
   "language": "python",
   "name": "python3"
  },
  "language_info": {
   "codemirror_mode": {
    "name": "ipython",
    "version": 3
   },
   "file_extension": ".py",
   "mimetype": "text/x-python",
   "name": "python",
   "nbconvert_exporter": "python",
   "pygments_lexer": "ipython3",
   "version": "3.8.13"
  },
  "orig_nbformat": 4,
  "vscode": {
   "interpreter": {
    "hash": "b1e300651644b4a5ccc8598fb3da49325ec88b18d4f380e9c939826d448ae9e4"
   }
  }
 },
 "nbformat": 4,
 "nbformat_minor": 2
}
