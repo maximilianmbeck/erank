{
 "cells": [
  {
   "cell_type": "code",
   "execution_count": 1,
   "metadata": {},
   "outputs": [
    {
     "name": "stderr",
     "output_type": "stream",
     "text": [
      "/home/max/anaconda3/envs/erank/lib/python3.8/site-packages/tqdm/auto.py:22: TqdmWarning: IProgress not found. Please update jupyter and ipywidgets. See https://ipywidgets.readthedocs.io/en/stable/user_install.html\n",
      "  from .autonotebook import tqdm as notebook_tqdm\n"
     ]
    }
   ],
   "source": [
    "%load_ext autoreload\n",
    "%autoreload 2\n",
    "import sys\n",
    "import torch\n",
    "import math\n",
    "import numpy as np\n",
    "from torch import nn\n",
    "sys.path.append('..')\n",
    "from pathlib import Path\n",
    "from typing import Union\n",
    "from erank.data import get_metadataset_class\n",
    "from omegaconf import OmegaConf\n",
    "from torch.utils import data\n",
    "from erank.utils import load_directions_matrix_from_task_sweep\n",
    "import matplotlib.pyplot as plt\n",
    "from torchsummary import summary\n",
    "from erank.data import get_metadataset_class\n",
    "from erank.data.omniglotdataset import OmniglotDataset\n",
    "from ml_utilities.data_utils import show_images, Normalizer\n",
    "from ml_utilities.torch_models import get_model_class\n",
    "gpu_id = 0"
   ]
  },
  {
   "cell_type": "markdown",
   "metadata": {},
   "source": [
    "## Specify dataset directory etc."
   ]
  },
  {
   "cell_type": "code",
   "execution_count": 2,
   "metadata": {},
   "outputs": [],
   "source": [
    "data_dir = '/home/max/phd/data'\n",
    "dataset_name = 'omniglot'\n",
    "top_level_folders = [\n",
    "    'images_background',  # original train data \n",
    "    'images_evaluation',  # original test data\n",
    "]\n",
    "dataset_split_toplevel_folders = {\n",
    "    'train': 'images_background',\n",
    "    'val': 'images_background',\n",
    "    'test': 'images_evaluation'\n",
    "}\n",
    "n_way_classification = 5"
   ]
  },
  {
   "cell_type": "markdown",
   "metadata": {},
   "source": [
    "## Check file directory"
   ]
  },
  {
   "cell_type": "code",
   "execution_count": 3,
   "metadata": {},
   "outputs": [
    {
     "data": {
      "text/plain": [
       "True"
      ]
     },
     "execution_count": 3,
     "metadata": {},
     "output_type": "execute_result"
    }
   ],
   "source": [
    "# check folders\n",
    "dataset_dir = Path(data_dir) / dataset_name\n",
    "toplevel_folders_disk = [d.stem for d in dataset_dir.iterdir() if d.is_dir()]\n",
    "set(top_level_folders).issubset(set(toplevel_folders_disk))"
   ]
  },
  {
   "cell_type": "code",
   "execution_count": 4,
   "metadata": {},
   "outputs": [
    {
     "data": {
      "text/plain": [
       "(30, 20)"
      ]
     },
     "execution_count": 4,
     "metadata": {},
     "output_type": "execute_result"
    }
   ],
   "source": [
    "# check num alphabets\n",
    "background_alphabets = [a.stem for a in (dataset_dir/ 'images_background').iterdir()]\n",
    "evaluation_alphabets = [a.stem for a in (dataset_dir/ 'images_evaluation').iterdir()]\n",
    "len(background_alphabets), len(evaluation_alphabets)"
   ]
  },
  {
   "cell_type": "markdown",
   "metadata": {},
   "source": [
    "## Omniglot Dataset"
   ]
  },
  {
   "cell_type": "code",
   "execution_count": 5,
   "metadata": {},
   "outputs": [
    {
     "name": "stdout",
     "output_type": "stream",
     "text": [
      "Loading Omniglot Alphabets: 100%|██████████| 25/25 [00:05<00:00,  4.18it/s]\n",
      "\n",
      "Arcadian--character18#Bengali--character02#Bengali--character28#Gujarati--character28#Latin--character08\n",
      "Armenian--character07#Cyrillic--character17#Malay_(Jawi_-_Arabic)--character32#N_Ko--character10#Sanskrit--character39\n",
      "Asomtavruli_(Georgian)--character26#Balinese--character11#Greek--character18#Gujarati--character27#Sanskrit--character38\n",
      "Cyrillic--character31#Japanese_(hiragana)--character40#Mkhedruli_(Georgian)--character02#Sanskrit--character13#Tifinagh--character17\n",
      "Balinese--character08#Cyrillic--character12#Early_Aramaic--character11#Mkhedruli_(Georgian)--character06#Tifinagh--character08\n",
      "\n",
      "Balinese--character08                   :[11  5  8  9  7]\n",
      "Cyrillic--character12                   :[ 8  9 16 12  7]\n",
      "Early_Aramaic--character11              :[18  3 12 15 16]\n",
      "Mkhedruli_(Georgian)--character06       :[16  0 18  5  8]\n",
      "Tifinagh--character08                   :[ 3 14 17  7 19]\n",
      "--\n",
      "Balinese--character08                   :[ 8 13  5 15  7]\n",
      "Cyrillic--character12                   :[9 3 7 8 6]\n",
      "Early_Aramaic--character11              :[19 12  2 11  3]\n",
      "Mkhedruli_(Georgian)--character06       :[ 0  1 12  6 16]\n",
      "Tifinagh--character08                   :[14  5 10  7  3]\n",
      "--\n",
      "Balinese--character08                   :[ 6  5 16  8  9]\n",
      "Cyrillic--character12                   :[13  6  9  3 12]\n",
      "Early_Aramaic--character11              :[12  3 19 16 11]\n",
      "Mkhedruli_(Georgian)--character06       :[ 0  1 12  8  6]\n",
      "Tifinagh--character08                   :[19 18 13 17  7]\n",
      "--\n"
     ]
    }
   ],
   "source": [
    "omniglot_cfg = f\"\"\"\n",
    "data_root_path: {data_dir}\n",
    "n_way_classification: {n_way_classification}\n",
    "support_size: 5\n",
    "query_size: 10\n",
    "dataset_layout: metadataset\n",
    "split: train\n",
    "num_tasks: 1000\n",
    "regenerate_task_support_set: True\n",
    "regenerate_task_query_set: True\n",
    "seed: 0\n",
    "\"\"\"\n",
    "omniglot_cfg = OmegaConf.create(omniglot_cfg)\n",
    "omniglot_class = get_metadataset_class('omniglot')\n",
    "omniglot_dataset = omniglot_class(**omniglot_cfg)\n",
    "\n",
    "dataloader = data.DataLoader(omniglot_dataset, batch_size=None, num_workers=4, persistent_workers=True)\n",
    "episode_iter = iter(dataloader)\n",
    "print('')\n",
    "for i in range(5):\n",
    "    task = next(episode_iter)\n",
    "    print(task.name)\n",
    "print('')\n",
    "for i in range(3):\n",
    "    task.support_set\n",
    "    for class_name, idxes in task._support_idxes.items():\n",
    "        print('{cn:40s}:{idxes}'.format(cn=class_name, idxes=idxes))\n",
    "    print('--')"
   ]
  },
  {
   "cell_type": "markdown",
   "metadata": {},
   "source": [
    "## Conv4 Omniglot Model \n",
    "We use Model 2: dragen1860.\n",
    "Reason: Probably closest to MAML. In the paper they say: after CNN layers we have dimension of 64x1x1 -> we achieve this with the second architecture."
   ]
  },
  {
   "cell_type": "markdown",
   "metadata": {},
   "source": [
    "### Model 1: Gabriel Huang\n",
    "Model used in Codebase: https://github.com/gabrielhuang/reptile-pytorch \n",
    "\n",
    "```\n",
    "OmniglotModel(\n",
    "  (conv): Sequential(\n",
    "    (0): Conv2d(1, 64, kernel_size=(3, 3), stride=(2, 2), padding=(1, 1))\n",
    "    (1): BatchNorm2d(64, eps=1e-05, momentum=0.1, affine=True, track_running_stats=True)\n",
    "    (2): ReLU(inplace=True)\n",
    "    (3): Conv2d(64, 64, kernel_size=(3, 3), stride=(2, 2), padding=(1, 1))\n",
    "    (4): BatchNorm2d(64, eps=1e-05, momentum=0.1, affine=True, track_running_stats=True)\n",
    "    (5): ReLU(inplace=True)\n",
    "    (6): Conv2d(64, 64, kernel_size=(3, 3), stride=(2, 2), padding=(1, 1))\n",
    "    (7): BatchNorm2d(64, eps=1e-05, momentum=0.1, affine=True, track_running_stats=True)\n",
    "    (8): ReLU(inplace=True)\n",
    "    (9): Conv2d(64, 64, kernel_size=(3, 3), stride=(2, 2), padding=(1, 1))\n",
    "    (10): BatchNorm2d(64, eps=1e-05, momentum=0.1, affine=True, track_running_stats=True)\n",
    "    (11): ReLU(inplace=True)\n",
    "  )\n",
    "  (classifier): Sequential(\n",
    "    (0): Linear(in_features=256, out_features=20, bias=True)\n",
    "    (1): LogSoftmax(dim=1)\n",
    "  )\n",
    ")\n",
    "```"
   ]
  },
  {
   "cell_type": "code",
   "execution_count": 6,
   "metadata": {},
   "outputs": [
    {
     "name": "stderr",
     "output_type": "stream",
     "text": [
      "CNN output image size heuristics (3) does not match true output image size (2)! Using the true value now.\n"
     ]
    },
    {
     "data": {
      "text/plain": [
       "CNN(\n",
       "  (cnn): Sequential(\n",
       "    (0): Sequential(\n",
       "      (0): Conv2d(1, 64, kernel_size=(3, 3), stride=(2, 2), padding=(1, 1))\n",
       "      (1): BatchNorm2d(64, eps=1e-05, momentum=0.1, affine=True, track_running_stats=True)\n",
       "      (2): ReLU(inplace=True)\n",
       "    )\n",
       "    (1): Sequential(\n",
       "      (0): Conv2d(64, 64, kernel_size=(3, 3), stride=(2, 2), padding=(1, 1))\n",
       "      (1): BatchNorm2d(64, eps=1e-05, momentum=0.1, affine=True, track_running_stats=True)\n",
       "      (2): ReLU(inplace=True)\n",
       "    )\n",
       "    (2): Sequential(\n",
       "      (0): Conv2d(64, 64, kernel_size=(3, 3), stride=(2, 2), padding=(1, 1))\n",
       "      (1): BatchNorm2d(64, eps=1e-05, momentum=0.1, affine=True, track_running_stats=True)\n",
       "      (2): ReLU(inplace=True)\n",
       "    )\n",
       "    (3): Sequential(\n",
       "      (0): Conv2d(64, 64, kernel_size=(3, 3), stride=(2, 2), padding=(1, 1))\n",
       "      (1): BatchNorm2d(64, eps=1e-05, momentum=0.1, affine=True, track_running_stats=True)\n",
       "      (2): ReLU(inplace=True)\n",
       "    )\n",
       "    (4): Sequential(\n",
       "      (0): Flatten(start_dim=1, end_dim=-1)\n",
       "      (1): Linear(in_features=256, out_features=5, bias=True)\n",
       "    )\n",
       "  )\n",
       ")"
      ]
     },
     "execution_count": 6,
     "metadata": {},
     "output_type": "execute_result"
    }
   ],
   "source": [
    "img_size = 28\n",
    "out_channels = 64\n",
    "kernel_size = 3\n",
    "stride = 2\n",
    "padding = 1\n",
    "mp_kernel_size = 2\n",
    "cnn_config = f\"\"\"\n",
    "model:\n",
    "  name: cnn2d\n",
    "  model_kwargs:\n",
    "    image_size: {img_size}\n",
    "    in_channels: 1\n",
    "    act_fn: relu\n",
    "    layer_configs:\n",
    "      - out_channels: {out_channels}\n",
    "        kernel_size: {kernel_size}\n",
    "        batch_norm: true\n",
    "        stride: {stride}\n",
    "        padding: {padding}\n",
    "        # max_pool_kernel_size: {mp_kernel_size}\n",
    "      - out_channels: {out_channels}\n",
    "        kernel_size: {kernel_size}\n",
    "        batch_norm: true\n",
    "        stride: {stride}\n",
    "        padding: {padding}\n",
    "        # max_pool_kernel_size: {mp_kernel_size}\n",
    "      - out_channels: {out_channels}\n",
    "        kernel_size: {kernel_size}\n",
    "        batch_norm: true\n",
    "        stride: {stride}\n",
    "        padding: {padding}\n",
    "        # max_pool_kernel_size: {mp_kernel_size}\n",
    "      - out_channels: {out_channels}\n",
    "        kernel_size: {kernel_size}\n",
    "        batch_norm: true\n",
    "        stride: {stride}\n",
    "        padding: {padding}\n",
    "        # max_pool_kernel_size: {mp_kernel_size}\n",
    "    linear_output_units:\n",
    "      - {n_way_classification}\n",
    "\"\"\"\n",
    "cnn_config = OmegaConf.create(cnn_config)\n",
    "cnn_model_class = get_model_class(cnn_config.model.name)\n",
    "cnn_model = cnn_model_class(**cnn_config.model.model_kwargs)\n",
    "cnn_model"
   ]
  },
  {
   "cell_type": "code",
   "execution_count": 7,
   "metadata": {},
   "outputs": [
    {
     "data": {
      "text/plain": [
       "(torch.Size([25, 1, 28, 28]), torch.Size([25, 5]))"
      ]
     },
     "execution_count": 7,
     "metadata": {},
     "output_type": "execute_result"
    }
   ],
   "source": [
    "support_x = task.support_set[0]\n",
    "support_x.shape, cnn_model(support_x).shape"
   ]
  },
  {
   "cell_type": "code",
   "execution_count": 8,
   "metadata": {},
   "outputs": [
    {
     "name": "stdout",
     "output_type": "stream",
     "text": [
      "==========================================================================================\n",
      "Layer (type:depth-idx)                   Output Shape              Param #\n",
      "==========================================================================================\n",
      "├─Sequential: 1-1                        [-1, 5]                   --\n",
      "|    └─Sequential: 2-1                   [-1, 64, 14, 14]          --\n",
      "|    |    └─Conv2d: 3-1                  [-1, 64, 14, 14]          640\n",
      "|    |    └─BatchNorm2d: 3-2             [-1, 64, 14, 14]          128\n",
      "|    |    └─ReLU: 3-3                    [-1, 64, 14, 14]          --\n",
      "|    └─Sequential: 2-2                   [-1, 64, 7, 7]            --\n",
      "|    |    └─Conv2d: 3-4                  [-1, 64, 7, 7]            36,928\n",
      "|    |    └─BatchNorm2d: 3-5             [-1, 64, 7, 7]            128\n",
      "|    |    └─ReLU: 3-6                    [-1, 64, 7, 7]            --\n",
      "|    └─Sequential: 2-3                   [-1, 64, 4, 4]            --\n",
      "|    |    └─Conv2d: 3-7                  [-1, 64, 4, 4]            36,928\n",
      "|    |    └─BatchNorm2d: 3-8             [-1, 64, 4, 4]            128\n",
      "|    |    └─ReLU: 3-9                    [-1, 64, 4, 4]            --\n",
      "|    └─Sequential: 2-4                   [-1, 64, 2, 2]            --\n",
      "|    |    └─Conv2d: 3-10                 [-1, 64, 2, 2]            36,928\n",
      "|    |    └─BatchNorm2d: 3-11            [-1, 64, 2, 2]            128\n",
      "|    |    └─ReLU: 3-12                   [-1, 64, 2, 2]            --\n",
      "|    └─Sequential: 2-5                   [-1, 5]                   --\n",
      "|    |    └─Flatten: 3-13                [-1, 256]                 --\n",
      "|    |    └─Linear: 3-14                 [-1, 5]                   1,285\n",
      "==========================================================================================\n",
      "Total params: 113,221\n",
      "Trainable params: 113,221\n",
      "Non-trainable params: 0\n",
      "Total mult-adds (M): 2.88\n",
      "==========================================================================================\n",
      "Input size (MB): 0.07\n",
      "Forward/backward pass size (MB): 0.26\n",
      "Params size (MB): 0.43\n",
      "Estimated Total Size (MB): 0.77\n",
      "==========================================================================================\n"
     ]
    },
    {
     "data": {
      "text/plain": [
       "==========================================================================================\n",
       "Layer (type:depth-idx)                   Output Shape              Param #\n",
       "==========================================================================================\n",
       "├─Sequential: 1-1                        [-1, 5]                   --\n",
       "|    └─Sequential: 2-1                   [-1, 64, 14, 14]          --\n",
       "|    |    └─Conv2d: 3-1                  [-1, 64, 14, 14]          640\n",
       "|    |    └─BatchNorm2d: 3-2             [-1, 64, 14, 14]          128\n",
       "|    |    └─ReLU: 3-3                    [-1, 64, 14, 14]          --\n",
       "|    └─Sequential: 2-2                   [-1, 64, 7, 7]            --\n",
       "|    |    └─Conv2d: 3-4                  [-1, 64, 7, 7]            36,928\n",
       "|    |    └─BatchNorm2d: 3-5             [-1, 64, 7, 7]            128\n",
       "|    |    └─ReLU: 3-6                    [-1, 64, 7, 7]            --\n",
       "|    └─Sequential: 2-3                   [-1, 64, 4, 4]            --\n",
       "|    |    └─Conv2d: 3-7                  [-1, 64, 4, 4]            36,928\n",
       "|    |    └─BatchNorm2d: 3-8             [-1, 64, 4, 4]            128\n",
       "|    |    └─ReLU: 3-9                    [-1, 64, 4, 4]            --\n",
       "|    └─Sequential: 2-4                   [-1, 64, 2, 2]            --\n",
       "|    |    └─Conv2d: 3-10                 [-1, 64, 2, 2]            36,928\n",
       "|    |    └─BatchNorm2d: 3-11            [-1, 64, 2, 2]            128\n",
       "|    |    └─ReLU: 3-12                   [-1, 64, 2, 2]            --\n",
       "|    └─Sequential: 2-5                   [-1, 5]                   --\n",
       "|    |    └─Flatten: 3-13                [-1, 256]                 --\n",
       "|    |    └─Linear: 3-14                 [-1, 5]                   1,285\n",
       "==========================================================================================\n",
       "Total params: 113,221\n",
       "Trainable params: 113,221\n",
       "Non-trainable params: 0\n",
       "Total mult-adds (M): 2.88\n",
       "==========================================================================================\n",
       "Input size (MB): 0.07\n",
       "Forward/backward pass size (MB): 0.26\n",
       "Params size (MB): 0.43\n",
       "Estimated Total Size (MB): 0.77\n",
       "=========================================================================================="
      ]
     },
     "execution_count": 8,
     "metadata": {},
     "output_type": "execute_result"
    }
   ],
   "source": [
    "summary(cnn_model, support_x)"
   ]
  },
  {
   "cell_type": "markdown",
   "metadata": {},
   "source": [
    "### Model 2: dragen1860 (Jackie Loong)\n",
    "Model used in Codebase: https://github.com/dragen1860/Reptile-Pytorch\n",
    "\n",
    "```\n",
    "Naive(\n",
    "  (net): Sequential(\n",
    "    (0): Conv2d(3, 64, kernel_size=(3, 3), stride=(1, 1))\n",
    "    (1): AvgPool2d(kernel_size=2, stride=2, padding=0)\n",
    "    (2): BatchNorm2d(64, eps=1e-05, momentum=0.1, affine=True, track_running_stats=True)\n",
    "    (3): ReLU(inplace=True)\n",
    "    (4): Conv2d(64, 64, kernel_size=(3, 3), stride=(1, 1))\n",
    "    (5): AvgPool2d(kernel_size=2, stride=2, padding=0)\n",
    "    (6): BatchNorm2d(64, eps=1e-05, momentum=0.1, affine=True, track_running_stats=True)\n",
    "    (7): ReLU(inplace=True)\n",
    "    (8): Conv2d(64, 64, kernel_size=(3, 3), stride=(1, 1))\n",
    "    (9): BatchNorm2d(64, eps=1e-05, momentum=0.1, affine=True, track_running_stats=True)\n",
    "    (10): ReLU(inplace=True)\n",
    "    (11): Conv2d(64, 64, kernel_size=(3, 3), stride=(1, 1))\n",
    "    (12): BatchNorm2d(64, eps=1e-05, momentum=0.1, affine=True, track_running_stats=True)\n",
    "    (13): ReLU(inplace=True)\n",
    "  )\n",
    "  (fc): Sequential(\n",
    "    (0): Linear(in_features=64, out_features=64, bias=True)\n",
    "    (1): ReLU(inplace=True)\n",
    "    (2): Linear(in_features=64, out_features=5, bias=True)\n",
    "  )\n",
    "  (criteon): CrossEntropyLoss()\n",
    ")\n",
    "```"
   ]
  },
  {
   "cell_type": "code",
   "execution_count": 12,
   "metadata": {},
   "outputs": [
    {
     "data": {
      "text/plain": [
       "CNN(\n",
       "  (cnn): Sequential(\n",
       "    (0): Sequential(\n",
       "      (0): Conv2d(1, 64, kernel_size=(3, 3), stride=(1, 1))\n",
       "      (1): BatchNorm2d(64, eps=1e-05, momentum=0.1, affine=True, track_running_stats=True)\n",
       "      (2): ReLU(inplace=True)\n",
       "      (3): MaxPool2d(kernel_size=2, stride=2, padding=0, dilation=1, ceil_mode=False)\n",
       "    )\n",
       "    (1): Sequential(\n",
       "      (0): Conv2d(64, 64, kernel_size=(3, 3), stride=(1, 1))\n",
       "      (1): BatchNorm2d(64, eps=1e-05, momentum=0.1, affine=True, track_running_stats=True)\n",
       "      (2): ReLU(inplace=True)\n",
       "      (3): MaxPool2d(kernel_size=2, stride=2, padding=0, dilation=1, ceil_mode=False)\n",
       "    )\n",
       "    (2): Sequential(\n",
       "      (0): Conv2d(64, 64, kernel_size=(3, 3), stride=(1, 1))\n",
       "      (1): BatchNorm2d(64, eps=1e-05, momentum=0.1, affine=True, track_running_stats=True)\n",
       "      (2): ReLU(inplace=True)\n",
       "    )\n",
       "    (3): Sequential(\n",
       "      (0): Conv2d(64, 64, kernel_size=(3, 3), stride=(1, 1))\n",
       "      (1): BatchNorm2d(64, eps=1e-05, momentum=0.1, affine=True, track_running_stats=True)\n",
       "      (2): ReLU(inplace=True)\n",
       "    )\n",
       "    (4): Sequential(\n",
       "      (0): Flatten(start_dim=1, end_dim=-1)\n",
       "      (1): Linear(in_features=64, out_features=5, bias=True)\n",
       "    )\n",
       "  )\n",
       ")"
      ]
     },
     "execution_count": 12,
     "metadata": {},
     "output_type": "execute_result"
    }
   ],
   "source": [
    "img_size = 28\n",
    "out_channels = 64\n",
    "kernel_size = 3\n",
    "stride = 1\n",
    "padding = 0\n",
    "mp_kernel_size = 2\n",
    "cnn_config = f\"\"\"\n",
    "model:\n",
    "  name: cnn2d\n",
    "  model_kwargs:\n",
    "    image_size: {img_size}\n",
    "    in_channels: 1\n",
    "    act_fn: relu\n",
    "    layer_configs:\n",
    "      - out_channels: {out_channels}\n",
    "        kernel_size: {kernel_size}\n",
    "        batch_norm: true\n",
    "        stride: {stride}\n",
    "        padding: {padding}\n",
    "        max_pool_kernel_size: {mp_kernel_size}\n",
    "      - out_channels: {out_channels}\n",
    "        kernel_size: {kernel_size}\n",
    "        batch_norm: true\n",
    "        stride: {stride}\n",
    "        padding: {padding}\n",
    "        max_pool_kernel_size: {mp_kernel_size}\n",
    "      - out_channels: {out_channels}\n",
    "        kernel_size: {kernel_size}\n",
    "        batch_norm: true\n",
    "        stride: {stride}\n",
    "        padding: {padding}\n",
    "        # max_pool_kernel_size: {mp_kernel_size}\n",
    "      - out_channels: {out_channels}\n",
    "        kernel_size: {kernel_size}\n",
    "        batch_norm: true\n",
    "        stride: {stride}\n",
    "        padding: {padding}\n",
    "        # max_pool_kernel_size: {mp_kernel_size}\n",
    "    linear_output_units:\n",
    "      - {n_way_classification}\n",
    "\"\"\"\n",
    "cnn_config = OmegaConf.create(cnn_config)\n",
    "cnn_model_class = get_model_class(cnn_config.model.name)\n",
    "cnn_model = cnn_model_class(**cnn_config.model.model_kwargs)\n",
    "cnn_model"
   ]
  },
  {
   "cell_type": "code",
   "execution_count": 10,
   "metadata": {},
   "outputs": [
    {
     "data": {
      "text/plain": [
       "torch.Size([25, 5])"
      ]
     },
     "execution_count": 10,
     "metadata": {},
     "output_type": "execute_result"
    }
   ],
   "source": [
    "cnn_model(support_x).shape"
   ]
  },
  {
   "cell_type": "code",
   "execution_count": 11,
   "metadata": {},
   "outputs": [
    {
     "name": "stdout",
     "output_type": "stream",
     "text": [
      "==========================================================================================\n",
      "Layer (type:depth-idx)                   Output Shape              Param #\n",
      "==========================================================================================\n",
      "├─Sequential: 1-1                        [-1, 5]                   --\n",
      "|    └─Sequential: 2-1                   [-1, 64, 7, 7]            --\n",
      "|    |    └─Conv2d: 3-1                  [-1, 64, 14, 14]          640\n",
      "|    |    └─BatchNorm2d: 3-2             [-1, 64, 14, 14]          128\n",
      "|    |    └─ReLU: 3-3                    [-1, 64, 14, 14]          --\n",
      "|    |    └─MaxPool2d: 3-4               [-1, 64, 7, 7]            --\n",
      "|    └─Sequential: 2-2                   [-1, 64, 4, 4]            --\n",
      "|    |    └─Conv2d: 3-5                  [-1, 64, 4, 4]            36,928\n",
      "|    |    └─BatchNorm2d: 3-6             [-1, 64, 4, 4]            128\n",
      "|    |    └─ReLU: 3-7                    [-1, 64, 4, 4]            --\n",
      "|    └─Sequential: 2-3                   [-1, 64, 2, 2]            --\n",
      "|    |    └─Conv2d: 3-8                  [-1, 64, 2, 2]            36,928\n",
      "|    |    └─BatchNorm2d: 3-9             [-1, 64, 2, 2]            128\n",
      "|    |    └─ReLU: 3-10                   [-1, 64, 2, 2]            --\n",
      "|    └─Sequential: 2-4                   [-1, 64, 1, 1]            --\n",
      "|    |    └─Conv2d: 3-11                 [-1, 64, 1, 1]            36,928\n",
      "|    |    └─BatchNorm2d: 3-12            [-1, 64, 1, 1]            128\n",
      "|    |    └─ReLU: 3-13                   [-1, 64, 1, 1]            --\n",
      "|    └─Sequential: 2-5                   [-1, 5]                   --\n",
      "|    |    └─Flatten: 3-14                [-1, 64]                  --\n",
      "|    |    └─Linear: 3-15                 [-1, 5]                   325\n",
      "==========================================================================================\n",
      "Total params: 112,261\n",
      "Trainable params: 112,261\n",
      "Non-trainable params: 0\n",
      "Total mult-adds (M): 1.11\n",
      "==========================================================================================\n",
      "Input size (MB): 0.07\n",
      "Forward/backward pass size (MB): 0.21\n",
      "Params size (MB): 0.43\n",
      "Estimated Total Size (MB): 0.71\n",
      "==========================================================================================\n"
     ]
    },
    {
     "data": {
      "text/plain": [
       "==========================================================================================\n",
       "Layer (type:depth-idx)                   Output Shape              Param #\n",
       "==========================================================================================\n",
       "├─Sequential: 1-1                        [-1, 5]                   --\n",
       "|    └─Sequential: 2-1                   [-1, 64, 7, 7]            --\n",
       "|    |    └─Conv2d: 3-1                  [-1, 64, 14, 14]          640\n",
       "|    |    └─BatchNorm2d: 3-2             [-1, 64, 14, 14]          128\n",
       "|    |    └─ReLU: 3-3                    [-1, 64, 14, 14]          --\n",
       "|    |    └─MaxPool2d: 3-4               [-1, 64, 7, 7]            --\n",
       "|    └─Sequential: 2-2                   [-1, 64, 4, 4]            --\n",
       "|    |    └─Conv2d: 3-5                  [-1, 64, 4, 4]            36,928\n",
       "|    |    └─BatchNorm2d: 3-6             [-1, 64, 4, 4]            128\n",
       "|    |    └─ReLU: 3-7                    [-1, 64, 4, 4]            --\n",
       "|    └─Sequential: 2-3                   [-1, 64, 2, 2]            --\n",
       "|    |    └─Conv2d: 3-8                  [-1, 64, 2, 2]            36,928\n",
       "|    |    └─BatchNorm2d: 3-9             [-1, 64, 2, 2]            128\n",
       "|    |    └─ReLU: 3-10                   [-1, 64, 2, 2]            --\n",
       "|    └─Sequential: 2-4                   [-1, 64, 1, 1]            --\n",
       "|    |    └─Conv2d: 3-11                 [-1, 64, 1, 1]            36,928\n",
       "|    |    └─BatchNorm2d: 3-12            [-1, 64, 1, 1]            128\n",
       "|    |    └─ReLU: 3-13                   [-1, 64, 1, 1]            --\n",
       "|    └─Sequential: 2-5                   [-1, 5]                   --\n",
       "|    |    └─Flatten: 3-14                [-1, 64]                  --\n",
       "|    |    └─Linear: 3-15                 [-1, 5]                   325\n",
       "==========================================================================================\n",
       "Total params: 112,261\n",
       "Trainable params: 112,261\n",
       "Non-trainable params: 0\n",
       "Total mult-adds (M): 1.11\n",
       "==========================================================================================\n",
       "Input size (MB): 0.07\n",
       "Forward/backward pass size (MB): 0.21\n",
       "Params size (MB): 0.43\n",
       "Estimated Total Size (MB): 0.71\n",
       "=========================================================================================="
      ]
     },
     "execution_count": 11,
     "metadata": {},
     "output_type": "execute_result"
    }
   ],
   "source": [
    "summary(cnn_model, support_x)"
   ]
  },
  {
   "cell_type": "code",
   "execution_count": null,
   "metadata": {},
   "outputs": [],
   "source": []
  },
  {
   "cell_type": "code",
   "execution_count": null,
   "metadata": {},
   "outputs": [],
   "source": []
  }
 ],
 "metadata": {
  "kernelspec": {
   "display_name": "Python 3.8.13 ('erank')",
   "language": "python",
   "name": "python3"
  },
  "language_info": {
   "codemirror_mode": {
    "name": "ipython",
    "version": 3
   },
   "file_extension": ".py",
   "mimetype": "text/x-python",
   "name": "python",
   "nbconvert_exporter": "python",
   "pygments_lexer": "ipython3",
   "version": "3.8.13"
  },
  "orig_nbformat": 4,
  "vscode": {
   "interpreter": {
    "hash": "b1e300651644b4a5ccc8598fb3da49325ec88b18d4f380e9c939826d448ae9e4"
   }
  }
 },
 "nbformat": 4,
 "nbformat_minor": 2
}
