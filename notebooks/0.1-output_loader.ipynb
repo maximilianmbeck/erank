{
 "cells": [
  {
   "cell_type": "code",
   "execution_count": 11,
   "metadata": {},
   "outputs": [
    {
     "name": "stdout",
     "output_type": "stream",
     "text": [
      "The autoreload extension is already loaded. To reload it, use:\n",
      "  %reload_ext autoreload\n"
     ]
    }
   ],
   "source": [
    "%load_ext autoreload\n",
    "%autoreload 2\n",
    "import sys\n",
    "import torch\n",
    "from torch import nn\n",
    "sys.path.append('..')\n",
    "# sys.path.append('/system/user/beck/pwbeck/projects/regularization/ml_utilities')\n",
    "from pathlib import Path\n",
    "from typing import Union\n",
    "from ml_utilities.torch_models.base_model import BaseModel\n",
    "from ml_utilities.torch_models.fc import FC\n",
    "from ml_utilities.torch_models import get_model_class\n",
    "from omegaconf import OmegaConf\n",
    "\n",
    "from erank.utils import load_directions_matrix_from_task_sweep\n",
    "import matplotlib.pyplot as plt\n",
    "from erank.output_loader.job_output import JobResult\n",
    "from erank.utils import get_best_model_idx\n",
    "\n",
    "gpu_id = 0"
   ]
  },
  {
   "cell_type": "code",
   "execution_count": 12,
   "metadata": {},
   "outputs": [],
   "source": [
    "job_dir = '/system/user/beck/pwbeck/projects/regularization/erank/outputs/mnist-11.7.0-lenet_rotatedtasks--221015_124528/outputs/mnist-11.7.0-lenet_rotatedtasks--init_model_step-0-rotation_angle-0.0-seed-0--221015_195056'"
   ]
  },
  {
   "cell_type": "code",
   "execution_count": 13,
   "metadata": {},
   "outputs": [],
   "source": [
    "jobr = JobResult(job_dir = job_dir)"
   ]
  },
  {
   "cell_type": "code",
   "execution_count": 14,
   "metadata": {},
   "outputs": [
    {
     "data": {
      "text/plain": [
       "'/system/user/beck/pwbeck/projects/regularization/erank/outputs/mnist-11.7.0-lenet_rotatedtasks--221015_124528/outputs/mnist-11.7.0-lenet_rotatedtasks--init_model_step-0-rotation_angle-0.0-seed-0--221015_195056'"
      ]
     },
     "execution_count": 14,
     "metadata": {},
     "output_type": "execute_result"
    }
   ],
   "source": [
    "str(jobr)"
   ]
  },
  {
   "cell_type": "code",
   "execution_count": 15,
   "metadata": {},
   "outputs": [
    {
     "data": {
      "text/plain": [
       "True"
      ]
     },
     "execution_count": 15,
     "metadata": {},
     "output_type": "execute_result"
    }
   ],
   "source": [
    "jobr.is_valid_job()"
   ]
  },
  {
   "cell_type": "code",
   "execution_count": null,
   "metadata": {},
   "outputs": [],
   "source": []
  }
 ],
 "metadata": {
  "kernelspec": {
   "display_name": "Python 3.10.4 ('subspaces')",
   "language": "python",
   "name": "python3"
  },
  "language_info": {
   "codemirror_mode": {
    "name": "ipython",
    "version": 3
   },
   "file_extension": ".py",
   "mimetype": "text/x-python",
   "name": "python",
   "nbconvert_exporter": "python",
   "pygments_lexer": "ipython3",
   "version": "3.10.4"
  },
  "orig_nbformat": 4,
  "vscode": {
   "interpreter": {
    "hash": "ac019f01eb2a0970f066d5e193a84f30bb43215eeeface9d3d8db32241c79700"
   }
  }
 },
 "nbformat": 4,
 "nbformat_minor": 2
}
