{
 "cells": [
  {
   "cell_type": "code",
   "execution_count": 15,
   "metadata": {},
   "outputs": [
    {
     "name": "stdout",
     "output_type": "stream",
     "text": [
      "The autoreload extension is already loaded. To reload it, use:\n",
      "  %reload_ext autoreload\n"
     ]
    }
   ],
   "source": [
    "%load_ext autoreload\n",
    "%autoreload 2\n",
    "import sys\n",
    "import torch\n",
    "from torch import nn\n",
    "sys.path.append('..')\n",
    "# sys.path.append('/system/user/beck/pwbeck/projects/regularization/ml_utilities')\n",
    "from pathlib import Path\n",
    "from typing import Union\n",
    "from ml_utilities.torch_models.base_model import BaseModel\n",
    "from ml_utilities.torch_models.fc import FC\n",
    "from ml_utilities.torch_models import get_model_class\n",
    "from omegaconf import OmegaConf\n",
    "\n",
    "from erank.utils import load_directions_matrix_from_task_sweep\n",
    "import matplotlib.pyplot as plt\n",
    "from erank.output_loader.job_output import JobResult\n",
    "from erank.utils import get_best_model_idx\n",
    "\n",
    "gpu_id = 0"
   ]
  },
  {
   "cell_type": "markdown",
   "metadata": {},
   "source": [
    "## JobResult class"
   ]
  },
  {
   "cell_type": "code",
   "execution_count": 16,
   "metadata": {},
   "outputs": [],
   "source": [
    "job_dir = '/system/user/beck/pwbeck/projects/regularization/erank/outputs/mnist-11.7.0-lenet_rotatedtasks--221015_124528/outputs/mnist-11.7.0-lenet_rotatedtasks--init_model_step-0-rotation_angle-0.0-seed-0--221015_195056'"
   ]
  },
  {
   "cell_type": "code",
   "execution_count": 17,
   "metadata": {},
   "outputs": [],
   "source": [
    "jobr = JobResult(job_dir = job_dir)"
   ]
  },
  {
   "cell_type": "code",
   "execution_count": 18,
   "metadata": {},
   "outputs": [
    {
     "data": {
      "text/plain": [
       "'/system/user/beck/pwbeck/projects/regularization/erank/outputs/mnist-11.7.0-lenet_rotatedtasks--221015_124528/outputs/mnist-11.7.0-lenet_rotatedtasks--init_model_step-0-rotation_angle-0.0-seed-0--221015_195056'"
      ]
     },
     "execution_count": 18,
     "metadata": {},
     "output_type": "execute_result"
    }
   ],
   "source": [
    "str(jobr)"
   ]
  },
  {
   "cell_type": "code",
   "execution_count": 19,
   "metadata": {},
   "outputs": [
    {
     "data": {
      "text/plain": [
       "True"
      ]
     },
     "execution_count": 19,
     "metadata": {},
     "output_type": "execute_result"
    }
   ],
   "source": [
    "jobr.is_valid_job()"
   ]
  },
  {
   "cell_type": "code",
   "execution_count": 20,
   "metadata": {},
   "outputs": [
    {
     "data": {
      "text/plain": [
       "{'run_config': {'exec_type': 'parallel', 'hostname': 'node01', 'gpu_ids': [0, 1, 2], 'runs_per_gpu': 6, 'wandb': {'init': {'tags': ['${config.experiment_data.experiment_tag}_exps', 'run_handler'], 'notes': None, 'group': '${config.experiment_data.experiment_tag}', 'job_type': 'run_handler'}}}, 'seeds': [0], 'sweep': {'type': 'grid', 'axes': [{'parameter': 'trainer.init_model_step', 'vals': [0, 5, 15, 50, 100]}, {'parameter': 'data.dataset_kwargs.rotation_angle', 'vals': 'linspace(0,180,360,endpoint=True)'}]}, 'start_num': 0, 'config': {'experiment_data': {'entity': 'jkuiml-fsl', 'project_name': 'sparsity', 'experiment_tag': '11.7', 'experiment_type': 'startnum_${start_num}', 'experiment_name': 'mnist-11.7.0-lenet_rotatedtasks--init_model_step-0-rotation_angle-0.0-seed-0', 'experiment_dir': None, 'experiment_notes': 'Hyperparameter search.', 'job_name': None, 'seed': 0, 'hostname': 'node01', 'gpu_id': 1}, 'model': {'name': 'fc', 'model_kwargs': {'input_size': 784, 'hidden_sizes': [300, 100], 'output_size': 10, 'flatten_input': True, 'dropout': None, 'act_fn': 'relu'}}, 'trainer': {'training_setup': 'supervised', 'n_steps': 2000, 'log_train_step_every': 1, 'log_additional_train_step_every_multiplier': 1, 'log_additional_logs': True, 'val_every': 50, 'save_every': 500, 'early_stopping_patience': 400, 'batch_size': 128, 'optimizer_scheduler': {'optimizer_name': 'adamw', 'optimizer_kwargs': {'lr': 0.001, 'weight_decay': 0.0}}, 'init_model_step': 0, 'init_model': '/system/user/beck/pwbeck/projects/regularization/erank/outputs/mnist-11.5.0-lenet--221015_122552/model_step_${config.trainer.init_model_step}.p', 'loss': 'crossentropy', 'metrics': ['Accuracy'], 'num_workers': 4, 'verbose': False}, 'data': {'dataset': 'rotatedvision', 'dataset_kwargs': {'data_root_path': '/system/user/beck/pwbeck/data', 'dataset': 'mnist', 'rotation_angle': 0.0}, 'dataset_split': {'train_val_split': 0.8}}}, 'config_override_params': {'trainer': {'init_model_step': 0}, 'data': {'dataset_kwargs': {'rotation_angle': 0.0}}}}"
      ]
     },
     "execution_count": 20,
     "metadata": {},
     "output_type": "execute_result"
    }
   ],
   "source": [
    "jobr.get_config()"
   ]
  },
  {
   "cell_type": "code",
   "execution_count": 26,
   "metadata": {},
   "outputs": [
    {
     "data": {
      "text/plain": [
       "'mnist-11.7.0-lenet_rotatedtasks--init_model_step-0-rotation_angle-0'"
      ]
     },
     "execution_count": 26,
     "metadata": {},
     "output_type": "execute_result"
    }
   ],
   "source": [
    "jobr.job_dir.stem"
   ]
  },
  {
   "cell_type": "code",
   "execution_count": 29,
   "metadata": {},
   "outputs": [
    {
     "data": {
      "text/html": [
       "<div>\n",
       "<style scoped>\n",
       "    .dataframe tbody tr th:only-of-type {\n",
       "        vertical-align: middle;\n",
       "    }\n",
       "\n",
       "    .dataframe tbody tr th {\n",
       "        vertical-align: top;\n",
       "    }\n",
       "\n",
       "    .dataframe thead th {\n",
       "        text-align: right;\n",
       "    }\n",
       "</style>\n",
       "<table border=\"1\" class=\"dataframe\">\n",
       "  <thead>\n",
       "    <tr style=\"text-align: right;\">\n",
       "      <th></th>\n",
       "      <th>best_step</th>\n",
       "      <th>best_val_score</th>\n",
       "      <th>trainer.init_model_step</th>\n",
       "      <th>data.dataset_kwargs.rotation_angle</th>\n",
       "    </tr>\n",
       "  </thead>\n",
       "  <tbody>\n",
       "    <tr>\n",
       "      <th>mnist-11.7.0-lenet_rotatedtasks--init_model_step-0-rotation_angle-0</th>\n",
       "      <td>1550</td>\n",
       "      <td>0.97675</td>\n",
       "      <td>0</td>\n",
       "      <td>0.0</td>\n",
       "    </tr>\n",
       "  </tbody>\n",
       "</table>\n",
       "</div>"
      ],
      "text/plain": [
       "                                                    best_step  best_val_score  \\\n",
       "mnist-11.7.0-lenet_rotatedtasks--init_model_ste...       1550         0.97675   \n",
       "\n",
       "                                                    trainer.init_model_step  \\\n",
       "mnist-11.7.0-lenet_rotatedtasks--init_model_ste...                        0   \n",
       "\n",
       "                                                    data.dataset_kwargs.rotation_angle  \n",
       "mnist-11.7.0-lenet_rotatedtasks--init_model_ste...                                 0.0  "
      ]
     },
     "execution_count": 29,
     "metadata": {},
     "output_type": "execute_result"
    }
   ],
   "source": [
    "jobr.get_summary()"
   ]
  },
  {
   "cell_type": "code",
   "execution_count": 38,
   "metadata": {},
   "outputs": [
    {
     "data": {
      "text/html": [
       "<div>\n",
       "<style scoped>\n",
       "    .dataframe tbody tr th:only-of-type {\n",
       "        vertical-align: middle;\n",
       "    }\n",
       "\n",
       "    .dataframe tbody tr th {\n",
       "        vertical-align: top;\n",
       "    }\n",
       "\n",
       "    .dataframe thead th {\n",
       "        text-align: right;\n",
       "    }\n",
       "</style>\n",
       "<table border=\"1\" class=\"dataframe\">\n",
       "  <thead>\n",
       "    <tr style=\"text-align: right;\">\n",
       "      <th></th>\n",
       "      <th>epoch</th>\n",
       "      <th>train_step</th>\n",
       "      <th>loss_CrossEntropyLoss</th>\n",
       "      <th>Accuracy</th>\n",
       "      <th>time_last_train_epoch_in_s</th>\n",
       "      <th>log_step</th>\n",
       "    </tr>\n",
       "  </thead>\n",
       "  <tbody>\n",
       "    <tr>\n",
       "      <th>0</th>\n",
       "      <td>1</td>\n",
       "      <td>375</td>\n",
       "      <td>0.299773</td>\n",
       "      <td>0.911083</td>\n",
       "      <td>0.000000</td>\n",
       "      <td>383</td>\n",
       "    </tr>\n",
       "    <tr>\n",
       "      <th>1</th>\n",
       "      <td>2</td>\n",
       "      <td>750</td>\n",
       "      <td>0.114342</td>\n",
       "      <td>0.964688</td>\n",
       "      <td>43.808768</td>\n",
       "      <td>767</td>\n",
       "    </tr>\n",
       "    <tr>\n",
       "      <th>2</th>\n",
       "      <td>3</td>\n",
       "      <td>1125</td>\n",
       "      <td>0.074017</td>\n",
       "      <td>0.977687</td>\n",
       "      <td>53.615765</td>\n",
       "      <td>1150</td>\n",
       "    </tr>\n",
       "    <tr>\n",
       "      <th>3</th>\n",
       "      <td>4</td>\n",
       "      <td>1500</td>\n",
       "      <td>0.053052</td>\n",
       "      <td>0.982938</td>\n",
       "      <td>37.999984</td>\n",
       "      <td>1534</td>\n",
       "    </tr>\n",
       "    <tr>\n",
       "      <th>4</th>\n",
       "      <td>5</td>\n",
       "      <td>1875</td>\n",
       "      <td>0.037440</td>\n",
       "      <td>0.987938</td>\n",
       "      <td>48.987577</td>\n",
       "      <td>1917</td>\n",
       "    </tr>\n",
       "    <tr>\n",
       "      <th>5</th>\n",
       "      <td>6</td>\n",
       "      <td>2000</td>\n",
       "      <td>0.029647</td>\n",
       "      <td>0.991000</td>\n",
       "      <td>48.566147</td>\n",
       "      <td>2046</td>\n",
       "    </tr>\n",
       "  </tbody>\n",
       "</table>\n",
       "</div>"
      ],
      "text/plain": [
       "   epoch  train_step  loss_CrossEntropyLoss  Accuracy  \\\n",
       "0      1         375               0.299773  0.911083   \n",
       "1      2         750               0.114342  0.964688   \n",
       "2      3        1125               0.074017  0.977687   \n",
       "3      4        1500               0.053052  0.982938   \n",
       "4      5        1875               0.037440  0.987938   \n",
       "5      6        2000               0.029647  0.991000   \n",
       "\n",
       "   time_last_train_epoch_in_s  log_step  \n",
       "0                    0.000000       383  \n",
       "1                   43.808768       767  \n",
       "2                   53.615765      1150  \n",
       "3                   37.999984      1534  \n",
       "4                   48.987577      1917  \n",
       "5                   48.566147      2046  "
      ]
     },
     "execution_count": 38,
     "metadata": {},
     "output_type": "execute_result"
    }
   ],
   "source": [
    "jobr.get_data_log('train')"
   ]
  },
  {
   "cell_type": "markdown",
   "metadata": {},
   "source": []
  }
 ],
 "metadata": {
  "kernelspec": {
   "display_name": "Python 3.10.4 ('subspaces')",
   "language": "python",
   "name": "python3"
  },
  "language_info": {
   "codemirror_mode": {
    "name": "ipython",
    "version": 3
   },
   "file_extension": ".py",
   "mimetype": "text/x-python",
   "name": "python",
   "nbconvert_exporter": "python",
   "pygments_lexer": "ipython3",
   "version": "3.10.4"
  },
  "orig_nbformat": 4,
  "vscode": {
   "interpreter": {
    "hash": "ac019f01eb2a0970f066d5e193a84f30bb43215eeeface9d3d8db32241c79700"
   }
  }
 },
 "nbformat": 4,
 "nbformat_minor": 2
}
