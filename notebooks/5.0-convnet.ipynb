{
 "cells": [
  {
   "cell_type": "code",
   "execution_count": 12,
   "metadata": {},
   "outputs": [
    {
     "name": "stdout",
     "output_type": "stream",
     "text": [
      "The autoreload extension is already loaded. To reload it, use:\n",
      "  %reload_ext autoreload\n"
     ]
    }
   ],
   "source": [
    "%load_ext autoreload\n",
    "%autoreload 2\n",
    "import sys\n",
    "import torch\n",
    "from torch import nn\n",
    "sys.path.append('..')\n",
    "# sys.path.append('/system/user/beck/pwbeck/projects/regularization/ml_utilities')\n",
    "from pathlib import Path\n",
    "from typing import Union\n",
    "from ml_utilities.torch_models.base_model import BaseModel\n",
    "from ml_utilities.torch_models.fc import FC\n",
    "from ml_utilities.torch_models.cnn2d import CNN, _create_cnn_layer, create_cnn, CnnBlockConfig, CnnConfig\n",
    "from ml_utilities.torch_models import get_model_class\n",
    "from omegaconf import OmegaConf\n",
    "\n",
    "from erank.utils import load_directions_matrix_from_task_sweep\n",
    "import matplotlib.pyplot as plt\n",
    "gpu_id = 0"
   ]
  },
  {
   "cell_type": "code",
   "execution_count": 13,
   "metadata": {},
   "outputs": [],
   "source": [
    "img_size = 28\n",
    "out_channels = 256\n",
    "kernel_size = 3\n",
    "mp_kernel_size = 2\n",
    "cnn_config = f\"\"\"\n",
    "model:\n",
    "  image_size: {img_size}\n",
    "  input_channels: 3\n",
    "  act_fn: relu\n",
    "  layer_configs:\n",
    "    - out_channels: {out_channels}\n",
    "      kernel_size: {kernel_size}\n",
    "      batch_norm: true\n",
    "      stride: 1\n",
    "      padding: 0\n",
    "      max_pool_kernel_size: {mp_kernel_size}\n",
    "    - out_channels: {out_channels}\n",
    "      kernel_size: {kernel_size}\n",
    "      batch_norm: true\n",
    "      stride: 1\n",
    "      padding: 0\n",
    "      max_pool_kernel_size: {mp_kernel_size}\n",
    "    - out_channels: {out_channels}\n",
    "      kernel_size: {kernel_size}\n",
    "      batch_norm: true\n",
    "      stride: 1\n",
    "      padding: 0\n",
    "      max_pool_kernel_size: {mp_kernel_size}\n",
    "    # - out_channels: {out_channels}\n",
    "    #   kernel_size: {kernel_size}\n",
    "    #   batch_norm: true\n",
    "    #   stride: 1\n",
    "    #   padding: 0\n",
    "    #   max_pool_kernel_size: {mp_kernel_size}\n",
    "  linear_output_units:\n",
    "    - 10\n",
    "\"\"\"\n",
    "cnn_config = OmegaConf.create(cnn_config)"
   ]
  },
  {
   "cell_type": "code",
   "execution_count": 14,
   "metadata": {},
   "outputs": [
    {
     "data": {
      "text/plain": [
       "[Conv2d(3, 64, kernel_size=(3, 3), stride=(1, 1)),\n",
       " BatchNorm2d(64, eps=1e-05, momentum=0.1, affine=True, track_running_stats=True),\n",
       " ReLU(inplace=True)]"
      ]
     },
     "execution_count": 14,
     "metadata": {},
     "output_type": "execute_result"
    }
   ],
   "source": [
    "cnn_block= _create_cnn_layer(3, 64, 3, batch_norm=True, act_fn='relu')\n",
    "cnn_block"
   ]
  },
  {
   "cell_type": "code",
   "execution_count": 15,
   "metadata": {},
   "outputs": [],
   "source": [
    "# print(OmegaConf.to_yaml(cnn_config))"
   ]
  },
  {
   "cell_type": "code",
   "execution_count": 16,
   "metadata": {},
   "outputs": [],
   "source": [
    "# cnn_config.model.layer_configs"
   ]
  },
  {
   "cell_type": "code",
   "execution_count": 17,
   "metadata": {},
   "outputs": [],
   "source": [
    "# cnn, out_channels, out_size = create_cnn(**cnn_config.model)\n",
    "# cnn, out_channels, out_size"
   ]
  },
  {
   "cell_type": "code",
   "execution_count": 18,
   "metadata": {},
   "outputs": [],
   "source": [
    "cnn = CNN(**cnn_config.model)"
   ]
  },
  {
   "cell_type": "code",
   "execution_count": 19,
   "metadata": {},
   "outputs": [
    {
     "data": {
      "text/plain": [
       "torch.Size([16, 3, 28, 28])"
      ]
     },
     "execution_count": 19,
     "metadata": {},
     "output_type": "execute_result"
    }
   ],
   "source": [
    "# simulate forward pass\n",
    "n_channels = cnn_config.model.input_channels\n",
    "img_size = cnn_config.model.image_size\n",
    "image = torch.normal(0,1,size=(n_channels, img_size, img_size))\n",
    "# create batch\n",
    "image_batch = image.unsqueeze(0).repeat((16,1,1,1))\n",
    "image_batch.shape"
   ]
  },
  {
   "cell_type": "code",
   "execution_count": 20,
   "metadata": {},
   "outputs": [
    {
     "data": {
      "text/plain": [
       "torch.Size([16, 10])"
      ]
     },
     "execution_count": 20,
     "metadata": {},
     "output_type": "execute_result"
    }
   ],
   "source": [
    "out = cnn(image_batch)\n",
    "out.shape"
   ]
  },
  {
   "cell_type": "code",
   "execution_count": 21,
   "metadata": {},
   "outputs": [
    {
     "name": "stdout",
     "output_type": "stream",
     "text": [
      "==========================================================================================\n",
      "Layer (type:depth-idx)                   Output Shape              Param #\n",
      "==========================================================================================\n",
      "├─Sequential: 1-1                        [-1, 10]                  --\n",
      "|    └─Conv2d: 2-1                       [-1, 256, 26, 26]         7,168\n",
      "|    └─BatchNorm2d: 2-2                  [-1, 256, 26, 26]         512\n",
      "|    └─ReLU: 2-3                         [-1, 256, 26, 26]         --\n",
      "|    └─MaxPool2d: 2-4                    [-1, 256, 13, 13]         --\n",
      "|    └─Conv2d: 2-5                       [-1, 256, 11, 11]         590,080\n",
      "|    └─BatchNorm2d: 2-6                  [-1, 256, 11, 11]         512\n",
      "|    └─ReLU: 2-7                         [-1, 256, 11, 11]         --\n",
      "|    └─MaxPool2d: 2-8                    [-1, 256, 5, 5]           --\n",
      "|    └─Conv2d: 2-9                       [-1, 256, 3, 3]           590,080\n",
      "|    └─BatchNorm2d: 2-10                 [-1, 256, 3, 3]           512\n",
      "|    └─ReLU: 2-11                        [-1, 256, 3, 3]           --\n",
      "|    └─MaxPool2d: 2-12                   [-1, 256, 1, 1]           --\n",
      "|    └─Flatten: 2-13                     [-1, 256]                 --\n",
      "|    └─Linear: 2-14                      [-1, 10]                  2,570\n",
      "==========================================================================================\n",
      "Total params: 1,191,434\n",
      "Trainable params: 1,191,434\n",
      "Non-trainable params: 0\n",
      "Total mult-adds (M): 82.54\n",
      "==========================================================================================\n",
      "Input size (MB): 0.14\n",
      "Forward/backward pass size (MB): 3.15\n",
      "Params size (MB): 4.54\n",
      "Estimated Total Size (MB): 7.84\n",
      "==========================================================================================\n",
      "==========================================================================================\n",
      "Layer (type:depth-idx)                   Output Shape              Param #\n",
      "==========================================================================================\n",
      "├─Sequential: 1-1                        [-1, 10]                  --\n",
      "|    └─Conv2d: 2-1                       [-1, 256, 26, 26]         7,168\n",
      "|    └─BatchNorm2d: 2-2                  [-1, 256, 26, 26]         512\n",
      "|    └─ReLU: 2-3                         [-1, 256, 26, 26]         --\n",
      "|    └─MaxPool2d: 2-4                    [-1, 256, 13, 13]         --\n",
      "|    └─Conv2d: 2-5                       [-1, 256, 11, 11]         590,080\n",
      "|    └─BatchNorm2d: 2-6                  [-1, 256, 11, 11]         512\n",
      "|    └─ReLU: 2-7                         [-1, 256, 11, 11]         --\n",
      "|    └─MaxPool2d: 2-8                    [-1, 256, 5, 5]           --\n",
      "|    └─Conv2d: 2-9                       [-1, 256, 3, 3]           590,080\n",
      "|    └─BatchNorm2d: 2-10                 [-1, 256, 3, 3]           512\n",
      "|    └─ReLU: 2-11                        [-1, 256, 3, 3]           --\n",
      "|    └─MaxPool2d: 2-12                   [-1, 256, 1, 1]           --\n",
      "|    └─Flatten: 2-13                     [-1, 256]                 --\n",
      "|    └─Linear: 2-14                      [-1, 10]                  2,570\n",
      "==========================================================================================\n",
      "Total params: 1,191,434\n",
      "Trainable params: 1,191,434\n",
      "Non-trainable params: 0\n",
      "Total mult-adds (M): 82.54\n",
      "==========================================================================================\n",
      "Input size (MB): 0.14\n",
      "Forward/backward pass size (MB): 3.15\n",
      "Params size (MB): 4.54\n",
      "Estimated Total Size (MB): 7.84\n",
      "==========================================================================================\n"
     ]
    }
   ],
   "source": [
    "from torchsummary import summary\n",
    "\n",
    "print(summary(cnn, image_batch))"
   ]
  },
  {
   "cell_type": "code",
   "execution_count": 22,
   "metadata": {},
   "outputs": [
    {
     "data": {
      "text/plain": [
       "CnnBlockConfig(out_channels=256, kernel_size=3, stride=1, padding=0, batch_norm=True, max_pool_kernel_size=2, max_pool_stride=None, act_fn='identity', in_channels=-1)"
      ]
     },
     "execution_count": 22,
     "metadata": {},
     "output_type": "execute_result"
    }
   ],
   "source": [
    "CnnBlockConfig(**cnn_config.model.layer_configs[0])"
   ]
  },
  {
   "cell_type": "code",
   "execution_count": 23,
   "metadata": {},
   "outputs": [
    {
     "data": {
      "text/plain": [
       "{'out_channels': 256, 'kernel_size': 3, 'batch_norm': True, 'stride': 1, 'padding': 0, 'max_pool_kernel_size': 2}"
      ]
     },
     "execution_count": 23,
     "metadata": {},
     "output_type": "execute_result"
    }
   ],
   "source": [
    "cnn_config.model.layer_configs[0]"
   ]
  },
  {
   "cell_type": "code",
   "execution_count": 24,
   "metadata": {},
   "outputs": [
    {
     "data": {
      "text/plain": [
       "CnnConfig(image_size=28, input_channels=3, layer_configs=[{'out_channels': 256, 'kernel_size': 3, 'batch_norm': True, 'stride': 1, 'padding': 0, 'max_pool_kernel_size': 2}, {'out_channels': 256, 'kernel_size': 3, 'batch_norm': True, 'stride': 1, 'padding': 0, 'max_pool_kernel_size': 2}, {'out_channels': 256, 'kernel_size': 3, 'batch_norm': True, 'stride': 1, 'padding': 0, 'max_pool_kernel_size': 2}], act_fn='relu', linear_output_units=[10], output_activation=None)"
      ]
     },
     "execution_count": 24,
     "metadata": {},
     "output_type": "execute_result"
    }
   ],
   "source": [
    "c = CnnConfig(**cnn_config.model)\n",
    "c"
   ]
  },
  {
   "cell_type": "code",
   "execution_count": 25,
   "metadata": {},
   "outputs": [
    {
     "data": {
      "text/plain": [
       "[{'out_channels': 256, 'kernel_size': 3, 'batch_norm': True, 'stride': 1, 'padding': 0, 'max_pool_kernel_size': 2}, {'out_channels': 256, 'kernel_size': 3, 'batch_norm': True, 'stride': 1, 'padding': 0, 'max_pool_kernel_size': 2}, {'out_channels': 256, 'kernel_size': 3, 'batch_norm': True, 'stride': 1, 'padding': 0, 'max_pool_kernel_size': 2}]"
      ]
     },
     "execution_count": 25,
     "metadata": {},
     "output_type": "execute_result"
    }
   ],
   "source": [
    "c.layer_configs"
   ]
  },
  {
   "cell_type": "code",
   "execution_count": 26,
   "metadata": {},
   "outputs": [
    {
     "data": {
      "text/plain": [
       "3"
      ]
     },
     "execution_count": 26,
     "metadata": {},
     "output_type": "execute_result"
    }
   ],
   "source": [
    "len(c.layer_configs)"
   ]
  },
  {
   "cell_type": "code",
   "execution_count": null,
   "metadata": {},
   "outputs": [],
   "source": []
  }
 ],
 "metadata": {
  "kernelspec": {
   "display_name": "Python 3.8.13 ('erank')",
   "language": "python",
   "name": "python3"
  },
  "language_info": {
   "codemirror_mode": {
    "name": "ipython",
    "version": 3
   },
   "file_extension": ".py",
   "mimetype": "text/x-python",
   "name": "python",
   "nbconvert_exporter": "python",
   "pygments_lexer": "ipython3",
   "version": "3.8.13"
  },
  "orig_nbformat": 4,
  "vscode": {
   "interpreter": {
    "hash": "81702ae7af1d99f924e4fcf69b863cbbc0fe7ec5ade4b2efa58fe35273e76278"
   }
  }
 },
 "nbformat": 4,
 "nbformat_minor": 2
}
