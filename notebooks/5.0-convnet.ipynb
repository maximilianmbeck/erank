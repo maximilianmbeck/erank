{
 "cells": [
  {
   "cell_type": "code",
   "execution_count": 78,
   "metadata": {},
   "outputs": [
    {
     "name": "stdout",
     "output_type": "stream",
     "text": [
      "The autoreload extension is already loaded. To reload it, use:\n",
      "  %reload_ext autoreload\n"
     ]
    }
   ],
   "source": [
    "%load_ext autoreload\n",
    "%autoreload 2\n",
    "import sys\n",
    "import torch\n",
    "from torch import nn\n",
    "sys.path.append('..')\n",
    "# sys.path.append('/system/user/beck/pwbeck/projects/regularization/ml_utilities')\n",
    "from pathlib import Path\n",
    "from typing import Union\n",
    "from ml_utilities.torch_models.base_model import BaseModel\n",
    "from ml_utilities.torch_models.fc import FC\n",
    "from ml_utilities.torch_models.cnn2d import _create_cnn_layer, create_cnn, CnnBlockConfig, CnnConfig\n",
    "from ml_utilities.torch_models import get_model_class\n",
    "from omegaconf import OmegaConf\n",
    "\n",
    "from erank.utils import load_directions_matrix_from_task_sweep\n",
    "import matplotlib.pyplot as plt\n",
    "gpu_id = 0"
   ]
  },
  {
   "cell_type": "code",
   "execution_count": 96,
   "metadata": {},
   "outputs": [],
   "source": [
    "img_size = 28\n",
    "out_channels = 128\n",
    "kernel_size = 3\n",
    "mp_kernel_size = 2\n",
    "cnn_config = f\"\"\"\n",
    "model:\n",
    "  image_size: {img_size}\n",
    "  input_channels: 3\n",
    "  act_fn: relu\n",
    "  layer_configs:\n",
    "    - out_channels: {out_channels}\n",
    "      kernel_size: {kernel_size}\n",
    "      batch_norm: true\n",
    "      stride: 1\n",
    "      padding: 0\n",
    "      max_pool_kernel_size: {mp_kernel_size}\n",
    "    - out_channels: {out_channels}\n",
    "      kernel_size: {kernel_size}\n",
    "      batch_norm: true\n",
    "      stride: 1\n",
    "      padding: 0\n",
    "      max_pool_kernel_size: {mp_kernel_size}\n",
    "    - out_channels: {out_channels}\n",
    "      kernel_size: {kernel_size}\n",
    "      batch_norm: true\n",
    "      stride: 1\n",
    "      padding: 0\n",
    "      max_pool_kernel_size: {mp_kernel_size}\n",
    "    # - out_channels: {out_channels}\n",
    "    #   kernel_size: {kernel_size}\n",
    "    #   batch_norm: true\n",
    "    #   stride: 1\n",
    "    #   padding: 0\n",
    "    #   max_pool_kernel_size: {mp_kernel_size}\n",
    "  linear_output_units:\n",
    "    - 10\n",
    "\"\"\"\n",
    "cnn_config = OmegaConf.create(cnn_config)"
   ]
  },
  {
   "cell_type": "code",
   "execution_count": 97,
   "metadata": {},
   "outputs": [
    {
     "data": {
      "text/plain": [
       "[Conv2d(3, 64, kernel_size=(3, 3), stride=(1, 1)),\n",
       " BatchNorm2d(64, eps=1e-05, momentum=0.1, affine=True, track_running_stats=True),\n",
       " ReLU(inplace=True)]"
      ]
     },
     "execution_count": 97,
     "metadata": {},
     "output_type": "execute_result"
    }
   ],
   "source": [
    "cnn_block= _create_cnn_layer(3, 64, 3, batch_norm=True, act_fn='relu')\n",
    "cnn_block"
   ]
  },
  {
   "cell_type": "code",
   "execution_count": 98,
   "metadata": {},
   "outputs": [],
   "source": [
    "# print(OmegaConf.to_yaml(cnn_config))"
   ]
  },
  {
   "cell_type": "code",
   "execution_count": 99,
   "metadata": {},
   "outputs": [],
   "source": [
    "# cnn_config.model.layer_configs"
   ]
  },
  {
   "cell_type": "code",
   "execution_count": 100,
   "metadata": {},
   "outputs": [
    {
     "data": {
      "text/plain": [
       "(Sequential(\n",
       "   (0): Conv2d(3, 128, kernel_size=(3, 3), stride=(1, 1))\n",
       "   (1): BatchNorm2d(128, eps=1e-05, momentum=0.1, affine=True, track_running_stats=True)\n",
       "   (2): ReLU(inplace=True)\n",
       "   (3): MaxPool2d(kernel_size=2, stride=2, padding=0, dilation=1, ceil_mode=False)\n",
       "   (4): Conv2d(128, 128, kernel_size=(3, 3), stride=(1, 1))\n",
       "   (5): BatchNorm2d(128, eps=1e-05, momentum=0.1, affine=True, track_running_stats=True)\n",
       "   (6): ReLU(inplace=True)\n",
       "   (7): MaxPool2d(kernel_size=2, stride=2, padding=0, dilation=1, ceil_mode=False)\n",
       "   (8): Conv2d(128, 128, kernel_size=(3, 3), stride=(1, 1))\n",
       "   (9): BatchNorm2d(128, eps=1e-05, momentum=0.1, affine=True, track_running_stats=True)\n",
       "   (10): ReLU(inplace=True)\n",
       "   (11): MaxPool2d(kernel_size=2, stride=2, padding=0, dilation=1, ceil_mode=False)\n",
       "   (12): Flatten(start_dim=1, end_dim=-1)\n",
       "   (13): Linear(in_features=128, out_features=10, bias=True)\n",
       " ),\n",
       " 0,\n",
       " 10)"
      ]
     },
     "execution_count": 100,
     "metadata": {},
     "output_type": "execute_result"
    }
   ],
   "source": [
    "cnn, out_channels, out_size = create_cnn(**cnn_config.model)\n",
    "cnn, out_channels, out_size"
   ]
  },
  {
   "cell_type": "code",
   "execution_count": 101,
   "metadata": {},
   "outputs": [
    {
     "data": {
      "text/plain": [
       "torch.Size([16, 3, 28, 28])"
      ]
     },
     "execution_count": 101,
     "metadata": {},
     "output_type": "execute_result"
    }
   ],
   "source": [
    "# simulate forward pass\n",
    "n_channels = cnn_config.model.input_channels\n",
    "img_size = cnn_config.model.image_size\n",
    "image = torch.normal(0,1,size=(n_channels, img_size, img_size))\n",
    "# create batch\n",
    "image_batch = image.unsqueeze(0).repeat((16,1,1,1))\n",
    "image_batch.shape"
   ]
  },
  {
   "cell_type": "code",
   "execution_count": 102,
   "metadata": {},
   "outputs": [
    {
     "data": {
      "text/plain": [
       "torch.Size([16, 10])"
      ]
     },
     "execution_count": 102,
     "metadata": {},
     "output_type": "execute_result"
    }
   ],
   "source": [
    "out = cnn(image_batch)\n",
    "out.shape"
   ]
  },
  {
   "cell_type": "code",
   "execution_count": 103,
   "metadata": {},
   "outputs": [
    {
     "name": "stdout",
     "output_type": "stream",
     "text": [
      "==========================================================================================\n",
      "Layer (type:depth-idx)                   Output Shape              Param #\n",
      "==========================================================================================\n",
      "├─Conv2d: 1-1                            [-1, 128, 26, 26]         3,584\n",
      "├─BatchNorm2d: 1-2                       [-1, 128, 26, 26]         256\n",
      "├─ReLU: 1-3                              [-1, 128, 26, 26]         --\n",
      "├─MaxPool2d: 1-4                         [-1, 128, 13, 13]         --\n",
      "├─Conv2d: 1-5                            [-1, 128, 11, 11]         147,584\n",
      "├─BatchNorm2d: 1-6                       [-1, 128, 11, 11]         256\n",
      "├─ReLU: 1-7                              [-1, 128, 11, 11]         --\n",
      "├─MaxPool2d: 1-8                         [-1, 128, 5, 5]           --\n",
      "├─Conv2d: 1-9                            [-1, 128, 3, 3]           147,584\n",
      "├─BatchNorm2d: 1-10                      [-1, 128, 3, 3]           256\n",
      "├─ReLU: 1-11                             [-1, 128, 3, 3]           --\n",
      "├─MaxPool2d: 1-12                        [-1, 128, 1, 1]           --\n",
      "├─Flatten: 1-13                          [-1, 128]                 --\n",
      "├─Linear: 1-14                           [-1, 10]                  1,290\n",
      "==========================================================================================\n",
      "Total params: 300,810\n",
      "Trainable params: 300,810\n",
      "Non-trainable params: 0\n",
      "Total mult-adds (M): 21.51\n",
      "==========================================================================================\n",
      "Input size (MB): 0.14\n",
      "Forward/backward pass size (MB): 1.57\n",
      "Params size (MB): 1.15\n",
      "Estimated Total Size (MB): 2.87\n",
      "==========================================================================================\n",
      "==========================================================================================\n",
      "Layer (type:depth-idx)                   Output Shape              Param #\n",
      "==========================================================================================\n",
      "├─Conv2d: 1-1                            [-1, 128, 26, 26]         3,584\n",
      "├─BatchNorm2d: 1-2                       [-1, 128, 26, 26]         256\n",
      "├─ReLU: 1-3                              [-1, 128, 26, 26]         --\n",
      "├─MaxPool2d: 1-4                         [-1, 128, 13, 13]         --\n",
      "├─Conv2d: 1-5                            [-1, 128, 11, 11]         147,584\n",
      "├─BatchNorm2d: 1-6                       [-1, 128, 11, 11]         256\n",
      "├─ReLU: 1-7                              [-1, 128, 11, 11]         --\n",
      "├─MaxPool2d: 1-8                         [-1, 128, 5, 5]           --\n",
      "├─Conv2d: 1-9                            [-1, 128, 3, 3]           147,584\n",
      "├─BatchNorm2d: 1-10                      [-1, 128, 3, 3]           256\n",
      "├─ReLU: 1-11                             [-1, 128, 3, 3]           --\n",
      "├─MaxPool2d: 1-12                        [-1, 128, 1, 1]           --\n",
      "├─Flatten: 1-13                          [-1, 128]                 --\n",
      "├─Linear: 1-14                           [-1, 10]                  1,290\n",
      "==========================================================================================\n",
      "Total params: 300,810\n",
      "Trainable params: 300,810\n",
      "Non-trainable params: 0\n",
      "Total mult-adds (M): 21.51\n",
      "==========================================================================================\n",
      "Input size (MB): 0.14\n",
      "Forward/backward pass size (MB): 1.57\n",
      "Params size (MB): 1.15\n",
      "Estimated Total Size (MB): 2.87\n",
      "==========================================================================================\n"
     ]
    }
   ],
   "source": [
    "from torchsummary import summary\n",
    "\n",
    "print(summary(cnn, image_batch))"
   ]
  },
  {
   "cell_type": "code",
   "execution_count": 87,
   "metadata": {},
   "outputs": [
    {
     "data": {
      "text/plain": [
       "2"
      ]
     },
     "execution_count": 87,
     "metadata": {},
     "output_type": "execute_result"
    }
   ],
   "source": [
    "5 // 2"
   ]
  },
  {
   "cell_type": "code",
   "execution_count": 89,
   "metadata": {},
   "outputs": [
    {
     "data": {
      "text/plain": [
       "CnnBlockConfig(out_channels=128, kernel_size=3, stride=1, padding=0, batch_norm=True, max_pool_kernel_size=2, max_pool_stride=None, act_fn='identity', in_channels=-1)"
      ]
     },
     "execution_count": 89,
     "metadata": {},
     "output_type": "execute_result"
    }
   ],
   "source": [
    "CnnBlockConfig(**cnn_config.model.layer_configs[0])"
   ]
  },
  {
   "cell_type": "code",
   "execution_count": null,
   "metadata": {},
   "outputs": [
    {
     "data": {
      "text/plain": [
       "{'out_channels': 128, 'kernel_size': 3, 'batch_norm': True, 'stride': 1, 'padding': 0, 'max_pool_kernel_size': 2}"
      ]
     },
     "execution_count": 77,
     "metadata": {},
     "output_type": "execute_result"
    }
   ],
   "source": [
    "cnn_config.model.layer_configs[0]"
   ]
  },
  {
   "cell_type": "code",
   "execution_count": 92,
   "metadata": {},
   "outputs": [
    {
     "data": {
      "text/plain": [
       "CnnConfig(image_size=32, input_channels=3, layer_configs=[{'out_channels': 128, 'kernel_size': 3, 'batch_norm': True, 'stride': 1, 'padding': 0, 'max_pool_kernel_size': 2}, {'out_channels': 128, 'kernel_size': 3, 'batch_norm': True, 'stride': 1, 'padding': 0, 'max_pool_kernel_size': 2}, {'out_channels': 128, 'kernel_size': 3, 'batch_norm': True, 'stride': 1, 'padding': 0, 'max_pool_kernel_size': 2}], act_fn='relu', linear_output_units=[10], output_activation=None)"
      ]
     },
     "execution_count": 92,
     "metadata": {},
     "output_type": "execute_result"
    }
   ],
   "source": [
    "c = CnnConfig(**cnn_config.model)\n",
    "c"
   ]
  },
  {
   "cell_type": "code",
   "execution_count": 93,
   "metadata": {},
   "outputs": [
    {
     "data": {
      "text/plain": [
       "[{'out_channels': 128, 'kernel_size': 3, 'batch_norm': True, 'stride': 1, 'padding': 0, 'max_pool_kernel_size': 2}, {'out_channels': 128, 'kernel_size': 3, 'batch_norm': True, 'stride': 1, 'padding': 0, 'max_pool_kernel_size': 2}, {'out_channels': 128, 'kernel_size': 3, 'batch_norm': True, 'stride': 1, 'padding': 0, 'max_pool_kernel_size': 2}]"
      ]
     },
     "execution_count": 93,
     "metadata": {},
     "output_type": "execute_result"
    }
   ],
   "source": [
    "c.layer_configs"
   ]
  },
  {
   "cell_type": "code",
   "execution_count": 94,
   "metadata": {},
   "outputs": [
    {
     "data": {
      "text/plain": [
       "3"
      ]
     },
     "execution_count": 94,
     "metadata": {},
     "output_type": "execute_result"
    }
   ],
   "source": [
    "len(c.layer_configs)"
   ]
  },
  {
   "cell_type": "code",
   "execution_count": 95,
   "metadata": {},
   "outputs": [
    {
     "data": {
      "text/plain": [
       "{'image_size': 32,\n",
       " 'input_channels': 3,\n",
       " 'layer_configs': [{'out_channels': 128, 'kernel_size': 3, 'batch_norm': True, 'stride': 1, 'padding': 0, 'max_pool_kernel_size': 2}, {'out_channels': 128, 'kernel_size': 3, 'batch_norm': True, 'stride': 1, 'padding': 0, 'max_pool_kernel_size': 2}, {'out_channels': 128, 'kernel_size': 3, 'batch_norm': True, 'stride': 1, 'padding': 0, 'max_pool_kernel_size': 2}],\n",
       " 'act_fn': 'relu',\n",
       " 'linear_output_units': [10],\n",
       " 'output_activation': None}"
      ]
     },
     "execution_count": 95,
     "metadata": {},
     "output_type": "execute_result"
    }
   ],
   "source": [
    "from dataclasses import asdict\n",
    "asdict(c)"
   ]
  },
  {
   "cell_type": "code",
   "execution_count": null,
   "metadata": {},
   "outputs": [],
   "source": []
  }
 ],
 "metadata": {
  "kernelspec": {
   "display_name": "Python 3.8.13 ('erank')",
   "language": "python",
   "name": "python3"
  },
  "language_info": {
   "codemirror_mode": {
    "name": "ipython",
    "version": 3
   },
   "file_extension": ".py",
   "mimetype": "text/x-python",
   "name": "python",
   "nbconvert_exporter": "python",
   "pygments_lexer": "ipython3",
   "version": "3.8.13"
  },
  "orig_nbformat": 4,
  "vscode": {
   "interpreter": {
    "hash": "81702ae7af1d99f924e4fcf69b863cbbc0fe7ec5ade4b2efa58fe35273e76278"
   }
  }
 },
 "nbformat": 4,
 "nbformat_minor": 2
}
