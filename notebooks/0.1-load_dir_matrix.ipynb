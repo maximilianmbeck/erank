{
 "cells": [
  {
   "cell_type": "code",
   "execution_count": 1,
   "metadata": {},
   "outputs": [
    {
     "name": "stderr",
     "output_type": "stream",
     "text": [
      "/system/apps/userenv/beck/erank/lib/python3.8/site-packages/tqdm/auto.py:22: TqdmWarning: IProgress not found. Please update jupyter and ipywidgets. See https://ipywidgets.readthedocs.io/en/stable/user_install.html\n",
      "  from .autonotebook import tqdm as notebook_tqdm\n"
     ]
    }
   ],
   "source": [
    "# %%\n",
    "import sys\n",
    "sys.path.append('..')\n",
    "# sys.path.append('/system/user/beck/pwbeck/projects/regularization/ml_utilities')\n",
    "from pathlib import Path\n",
    "from typing import Union\n",
    "from ml_utilities.torch_models.base_model import BaseModel\n",
    "from ml_utilities.torch_models import get_model_class\n",
    "from omegaconf import OmegaConf\n",
    "\n",
    "from erank.utils import load_directions_matrix_from_task_sweep\n",
    "        \n"
   ]
  },
  {
   "cell_type": "code",
   "execution_count": 2,
   "metadata": {},
   "outputs": [],
   "source": [
    "run_path = '/system/user/beck/pwbeck/projects/regularization/erank/outputs/f_mnist-same_init-taskidxXXX_230622_162800/outputs/f_mnist-same_init-taskidx0-seed0_230622_162819'\n",
    "\n",
    "if isinstance(run_path, str):\n",
    "    run_path = Path(run_path)\n",
    "# load config\n",
    "loaded_config = OmegaConf.load(run_path/'.hydra'/'config.yaml')\n",
    "config = loaded_config.config\n",
    "# get model class\n",
    "model_name = config.model.name\n",
    "model_class = get_model_class(model_name)\n",
    "# get best epoch\n",
    "best_epoch_file = run_path / 'best_epoch.txt'\n",
    "assert best_epoch_file.exists(), 'No best epoch file found.'"
   ]
  },
  {
   "cell_type": "code",
   "execution_count": 3,
   "metadata": {},
   "outputs": [
    {
     "name": "stdout",
     "output_type": "stream",
     "text": [
      "12\n"
     ]
    }
   ],
   "source": [
    "with best_epoch_file.open() as f:\n",
    "    t = f.read()\n",
    "    print(t)"
   ]
  },
  {
   "cell_type": "code",
   "execution_count": 4,
   "metadata": {},
   "outputs": [
    {
     "data": {
      "text/plain": [
       "'f_mnist-same_init-taskidx0-seed0_230622_162819'"
      ]
     },
     "execution_count": 4,
     "metadata": {},
     "output_type": "execute_result"
    }
   ],
   "source": [
    "run_path.stem"
   ]
  },
  {
   "cell_type": "code",
   "execution_count": 6,
   "metadata": {},
   "outputs": [
    {
     "name": "stderr",
     "output_type": "stream",
     "text": [
      "Loading /system/user/beck/pwbeck/projects/regularization/erank/outputs/f_mnist-same_init-taskidxXXX_230622_162800/outputs/f_mnist-same_init-taskidx4-seed0_230622_162834: 100%|██████████| 8/8 [00:00<00:00, 17.24it/s]\n"
     ]
    },
    {
     "data": {
      "text/plain": [
       "tensor([[-0.0037, -0.0037, -0.0037,  ..., -0.0012,  0.0081, -0.0076],\n",
       "        [-0.0050, -0.0050, -0.0050,  ..., -0.0021,  0.0076, -0.0060],\n",
       "        [-0.0086, -0.0086, -0.0082,  ...,  0.0013,  0.0098, -0.0146],\n",
       "        ...,\n",
       "        [-0.0056, -0.0056, -0.0056,  ..., -0.0016,  0.0029, -0.0157],\n",
       "        [-0.0057, -0.0058, -0.0057,  ...,  0.0014,  0.0032, -0.0097],\n",
       "        [-0.0039, -0.0039, -0.0038,  ..., -0.0030,  0.0025, -0.0100]],\n",
       "       device='cuda:0', requires_grad=True)"
      ]
     },
     "execution_count": 6,
     "metadata": {},
     "output_type": "execute_result"
    }
   ],
   "source": [
    "p = '/system/user/beck/pwbeck/projects/regularization/erank/outputs/f_mnist-same_init-taskidxXXX_230622_162800/outputs'\n",
    "dir_matrix = load_directions_matrix_from_task_sweep(p)\n",
    "dir_matrix.requires_grad_(True)"
   ]
  },
  {
   "cell_type": "code",
   "execution_count": 7,
   "metadata": {},
   "outputs": [
    {
     "data": {
      "text/plain": [
       "(torch.Size([8, 669706]), device(type='cuda', index=0), True)"
      ]
     },
     "execution_count": 7,
     "metadata": {},
     "output_type": "execute_result"
    }
   ],
   "source": [
    "dir_matrix.shape, dir_matrix.device, dir_matrix.requires_grad"
   ]
  },
  {
   "cell_type": "code",
   "execution_count": 8,
   "metadata": {},
   "outputs": [
    {
     "name": "stdout",
     "output_type": "stream",
     "text": [
      "a\n",
      "b\n",
      "c\n"
     ]
    }
   ],
   "source": [
    "d = dict(a=1,b=2,c=3)\n",
    "for x in d:\n",
    "    print(x)"
   ]
  },
  {
   "cell_type": "code",
   "execution_count": 9,
   "metadata": {},
   "outputs": [],
   "source": [
    "import torch\n",
    "t = torch.tensor(0.0)"
   ]
  },
  {
   "cell_type": "code",
   "execution_count": 10,
   "metadata": {},
   "outputs": [
    {
     "data": {
      "text/plain": [
       "(torch.float32, device(type='cpu'))"
      ]
     },
     "execution_count": 10,
     "metadata": {},
     "output_type": "execute_result"
    }
   ],
   "source": [
    "t.dtype, t.device"
   ]
  },
  {
   "cell_type": "code",
   "execution_count": 11,
   "metadata": {},
   "outputs": [],
   "source": [
    "def erank(matrix_A: torch.Tensor, center_matrix_A: bool=False) -> torch.Tensor:\n",
    "        \"\"\"Calculates the effective rank of a matrix.\n",
    "\n",
    "        Args:\n",
    "            matrix_A (torch.Tensor): Matrix of shape m x n. \n",
    "            center_matrix_A (bool): Center the matrix \n",
    "\n",
    "        Returns:\n",
    "            torch.Tensor: Effective rank of matrix_A\n",
    "        \"\"\"\n",
    "        assert matrix_A.ndim == 2\n",
    "        _, s, _ = torch.pca_lowrank(matrix_A, center=center_matrix_A, niter=1, q=min(matrix_A.shape[0], matrix_A.shape[1]))\n",
    "        s = torch.square(s) / (s.shape[0] - 1)\n",
    "\n",
    "        # normalizes input s -> scale independent!\n",
    "        return torch.exp(torch.distributions.Categorical(s).entropy())"
   ]
  },
  {
   "cell_type": "code",
   "execution_count": 12,
   "metadata": {},
   "outputs": [],
   "source": [
    "er = erank(dir_matrix)"
   ]
  },
  {
   "cell_type": "code",
   "execution_count": 13,
   "metadata": {},
   "outputs": [
    {
     "data": {
      "text/plain": [
       "tensor(5.0574, device='cuda:0', grad_fn=<ExpBackward>)"
      ]
     },
     "execution_count": 13,
     "metadata": {},
     "output_type": "execute_result"
    }
   ],
   "source": [
    "er"
   ]
  },
  {
   "cell_type": "code",
   "execution_count": null,
   "metadata": {},
   "outputs": [],
   "source": [
    "# er.backward()"
   ]
  },
  {
   "cell_type": "markdown",
   "metadata": {},
   "source": [
    "## normalize directions"
   ]
  },
  {
   "cell_type": "code",
   "execution_count": 22,
   "metadata": {},
   "outputs": [],
   "source": [
    "norm_dir_matrix = dir_matrix / torch.linalg.norm(dir_matrix, ord=2, dim=1, keepdim=True)"
   ]
  },
  {
   "cell_type": "code",
   "execution_count": 24,
   "metadata": {},
   "outputs": [
    {
     "data": {
      "text/plain": [
       "(tensor([[10.9480],\n",
       "         [11.4298],\n",
       "         [14.0231],\n",
       "         [11.9096],\n",
       "         [ 8.6046],\n",
       "         [11.5020],\n",
       "         [10.4693],\n",
       "         [15.7062]], device='cuda:0', grad_fn=<CopyBackwards>),\n",
       " tensor([[1.0000],\n",
       "         [1.0000],\n",
       "         [1.0000],\n",
       "         [1.0000],\n",
       "         [1.0000],\n",
       "         [1.0000],\n",
       "         [1.0000],\n",
       "         [1.0000]], device='cuda:0', grad_fn=<CopyBackwards>))"
      ]
     },
     "execution_count": 24,
     "metadata": {},
     "output_type": "execute_result"
    }
   ],
   "source": [
    "torch.linalg.norm(dir_matrix, ord=2, dim=1, keepdim=True), torch.linalg.norm(norm_dir_matrix, ord=2, dim=1, keepdim=True)"
   ]
  },
  {
   "cell_type": "code",
   "execution_count": 25,
   "metadata": {},
   "outputs": [
    {
     "data": {
      "text/plain": [
       "tensor(5.1965, device='cuda:0', grad_fn=<ExpBackward>)"
      ]
     },
     "execution_count": 25,
     "metadata": {},
     "output_type": "execute_result"
    }
   ],
   "source": [
    "erank(norm_dir_matrix)"
   ]
  },
  {
   "cell_type": "markdown",
   "metadata": {},
   "source": [
    "## try different queues"
   ]
  },
  {
   "cell_type": "code",
   "execution_count": null,
   "metadata": {},
   "outputs": [],
   "source": [
    "from queue import Queue\n",
    "\n",
    "queue = Queue(2)\n",
    "\n",
    "queue.put(0)\n",
    "queue.put(2)"
   ]
  },
  {
   "cell_type": "code",
   "execution_count": null,
   "metadata": {},
   "outputs": [
    {
     "name": "stdout",
     "output_type": "stream",
     "text": [
      "1\n"
     ]
    },
    {
     "data": {
      "text/plain": [
       "deque([0, 1])"
      ]
     },
     "execution_count": 29,
     "metadata": {},
     "output_type": "execute_result"
    }
   ],
   "source": [
    "from collections import deque\n",
    "\n",
    "q = deque(maxlen=2)\n",
    "q.append(0)\n",
    "print(len(q))\n",
    "q.append(1)\n",
    "q"
   ]
  },
  {
   "cell_type": "code",
   "execution_count": null,
   "metadata": {},
   "outputs": [],
   "source": []
  }
 ],
 "metadata": {
  "kernelspec": {
   "display_name": "Python 3.8.13 ('erank')",
   "language": "python",
   "name": "python3"
  },
  "language_info": {
   "codemirror_mode": {
    "name": "ipython",
    "version": 3
   },
   "file_extension": ".py",
   "mimetype": "text/x-python",
   "name": "python",
   "nbconvert_exporter": "python",
   "pygments_lexer": "ipython3",
   "version": "3.8.13"
  },
  "orig_nbformat": 4,
  "vscode": {
   "interpreter": {
    "hash": "81702ae7af1d99f924e4fcf69b863cbbc0fe7ec5ade4b2efa58fe35273e76278"
   }
  }
 },
 "nbformat": 4,
 "nbformat_minor": 2
}
