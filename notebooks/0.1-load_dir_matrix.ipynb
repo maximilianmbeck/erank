{
 "cells": [
  {
   "cell_type": "code",
   "execution_count": 1,
   "metadata": {},
   "outputs": [
    {
     "name": "stderr",
     "output_type": "stream",
     "text": [
      "/system/apps/userenv/beck/erank/lib/python3.8/site-packages/tqdm/auto.py:22: TqdmWarning: IProgress not found. Please update jupyter and ipywidgets. See https://ipywidgets.readthedocs.io/en/stable/user_install.html\n",
      "  from .autonotebook import tqdm as notebook_tqdm\n"
     ]
    }
   ],
   "source": [
    "# %%\n",
    "import sys\n",
    "sys.path.append('..')\n",
    "# sys.path.append('/system/user/beck/pwbeck/projects/regularization/ml_utilities')\n",
    "from pathlib import Path\n",
    "from typing import Union\n",
    "from ml_utilities.torch_models.base_model import BaseModel\n",
    "from ml_utilities.torch_models import get_model_class\n",
    "from omegaconf import OmegaConf\n",
    "\n",
    "from erank.utils import load_directions_matrix_from_task_sweep\n",
    "import matplotlib.pyplot as plt    \n"
   ]
  },
  {
   "cell_type": "code",
   "execution_count": 2,
   "metadata": {},
   "outputs": [],
   "source": [
    "run_path = '/system/user/beck/pwbeck/projects/regularization/erank/outputs/f_mnist-same_init-taskidxXXX_230622_162800/outputs/f_mnist-same_init-taskidx0-seed0_230622_162819'\n",
    "\n",
    "if isinstance(run_path, str):\n",
    "    run_path = Path(run_path)\n",
    "# load config\n",
    "loaded_config = OmegaConf.load(run_path/'.hydra'/'config.yaml')\n",
    "config = loaded_config.config\n",
    "# get model class\n",
    "model_name = config.model.name\n",
    "model_class = get_model_class(model_name)\n",
    "# get best epoch\n",
    "best_epoch_file = run_path / 'best_epoch.txt'\n",
    "assert best_epoch_file.exists(), 'No best epoch file found.'"
   ]
  },
  {
   "cell_type": "code",
   "execution_count": 3,
   "metadata": {},
   "outputs": [
    {
     "name": "stdout",
     "output_type": "stream",
     "text": [
      "12\n"
     ]
    }
   ],
   "source": [
    "with best_epoch_file.open() as f:\n",
    "    t = f.read()\n",
    "    print(t)"
   ]
  },
  {
   "cell_type": "code",
   "execution_count": 4,
   "metadata": {},
   "outputs": [
    {
     "data": {
      "text/plain": [
       "'f_mnist-same_init-taskidx0-seed0_230622_162819'"
      ]
     },
     "execution_count": 4,
     "metadata": {},
     "output_type": "execute_result"
    }
   ],
   "source": [
    "run_path.stem"
   ]
  },
  {
   "cell_type": "code",
   "execution_count": 5,
   "metadata": {},
   "outputs": [
    {
     "name": "stderr",
     "output_type": "stream",
     "text": [
      "Loading /system/user/beck/pwbeck/projects/regularization/erank/outputs/f_mnist-2.0-taskidxXXX_260622_110634/outputs/f_mnist-2.0-taskidx3-seed0_260622_110648: 100%|██████████| 10/10 [00:03<00:00,  2.82it/s]\n"
     ]
    },
    {
     "data": {
      "text/plain": [
       "tensor([[-0.0005, -0.0005, -0.0004,  ..., -0.0032,  0.0077, -0.0123],\n",
       "        [-0.0044, -0.0045, -0.0043,  ..., -0.0023,  0.0065, -0.0126],\n",
       "        [-0.0035, -0.0035, -0.0034,  ...,  0.0005,  0.0075, -0.0096],\n",
       "        ...,\n",
       "        [-0.0034, -0.0034, -0.0034,  ..., -0.0009,  0.0030, -0.0107],\n",
       "        [-0.0011, -0.0011, -0.0012,  ..., -0.0041,  0.0075, -0.0082],\n",
       "        [-0.0046, -0.0046, -0.0050,  ..., -0.0013,  0.0027, -0.0132]],\n",
       "       device='cuda:0', requires_grad=True)"
      ]
     },
     "execution_count": 5,
     "metadata": {},
     "output_type": "execute_result"
    }
   ],
   "source": [
    "p = '/system/user/beck/pwbeck/projects/regularization/erank/outputs/f_mnist-2.0-taskidxXXX_260622_110634/outputs'\n",
    "dir_matrix = load_directions_matrix_from_task_sweep(p)\n",
    "dir_matrix.requires_grad_(True)"
   ]
  },
  {
   "cell_type": "code",
   "execution_count": 6,
   "metadata": {},
   "outputs": [
    {
     "data": {
      "text/plain": [
       "(torch.Size([10, 669706]), device(type='cuda', index=0), True)"
      ]
     },
     "execution_count": 6,
     "metadata": {},
     "output_type": "execute_result"
    }
   ],
   "source": [
    "dir_matrix.shape, dir_matrix.device, dir_matrix.requires_grad"
   ]
  },
  {
   "cell_type": "code",
   "execution_count": 7,
   "metadata": {},
   "outputs": [
    {
     "name": "stdout",
     "output_type": "stream",
     "text": [
      "a\n",
      "b\n",
      "c\n"
     ]
    }
   ],
   "source": [
    "d = dict(a=1,b=2,c=3)\n",
    "for x in d:\n",
    "    print(x)"
   ]
  },
  {
   "cell_type": "code",
   "execution_count": 8,
   "metadata": {},
   "outputs": [],
   "source": [
    "import torch\n",
    "t = torch.tensor(0.0)"
   ]
  },
  {
   "cell_type": "code",
   "execution_count": 9,
   "metadata": {},
   "outputs": [
    {
     "data": {
      "text/plain": [
       "(torch.float32, device(type='cpu'))"
      ]
     },
     "execution_count": 9,
     "metadata": {},
     "output_type": "execute_result"
    }
   ],
   "source": [
    "t.dtype, t.device"
   ]
  },
  {
   "cell_type": "code",
   "execution_count": 10,
   "metadata": {},
   "outputs": [],
   "source": [
    "def erank(matrix_A: torch.Tensor, center_matrix_A: bool=False) -> torch.Tensor:\n",
    "        \"\"\"Calculates the effective rank of a matrix.\n",
    "\n",
    "        Args:\n",
    "            matrix_A (torch.Tensor): Matrix of shape m x n. \n",
    "            center_matrix_A (bool): Center the matrix \n",
    "\n",
    "        Returns:\n",
    "            torch.Tensor: Effective rank of matrix_A\n",
    "        \"\"\"\n",
    "        assert matrix_A.ndim == 2\n",
    "        _, s, _ = torch.pca_lowrank(matrix_A, center=center_matrix_A, niter=1, q=min(matrix_A.shape[0], matrix_A.shape[1]))\n",
    "        s = torch.square(s) / (s.shape[0] - 1)\n",
    "\n",
    "        # normalizes input s -> scale independent!\n",
    "        return torch.exp(torch.distributions.Categorical(s).entropy())"
   ]
  },
  {
   "cell_type": "code",
   "execution_count": 11,
   "metadata": {},
   "outputs": [],
   "source": [
    "er = erank(dir_matrix)"
   ]
  },
  {
   "cell_type": "code",
   "execution_count": 12,
   "metadata": {},
   "outputs": [
    {
     "data": {
      "text/plain": [
       "tensor(6.0191, device='cuda:0', grad_fn=<ExpBackward>)"
      ]
     },
     "execution_count": 12,
     "metadata": {},
     "output_type": "execute_result"
    }
   ],
   "source": [
    "er"
   ]
  },
  {
   "cell_type": "code",
   "execution_count": 13,
   "metadata": {},
   "outputs": [],
   "source": [
    "# er.backward()"
   ]
  },
  {
   "cell_type": "markdown",
   "metadata": {},
   "source": [
    "## normalize directions"
   ]
  },
  {
   "cell_type": "code",
   "execution_count": 14,
   "metadata": {},
   "outputs": [],
   "source": [
    "norm_dir_matrix = dir_matrix / torch.linalg.norm(dir_matrix, ord=2, dim=1, keepdim=True)"
   ]
  },
  {
   "cell_type": "code",
   "execution_count": 15,
   "metadata": {},
   "outputs": [
    {
     "data": {
      "text/plain": [
       "(tensor([[11.7831],\n",
       "         [ 9.9273],\n",
       "         [12.0242],\n",
       "         [11.0410],\n",
       "         [11.1749],\n",
       "         [11.7312],\n",
       "         [10.3839],\n",
       "         [10.7438],\n",
       "         [12.8635],\n",
       "         [11.3913]], device='cuda:0', grad_fn=<CopyBackwards>),\n",
       " tensor([[1.0000],\n",
       "         [1.0000],\n",
       "         [1.0000],\n",
       "         [1.0000],\n",
       "         [1.0000],\n",
       "         [1.0000],\n",
       "         [1.0000],\n",
       "         [1.0000],\n",
       "         [1.0000],\n",
       "         [1.0000]], device='cuda:0', grad_fn=<CopyBackwards>))"
      ]
     },
     "execution_count": 15,
     "metadata": {},
     "output_type": "execute_result"
    }
   ],
   "source": [
    "torch.linalg.norm(dir_matrix, ord=2, dim=1, keepdim=True), torch.linalg.norm(norm_dir_matrix, ord=2, dim=1, keepdim=True)"
   ]
  },
  {
   "cell_type": "code",
   "execution_count": 16,
   "metadata": {},
   "outputs": [
    {
     "data": {
      "text/plain": [
       "tensor(6.0408, device='cuda:0', grad_fn=<ExpBackward>)"
      ]
     },
     "execution_count": 16,
     "metadata": {},
     "output_type": "execute_result"
    }
   ],
   "source": [
    "erank(norm_dir_matrix)"
   ]
  },
  {
   "cell_type": "markdown",
   "metadata": {},
   "source": [
    "## do we need to normalize dir matrix?"
   ]
  },
  {
   "cell_type": "code",
   "execution_count": 17,
   "metadata": {},
   "outputs": [
    {
     "data": {
      "text/plain": [
       "tensor(1.0003, device='cuda:0', grad_fn=<ExpBackward>)"
      ]
     },
     "execution_count": 17,
     "metadata": {},
     "output_type": "execute_result"
    }
   ],
   "source": [
    "delta = torch.zeros(size=(1,dir_matrix.shape[1])).to(dir_matrix)\n",
    "delta[0] = 10\n",
    "matrix1 = torch.cat([delta, dir_matrix], dim=0)\n",
    "erank(matrix1)"
   ]
  },
  {
   "cell_type": "code",
   "execution_count": 18,
   "metadata": {},
   "outputs": [
    {
     "data": {
      "text/plain": [
       "tensor(6.0403, device='cuda:0', grad_fn=<ExpBackward>)"
      ]
     },
     "execution_count": 18,
     "metadata": {},
     "output_type": "execute_result"
    }
   ],
   "source": [
    "delta = torch.zeros(size=(1,dir_matrix.shape[1])).to(dir_matrix)\n",
    "delta[0] = 1e-3\n",
    "matrix1 = torch.cat([delta, dir_matrix], dim=0)\n",
    "erank(matrix1)"
   ]
  },
  {
   "cell_type": "code",
   "execution_count": 19,
   "metadata": {},
   "outputs": [],
   "source": [
    "# make plot erank vs. appended vector norm\n",
    "# def erank_vs_update_step_norm(dir_matrix, vals=20)\n",
    "erank_vals = []\n",
    "vec_norms = torch.logspace(-4, 1, 20)\n",
    "for n in vec_norms:\n",
    "    delta = torch.zeros(size=(1,dir_matrix.shape[1])).to(dir_matrix)\n",
    "    delta[0] = n\n",
    "    matrix1 = torch.cat([delta, dir_matrix], dim=0)\n",
    "    erank_vals.append(erank(matrix1).item())"
   ]
  },
  {
   "cell_type": "code",
   "execution_count": 20,
   "metadata": {},
   "outputs": [
    {
     "data": {
      "text/plain": [
       "Text(0.5, 1.0, 'erank of unnormalized matrix')"
      ]
     },
     "execution_count": 20,
     "metadata": {},
     "output_type": "execute_result"
    },
    {
     "data": {
      "image/png": "[encoded data removed]",
      "text/plain": [
       "<Figure size 432x288 with 1 Axes>"
      ]
     },
     "metadata": {
      "needs_background": "light"
     },
     "output_type": "display_data"
    }
   ],
   "source": [
    "plt.plot(vec_norms, erank_vals, 'o-')\n",
    "plt.xscale('log')\n",
    "plt.ylabel('erank')\n",
    "plt.xlabel('norm update vector')\n",
    "plt.title('erank of unnormalized matrix')"
   ]
  },
  {
   "cell_type": "code",
   "execution_count": 21,
   "metadata": {},
   "outputs": [],
   "source": [
    "# yes erank is dependent on norms of row and column vectors"
   ]
  },
  {
   "cell_type": "code",
   "execution_count": 22,
   "metadata": {},
   "outputs": [],
   "source": [
    "# make same plot of normalized matrix\n",
    "\n",
    "erank_vals = []\n",
    "vec_norms = torch.logspace(-4, 1, 20)\n",
    "for n in vec_norms:\n",
    "    delta = torch.zeros(size=(1,dir_matrix.shape[1])).to(dir_matrix)\n",
    "    delta[0] = n\n",
    "    matrix1 = torch.cat([delta, dir_matrix], dim=0)\n",
    "    # normalize matrix\n",
    "    matrix1 = matrix1 / torch.linalg.norm(matrix1, ord=2, dim=1, keepdim=True)\n",
    "    erank_vals.append(erank(matrix1).item())"
   ]
  },
  {
   "cell_type": "code",
   "execution_count": 27,
   "metadata": {},
   "outputs": [
    {
     "data": {
      "text/plain": [
       "Text(0.5, 1.0, 'erank of normalized matrix')"
      ]
     },
     "execution_count": 27,
     "metadata": {},
     "output_type": "execute_result"
    },
    {
     "data": {
      "image/png": "[encoded data removed]",
      "text/plain": [
       "<Figure size 432x288 with 1 Axes>"
      ]
     },
     "metadata": {
      "needs_background": "light"
     },
     "output_type": "display_data"
    }
   ],
   "source": [
    "plt.plot(vec_norms, erank_vals, 'o-')\n",
    "plt.xscale('log')\n",
    "plt.ylabel('erank')\n",
    "plt.xlabel('norm update vector')\n",
    "plt.ylim(1,8)\n",
    "plt.title('erank of normalized matrix')"
   ]
  },
  {
   "cell_type": "code",
   "execution_count": 24,
   "metadata": {},
   "outputs": [
    {
     "data": {
      "text/plain": [
       "[6.955451011657715,\n",
       " 6.955439567565918,\n",
       " 6.955437660217285,\n",
       " 6.955447673797607,\n",
       " 6.955437660217285,\n",
       " 6.955438137054443,\n",
       " 6.955419063568115,\n",
       " 6.955432415008545,\n",
       " 6.955447673797607,\n",
       " 6.955459117889404,\n",
       " 6.955445766448975,\n",
       " 6.955447673797607,\n",
       " 6.95543098449707,\n",
       " 6.955449104309082,\n",
       " 6.955447673797607,\n",
       " 6.955435752868652,\n",
       " 6.955446720123291,\n",
       " 6.955439567565918,\n",
       " 6.955442428588867,\n",
       " 6.9554290771484375]"
      ]
     },
     "execution_count": 24,
     "metadata": {},
     "output_type": "execute_result"
    }
   ],
   "source": [
    "erank_vals"
   ]
  },
  {
   "cell_type": "markdown",
   "metadata": {},
   "source": [
    "## try different queues"
   ]
  },
  {
   "cell_type": "code",
   "execution_count": 25,
   "metadata": {},
   "outputs": [],
   "source": [
    "from queue import Queue\n",
    "\n",
    "queue = Queue(2)\n",
    "\n",
    "queue.put(0)\n",
    "queue.put(2)"
   ]
  },
  {
   "cell_type": "code",
   "execution_count": 26,
   "metadata": {},
   "outputs": [
    {
     "name": "stdout",
     "output_type": "stream",
     "text": [
      "1\n"
     ]
    },
    {
     "data": {
      "text/plain": [
       "deque([0, 1])"
      ]
     },
     "execution_count": 26,
     "metadata": {},
     "output_type": "execute_result"
    }
   ],
   "source": [
    "from collections import deque\n",
    "\n",
    "q = deque(maxlen=2)\n",
    "q.append(0)\n",
    "print(len(q))\n",
    "q.append(1)\n",
    "q"
   ]
  },
  {
   "cell_type": "code",
   "execution_count": null,
   "metadata": {},
   "outputs": [],
   "source": []
  }
 ],
 "metadata": {
  "kernelspec": {
   "display_name": "Python 3.8.13 ('erank')",
   "language": "python",
   "name": "python3"
  },
  "language_info": {
   "codemirror_mode": {
    "name": "ipython",
    "version": 3
   },
   "file_extension": ".py",
   "mimetype": "text/x-python",
   "name": "python",
   "nbconvert_exporter": "python",
   "pygments_lexer": "ipython3",
   "version": "3.8.13"
  },
  "orig_nbformat": 4,
  "vscode": {
   "interpreter": {
    "hash": "81702ae7af1d99f924e4fcf69b863cbbc0fe7ec5ade4b2efa58fe35273e76278"
   }
  }
 },
 "nbformat": 4,
 "nbformat_minor": 2
}
