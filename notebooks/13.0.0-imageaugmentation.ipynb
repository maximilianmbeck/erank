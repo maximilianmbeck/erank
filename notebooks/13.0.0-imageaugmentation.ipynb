{
 "cells": [
  {
   "cell_type": "code",
   "execution_count": 1,
   "metadata": {},
   "outputs": [],
   "source": [
    "%load_ext autoreload\n",
    "%autoreload 2\n",
    "import sys\n",
    "import torch\n",
    "from torch import nn\n",
    "sys.path.append('..')\n",
    "# sys.path.append('/system/user/beck/pwbeck/projects/regularization/ml_utilities')\n",
    "from pathlib import Path\n",
    "from typing import Union\n",
    "from omegaconf import OmegaConf\n",
    "import matplotlib.pyplot as plt\n",
    "from ml_utilities.torch_models.base_model import BaseModel\n",
    "from ml_utilities.torch_models.fc import FC\n",
    "from ml_utilities.torch_models import get_model_class\n",
    "from ml_utilities.data_utils import show_images\n",
    "from erank.data.datasetgenerator import DatasetGenerator\n",
    "gpu_id = 0"
   ]
  },
  {
   "attachments": {},
   "cell_type": "markdown",
   "metadata": {},
   "source": [
    "# Datasetgenerator with Augmentations\n",
    "\n",
    "This notebook serves as demonstration notebook of how to initialize a dataset with augmentations."
   ]
  },
  {
   "cell_type": "code",
   "execution_count": 2,
   "metadata": {},
   "outputs": [],
   "source": [
    "data_dir = '/system/user/beck/pwbeck/data'"
   ]
  },
  {
   "cell_type": "code",
   "execution_count": 3,
   "metadata": {},
   "outputs": [
    {
     "name": "stdout",
     "output_type": "stream",
     "text": [
      "data:\n",
      "  dataset: cifar10\n",
      "  dataset_kwargs:\n",
      "    data_root_path: /system/user/beck/pwbeck/data\n",
      "  dataset_split:\n",
      "    train_val_split: 0.8\n",
      "  dataset_transforms:\n",
      "    image_transforms:\n",
      "    - RandomHorizontalFlip\n",
      "    - RandomCrop:\n",
      "        size: 32\n",
      "        padding: 4\n",
      "    tensor_transforms: null\n",
      "    joint_tensor_transforms: null\n",
      "    enable_transforms: true\n",
      "\n"
     ]
    }
   ],
   "source": [
    "data_cfg = f\"\"\"\n",
    "data:\n",
    "  dataset: cifar10 \n",
    "  dataset_kwargs:\n",
    "    data_root_path: {data_dir}\n",
    "  dataset_split:\n",
    "    train_val_split: 0.8\n",
    "    # restrict_n_samples_train_task: 100\n",
    "  dataset_transforms:\n",
    "    image_transforms:\n",
    "    - RandomHorizontalFlip\n",
    "    - RandomCrop:\n",
    "        size: 32\n",
    "        padding: 4\n",
    "    tensor_transforms: \n",
    "    joint_tensor_transforms: \n",
    "    enable_transforms: True\n",
    "\"\"\"\n",
    "data_cfg = OmegaConf.create(data_cfg)\n",
    "print(OmegaConf.to_yaml(data_cfg))"
   ]
  },
  {
   "cell_type": "code",
   "execution_count": 4,
   "metadata": {},
   "outputs": [
    {
     "name": "stdout",
     "output_type": "stream",
     "text": [
      "Files already downloaded and verified\n"
     ]
    }
   ],
   "source": [
    "ds_generator = DatasetGenerator(**data_cfg.data)\n",
    "ds_generator.generate_dataset()"
   ]
  },
  {
   "cell_type": "code",
   "execution_count": 5,
   "metadata": {},
   "outputs": [
    {
     "data": {
      "text/plain": [
       "(Compose(\n",
       "     RandomHorizontalFlip(p=0.5)\n",
       "     RandomCrop(size=(32, 32), padding=4)\n",
       "     ToTensor()\n",
       "     Normalize(mean=[0.4913995563983917, 0.48215848207473755, 0.44653093814849854], std=[0.20230084657669067, 0.19941289722919464, 0.20096157491207123])\n",
       " ),\n",
       " [])"
      ]
     },
     "execution_count": 5,
     "metadata": {},
     "output_type": "execute_result"
    }
   ],
   "source": [
    "ds_generator.train_split.image_tensor_transforms, ds_generator.train_split.joint_tensor_transforms"
   ]
  },
  {
   "cell_type": "code",
   "execution_count": 6,
   "metadata": {},
   "outputs": [
    {
     "data": {
      "text/plain": [
       "torch.Size([3, 32, 32])"
      ]
     },
     "execution_count": 6,
     "metadata": {},
     "output_type": "execute_result"
    }
   ],
   "source": [
    "ds_generator.train_split[0][0].shape"
   ]
  },
  {
   "cell_type": "code",
   "execution_count": 7,
   "metadata": {},
   "outputs": [
    {
     "name": "stderr",
     "output_type": "stream",
     "text": [
      "Clipping input data to the valid range for imshow with RGB data ([0..1] for floats or [0..255] for integers).\n",
      "Clipping input data to the valid range for imshow with RGB data ([0..1] for floats or [0..255] for integers).\n",
      "Clipping input data to the valid range for imshow with RGB data ([0..1] for floats or [0..255] for integers).\n",
      "Clipping input data to the valid range for imshow with RGB data ([0..1] for floats or [0..255] for integers).\n",
      "Clipping input data to the valid range for imshow with RGB data ([0..1] for floats or [0..255] for integers).\n",
      "Clipping input data to the valid range for imshow with RGB data ([0..1] for floats or [0..255] for integers).\n",
      "Clipping input data to the valid range for imshow with RGB data ([0..1] for floats or [0..255] for integers).\n",
      "Clipping input data to the valid range for imshow with RGB data ([0..1] for floats or [0..255] for integers).\n"
     ]
    },
    {
     "data": {
      "image/png": "[encoded data removed]",
      "text/plain": [
       "<Figure size 1000x500 with 8 Axes>"
      ]
     },
     "metadata": {},
     "output_type": "display_data"
    }
   ],
   "source": [
    "show_images(ds_generator.train_split, 10, shuffle=False)"
   ]
  },
  {
   "cell_type": "code",
   "execution_count": 8,
   "metadata": {},
   "outputs": [
    {
     "data": {
      "text/plain": [
       "Compose(\n",
       "    RandomHorizontalFlip(p=0.5)\n",
       "    RandomCrop(size=(32, 32), padding=4)\n",
       "    ToTensor()\n",
       "    Normalize(mean=[0.4913995563983917, 0.48215848207473755, 0.44653093814849854], std=[0.20230084657669067, 0.19941289722919464, 0.20096157491207123])\n",
       ")"
      ]
     },
     "execution_count": 8,
     "metadata": {},
     "output_type": "execute_result"
    }
   ],
   "source": [
    "ds_generator.train_split._composed_image_tensor_transforms"
   ]
  },
  {
   "cell_type": "code",
   "execution_count": null,
   "metadata": {},
   "outputs": [],
   "source": []
  }
 ],
 "metadata": {
  "kernelspec": {
   "display_name": "subspaces",
   "language": "python",
   "name": "python3"
  },
  "language_info": {
   "codemirror_mode": {
    "name": "ipython",
    "version": 3
   },
   "file_extension": ".py",
   "mimetype": "text/x-python",
   "name": "python",
   "nbconvert_exporter": "python",
   "pygments_lexer": "ipython3",
   "version": "3.10.4"
  },
  "orig_nbformat": 4,
  "vscode": {
   "interpreter": {
    "hash": "ac019f01eb2a0970f066d5e193a84f30bb43215eeeface9d3d8db32241c79700"
   }
  }
 },
 "nbformat": 4,
 "nbformat_minor": 2
}
