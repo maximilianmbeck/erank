{
 "cells": [
  {
   "cell_type": "code",
   "execution_count": 2,
   "metadata": {},
   "outputs": [
    {
     "name": "stdout",
     "output_type": "stream",
     "text": [
      "The autoreload extension is already loaded. To reload it, use:\n",
      "  %reload_ext autoreload\n"
     ]
    }
   ],
   "source": [
    "%load_ext autoreload\n",
    "%autoreload 2\n",
    "import sys\n",
    "import torch\n",
    "from torch import nn\n",
    "sys.path.append('..')\n",
    "# sys.path.append('/system/user/beck/pwbeck/projects/regularization/ml_utilities')\n",
    "from pathlib import Path\n",
    "from typing import Union\n",
    "from omegaconf import OmegaConf\n",
    "from hydra import compose, initialize\n",
    "import matplotlib.pyplot as plt\n",
    "import warnings\n",
    "from erank.trainer import get_trainer_class\n",
    "\n",
    "gpu_id = 0"
   ]
  },
  {
   "cell_type": "code",
   "execution_count": 3,
   "metadata": {},
   "outputs": [],
   "source": [
    "# run single experiment in notebook\n",
    "def run_experiment(config_name: str):\n",
    "    with initialize(version_base=None, config_path='../configs/'):\n",
    "        warnings.filterwarnings('once')\n",
    "        cfg = compose(config_name=config_name)\n",
    "        cfg = cfg.config\n",
    "        cfg.experiment_data.experiment_dir = Path().cwd()\n",
    "        trainer_class = get_trainer_class(cfg.trainer.training_setup)\n",
    "        trainer = trainer_class(config=cfg)\n",
    "        trainer.train()"
   ]
  },
  {
   "cell_type": "code",
   "execution_count": 4,
   "metadata": {},
   "outputs": [],
   "source": [
    "config_name = 'config_debug_sl_sinus.yaml'"
   ]
  },
  {
   "cell_type": "code",
   "execution_count": null,
   "metadata": {},
   "outputs": [],
   "source": []
  }
 ],
 "metadata": {
  "kernelspec": {
   "display_name": "Python 3.8.13 ('erank')",
   "language": "python",
   "name": "python3"
  },
  "language_info": {
   "codemirror_mode": {
    "name": "ipython",
    "version": 3
   },
   "file_extension": ".py",
   "mimetype": "text/x-python",
   "name": "python",
   "nbconvert_exporter": "python",
   "pygments_lexer": "ipython3",
   "version": "3.8.13"
  },
  "orig_nbformat": 4,
  "vscode": {
   "interpreter": {
    "hash": "b1e300651644b4a5ccc8598fb3da49325ec88b18d4f380e9c939826d448ae9e4"
   }
  }
 },
 "nbformat": 4,
 "nbformat_minor": 2
}
