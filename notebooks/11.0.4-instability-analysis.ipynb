{
 "cells": [
  {
   "cell_type": "code",
   "execution_count": 13,
   "metadata": {},
   "outputs": [
    {
     "name": "stdout",
     "output_type": "stream",
     "text": [
      "The autoreload extension is already loaded. To reload it, use:\n",
      "  %reload_ext autoreload\n"
     ]
    }
   ],
   "source": [
    "%load_ext autoreload\n",
    "%autoreload 2\n",
    "import sys\n",
    "import torch\n",
    "import numpy as np\n",
    "from torch import nn\n",
    "import torchmetrics\n",
    "import pandas as pd\n",
    "sys.path.append('..')\n",
    "# sys.path.append('/system/user/beck/pwbeck/projects/regularization/ml_utilities')\n",
    "from pathlib import Path\n",
    "from typing import Union\n",
    "from pprint import pprint\n",
    "from ml_utilities.torch_models.base_model import BaseModel\n",
    "from ml_utilities.torch_models.fc import FC\n",
    "from ml_utilities.torch_models import get_model_class\n",
    "from ml_utilities.output_loader.repo import Repo\n",
    "from ml_utilities.output_loader.job_output import JobResult, SweepResult\n",
    "from ml_utilities.torch_utils.metrics import SimpleAccuracy, SimpleError\n",
    "from omegaconf import OmegaConf\n",
    "\n",
    "from erank.data.datasetgenerator import DatasetGenerator\n",
    "from erank.mode_connectivity import interpolate_linear, interpolate_linear_runs, interpolation_result2series\n",
    "\n",
    "import matplotlib.pyplot as plt\n",
    "gpu_id = 0\n",
    "REPO = Repo(dir=Path('../../erank'), hydra_defaults=OmegaConf.load('../configs/hydra/jobname_outputdir_format.yaml'))"
   ]
  },
  {
   "attachments": {},
   "cell_type": "markdown",
   "metadata": {},
   "source": [
    "# Instability analysis debug notebook\n",
    "This notebook is used to implement linear interplation of models. \n",
    "\n",
    "Do linear interpolation with on MNIST. Use data from Experiment 11.7.4. \n",
    "\n",
    "Start from pretrained model with 100 steps."
   ]
  },
  {
   "cell_type": "code",
   "execution_count": null,
   "metadata": {},
   "outputs": [],
   "source": [
    "# some constants\n",
    "score_fn = SimpleAccuracy()"
   ]
  },
  {
   "attachments": {},
   "cell_type": "markdown",
   "metadata": {},
   "source": [
    "## Instability Analysis on Experiment 11.7.4\n",
    "\n",
    "**PROBLEM**: Cannot use this because we use only **50** samples < batchsize = 128. Therefore we do full batch training. -> No noise due to different batch order."
   ]
  },
  {
   "cell_type": "code",
   "execution_count": 3,
   "metadata": {},
   "outputs": [],
   "source": [
    "config_yaml = \"\"\"\n",
    "run_config:\n",
    "  exec_type: parallel # sequential\n",
    "  hostname: wasp\n",
    "  gpu_ids: [0,1,2,3,4]\n",
    "  runs_per_gpu: 5\n",
    "\n",
    "  wandb: # wandb config for run_handler, if \"wandb: null\" then logging to wandb is disabled for run_handler\n",
    "    init:\n",
    "      tags:\n",
    "        - ${config.experiment_data.experiment_tag}_exps\n",
    "        - run_handler\n",
    "      notes: #\n",
    "      group: ${config.experiment_data.experiment_tag}\n",
    "      job_type: run_handler\n",
    "\n",
    "seeds: [1,2]\n",
    "\n",
    "sweep:\n",
    "  type: grid\n",
    "  axes:\n",
    "    - parameter: trainer.init_model_step\n",
    "      vals: [0, 5, 10, 15, 20, 25, 30, 35, 40, 45, 50, 55, 60, 65, 70, 75, 80, 85, 90, 95, 100, 125, 150, 175, 200, 225, 250, 275, 300, 325, 350, 375, 400, 425, 450, 475]\n",
    "    - parameter: data.dataset_kwargs.rotation_angle\n",
    "      vals: linspace(0,180,30,endpoint=True)\n",
    "    - parameter: data.dataset_split.restrict_n_samples_train_task\n",
    "      vals: [50] #[5, 20, 50, 100, 500, 1000, 10000, 48000]\n",
    "\n",
    "start_num: 4 # use this to count how often this config is run\n",
    "###\n",
    "config:\n",
    "  experiment_data:\n",
    "    entity: jkuiml-fsl\n",
    "    project_name: sparsity\n",
    "    experiment_tag: \"11.7\"\n",
    "    experiment_type: startnum_${start_num}\n",
    "    experiment_name: mnist-${config.experiment_data.experiment_tag}.${start_num}-lenet_rottasks_ft\n",
    "    experiment_dir: null\n",
    "    experiment_notes: Hyperparameter search.\n",
    "    job_name: null\n",
    "    seed: 0\n",
    "    hostname: null # the server on which the run is run, will be filled by run_handler\n",
    "    gpu_id: 0\n",
    "\n",
    "  # wandb:\n",
    "  #   init:\n",
    "  #     tags: # list(), used to tag wandblogger\n",
    "  #       - ${config.experiment_data.experiment_tag}_exps\n",
    "  #     notes: ${config.experiment_data.experiment_notes} # str, used to make notes to wandblogger\n",
    "  #     group: ${config.experiment_data.experiment_tag} # null\n",
    "  #     job_type: ${config.experiment_data.experiment_type} # examples: hypsearch, pretrain, eval, etc.\n",
    "\n",
    "  #   watch:\n",
    "  #     log: null #parameters #null #all\n",
    "  #     log_freq: 5000\n",
    "\n",
    "  model:\n",
    "    name: fc\n",
    "    model_kwargs:\n",
    "      input_size: 784\n",
    "      hidden_sizes:\n",
    "        - 300\n",
    "        - 100\n",
    "      output_size: 10\n",
    "      flatten_input: True\n",
    "      dropout: null\n",
    "      act_fn: relu\n",
    "\n",
    "  trainer:\n",
    "    training_setup: supervised\n",
    "    n_steps: 2000\n",
    "    log_train_step_every: 1\n",
    "    log_additional_train_step_every_multiplier: 1\n",
    "    log_additional_logs: True\n",
    "    val_every: 5\n",
    "    save_every: 5 #500\n",
    "    early_stopping_patience: 200 #500\n",
    "    batch_size: 128\n",
    "    optimizer_scheduler:\n",
    "      optimizer_name: adamw #sgd #adamw\n",
    "      optimizer_kwargs:\n",
    "        lr: 0.001\n",
    "        weight_decay: 0.0\n",
    "    \n",
    "    init_model_step: XXX\n",
    "    init_model: /system/user/beck/pwbeck/projects/regularization/erank/outputs/mnist-11.5.0-lenet--221015_122552/model_step_${config.trainer.init_model_step}.p\n",
    "\n",
    "    loss: crossentropy\n",
    "\n",
    "    metrics:\n",
    "      - Accuracy\n",
    "    num_workers: 4\n",
    "    verbose: False\n",
    "\n",
    "  data:\n",
    "    dataset: rotatedvision\n",
    "    dataset_kwargs:\n",
    "      data_root_path: /system/user/beck/pwbeck/data\n",
    "      dataset: mnist\n",
    "      rotation_angle: XXX\n",
    "    dataset_split:\n",
    "      train_val_split: 0.8\n",
    "      restrict_n_samples_train_task: XXX\n",
    "\"\"\"\n",
    "cfg = OmegaConf.create(config_yaml)"
   ]
  },
  {
   "cell_type": "code",
   "execution_count": 4,
   "metadata": {},
   "outputs": [
    {
     "name": "stdout",
     "output_type": "stream",
     "text": [
      "Exp. Tag(start_num): 11.7(4)\n",
      "Exp. Name: mnist-11.7.4-lenet_rottasks_ft\n",
      "Training setup: supervised\n",
      "Model name: fc\n",
      "Dataset name: rotatedvision\n",
      "Sweep type: grid\n",
      "  trainer.init_model_step: [0, 5, 10, 15, 20, 25, 30, 35, 40, 45, 50, 55, 60, 65, 70, 75, 80, 85, 90, 95, 100, 125, 150, 175, 200, 225, 250, 275, 300, 325, 350, 375, 400, 425, 450, 475]\n",
      "  data.dataset_kwargs.rotation_angle: linspace(0,180,30,endpoint=True)\n",
      "  data.dataset_split.restrict_n_samples_train_task: [50]\n",
      "Num. jobs: 2150\n",
      "Config updated: 2022-12-12 17:43:28\n",
      "Sweep started:  2022-12-12 17:42:56\n",
      "\n"
     ]
    }
   ],
   "source": [
    "sweepr = REPO.get_output_loader(cfg)\n",
    "print(sweepr)"
   ]
  },
  {
   "cell_type": "code",
   "execution_count": 9,
   "metadata": {},
   "outputs": [
    {
     "data": {
      "text/plain": [
       "array([  0.        ,   6.20689655,  12.4137931 ,  18.62068966,\n",
       "        24.82758621,  31.03448276,  37.24137931,  43.44827586,\n",
       "        49.65517241,  55.86206897,  62.06896552,  68.27586207,\n",
       "        74.48275862,  80.68965517,  86.89655172,  93.10344828,\n",
       "        99.31034483, 105.51724138, 111.72413793, 117.93103448,\n",
       "       124.13793103, 130.34482759, 136.55172414, 142.75862069,\n",
       "       148.96551724, 155.17241379, 161.37931034, 167.5862069 ,\n",
       "       173.79310345, 180.        ])"
      ]
     },
     "execution_count": 9,
     "metadata": {},
     "output_type": "execute_result"
    }
   ],
   "source": [
    "np.linspace(0,180,30,endpoint=True)"
   ]
  },
  {
   "attachments": {},
   "cell_type": "markdown",
   "metadata": {},
   "source": [
    "### Single linear interpolation for reference"
   ]
  },
  {
   "cell_type": "code",
   "execution_count": 28,
   "metadata": {},
   "outputs": [
    {
     "data": {
      "text/plain": [
       "[JobResult(mnist-11.7.4-lenet_rottasks_ft--init_model_step-100-rotation_angle-37.2414-restrict_n_samples_train_task-50-seed-2--221214_005243),\n",
       " JobResult(mnist-11.7.4-lenet_rottasks_ft--init_model_step-100-rotation_angle-37.2414-restrict_n_samples_train_task-50-seed-1--221213_143055)]"
      ]
     },
     "execution_count": 28,
     "metadata": {},
     "output_type": "execute_result"
    }
   ],
   "source": [
    "jobs_pretrainsteps100 = sweepr.get_jobs('init_model_step-100-rotation_angle-37')\n",
    "jobs_pretrainsteps100"
   ]
  },
  {
   "cell_type": "code",
   "execution_count": 29,
   "metadata": {},
   "outputs": [
    {
     "name": "stdout",
     "output_type": "stream",
     "text": [
      "Interp. factors: 100%|██████████| 5/5 [00:22<00:00,  4.43s/it]\n"
     ]
    }
   ],
   "source": [
    "dataset_df, distance_df = interpolate_linear_runs(jobs_pretrainsteps100[0], jobs_pretrainsteps100[1], score_fn)"
   ]
  },
  {
   "cell_type": "code",
   "execution_count": 30,
   "metadata": {},
   "outputs": [
    {
     "data": {
      "text/html": [
       "<div>\n",
       "<style scoped>\n",
       "    .dataframe tbody tr th:only-of-type {\n",
       "        vertical-align: middle;\n",
       "    }\n",
       "\n",
       "    .dataframe tbody tr th {\n",
       "        vertical-align: top;\n",
       "    }\n",
       "\n",
       "    .dataframe thead tr th {\n",
       "        text-align: left;\n",
       "    }\n",
       "\n",
       "    .dataframe thead tr:last-of-type th {\n",
       "        text-align: right;\n",
       "    }\n",
       "</style>\n",
       "<table border=\"1\" class=\"dataframe\">\n",
       "  <thead>\n",
       "    <tr>\n",
       "      <th></th>\n",
       "      <th></th>\n",
       "      <th>datasets</th>\n",
       "      <th colspan=\"6\" halign=\"left\">val</th>\n",
       "      <th colspan=\"6\" halign=\"left\">train</th>\n",
       "    </tr>\n",
       "    <tr>\n",
       "      <th></th>\n",
       "      <th></th>\n",
       "      <th>score</th>\n",
       "      <th colspan=\"5\" halign=\"left\">interpolation_scores</th>\n",
       "      <th>instability</th>\n",
       "      <th colspan=\"5\" halign=\"left\">interpolation_scores</th>\n",
       "      <th>instability</th>\n",
       "    </tr>\n",
       "    <tr>\n",
       "      <th></th>\n",
       "      <th></th>\n",
       "      <th>alpha</th>\n",
       "      <th>0.00</th>\n",
       "      <th>0.25</th>\n",
       "      <th>0.50</th>\n",
       "      <th>0.75</th>\n",
       "      <th>1.00</th>\n",
       "      <th>NaN</th>\n",
       "      <th>0.00</th>\n",
       "      <th>0.25</th>\n",
       "      <th>0.50</th>\n",
       "      <th>0.75</th>\n",
       "      <th>1.00</th>\n",
       "      <th>NaN</th>\n",
       "    </tr>\n",
       "    <tr>\n",
       "      <th>jobs</th>\n",
       "      <th>seeds</th>\n",
       "      <th>model_idxes</th>\n",
       "      <th></th>\n",
       "      <th></th>\n",
       "      <th></th>\n",
       "      <th></th>\n",
       "      <th></th>\n",
       "      <th></th>\n",
       "      <th></th>\n",
       "      <th></th>\n",
       "      <th></th>\n",
       "      <th></th>\n",
       "      <th></th>\n",
       "      <th></th>\n",
       "    </tr>\n",
       "  </thead>\n",
       "  <tbody>\n",
       "    <tr>\n",
       "      <th>mnist-11.7.4-lenet_rottasks_ft--init_model_step-100-rotation_angle-37.2414-restrict_n_samples_train_task-50</th>\n",
       "      <th>(2, 1)</th>\n",
       "      <th>(1885, 1815)</th>\n",
       "      <td>0.711341</td>\n",
       "      <td>0.711341</td>\n",
       "      <td>0.711341</td>\n",
       "      <td>0.711341</td>\n",
       "      <td>0.711341</td>\n",
       "      <td>0.0</td>\n",
       "      <td>1.0</td>\n",
       "      <td>1.0</td>\n",
       "      <td>1.0</td>\n",
       "      <td>1.0</td>\n",
       "      <td>1.0</td>\n",
       "      <td>0.0</td>\n",
       "    </tr>\n",
       "  </tbody>\n",
       "</table>\n",
       "</div>"
      ],
      "text/plain": [
       "datasets                                                                                val  \\\n",
       "score                                                                  interpolation_scores   \n",
       "alpha                                                                                  0.00   \n",
       "jobs                                               seeds  model_idxes                         \n",
       "mnist-11.7.4-lenet_rottasks_ft--init_model_step... (2, 1) (1885, 1815)             0.711341   \n",
       "\n",
       "datasets                                                                          \\\n",
       "score                                                                              \n",
       "alpha                                                                       0.25   \n",
       "jobs                                               seeds  model_idxes              \n",
       "mnist-11.7.4-lenet_rottasks_ft--init_model_step... (2, 1) (1885, 1815)  0.711341   \n",
       "\n",
       "datasets                                                                          \\\n",
       "score                                                                              \n",
       "alpha                                                                       0.50   \n",
       "jobs                                               seeds  model_idxes              \n",
       "mnist-11.7.4-lenet_rottasks_ft--init_model_step... (2, 1) (1885, 1815)  0.711341   \n",
       "\n",
       "datasets                                                                          \\\n",
       "score                                                                              \n",
       "alpha                                                                       0.75   \n",
       "jobs                                               seeds  model_idxes              \n",
       "mnist-11.7.4-lenet_rottasks_ft--init_model_step... (2, 1) (1885, 1815)  0.711341   \n",
       "\n",
       "datasets                                                                          \\\n",
       "score                                                                              \n",
       "alpha                                                                       1.00   \n",
       "jobs                                               seeds  model_idxes              \n",
       "mnist-11.7.4-lenet_rottasks_ft--init_model_step... (2, 1) (1885, 1815)  0.711341   \n",
       "\n",
       "datasets                                                                            \\\n",
       "score                                                                  instability   \n",
       "alpha                                                                          NaN   \n",
       "jobs                                               seeds  model_idxes                \n",
       "mnist-11.7.4-lenet_rottasks_ft--init_model_step... (2, 1) (1885, 1815)         0.0   \n",
       "\n",
       "datasets                                                                              train  \\\n",
       "score                                                                  interpolation_scores   \n",
       "alpha                                                                                  0.00   \n",
       "jobs                                               seeds  model_idxes                         \n",
       "mnist-11.7.4-lenet_rottasks_ft--init_model_step... (2, 1) (1885, 1815)                  1.0   \n",
       "\n",
       "datasets                                                                     \\\n",
       "score                                                                         \n",
       "alpha                                                                  0.25   \n",
       "jobs                                               seeds  model_idxes         \n",
       "mnist-11.7.4-lenet_rottasks_ft--init_model_step... (2, 1) (1885, 1815)  1.0   \n",
       "\n",
       "datasets                                                                     \\\n",
       "score                                                                         \n",
       "alpha                                                                  0.50   \n",
       "jobs                                               seeds  model_idxes         \n",
       "mnist-11.7.4-lenet_rottasks_ft--init_model_step... (2, 1) (1885, 1815)  1.0   \n",
       "\n",
       "datasets                                                                     \\\n",
       "score                                                                         \n",
       "alpha                                                                  0.75   \n",
       "jobs                                               seeds  model_idxes         \n",
       "mnist-11.7.4-lenet_rottasks_ft--init_model_step... (2, 1) (1885, 1815)  1.0   \n",
       "\n",
       "datasets                                                                     \\\n",
       "score                                                                         \n",
       "alpha                                                                  1.00   \n",
       "jobs                                               seeds  model_idxes         \n",
       "mnist-11.7.4-lenet_rottasks_ft--init_model_step... (2, 1) (1885, 1815)  1.0   \n",
       "\n",
       "datasets                                                                            \n",
       "score                                                                  instability  \n",
       "alpha                                                                          NaN  \n",
       "jobs                                               seeds  model_idxes               \n",
       "mnist-11.7.4-lenet_rottasks_ft--init_model_step... (2, 1) (1885, 1815)         0.0  "
      ]
     },
     "execution_count": 30,
     "metadata": {},
     "output_type": "execute_result"
    }
   ],
   "source": [
    "dataset_df"
   ]
  },
  {
   "cell_type": "code",
   "execution_count": 31,
   "metadata": {},
   "outputs": [
    {
     "data": {
      "text/html": [
       "<div>\n",
       "<style scoped>\n",
       "    .dataframe tbody tr th:only-of-type {\n",
       "        vertical-align: middle;\n",
       "    }\n",
       "\n",
       "    .dataframe tbody tr th {\n",
       "        vertical-align: top;\n",
       "    }\n",
       "\n",
       "    .dataframe thead tr th {\n",
       "        text-align: left;\n",
       "    }\n",
       "\n",
       "    .dataframe thead tr:last-of-type th {\n",
       "        text-align: right;\n",
       "    }\n",
       "</style>\n",
       "<table border=\"1\" class=\"dataframe\">\n",
       "  <thead>\n",
       "    <tr>\n",
       "      <th></th>\n",
       "      <th></th>\n",
       "      <th>distances</th>\n",
       "      <th>l2distance</th>\n",
       "      <th>cosinesimilarity</th>\n",
       "    </tr>\n",
       "    <tr>\n",
       "      <th>jobs</th>\n",
       "      <th>seeds</th>\n",
       "      <th>model_idxes</th>\n",
       "      <th></th>\n",
       "      <th></th>\n",
       "    </tr>\n",
       "  </thead>\n",
       "  <tbody>\n",
       "    <tr>\n",
       "      <th>mnist-11.7.4-lenet_rottasks_ft--init_model_step-100-rotation_angle-37.2414-restrict_n_samples_train_task-50</th>\n",
       "      <th>(2, 1)</th>\n",
       "      <th>(1885, 1815)</th>\n",
       "      <td>0.016702</td>\n",
       "      <td>0.999999</td>\n",
       "    </tr>\n",
       "  </tbody>\n",
       "</table>\n",
       "</div>"
      ],
      "text/plain": [
       "distances                                                              l2distance  \\\n",
       "jobs                                               seeds  model_idxes               \n",
       "mnist-11.7.4-lenet_rottasks_ft--init_model_step... (2, 1) (1885, 1815)   0.016702   \n",
       "\n",
       "distances                                                              cosinesimilarity  \n",
       "jobs                                               seeds  model_idxes                    \n",
       "mnist-11.7.4-lenet_rottasks_ft--init_model_step... (2, 1) (1885, 1815)         0.999999  "
      ]
     },
     "execution_count": 31,
     "metadata": {},
     "output_type": "execute_result"
    }
   ],
   "source": [
    "distance_df"
   ]
  },
  {
   "cell_type": "code",
   "execution_count": 32,
   "metadata": {},
   "outputs": [
    {
     "data": {
      "text/plain": [
       "1885"
      ]
     },
     "execution_count": 32,
     "metadata": {},
     "output_type": "execute_result"
    }
   ],
   "source": [
    "jobs_pretrainsteps100[0].best_model_idx"
   ]
  },
  {
   "cell_type": "code",
   "execution_count": 22,
   "metadata": {},
   "outputs": [
    {
     "data": {
      "text/plain": [
       "1040"
      ]
     },
     "execution_count": 22,
     "metadata": {},
     "output_type": "execute_result"
    }
   ],
   "source": [
    "jobs_pretrainsteps100[1].best_model_idx"
   ]
  },
  {
   "attachments": {},
   "cell_type": "markdown",
   "metadata": {},
   "source": [
    "## Instability Analysis on Experiment 11.7.3"
   ]
  },
  {
   "cell_type": "code",
   "execution_count": 33,
   "metadata": {},
   "outputs": [],
   "source": [
    "config_yaml = \"\"\"\n",
    "run_config:\n",
    "  exec_type: parallel # sequential\n",
    "  hostname: gorilla\n",
    "  gpu_ids: [0,1,2,3,4,5,6,7]\n",
    "  runs_per_gpu: 3\n",
    "\n",
    "  wandb: # wandb config for run_handler, if \"wandb: null\" then logging to wandb is disabled for run_handler\n",
    "    init:\n",
    "      tags:\n",
    "        - ${config.experiment_data.experiment_tag}_exps\n",
    "        - run_handler\n",
    "      notes: #\n",
    "      group: ${config.experiment_data.experiment_tag}\n",
    "      job_type: run_handler\n",
    "\n",
    "seeds: [1,2,3]\n",
    "\n",
    "sweep:\n",
    "  type: grid\n",
    "  axes:\n",
    "    - parameter: trainer.init_model_step\n",
    "      vals: [0, 5, 10, 15, 20, 25, 30, 35, 40, 45, 50, 55, 60, 65, 70, 75, 80, 85, 90, 95, 100, 125, 150, 175, 200, 225, 250, 275, 300, 325, 350, 375, 400, 425, 450, 475]\n",
    "    - parameter: data.dataset_kwargs.rotation_angle\n",
    "      vals: linspace(0,180,50,endpoint=True)\n",
    "    - parameter: data.dataset_split.restrict_n_samples_train_task\n",
    "      vals: [300] #[5, 20, 50, 100, 500, 1000, 10000, 48000]\n",
    "\n",
    "start_num: 3 # use this to count how often this config is run\n",
    "###\n",
    "config:\n",
    "  experiment_data:\n",
    "    entity: jkuiml-fsl\n",
    "    project_name: sparsity\n",
    "    experiment_tag: \"11.7\"\n",
    "    experiment_type: startnum_${start_num}\n",
    "    experiment_name: mnist-${config.experiment_data.experiment_tag}.${start_num}-lenet_rottasks_ft\n",
    "    experiment_dir: null\n",
    "    experiment_notes: Hyperparameter search.\n",
    "    job_name: null\n",
    "    seed: 0\n",
    "    hostname: null # the server on which the run is run, will be filled by run_handler\n",
    "    gpu_id: 0\n",
    "\n",
    "  # wandb:\n",
    "  #   init:\n",
    "  #     tags: # list(), used to tag wandblogger\n",
    "  #       - ${config.experiment_data.experiment_tag}_exps\n",
    "  #     notes: ${config.experiment_data.experiment_notes} # str, used to make notes to wandblogger\n",
    "  #     group: ${config.experiment_data.experiment_tag} # null\n",
    "  #     job_type: ${config.experiment_data.experiment_type} # examples: hypsearch, pretrain, eval, etc.\n",
    "\n",
    "  #   watch:\n",
    "  #     log: null #parameters #null #all\n",
    "  #     log_freq: 5000\n",
    "\n",
    "  model:\n",
    "    name: fc\n",
    "    model_kwargs:\n",
    "      input_size: 784\n",
    "      hidden_sizes:\n",
    "        - 300\n",
    "        - 100\n",
    "      output_size: 10\n",
    "      flatten_input: True\n",
    "      dropout: null\n",
    "      act_fn: relu\n",
    "\n",
    "  trainer:\n",
    "    training_setup: supervised\n",
    "    n_steps: 2000\n",
    "    log_train_step_every: 1\n",
    "    log_additional_train_step_every_multiplier: 1\n",
    "    log_additional_logs: True\n",
    "    val_every: 5\n",
    "    save_every: 5 #500\n",
    "    early_stopping_patience: 200 #500\n",
    "    batch_size: 128\n",
    "    optimizer_scheduler:\n",
    "      optimizer_name: adamw #sgd #adamw\n",
    "      optimizer_kwargs:\n",
    "        lr: 0.001\n",
    "        weight_decay: 0.0\n",
    "    \n",
    "    init_model_step: XXX\n",
    "    init_model: /system/user/beck/pwbeck/projects/regularization/erank/outputs/mnist-11.5.0-lenet--221015_122552/model_step_${config.trainer.init_model_step}.p\n",
    "\n",
    "    loss: crossentropy\n",
    "\n",
    "    metrics:\n",
    "      - Accuracy\n",
    "    num_workers: 4\n",
    "    verbose: False\n",
    "\n",
    "  data:\n",
    "    dataset: rotatedvision\n",
    "    dataset_kwargs:\n",
    "      data_root_path: /system/user/beck/pwbeck/data\n",
    "      dataset: mnist\n",
    "      rotation_angle: XXX\n",
    "    dataset_split:\n",
    "      train_val_split: 0.8\n",
    "      restrict_n_samples_train_task: XXX\n",
    "\n",
    "\"\"\"\n",
    "cfg = OmegaConf.create(config_yaml)"
   ]
  },
  {
   "cell_type": "code",
   "execution_count": 34,
   "metadata": {},
   "outputs": [
    {
     "name": "stdout",
     "output_type": "stream",
     "text": [
      "Exp. Tag(start_num): 11.7(3)\n",
      "Exp. Name: mnist-11.7.3-lenet_rottasks_ft\n",
      "Training setup: supervised\n",
      "Model name: fc\n",
      "Dataset name: rotatedvision\n",
      "Sweep type: grid\n",
      "  trainer.init_model_step: [0, 5, 10, 15, 20, 25, 30, 35, 40, 45, 50, 55, 60, 65, 70, 75, 80, 85, 90, 95, 100, 125, 150, 175, 200, 225, 250, 275, 300, 325, 350, 375, 400, 425, 450, 475]\n",
      "  data.dataset_kwargs.rotation_angle: linspace(0,180,50,endpoint=True)\n",
      "  data.dataset_split.restrict_n_samples_train_task: [300]\n",
      "Num. jobs: 5400\n",
      "Config updated: 2022-11-25 12:34:14\n",
      "Sweep started:  2022-11-25 12:36:51\n",
      "\n"
     ]
    }
   ],
   "source": [
    "sweepr = REPO.get_output_loader(cfg)\n",
    "print(sweepr)"
   ]
  },
  {
   "cell_type": "code",
   "execution_count": 35,
   "metadata": {},
   "outputs": [
    {
     "data": {
      "text/plain": [
       "array([  0.        ,   3.67346939,   7.34693878,  11.02040816,\n",
       "        14.69387755,  18.36734694,  22.04081633,  25.71428571,\n",
       "        29.3877551 ,  33.06122449,  36.73469388,  40.40816327,\n",
       "        44.08163265,  47.75510204,  51.42857143,  55.10204082,\n",
       "        58.7755102 ,  62.44897959,  66.12244898,  69.79591837,\n",
       "        73.46938776,  77.14285714,  80.81632653,  84.48979592,\n",
       "        88.16326531,  91.83673469,  95.51020408,  99.18367347,\n",
       "       102.85714286, 106.53061224, 110.20408163, 113.87755102,\n",
       "       117.55102041, 121.2244898 , 124.89795918, 128.57142857,\n",
       "       132.24489796, 135.91836735, 139.59183673, 143.26530612,\n",
       "       146.93877551, 150.6122449 , 154.28571429, 157.95918367,\n",
       "       161.63265306, 165.30612245, 168.97959184, 172.65306122,\n",
       "       176.32653061, 180.        ])"
      ]
     },
     "execution_count": 35,
     "metadata": {},
     "output_type": "execute_result"
    }
   ],
   "source": [
    "np.linspace(0,180,50,endpoint=True)"
   ]
  },
  {
   "attachments": {},
   "cell_type": "markdown",
   "metadata": {},
   "source": [
    "### Single linear interpolation for reference"
   ]
  },
  {
   "cell_type": "code",
   "execution_count": 36,
   "metadata": {},
   "outputs": [
    {
     "data": {
      "text/plain": [
       "[JobResult(mnist-11.7.3-lenet_rottasks_ft--init_model_step-100-rotation_angle-25.7143-restrict_n_samples_train_task-300-seed-2--221127_232024),\n",
       " JobResult(mnist-11.7.3-lenet_rottasks_ft--init_model_step-100-rotation_angle-25.7143-restrict_n_samples_train_task-300-seed-3--221126_021736),\n",
       " JobResult(mnist-11.7.3-lenet_rottasks_ft--init_model_step-100-rotation_angle-25.7143-restrict_n_samples_train_task-300-seed-1--221125_232309)]"
      ]
     },
     "execution_count": 36,
     "metadata": {},
     "output_type": "execute_result"
    }
   ],
   "source": [
    "jobs_pretrainsteps100 = sweepr.get_jobs('init_model_step-100-rotation_angle-25')\n",
    "jobs_pretrainsteps100"
   ]
  },
  {
   "cell_type": "code",
   "execution_count": 37,
   "metadata": {},
   "outputs": [
    {
     "name": "stdout",
     "output_type": "stream",
     "text": [
      "Interp. factors: 100%|██████████| 5/5 [00:24<00:00,  4.90s/it]\n"
     ]
    }
   ],
   "source": [
    "dataset_df, distance_df = interpolate_linear_runs(jobs_pretrainsteps100[0], jobs_pretrainsteps100[1], score_fn)"
   ]
  },
  {
   "cell_type": "code",
   "execution_count": 38,
   "metadata": {},
   "outputs": [
    {
     "data": {
      "text/html": [
       "<div>\n",
       "<style scoped>\n",
       "    .dataframe tbody tr th:only-of-type {\n",
       "        vertical-align: middle;\n",
       "    }\n",
       "\n",
       "    .dataframe tbody tr th {\n",
       "        vertical-align: top;\n",
       "    }\n",
       "\n",
       "    .dataframe thead tr th {\n",
       "        text-align: left;\n",
       "    }\n",
       "\n",
       "    .dataframe thead tr:last-of-type th {\n",
       "        text-align: right;\n",
       "    }\n",
       "</style>\n",
       "<table border=\"1\" class=\"dataframe\">\n",
       "  <thead>\n",
       "    <tr>\n",
       "      <th></th>\n",
       "      <th></th>\n",
       "      <th>datasets</th>\n",
       "      <th colspan=\"6\" halign=\"left\">val</th>\n",
       "      <th colspan=\"6\" halign=\"left\">train</th>\n",
       "    </tr>\n",
       "    <tr>\n",
       "      <th></th>\n",
       "      <th></th>\n",
       "      <th>score</th>\n",
       "      <th colspan=\"5\" halign=\"left\">interpolation_scores</th>\n",
       "      <th>instability</th>\n",
       "      <th colspan=\"5\" halign=\"left\">interpolation_scores</th>\n",
       "      <th>instability</th>\n",
       "    </tr>\n",
       "    <tr>\n",
       "      <th></th>\n",
       "      <th></th>\n",
       "      <th>alpha</th>\n",
       "      <th>0.00</th>\n",
       "      <th>0.25</th>\n",
       "      <th>0.50</th>\n",
       "      <th>0.75</th>\n",
       "      <th>1.00</th>\n",
       "      <th>NaN</th>\n",
       "      <th>0.00</th>\n",
       "      <th>0.25</th>\n",
       "      <th>0.50</th>\n",
       "      <th>0.75</th>\n",
       "      <th>1.00</th>\n",
       "      <th>NaN</th>\n",
       "    </tr>\n",
       "    <tr>\n",
       "      <th>jobs</th>\n",
       "      <th>seeds</th>\n",
       "      <th>model_idxes</th>\n",
       "      <th></th>\n",
       "      <th></th>\n",
       "      <th></th>\n",
       "      <th></th>\n",
       "      <th></th>\n",
       "      <th></th>\n",
       "      <th></th>\n",
       "      <th></th>\n",
       "      <th></th>\n",
       "      <th></th>\n",
       "      <th></th>\n",
       "      <th></th>\n",
       "    </tr>\n",
       "  </thead>\n",
       "  <tbody>\n",
       "    <tr>\n",
       "      <th>mnist-11.7.3-lenet_rottasks_ft--init_model_step-100-rotation_angle-25.7143-restrict_n_samples_train_task-300</th>\n",
       "      <th>(2, 3)</th>\n",
       "      <th>(515, 380)</th>\n",
       "      <td>0.873551</td>\n",
       "      <td>0.873457</td>\n",
       "      <td>0.873884</td>\n",
       "      <td>0.873896</td>\n",
       "      <td>0.874573</td>\n",
       "      <td>-0.000606</td>\n",
       "      <td>1.0</td>\n",
       "      <td>1.0</td>\n",
       "      <td>1.0</td>\n",
       "      <td>1.0</td>\n",
       "      <td>1.0</td>\n",
       "      <td>0.0</td>\n",
       "    </tr>\n",
       "  </tbody>\n",
       "</table>\n",
       "</div>"
      ],
      "text/plain": [
       "datasets                                                                               val  \\\n",
       "score                                                                 interpolation_scores   \n",
       "alpha                                                                                 0.00   \n",
       "jobs                                               seeds  model_idxes                        \n",
       "mnist-11.7.3-lenet_rottasks_ft--init_model_step... (2, 3) (515, 380)              0.873551   \n",
       "\n",
       "datasets                                                                         \\\n",
       "score                                                                             \n",
       "alpha                                                                      0.25   \n",
       "jobs                                               seeds  model_idxes             \n",
       "mnist-11.7.3-lenet_rottasks_ft--init_model_step... (2, 3) (515, 380)   0.873457   \n",
       "\n",
       "datasets                                                                         \\\n",
       "score                                                                             \n",
       "alpha                                                                      0.50   \n",
       "jobs                                               seeds  model_idxes             \n",
       "mnist-11.7.3-lenet_rottasks_ft--init_model_step... (2, 3) (515, 380)   0.873884   \n",
       "\n",
       "datasets                                                                         \\\n",
       "score                                                                             \n",
       "alpha                                                                      0.75   \n",
       "jobs                                               seeds  model_idxes             \n",
       "mnist-11.7.3-lenet_rottasks_ft--init_model_step... (2, 3) (515, 380)   0.873896   \n",
       "\n",
       "datasets                                                                         \\\n",
       "score                                                                             \n",
       "alpha                                                                      1.00   \n",
       "jobs                                               seeds  model_idxes             \n",
       "mnist-11.7.3-lenet_rottasks_ft--init_model_step... (2, 3) (515, 380)   0.874573   \n",
       "\n",
       "datasets                                                                           \\\n",
       "score                                                                 instability   \n",
       "alpha                                                                         NaN   \n",
       "jobs                                               seeds  model_idxes               \n",
       "mnist-11.7.3-lenet_rottasks_ft--init_model_step... (2, 3) (515, 380)    -0.000606   \n",
       "\n",
       "datasets                                                                             train  \\\n",
       "score                                                                 interpolation_scores   \n",
       "alpha                                                                                 0.00   \n",
       "jobs                                               seeds  model_idxes                        \n",
       "mnist-11.7.3-lenet_rottasks_ft--init_model_step... (2, 3) (515, 380)                   1.0   \n",
       "\n",
       "datasets                                                                    \\\n",
       "score                                                                        \n",
       "alpha                                                                 0.25   \n",
       "jobs                                               seeds  model_idxes        \n",
       "mnist-11.7.3-lenet_rottasks_ft--init_model_step... (2, 3) (515, 380)   1.0   \n",
       "\n",
       "datasets                                                                    \\\n",
       "score                                                                        \n",
       "alpha                                                                 0.50   \n",
       "jobs                                               seeds  model_idxes        \n",
       "mnist-11.7.3-lenet_rottasks_ft--init_model_step... (2, 3) (515, 380)   1.0   \n",
       "\n",
       "datasets                                                                    \\\n",
       "score                                                                        \n",
       "alpha                                                                 0.75   \n",
       "jobs                                               seeds  model_idxes        \n",
       "mnist-11.7.3-lenet_rottasks_ft--init_model_step... (2, 3) (515, 380)   1.0   \n",
       "\n",
       "datasets                                                                    \\\n",
       "score                                                                        \n",
       "alpha                                                                 1.00   \n",
       "jobs                                               seeds  model_idxes        \n",
       "mnist-11.7.3-lenet_rottasks_ft--init_model_step... (2, 3) (515, 380)   1.0   \n",
       "\n",
       "datasets                                                                           \n",
       "score                                                                 instability  \n",
       "alpha                                                                         NaN  \n",
       "jobs                                               seeds  model_idxes              \n",
       "mnist-11.7.3-lenet_rottasks_ft--init_model_step... (2, 3) (515, 380)          0.0  "
      ]
     },
     "execution_count": 38,
     "metadata": {},
     "output_type": "execute_result"
    }
   ],
   "source": [
    "dataset_df"
   ]
  },
  {
   "cell_type": "code",
   "execution_count": 39,
   "metadata": {},
   "outputs": [
    {
     "data": {
      "text/html": [
       "<div>\n",
       "<style scoped>\n",
       "    .dataframe tbody tr th:only-of-type {\n",
       "        vertical-align: middle;\n",
       "    }\n",
       "\n",
       "    .dataframe tbody tr th {\n",
       "        vertical-align: top;\n",
       "    }\n",
       "\n",
       "    .dataframe thead tr th {\n",
       "        text-align: left;\n",
       "    }\n",
       "\n",
       "    .dataframe thead tr:last-of-type th {\n",
       "        text-align: right;\n",
       "    }\n",
       "</style>\n",
       "<table border=\"1\" class=\"dataframe\">\n",
       "  <thead>\n",
       "    <tr>\n",
       "      <th></th>\n",
       "      <th></th>\n",
       "      <th>distances</th>\n",
       "      <th>l2distance</th>\n",
       "      <th>cosinesimilarity</th>\n",
       "    </tr>\n",
       "    <tr>\n",
       "      <th>jobs</th>\n",
       "      <th>seeds</th>\n",
       "      <th>model_idxes</th>\n",
       "      <th></th>\n",
       "      <th></th>\n",
       "    </tr>\n",
       "  </thead>\n",
       "  <tbody>\n",
       "    <tr>\n",
       "      <th>mnist-11.7.3-lenet_rottasks_ft--init_model_step-100-rotation_angle-25.7143-restrict_n_samples_train_task-300</th>\n",
       "      <th>(2, 3)</th>\n",
       "      <th>(515, 380)</th>\n",
       "      <td>2.375957</td>\n",
       "      <td>0.989239</td>\n",
       "    </tr>\n",
       "  </tbody>\n",
       "</table>\n",
       "</div>"
      ],
      "text/plain": [
       "distances                                                             l2distance  \\\n",
       "jobs                                               seeds  model_idxes              \n",
       "mnist-11.7.3-lenet_rottasks_ft--init_model_step... (2, 3) (515, 380)    2.375957   \n",
       "\n",
       "distances                                                             cosinesimilarity  \n",
       "jobs                                               seeds  model_idxes                   \n",
       "mnist-11.7.3-lenet_rottasks_ft--init_model_step... (2, 3) (515, 380)          0.989239  "
      ]
     },
     "execution_count": 39,
     "metadata": {},
     "output_type": "execute_result"
    }
   ],
   "source": [
    "distance_df"
   ]
  },
  {
   "cell_type": "code",
   "execution_count": null,
   "metadata": {},
   "outputs": [],
   "source": []
  }
 ],
 "metadata": {
  "kernelspec": {
   "display_name": "subspaces",
   "language": "python",
   "name": "python3"
  },
  "language_info": {
   "codemirror_mode": {
    "name": "ipython",
    "version": 3
   },
   "file_extension": ".py",
   "mimetype": "text/x-python",
   "name": "python",
   "nbconvert_exporter": "python",
   "pygments_lexer": "ipython3",
   "version": "3.10.4"
  },
  "orig_nbformat": 4,
  "vscode": {
   "interpreter": {
    "hash": "ac019f01eb2a0970f066d5e193a84f30bb43215eeeface9d3d8db32241c79700"
   }
  }
 },
 "nbformat": 4,
 "nbformat_minor": 2
}
