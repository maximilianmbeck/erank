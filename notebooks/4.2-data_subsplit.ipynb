{
 "cells": [
  {
   "cell_type": "code",
   "execution_count": 1,
   "metadata": {},
   "outputs": [
    {
     "name": "stderr",
     "output_type": "stream",
     "text": [
      "/home/max/anaconda3/envs/erank/lib/python3.8/site-packages/tqdm/auto.py:22: TqdmWarning: IProgress not found. Please update jupyter and ipywidgets. See https://ipywidgets.readthedocs.io/en/stable/user_install.html\n",
      "  from .autonotebook import tqdm as notebook_tqdm\n"
     ]
    }
   ],
   "source": [
    "%load_ext autoreload\n",
    "%autoreload 2\n",
    "import sys\n",
    "import torch\n",
    "from torch import nn\n",
    "sys.path.append('..')\n",
    "# sys.path.append('/system/user/beck/pwbeck/projects/regularization/ml_utilities')\n",
    "from pathlib import Path\n",
    "from typing import Union\n",
    "from ml_utilities.torch_models.base_model import BaseModel\n",
    "from ml_utilities.torch_models.fc import FC\n",
    "from ml_utilities.torch_models import get_model_class\n",
    "from omegaconf import OmegaConf\n",
    "from ml_utilities import utils as ml_util\n",
    "from erank.utils import load_directions_matrix_from_task_sweep\n",
    "import matplotlib.pyplot as plt\n",
    "from hydra.utils import get_original_cwd\n",
    "import torchvision\n",
    "from torch.utils import data\n",
    "from torchvision import transforms\n",
    "from erank.data import get_dataset_provider\n",
    "from erank.data.data_utils import random_split_train_tasks\n",
    "gpu_id = 0"
   ]
  },
  {
   "cell_type": "code",
   "execution_count": 2,
   "metadata": {},
   "outputs": [],
   "source": [
    "config_dir = './../configs/config_debug_local.yaml'\n"
   ]
  },
  {
   "cell_type": "code",
   "execution_count": 3,
   "metadata": {},
   "outputs": [],
   "source": [
    "def random_split_train_tasks_debug(dataset: data.Dataset, num_train_tasks: int = 1, train_task_idx: int = 0,\n",
    "                             train_val_split: float = 0.8, seed: int = 0,\n",
    "                             num_subsplit_tasks: int = 0, subsplit_first_n_train_tasks: int = 0, **kwargs):\n",
    "    \"\"\"Splits a dataset into different (sample-wise) training tasks. \n",
    "    Each training task has different set of data samples. Validation set is same for every task.\n",
    "\n",
    "    Args:\n",
    "        dataset (data.Dataset): The dataset to split. \n",
    "        num_train_tasks (int, optional): Number of training tasks to split. Defaults to 1.\n",
    "        train_task_idx (int, optional): The current training task. Defaults to 0.\n",
    "        train_val_split (float, optional): Fraction of train/val samples. Defaults to 0.8.\n",
    "        seed (int, optional): The seed. Defaults to 0.\n",
    "\n",
    "    Returns:\n",
    "        Tuple[data.Dataset, data.Dataset]: train dataset, val dataset\n",
    "    \"\"\"\n",
    "    assert train_task_idx >= 0 and train_task_idx < (\n",
    "        num_train_tasks - subsplit_first_n_train_tasks) + num_subsplit_tasks, 'Invalid train_task_idx given.'\n",
    "\n",
    "    n_train_samples = int(train_val_split * len(dataset))\n",
    "\n",
    "    n_samples_per_task = int(n_train_samples / num_train_tasks)\n",
    "\n",
    "    train_split_lengths = num_train_tasks * [n_samples_per_task]\n",
    "\n",
    "    # make sure that sum of all splits equal total number of samples in dataset\n",
    "    # n_val_samples can be greater than specified by train_val_split\n",
    "    n_val_samples = len(dataset) - torch.tensor(train_split_lengths).sum().item()\n",
    "\n",
    "    split_lengths = num_train_tasks * [n_samples_per_task] + [n_val_samples]\n",
    "    data_splits = data.random_split(dataset, split_lengths, generator=torch.Generator().manual_seed(seed))\n",
    "\n",
    "    if num_subsplit_tasks > 0:\n",
    "        # further split first ´subsplit_first_n_train_tasks´ into `num_subsplit_tasks`\n",
    "        subsplit_dataset = data.ConcatDataset(data_splits[:subsplit_first_n_train_tasks])\n",
    "        # remove first n train tasks idxs from data split list\n",
    "        data_splits = data_splits[subsplit_first_n_train_tasks:]\n",
    "        n_samples_per_subsplit = int(len(subsplit_dataset) / num_subsplit_tasks)\n",
    "\n",
    "        subsplit_lengths = num_subsplit_tasks * [n_samples_per_subsplit]\n",
    "        # distribute remaining samples (due to rounding) from beginning\n",
    "        samples_remaining = len(subsplit_dataset) - sum(subsplit_lengths)\n",
    "        for i in range(len(subsplit_lengths)):\n",
    "            if samples_remaining <= 0:\n",
    "                break\n",
    "            subsplit_lengths[i] += 1\n",
    "            samples_remaining -= 1\n",
    "\n",
    "        assert sum(subsplit_lengths) == len(subsplit_dataset)\n",
    "\n",
    "        data_subsplits = data.random_split(subsplit_dataset, subsplit_lengths,\n",
    "                                           generator=torch.Generator().manual_seed(seed + 1))\n",
    "\n",
    "        # concat data_splits: [subsplit sets] + train sets + val set\n",
    "        data_splits = data_subsplits + data_splits\n",
    "    # # select train task split + val split\n",
    "    # return data_splits[train_task_idx], data_splits[-1]\n",
    "    return data_splits\n"
   ]
  },
  {
   "cell_type": "code",
   "execution_count": 4,
   "metadata": {},
   "outputs": [
    {
     "data": {
      "text/plain": [
       "{'experiment_data': {'project_name': 'erank_supervised', 'experiment_name': 'f_mnist-erank-DEBUG', 'experiment_dir': None, 'seed': 0, 'gpu_id': 0}, 'wandb': {'tags': ['DEBUG'], 'notes': 'Trying different things.', 'watch': {'log': 'all', 'log_freq': 100}}, 'model': {'name': 'cnn2d', 'out_channels': 128, 'model_kwargs': {'image_size': 28, 'input_channels': 1, 'act_fn': 'relu', 'layer_configs': [{'out_channels': '${config.model.out_channels}', 'kernel_size': 3, 'batch_norm': True, 'stride': 1, 'padding': 0, 'max_pool_kernel_size': 2}, {'out_channels': '${config.model.out_channels}', 'kernel_size': 3, 'batch_norm': True, 'stride': 1, 'padding': 0, 'max_pool_kernel_size': 2}, {'out_channels': '${config.model.out_channels}', 'kernel_size': 3, 'batch_norm': True, 'stride': 1, 'padding': 0, 'max_pool_kernel_size': 2}], 'linear_output_units': [10]}}, 'trainer': {'n_epochs': 300, 'val_every': 1, 'save_every': 50, 'early_stopping_patience': 20, 'batch_size': 512, 'optimizer_scheduler': {'optimizer_name': 'adamw', 'optimizer_kwargs': {'lr': 0.001, 'weight_decay': 0.0}}, 'init_model': None, 'loss': 'crossentropy', 'erank': {'type': 'none', 'loss_weight': 0.0, 'dir_buffer': '/system/user/beck/pwbeck/projects/regularization/erank/outputs/f_mnist-2.0-taskidxXXX_260622_110634/outputs', 'buffer_size': 10, 'norm_directions': False, 'use_abs_model_params': True}, 'num_workers': 4}, 'data': {'dataset': 'cifar10', 'dataset_kwargs': {'dataset_dir': '/home/max/phd/data/cifar'}, 'dataset_split': {'train_val_split': 0.8, 'num_train_tasks': 13, 'subsplit_first_n_train_tasks': 0, 'num_subsplit_tasks': 0, 'train_task_idx': 10, 'restrict_n_samples_train_task': 100}}}"
      ]
     },
     "execution_count": 4,
     "metadata": {},
     "output_type": "execute_result"
    }
   ],
   "source": [
    "cfg = ml_util.get_config(config_dir).config\n",
    "cfg"
   ]
  },
  {
   "cell_type": "code",
   "execution_count": 5,
   "metadata": {},
   "outputs": [
    {
     "name": "stdout",
     "output_type": "stream",
     "text": [
      "Files already downloaded and verified\n"
     ]
    }
   ],
   "source": [
    "data_cfg = cfg.data\n",
    "provide_dataset = get_dataset_provider(dataset_name=data_cfg.dataset)\n",
    "train_dataset = provide_dataset(data_cfg.dataset_kwargs)\n",
    "# train_set, val_set = random_split_train_tasks(\n",
    "#     train_dataset, num_train_tasks=data_cfg.num_train_tasks, train_task_idx=data_cfg.train_task_idx,\n",
    "#     train_val_split=data_cfg.train_val_split)"
   ]
  },
  {
   "cell_type": "code",
   "execution_count": 9,
   "metadata": {},
   "outputs": [
    {
     "name": "stdout",
     "output_type": "stream",
     "text": [
      "100\n",
      "10012\n"
     ]
    }
   ],
   "source": [
    "data_splits = random_split_train_tasks(train_dataset, **data_cfg.dataset_split)\n",
    "for ds in data_splits:\n",
    "    print(len(ds))"
   ]
  },
  {
   "cell_type": "code",
   "execution_count": 10,
   "metadata": {},
   "outputs": [
    {
     "ename": "TypeError",
     "evalue": "random_split_train_tasks_debug() got an unexpected keyword argument 'restrict_n_samples_train_task'",
     "output_type": "error",
     "traceback": [
      "\u001b[0;31m---------------------------------------------------------------------------\u001b[0m",
      "\u001b[0;31mTypeError\u001b[0m                                 Traceback (most recent call last)",
      "\u001b[1;32m/home/max/phd/projects/regularization/erank/notebooks/4.2-data_subsplit.ipynb Cell 7\u001b[0m in \u001b[0;36m<cell line: 1>\u001b[0;34m()\u001b[0m\n\u001b[0;32m----> <a href='vscode-notebook-cell:/home/max/phd/projects/regularization/erank/notebooks/4.2-data_subsplit.ipynb#ch0000006?line=0'>1</a>\u001b[0m data_splits \u001b[39m=\u001b[39m random_split_train_tasks_debug(train_dataset, \u001b[39m*\u001b[39;49m\u001b[39m*\u001b[39;49mdata_cfg\u001b[39m.\u001b[39;49mdataset_split)\n\u001b[1;32m      <a href='vscode-notebook-cell:/home/max/phd/projects/regularization/erank/notebooks/4.2-data_subsplit.ipynb#ch0000006?line=1'>2</a>\u001b[0m \u001b[39mfor\u001b[39;00m ds \u001b[39min\u001b[39;00m data_splits:\n\u001b[1;32m      <a href='vscode-notebook-cell:/home/max/phd/projects/regularization/erank/notebooks/4.2-data_subsplit.ipynb#ch0000006?line=2'>3</a>\u001b[0m     \u001b[39mprint\u001b[39m(\u001b[39mlen\u001b[39m(ds))\n",
      "\u001b[0;31mTypeError\u001b[0m: random_split_train_tasks_debug() got an unexpected keyword argument 'restrict_n_samples_train_task'"
     ]
    }
   ],
   "source": [
    "data_splits = random_split_train_tasks_debug(train_dataset, **data_cfg.dataset_split)\n",
    "for ds in data_splits:\n",
    "    print(len(ds))"
   ]
  },
  {
   "cell_type": "code",
   "execution_count": null,
   "metadata": {},
   "outputs": [],
   "source": []
  },
  {
   "cell_type": "code",
   "execution_count": null,
   "metadata": {},
   "outputs": [],
   "source": []
  }
 ],
 "metadata": {
  "kernelspec": {
   "display_name": "Python 3.8.13 ('erank')",
   "language": "python",
   "name": "python3"
  },
  "language_info": {
   "codemirror_mode": {
    "name": "ipython",
    "version": 3
   },
   "file_extension": ".py",
   "mimetype": "text/x-python",
   "name": "python",
   "nbconvert_exporter": "python",
   "pygments_lexer": "ipython3",
   "version": "3.8.13"
  },
  "orig_nbformat": 4,
  "vscode": {
   "interpreter": {
    "hash": "b1e300651644b4a5ccc8598fb3da49325ec88b18d4f380e9c939826d448ae9e4"
   }
  }
 },
 "nbformat": 4,
 "nbformat_minor": 2
}
