{
 "cells": [
  {
   "cell_type": "code",
   "execution_count": 1,
   "metadata": {},
   "outputs": [
    {
     "name": "stderr",
     "output_type": "stream",
     "text": [
      "/system/apps/userenv/beck/erank/lib/python3.8/site-packages/tqdm/auto.py:22: TqdmWarning: IProgress not found. Please update jupyter and ipywidgets. See https://ipywidgets.readthedocs.io/en/stable/user_install.html\n",
      "  from .autonotebook import tqdm as notebook_tqdm\n"
     ]
    }
   ],
   "source": [
    "%load_ext autoreload\n",
    "%autoreload 2\n",
    "import sys\n",
    "import torch\n",
    "from torch import nn\n",
    "sys.path.append('..')\n",
    "# sys.path.append('/system/user/beck/pwbeck/projects/regularization/ml_utilities')\n",
    "from pathlib import Path\n",
    "from typing import Union\n",
    "from ml_utilities.torch_models.base_model import BaseModel\n",
    "from ml_utilities.torch_models.fc import FC\n",
    "from ml_utilities.torch_models import get_model_class\n",
    "from omegaconf import OmegaConf\n",
    "from ml_utilities import utils as ml_util\n",
    "from erank.utils import load_directions_matrix_from_task_sweep\n",
    "import matplotlib.pyplot as plt\n",
    "from hydra.utils import get_original_cwd\n",
    "import torchvision\n",
    "from torch.utils import data\n",
    "from torchvision import transforms\n",
    "gpu_id = 0"
   ]
  },
  {
   "cell_type": "code",
   "execution_count": 2,
   "metadata": {},
   "outputs": [],
   "source": [
    "config_dir = '/system/user/beck/pwbeck/projects/regularization/erank/configs/config_debug.yaml'"
   ]
  },
  {
   "cell_type": "code",
   "execution_count": 3,
   "metadata": {},
   "outputs": [],
   "source": [
    "def random_split_train_tasks(dataset: data.Dataset, num_train_tasks: int = 1, train_task_idx: int = 0,\n",
    "                             train_val_split: float = 0.8, seed: int = 0,\n",
    "                             num_subsplit_tasks: int = 0, subsplit_first_n_train_tasks: int = 0):\n",
    "    \"\"\"Splits a dataset into different (sample-wise) training tasks. \n",
    "    Each training task has different set of data samples. Validation set is same for every task.\n",
    "\n",
    "    Args:\n",
    "        dataset (data.Dataset): The dataset to split. \n",
    "        num_train_tasks (int, optional): Number of training tasks to split. Defaults to 1.\n",
    "        train_task_idx (int, optional): The current training task. Defaults to 0.\n",
    "        train_val_split (float, optional): Fraction of train/val samples. Defaults to 0.8.\n",
    "        seed (int, optional): The seed. Defaults to 0.\n",
    "\n",
    "    Returns:\n",
    "        Tuple[data.Dataset, data.Dataset]: train dataset, val dataset\n",
    "    \"\"\"\n",
    "    assert train_task_idx >= 0 and train_task_idx < (\n",
    "        num_train_tasks - subsplit_first_n_train_tasks) + num_subsplit_tasks, 'Invalid train_task_idx given.'\n",
    "\n",
    "    n_train_samples = int(train_val_split * len(dataset))\n",
    "\n",
    "    n_samples_per_task = int(n_train_samples / num_train_tasks)\n",
    "\n",
    "    train_split_lengths = num_train_tasks * [n_samples_per_task]\n",
    "\n",
    "    # make sure that sum of all splits equal total number of samples in dataset\n",
    "    # n_val_samples can be greater than specified by train_val_split\n",
    "    n_val_samples = len(dataset) - torch.tensor(train_split_lengths).sum().item()\n",
    "\n",
    "    split_lengths = num_train_tasks * [n_samples_per_task] + [n_val_samples]\n",
    "    data_splits = data.random_split(dataset, split_lengths, generator=torch.Generator().manual_seed(seed))\n",
    "\n",
    "    if num_subsplit_tasks > 0:\n",
    "        # further split first ´subsplit_first_n_train_tasks´ into `num_subsplit_tasks`\n",
    "        subsplit_dataset = data.ConcatDataset(data_splits[:subsplit_first_n_train_tasks])\n",
    "        # remove first n train tasks idxs from data split list\n",
    "        data_splits = data_splits[subsplit_first_n_train_tasks:]\n",
    "        n_samples_per_subsplit = int(len(subsplit_dataset) / num_subsplit_tasks)\n",
    "\n",
    "        subsplit_lengths = num_subsplit_tasks * [n_samples_per_subsplit]\n",
    "        # distribute remaining samples (due to rounding) from beginning\n",
    "        samples_remaining = len(subsplit_dataset) - sum(subsplit_lengths)\n",
    "        for i in range(len(subsplit_lengths)):\n",
    "            if samples_remaining <= 0:\n",
    "                break\n",
    "            subsplit_lengths[i] += 1\n",
    "            samples_remaining -= 1\n",
    "\n",
    "        assert sum(subsplit_lengths) == len(subsplit_dataset)\n",
    "\n",
    "        data_subsplits = data.random_split(subsplit_dataset, subsplit_lengths,\n",
    "                                           generator=torch.Generator().manual_seed(seed + 1))\n",
    "\n",
    "        # concat data_splits: [subsplit sets] + train sets + val set\n",
    "        data_splits = data_subsplits + data_splits\n",
    "    # # select train task split + val split\n",
    "    # return data_splits[train_task_idx], data_splits[-1]\n",
    "    return data_splits\n"
   ]
  },
  {
   "cell_type": "code",
   "execution_count": 4,
   "metadata": {},
   "outputs": [
    {
     "data": {
      "text/plain": [
       "{'experiment_data': {'project_name': 'erank_supervised', 'experiment_name': 'f_mnist-erank-DEBUG', 'experiment_dir': None, 'seed': 0, 'gpu_id': 0}, 'tags': ['DEBUG', 'erank', 'same_init'], 'notes': 'Trying different things.', 'model': {'name': 'fc', 'model_kwargs': {'input_size': 784, 'hidden_sizes': [512, 512], 'output_size': 10, 'flatten_input': True, 'dropout': 0.2, 'act_fn': 'relu'}}, 'trainer': {'n_epochs': 100, 'val_every': 1, 'save_every': 50, 'early_stopping_patience': 300, 'batch_size': 256, 'optimizer_scheduler': {'optimizer_name': 'adam', 'optimizer_kwargs': {'lr': 0.001}}, 'init_model': '/system/user/beck/pwbeck/projects/regularization/erank/res/init_model.p', 'loss': 'zero', 'erank': {'type': 'pretraindiff', 'loss_weight': 1, 'dir_buffer': '/system/user/beck/pwbeck/projects/regularization/erank/outputs/f_mnist-2.0-taskidxXXX_260622_110634/outputs', 'buffer_size': 10, 'norm_directions': False, 'use_abs_model_params': True}, 'num_workers': 4}, 'data': {'dataset': 'fashion_mnist', 'dataset_dir': '/system/user/beck/pwbeck/data/mnist', 'train_val_split': 0.8, 'num_train_tasks': 13, 'train_task_idx': 10, 'normalizer': {'mean': [0.286], 'std': [0.3205]}}}"
      ]
     },
     "execution_count": 4,
     "metadata": {},
     "output_type": "execute_result"
    }
   ],
   "source": [
    "cfg = ml_util.get_config(config_dir).config\n",
    "cfg"
   ]
  },
  {
   "cell_type": "code",
   "execution_count": 5,
   "metadata": {},
   "outputs": [],
   "source": [
    "data_cfg = cfg.data\n",
    "data_dir = Path(data_cfg.dataset_dir)\n",
    "normalizer = data_cfg.normalizer\n",
    "transform = transforms.Compose([transforms.ToTensor(),\n",
    "                            transforms.Normalize(normalizer.mean, normalizer.std)])\n",
    "train_dataset = torchvision.datasets.FashionMNIST(root=data_dir, train=True, transform=transform, download=True)\n",
    "# train_set, val_set = random_split_train_tasks(\n",
    "#     train_dataset, num_train_tasks=data_cfg.num_train_tasks, train_task_idx=data_cfg.train_task_idx,\n",
    "#     train_val_split=data_cfg.train_val_split)"
   ]
  },
  {
   "cell_type": "code",
   "execution_count": 18,
   "metadata": {},
   "outputs": [],
   "source": [
    "data_splits = random_split_train_tasks(\n",
    "    train_dataset, num_train_tasks=data_cfg.num_train_tasks, train_task_idx=data_cfg.train_task_idx,\n",
    "    train_val_split=data_cfg.train_val_split, num_subsplit_tasks=50, subsplit_first_n_train_tasks=10)"
   ]
  },
  {
   "cell_type": "code",
   "execution_count": 19,
   "metadata": {},
   "outputs": [
    {
     "name": "stdout",
     "output_type": "stream",
     "text": [
      "739\n",
      "739\n",
      "739\n",
      "739\n",
      "739\n",
      "739\n",
      "739\n",
      "739\n",
      "739\n",
      "739\n",
      "739\n",
      "739\n",
      "739\n",
      "739\n",
      "739\n",
      "739\n",
      "739\n",
      "739\n",
      "739\n",
      "739\n",
      "738\n",
      "738\n",
      "738\n",
      "738\n",
      "738\n",
      "738\n",
      "738\n",
      "738\n",
      "738\n",
      "738\n",
      "738\n",
      "738\n",
      "738\n",
      "738\n",
      "738\n",
      "738\n",
      "738\n",
      "738\n",
      "738\n",
      "738\n",
      "738\n",
      "738\n",
      "738\n",
      "738\n",
      "738\n",
      "738\n",
      "738\n",
      "738\n",
      "738\n",
      "738\n",
      "3692\n",
      "3692\n",
      "3692\n",
      "12004\n"
     ]
    }
   ],
   "source": [
    "for ds in data_splits:\n",
    "    print(len(ds))"
   ]
  },
  {
   "cell_type": "code",
   "execution_count": 8,
   "metadata": {},
   "outputs": [
    {
     "data": {
      "text/plain": [
       "(3692, list)"
      ]
     },
     "execution_count": 8,
     "metadata": {},
     "output_type": "execute_result"
    }
   ],
   "source": [
    "len(data.ConcatDataset(data_splits[0:1])), type(data_splits)"
   ]
  },
  {
   "cell_type": "code",
   "execution_count": 9,
   "metadata": {},
   "outputs": [],
   "source": [
    "num_subsplit_tasks = 50\n",
    "subsplit_first_n_train_tasks = 10"
   ]
  },
  {
   "cell_type": "code",
   "execution_count": 10,
   "metadata": {},
   "outputs": [],
   "source": [
    "if num_subsplit_tasks > 0:\n",
    "    subsplit_dataset = data.ConcatDataset(data_splits[:subsplit_first_n_train_tasks])\n",
    "    # remove first n train tasks idxs from data split list\n",
    "    data_splits = data_splits[subsplit_first_n_train_tasks:]\n",
    "    "
   ]
  },
  {
   "cell_type": "code",
   "execution_count": 11,
   "metadata": {},
   "outputs": [],
   "source": [
    "n_samples_per_subsplit = int(len(subsplit_dataset) / num_subsplit_tasks)"
   ]
  },
  {
   "cell_type": "code",
   "execution_count": 12,
   "metadata": {},
   "outputs": [],
   "source": [
    "subsplit_lengths = num_subsplit_tasks * [n_samples_per_subsplit]"
   ]
  },
  {
   "cell_type": "code",
   "execution_count": 13,
   "metadata": {},
   "outputs": [],
   "source": [
    "samples_remaining = len(subsplit_dataset) - sum(subsplit_lengths)"
   ]
  },
  {
   "cell_type": "code",
   "execution_count": 14,
   "metadata": {},
   "outputs": [],
   "source": [
    "for i in range(len(subsplit_lengths)):\n",
    "    if samples_remaining <= 0:\n",
    "        break\n",
    "    subsplit_lengths[i] += 1\n",
    "    samples_remaining -= 1"
   ]
  },
  {
   "cell_type": "code",
   "execution_count": 15,
   "metadata": {},
   "outputs": [
    {
     "data": {
      "text/plain": [
       "[739,\n",
       " 739,\n",
       " 739,\n",
       " 739,\n",
       " 739,\n",
       " 739,\n",
       " 739,\n",
       " 739,\n",
       " 739,\n",
       " 739,\n",
       " 739,\n",
       " 739,\n",
       " 739,\n",
       " 739,\n",
       " 739,\n",
       " 739,\n",
       " 739,\n",
       " 739,\n",
       " 739,\n",
       " 739,\n",
       " 738,\n",
       " 738,\n",
       " 738,\n",
       " 738,\n",
       " 738,\n",
       " 738,\n",
       " 738,\n",
       " 738,\n",
       " 738,\n",
       " 738,\n",
       " 738,\n",
       " 738,\n",
       " 738,\n",
       " 738,\n",
       " 738,\n",
       " 738,\n",
       " 738,\n",
       " 738,\n",
       " 738,\n",
       " 738,\n",
       " 738,\n",
       " 738,\n",
       " 738,\n",
       " 738,\n",
       " 738,\n",
       " 738,\n",
       " 738,\n",
       " 738,\n",
       " 738,\n",
       " 738]"
      ]
     },
     "execution_count": 15,
     "metadata": {},
     "output_type": "execute_result"
    }
   ],
   "source": [
    "subsplit_lengths"
   ]
  },
  {
   "cell_type": "code",
   "execution_count": null,
   "metadata": {},
   "outputs": [],
   "source": []
  }
 ],
 "metadata": {
  "kernelspec": {
   "display_name": "Python 3.8.13 ('erank')",
   "language": "python",
   "name": "python3"
  },
  "language_info": {
   "codemirror_mode": {
    "name": "ipython",
    "version": 3
   },
   "file_extension": ".py",
   "mimetype": "text/x-python",
   "name": "python",
   "nbconvert_exporter": "python",
   "pygments_lexer": "ipython3",
   "version": "3.8.13"
  },
  "orig_nbformat": 4,
  "vscode": {
   "interpreter": {
    "hash": "81702ae7af1d99f924e4fcf69b863cbbc0fe7ec5ade4b2efa58fe35273e76278"
   }
  }
 },
 "nbformat": 4,
 "nbformat_minor": 2
}
