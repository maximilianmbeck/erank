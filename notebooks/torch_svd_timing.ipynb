{
 "cells": [
  {
   "cell_type": "code",
   "execution_count": 6,
   "metadata": {},
   "outputs": [
    {
     "data": {
      "text/plain": [
       "<torch._C.Generator at 0x7f220002c7d0>"
      ]
     },
     "execution_count": 6,
     "metadata": {},
     "output_type": "execute_result"
    }
   ],
   "source": [
    "import torch\n",
    "import time\n",
    "torch.manual_seed(0)"
   ]
  },
  {
   "cell_type": "markdown",
   "metadata": {},
   "source": [
    "### What?\n",
    "In Lecture 5 of Convex Optimization and Approximation (UC Berkeley) https://ee227c.github.io/code/lecture5.html it is stated, that SVD of an input matrix is cubic in time. \n",
    "In this notebook I provide an experiment to measure the runtime of PyTorchs SVD computation algorithm. \n",
    "\n",
    "### Why?\n",
    "This experiment should serve as a proof of concept, if it is possible to compute the SVD on matrices composed of neural network gradients during training.\n",
    "\n",
    "### How?\n",
    "In PyTorch there are 2 SVD algorithms: torch.svd_lowrank() and torch.linalg.svd(). \n",
    "In the Docs it says: \"In general, use the full-rank SVD implementation torch.linalg.svd() for dense matrices due to its 10-fold higher performance characteristics. The low-rank SVD will be useful for huge sparse matrices that torch.linalg.svd() cannot handle.\"\n",
    "\n",
    "Thus we will use torch.linalg.svd() in this notebook."
   ]
  },
  {
   "cell_type": "code",
   "execution_count": 7,
   "metadata": {},
   "outputs": [],
   "source": [
    "# specify the dimension of the matrix (we emulate the network parameters / task setting)\n",
    "net_dim = 1_000_000 # number of nn parameters\n",
    "num_tasks = 100 # number of tasks"
   ]
  },
  {
   "cell_type": "code",
   "execution_count": 8,
   "metadata": {},
   "outputs": [],
   "source": [
    "# sample (dense) random matrix\n",
    "M = torch.randn((num_tasks, net_dim)).to(device='cuda')"
   ]
  },
  {
   "cell_type": "code",
   "execution_count": 9,
   "metadata": {},
   "outputs": [
    {
     "name": "stdout",
     "output_type": "stream",
     "text": [
      "2.204740285873413\n"
     ]
    }
   ],
   "source": [
    "# compute svd / measure time\n",
    "start = time.time()\n",
    "U, S, Vh = torch.linalg.svd(M, full_matrices=False)\n",
    "end = time.time()\n",
    "duration = end - start\n",
    "print(duration) # in seconds"
   ]
  },
  {
   "cell_type": "code",
   "execution_count": null,
   "metadata": {},
   "outputs": [],
   "source": []
  }
 ],
 "metadata": {
  "kernelspec": {
   "display_name": "Python 3.9.7 ('sb')",
   "language": "python",
   "name": "python3"
  },
  "language_info": {
   "codemirror_mode": {
    "name": "ipython",
    "version": 3
   },
   "file_extension": ".py",
   "mimetype": "text/x-python",
   "name": "python",
   "nbconvert_exporter": "python",
   "pygments_lexer": "ipython3",
   "version": "3.9.7"
  },
  "orig_nbformat": 4,
  "vscode": {
   "interpreter": {
    "hash": "efb944956e68c5a4a3f866131a290f604672ac43206fde6373334f1e4d6c02e5"
   }
  }
 },
 "nbformat": 4,
 "nbformat_minor": 2
}
